{
  "nbformat": 4,
  "nbformat_minor": 0,
  "metadata": {
    "colab": {
      "name": "REVISION.ipynb",
      "provenance": [],
      "collapsed_sections": []
    },
    "kernelspec": {
      "name": "python3",
      "display_name": "Python 3"
    }
  },
  "cells": [
    {
      "cell_type": "code",
      "metadata": {
        "colab": {
          "base_uri": "https://localhost:8080/"
        },
        "id": "Q_3P85VIrVoq",
        "outputId": "ce8d3c73-7926-4ebc-863c-68387f8a0b24"
      },
      "source": [
        "print(\"Welcome to the revision class of python\")"
      ],
      "execution_count": null,
      "outputs": [
        {
          "output_type": "stream",
          "text": [
            "Welcome to the revision class of python\n"
          ],
          "name": "stdout"
        }
      ]
    },
    {
      "cell_type": "code",
      "metadata": {
        "colab": {
          "base_uri": "https://localhost:8080/"
        },
        "id": "c1SmULnpsEbV",
        "outputId": "94ec8f48-2c70-41d3-be14-39dae9749273"
      },
      "source": [
        " print('Welcome to the revision class of python')"
      ],
      "execution_count": null,
      "outputs": [
        {
          "output_type": "stream",
          "text": [
            "Welcome to the revision class of python\n"
          ],
          "name": "stdout"
        }
      ]
    },
    {
      "cell_type": "code",
      "metadata": {
        "colab": {
          "base_uri": "https://localhost:8080/"
        },
        "id": "sy9Cnb4_sOzu",
        "outputId": "e0a12956-68cf-42f8-eaba-2b953ac06f66"
      },
      "source": [
        "if 5 > 2:\n",
        "  print(\"Welcome to the revision class of python\")"
      ],
      "execution_count": null,
      "outputs": [
        {
          "output_type": "stream",
          "text": [
            "Welcome to the revision class of python\n"
          ],
          "name": "stdout"
        }
      ]
    },
    {
      "cell_type": "code",
      "metadata": {
        "id": "8bKv7rVDsfVb"
      },
      "source": [
        "if 5 > 12:\n",
        "  print(\"Welcome to the revision class of python\")"
      ],
      "execution_count": null,
      "outputs": []
    },
    {
      "cell_type": "code",
      "metadata": {
        "colab": {
          "base_uri": "https://localhost:8080/"
        },
        "id": "prIrJMOWswVc",
        "outputId": "c6f7b6f0-577d-46ef-ac41-73eda21562b0"
      },
      "source": [
        "if 5 > 2:\n",
        "  print(\"Welcome to the revision class of python\")\n",
        "  print(\"Welcome to the revision class of day 2\")"
      ],
      "execution_count": null,
      "outputs": [
        {
          "output_type": "stream",
          "text": [
            "Welcome to the revision class of python\n",
            "Welcome to the revision class of day 2\n"
          ],
          "name": "stdout"
        }
      ]
    },
    {
      "cell_type": "code",
      "metadata": {
        "id": "RlYiYkf5s_zu"
      },
      "source": [
        "x = 5\n",
        "y = \"Hello World\""
      ],
      "execution_count": null,
      "outputs": []
    },
    {
      "cell_type": "code",
      "metadata": {
        "colab": {
          "base_uri": "https://localhost:8080/"
        },
        "id": "C2UypW4dtEvr",
        "outputId": "95bdf86c-1e40-4dce-e36a-2144b7d090f3"
      },
      "source": [
        "x"
      ],
      "execution_count": null,
      "outputs": [
        {
          "output_type": "execute_result",
          "data": {
            "text/plain": [
              "5"
            ]
          },
          "metadata": {
            "tags": []
          },
          "execution_count": 7
        }
      ]
    },
    {
      "cell_type": "code",
      "metadata": {
        "colab": {
          "base_uri": "https://localhost:8080/",
          "height": 35
        },
        "id": "csuvg4XVtFgP",
        "outputId": "56f53a65-50f4-44b0-b3cc-ab270b580ebf"
      },
      "source": [
        "y"
      ],
      "execution_count": null,
      "outputs": [
        {
          "output_type": "execute_result",
          "data": {
            "application/vnd.google.colaboratory.intrinsic+json": {
              "type": "string"
            },
            "text/plain": [
              "'Hello World'"
            ]
          },
          "metadata": {
            "tags": []
          },
          "execution_count": 8
        }
      ]
    },
    {
      "cell_type": "code",
      "metadata": {
        "colab": {
          "base_uri": "https://localhost:8080/"
        },
        "id": "LChC8JWetuFF",
        "outputId": "ac565083-81b6-4637-c8fd-2550a6428451"
      },
      "source": [
        "print(x)\n",
        "print(y)"
      ],
      "execution_count": null,
      "outputs": [
        {
          "output_type": "stream",
          "text": [
            "5\n",
            "Hello World\n"
          ],
          "name": "stdout"
        }
      ]
    },
    {
      "cell_type": "code",
      "metadata": {
        "colab": {
          "base_uri": "https://localhost:8080/"
        },
        "id": "mNVm-D9KtGMA",
        "outputId": "7617d473-d2f2-4cc4-a348-2a45db065073"
      },
      "source": [
        "#This is a comment\n",
        "print(\"Welcome to the revision class of python\")"
      ],
      "execution_count": null,
      "outputs": [
        {
          "output_type": "stream",
          "text": [
            "Welcome to the revision class of python\n"
          ],
          "name": "stdout"
        }
      ]
    },
    {
      "cell_type": "code",
      "metadata": {
        "colab": {
          "base_uri": "https://localhost:8080/"
        },
        "id": "iEQTVSKrtxnq",
        "outputId": "ba5c8455-68fa-4b3c-d34b-118e3ae82201"
      },
      "source": [
        "x = 5\n",
        "y = \"Hello World\"\n",
        "print(type(x))\n",
        "print(type(y))"
      ],
      "execution_count": null,
      "outputs": [
        {
          "output_type": "stream",
          "text": [
            "<class 'int'>\n",
            "<class 'str'>\n"
          ],
          "name": "stdout"
        }
      ]
    },
    {
      "cell_type": "code",
      "metadata": {
        "colab": {
          "base_uri": "https://localhost:8080/"
        },
        "id": "ePX3BWb9uSp3",
        "outputId": "7f03b5ad-075e-46e2-f2de-dc85a010a73e"
      },
      "source": [
        "x = 50.1\n",
        "y = 1j\n",
        "print(type(x))\n",
        "print(type(y))"
      ],
      "execution_count": null,
      "outputs": [
        {
          "output_type": "stream",
          "text": [
            "<class 'float'>\n",
            "<class 'complex'>\n"
          ],
          "name": "stdout"
        }
      ]
    },
    {
      "cell_type": "code",
      "metadata": {
        "colab": {
          "base_uri": "https://localhost:8080/"
        },
        "id": "nC-Eoz3Auigj",
        "outputId": "40c7d81f-7781-4938-e197-d7fc4a4b3930"
      },
      "source": [
        "x = [\"apple\", \"banana\", \"watermelon\"]\n",
        "y = range(6)\n",
        "print(type(x))\n",
        "print(type(y))"
      ],
      "execution_count": null,
      "outputs": [
        {
          "output_type": "stream",
          "text": [
            "<class 'list'>\n",
            "<class 'range'>\n"
          ],
          "name": "stdout"
        }
      ]
    },
    {
      "cell_type": "code",
      "metadata": {
        "colab": {
          "base_uri": "https://localhost:8080/"
        },
        "id": "Xt8Ym9QuuynF",
        "outputId": "1a434e52-c20f-4d23-e109-40e6392c8780"
      },
      "source": [
        "x = (\"apple\", \"banana\", \"watermelon\")\n",
        "print(type(x))"
      ],
      "execution_count": null,
      "outputs": [
        {
          "output_type": "stream",
          "text": [
            "<class 'tuple'>\n"
          ],
          "name": "stdout"
        }
      ]
    },
    {
      "cell_type": "code",
      "metadata": {
        "colab": {
          "base_uri": "https://localhost:8080/"
        },
        "id": "L4unigOQvB4b",
        "outputId": "fb27a230-b0cb-46db-e9c3-cfe00d6bef40"
      },
      "source": [
        "x = {\"Name\":\"apple\", \"Type\":\"fruit\"}\n",
        "print(type(x))"
      ],
      "execution_count": null,
      "outputs": [
        {
          "output_type": "stream",
          "text": [
            "<class 'dict'>\n"
          ],
          "name": "stdout"
        }
      ]
    },
    {
      "cell_type": "code",
      "metadata": {
        "colab": {
          "base_uri": "https://localhost:8080/"
        },
        "id": "gdF9r_BJvN06",
        "outputId": "8eee76e5-12a8-47d4-a588-56c47aa45726"
      },
      "source": [
        "print(x)"
      ],
      "execution_count": null,
      "outputs": [
        {
          "output_type": "stream",
          "text": [
            "{'Name': 'apple', 'Type': 'fruit'}\n"
          ],
          "name": "stdout"
        }
      ]
    },
    {
      "cell_type": "code",
      "metadata": {
        "colab": {
          "base_uri": "https://localhost:8080/"
        },
        "id": "lmD8qrxmvUwC",
        "outputId": "8a36d1f7-45c3-4e8f-eed1-be873a836369"
      },
      "source": [
        "x =frozenset({\"Name\",\"apple\",\"Type\",\"fruit\"})\n",
        "print(x)\n",
        "print(type(x))"
      ],
      "execution_count": null,
      "outputs": [
        {
          "output_type": "stream",
          "text": [
            "frozenset({'fruit', 'Type', 'Name', 'apple'})\n",
            "<class 'frozenset'>\n"
          ],
          "name": "stdout"
        }
      ]
    },
    {
      "cell_type": "code",
      "metadata": {
        "colab": {
          "base_uri": "https://localhost:8080/"
        },
        "id": "iZge2Vm7v0E-",
        "outputId": "0c04d5d0-9be9-445c-9a55-a83a92757ba5"
      },
      "source": [
        "x = True\n",
        "print(x)\n",
        "print(type(x))"
      ],
      "execution_count": null,
      "outputs": [
        {
          "output_type": "stream",
          "text": [
            "True\n",
            "<class 'bool'>\n"
          ],
          "name": "stdout"
        }
      ]
    },
    {
      "cell_type": "code",
      "metadata": {
        "colab": {
          "base_uri": "https://localhost:8080/"
        },
        "id": "98J8IxVrv_eJ",
        "outputId": "b9b0fcd4-2c26-4282-8c09-78492c88f593"
      },
      "source": [
        "x = b\"Hello\"\n",
        "print(x)\n",
        "print(type(x))"
      ],
      "execution_count": null,
      "outputs": [
        {
          "output_type": "stream",
          "text": [
            "b'Hello'\n",
            "<class 'bytes'>\n"
          ],
          "name": "stdout"
        }
      ]
    },
    {
      "cell_type": "code",
      "metadata": {
        "colab": {
          "base_uri": "https://localhost:8080/"
        },
        "id": "C63tpdR4wH9q",
        "outputId": "943013ab-46f2-453c-e123-8d9a9f44b711"
      },
      "source": [
        "x = bytearray(5)\n",
        "print(x)\n",
        "print(type(x))"
      ],
      "execution_count": null,
      "outputs": [
        {
          "output_type": "stream",
          "text": [
            "bytearray(b'\\x00\\x00\\x00\\x00\\x00')\n",
            "<class 'bytearray'>\n"
          ],
          "name": "stdout"
        }
      ]
    },
    {
      "cell_type": "code",
      "metadata": {
        "id": "_9QTNELpwaol"
      },
      "source": [
        "x = memoryview(bytes(5))"
      ],
      "execution_count": null,
      "outputs": []
    },
    {
      "cell_type": "code",
      "metadata": {
        "colab": {
          "base_uri": "https://localhost:8080/"
        },
        "id": "4LQDf9WdwmT5",
        "outputId": "0db8217d-49da-41da-e729-f130f98b9aa8"
      },
      "source": [
        "x"
      ],
      "execution_count": null,
      "outputs": [
        {
          "output_type": "execute_result",
          "data": {
            "text/plain": [
              "<memory at 0x7f4ef4cb0b88>"
            ]
          },
          "metadata": {
            "tags": []
          },
          "execution_count": 24
        }
      ]
    },
    {
      "cell_type": "code",
      "metadata": {
        "id": "PjBbi9dIwnEu"
      },
      "source": [
        "x = 1 # int\n",
        "y = 2.8 # float\n",
        "z = 1j # complex"
      ],
      "execution_count": null,
      "outputs": []
    },
    {
      "cell_type": "code",
      "metadata": {
        "colab": {
          "base_uri": "https://localhost:8080/"
        },
        "id": "7cVa4ApExJTz",
        "outputId": "40a34ad8-8cdd-4ed9-a67d-175081533632"
      },
      "source": [
        "y"
      ],
      "execution_count": null,
      "outputs": [
        {
          "output_type": "execute_result",
          "data": {
            "text/plain": [
              "2.8"
            ]
          },
          "metadata": {
            "tags": []
          },
          "execution_count": 26
        }
      ]
    },
    {
      "cell_type": "code",
      "metadata": {
        "colab": {
          "base_uri": "https://localhost:8080/"
        },
        "id": "mrvI1ZItxKM2",
        "outputId": "380bd43d-3e31-4f5e-ebd0-e150ae557f2b"
      },
      "source": [
        "type(x)\n",
        "type(y)\n",
        "type(z)"
      ],
      "execution_count": null,
      "outputs": [
        {
          "output_type": "execute_result",
          "data": {
            "text/plain": [
              "complex"
            ]
          },
          "metadata": {
            "tags": []
          },
          "execution_count": 27
        }
      ]
    },
    {
      "cell_type": "code",
      "metadata": {
        "colab": {
          "base_uri": "https://localhost:8080/"
        },
        "id": "Pm5y69GhxPp0",
        "outputId": "0cdadb84-e041-43d7-a11b-185b77a70c0c"
      },
      "source": [
        "print(type(x))\n",
        "print(type(y))\n",
        "print(type(z))\n"
      ],
      "execution_count": null,
      "outputs": [
        {
          "output_type": "stream",
          "text": [
            "<class 'int'>\n",
            "<class 'float'>\n",
            "<class 'complex'>\n"
          ],
          "name": "stdout"
        }
      ]
    },
    {
      "cell_type": "code",
      "metadata": {
        "colab": {
          "base_uri": "https://localhost:8080/"
        },
        "id": "yPWdfiHNxh2E",
        "outputId": "406016d5-500f-4e81-d5f7-770d63050a25"
      },
      "source": [
        "x= int(1)\n",
        "y= int(9.8)\n",
        "z= int(\"3\")\n",
        "print(type(x))\n",
        "print(type(y))\n",
        "print(type(z))\n"
      ],
      "execution_count": null,
      "outputs": [
        {
          "output_type": "stream",
          "text": [
            "<class 'int'>\n",
            "<class 'int'>\n",
            "<class 'int'>\n"
          ],
          "name": "stdout"
        }
      ]
    },
    {
      "cell_type": "code",
      "metadata": {
        "colab": {
          "base_uri": "https://localhost:8080/"
        },
        "id": "TtFx6uF3x61g",
        "outputId": "d24b9152-4c2a-467a-f2e0-0cfc3a75cc95"
      },
      "source": [
        "x= str(\"PKN\")\n",
        "y= str(9.8)\n",
        "z= str(3)\n",
        "print(type(x))\n",
        "print(type(y))\n",
        "print(type(z))"
      ],
      "execution_count": null,
      "outputs": [
        {
          "output_type": "stream",
          "text": [
            "<class 'str'>\n",
            "<class 'str'>\n",
            "<class 'str'>\n"
          ],
          "name": "stdout"
        }
      ]
    },
    {
      "cell_type": "code",
      "metadata": {
        "colab": {
          "base_uri": "https://localhost:8080/"
        },
        "id": "WyBELAh3yOk0",
        "outputId": "badb2439-c9a5-4cbd-a7dd-7e7d98080dcf"
      },
      "source": [
        "#multiline strings\n",
        "a = \"\"\" megha has a doubt,\n",
        "which is regarding scan,\n",
        "which we need to address,\n",
        "the concept.\"\"\"\n",
        "print(a)"
      ],
      "execution_count": null,
      "outputs": [
        {
          "output_type": "stream",
          "text": [
            " megha has a doubt,\n",
            "which is regarding scan,\n",
            "which we need to address,\n",
            "the concept.\n"
          ],
          "name": "stdout"
        }
      ]
    },
    {
      "cell_type": "code",
      "metadata": {
        "colab": {
          "base_uri": "https://localhost:8080/"
        },
        "id": "jn_gowsGyrdK",
        "outputId": "8c93e4a7-e420-462f-8e40-5995ae336ef4"
      },
      "source": [
        "a = ''' megha has a doubt,\n",
        "which is regarding scan,\n",
        "which we need to address,\n",
        "the concept.'''\n",
        "print(a)"
      ],
      "execution_count": null,
      "outputs": [
        {
          "output_type": "stream",
          "text": [
            " megha has a doubt,\n",
            "which is regarding scan,\n",
            "which we need to address,\n",
            "the concept.\n"
          ],
          "name": "stdout"
        }
      ]
    },
    {
      "cell_type": "code",
      "metadata": {
        "colab": {
          "base_uri": "https://localhost:8080/"
        },
        "id": "KURbeHZRzF9y",
        "outputId": "01b73b8c-63fe-4799-dfe4-ab979bcba4db"
      },
      "source": [
        "print(10 > 9)\n",
        "print(10 == 9)\n",
        "print(10 < 9)"
      ],
      "execution_count": null,
      "outputs": [
        {
          "output_type": "stream",
          "text": [
            "True\n",
            "False\n",
            "False\n"
          ],
          "name": "stdout"
        }
      ]
    },
    {
      "cell_type": "code",
      "metadata": {
        "colab": {
          "base_uri": "https://localhost:8080/"
        },
        "id": "sC1TTbZdzfKQ",
        "outputId": "b1b51177-1de0-42c6-d030-d6f5ce16f1c0"
      },
      "source": [
        "a = 200\n",
        "b = 33\n",
        "if b>a:\n",
        "  print(\" b is greater than a\")\n",
        "else:\n",
        "  print(\"b is lesser than a\")"
      ],
      "execution_count": null,
      "outputs": [
        {
          "output_type": "stream",
          "text": [
            "b is lesser than a\n"
          ],
          "name": "stdout"
        }
      ]
    },
    {
      "cell_type": "code",
      "metadata": {
        "colab": {
          "base_uri": "https://localhost:8080/"
        },
        "id": "LbdJmNdez12_",
        "outputId": "9f614a1f-e758-4757-ac78-e2eacd1a589a"
      },
      "source": [
        "a = 20\n",
        "b = 33\n",
        "if b>a:\n",
        "  print(\" b is greater than a\")\n",
        "else:\n",
        "  print(\"b is lesser than a\")"
      ],
      "execution_count": null,
      "outputs": [
        {
          "output_type": "stream",
          "text": [
            " b is greater than a\n"
          ],
          "name": "stdout"
        }
      ]
    },
    {
      "cell_type": "code",
      "metadata": {
        "colab": {
          "base_uri": "https://localhost:8080/"
        },
        "id": "Jq7Vv7mT0DbJ",
        "outputId": "687ce24e-c7b6-44ad-9558-77e487b5d07e"
      },
      "source": [
        "print(10 + 5)"
      ],
      "execution_count": null,
      "outputs": [
        {
          "output_type": "stream",
          "text": [
            "15\n"
          ],
          "name": "stdout"
        }
      ]
    },
    {
      "cell_type": "code",
      "metadata": {
        "colab": {
          "base_uri": "https://localhost:8080/"
        },
        "id": "t2FP5OwB0Mlv",
        "outputId": "02ffc9c4-0a86-418d-d31e-e87a39f3dd96"
      },
      "source": [
        "x = 2\n",
        "y = 4\n",
        "print(x+y)\n",
        "print(x-y)\n",
        "print(x*y)\n",
        "print(x/y)\n",
        "print(x%y)\n",
        "print(x**y)\n",
        "print(x//y)"
      ],
      "execution_count": null,
      "outputs": [
        {
          "output_type": "stream",
          "text": [
            "6\n",
            "-2\n",
            "8\n",
            "0.5\n",
            "2\n",
            "16\n",
            "0\n"
          ],
          "name": "stdout"
        }
      ]
    },
    {
      "cell_type": "code",
      "metadata": {
        "id": "WjEKEXPg1Q6s"
      },
      "source": [
        "thisislist = [\"apple\",\"banana\",\"grapes\"]"
      ],
      "execution_count": null,
      "outputs": []
    },
    {
      "cell_type": "code",
      "metadata": {
        "colab": {
          "base_uri": "https://localhost:8080/"
        },
        "id": "jf_fbWL51bA5",
        "outputId": "a3bde4b1-eb58-40b5-a00d-26dcdd9c6800"
      },
      "source": [
        "thisislist"
      ],
      "execution_count": null,
      "outputs": [
        {
          "output_type": "execute_result",
          "data": {
            "text/plain": [
              "['apple', 'banana', 'grapes']"
            ]
          },
          "metadata": {
            "tags": []
          },
          "execution_count": 41
        }
      ]
    },
    {
      "cell_type": "code",
      "metadata": {
        "colab": {
          "base_uri": "https://localhost:8080/"
        },
        "id": "cDDsKLlh1ejO",
        "outputId": "ab606b62-7768-4bfc-dd70-c682df222679"
      },
      "source": [
        "thisislist = [\"apple\",\"banana\",\"grapes\",\"apple1\",\"banana1\",\"grapes1\"]\n",
        "print(thisislist[1])"
      ],
      "execution_count": null,
      "outputs": [
        {
          "output_type": "stream",
          "text": [
            "banana\n"
          ],
          "name": "stdout"
        }
      ]
    },
    {
      "cell_type": "code",
      "metadata": {
        "colab": {
          "base_uri": "https://localhost:8080/"
        },
        "id": "jpUWycEH18WN",
        "outputId": "b70fe128-a34a-4e37-803c-cb6e45078ea4"
      },
      "source": [
        "thisislist = [\"apple\",\"banana\",\"grapes\",\"apple1\",\"banana1\",\"grapes1\"]\n",
        "print(thisislist[0:4])"
      ],
      "execution_count": null,
      "outputs": [
        {
          "output_type": "stream",
          "text": [
            "['apple', 'banana', 'grapes', 'apple1']\n"
          ],
          "name": "stdout"
        }
      ]
    },
    {
      "cell_type": "code",
      "metadata": {
        "colab": {
          "base_uri": "https://localhost:8080/"
        },
        "id": "rDlfLKoI2AQy",
        "outputId": "56b4584e-b786-4bb1-8804-059bd752393c"
      },
      "source": [
        "thisislist = [\"apple\",\"banana\",\"grapes\",\"apple1\",\"banana1\",\"grapes1\"]\n",
        "print(thisislist[-1])"
      ],
      "execution_count": null,
      "outputs": [
        {
          "output_type": "stream",
          "text": [
            "grapes1\n"
          ],
          "name": "stdout"
        }
      ]
    },
    {
      "cell_type": "code",
      "metadata": {
        "colab": {
          "base_uri": "https://localhost:8080/"
        },
        "id": "KZ4V5G602J7D",
        "outputId": "28f79012-68c3-4350-a346-cbedb4e59332"
      },
      "source": [
        "thisislist = [\"apple\",\"banana\",\"grapes\",\"apple1\",\"banana1\",\"grapes1\"]\n",
        "print(thisislist[1])"
      ],
      "execution_count": null,
      "outputs": [
        {
          "output_type": "stream",
          "text": [
            "banana\n"
          ],
          "name": "stdout"
        }
      ]
    },
    {
      "cell_type": "code",
      "metadata": {
        "colab": {
          "base_uri": "https://localhost:8080/"
        },
        "id": "Ma3iEpzr2Our",
        "outputId": "32515d77-217a-4798-982d-5c60bbf1b21f"
      },
      "source": [
        "thisislist = [\"apple\",\"banana\",\"grapes\",\"apple1\",\"banana1\",\"grapes1\"]\n",
        "print(thisislist[2:])"
      ],
      "execution_count": null,
      "outputs": [
        {
          "output_type": "stream",
          "text": [
            "['grapes', 'apple1', 'banana1', 'grapes1']\n"
          ],
          "name": "stdout"
        }
      ]
    },
    {
      "cell_type": "code",
      "metadata": {
        "colab": {
          "base_uri": "https://localhost:8080/"
        },
        "id": "ySXI79hI2bBn",
        "outputId": "659f70cd-5326-47ba-eb8e-bbcfbbfed90c"
      },
      "source": [
        "thisislist = [\"apple\",\"banana\",\"grapes\",\"apple1\",\"banana1\",\"grapes1\"]\n",
        "thisislist[1] = \"blackcurrent\"\n",
        "print(thisislist)"
      ],
      "execution_count": null,
      "outputs": [
        {
          "output_type": "stream",
          "text": [
            "['apple', 'blackcurrent', 'grapes', 'apple1', 'banana1', 'grapes1']\n"
          ],
          "name": "stdout"
        }
      ]
    },
    {
      "cell_type": "code",
      "metadata": {
        "colab": {
          "base_uri": "https://localhost:8080/"
        },
        "id": "LCc_T6Uv3BGt",
        "outputId": "356cb027-d511-4765-e874-243a1316c350"
      },
      "source": [
        "thisislist = [\"apple\",\"banana\",\"grapes\",\"apple1\",\"banana1\",\"grapes1\"]\n",
        "thisislist[1] = [\"blackcurrent\",\"watermelon\"]\n",
        "print(thisislist)"
      ],
      "execution_count": null,
      "outputs": [
        {
          "output_type": "stream",
          "text": [
            "['apple', ['blackcurrent', 'watermelon'], 'grapes', 'apple1', 'banana1', 'grapes1']\n"
          ],
          "name": "stdout"
        }
      ]
    },
    {
      "cell_type": "code",
      "metadata": {
        "colab": {
          "base_uri": "https://localhost:8080/"
        },
        "id": "7xZo-SL13Q2n",
        "outputId": "607ac7b0-fc01-4958-cf5a-a62f566c06b5"
      },
      "source": [
        "thisislist = [\"apple\",\"banana\",\"grapes\",\"apple1\",\"banana1\",\"grapes1\"]\n",
        "thisislist[4] = \"blackcurrent\"\n",
        "print(thisislist)"
      ],
      "execution_count": null,
      "outputs": [
        {
          "output_type": "stream",
          "text": [
            "['apple', 'banana', 'grapes', 'apple1', 'blackcurrent', 'grapes1']\n"
          ],
          "name": "stdout"
        }
      ]
    },
    {
      "cell_type": "code",
      "metadata": {
        "colab": {
          "base_uri": "https://localhost:8080/"
        },
        "id": "y0rTNtr13f99",
        "outputId": "9d3857c7-0701-4c9f-fe81-0fb9f7bbca6c"
      },
      "source": [
        "thisislist = [\"apple\",\"banana\",\"grapes\",\"apple1\",\"banana1\",\"grapes1\"]\n",
        "thisislist[-2] = \"blackcurrent\"\n",
        "print(thisislist)"
      ],
      "execution_count": null,
      "outputs": [
        {
          "output_type": "stream",
          "text": [
            "['apple', 'banana', 'grapes', 'apple1', 'blackcurrent', 'grapes1']\n"
          ],
          "name": "stdout"
        }
      ]
    },
    {
      "cell_type": "code",
      "metadata": {
        "colab": {
          "base_uri": "https://localhost:8080/"
        },
        "id": "zLLOTj7U3vmP",
        "outputId": "0f91afbc-a092-4897-e14f-aca5b5544615"
      },
      "source": [
        "thisislist = [\"apple\",\"banana\",\"grapes\",\"apple1\",\"banana1\",\"grapes1\"]\n",
        "thisislist.append(\"orange\")\n",
        "print(thisislist)"
      ],
      "execution_count": null,
      "outputs": [
        {
          "output_type": "stream",
          "text": [
            "['apple', 'banana', 'grapes', 'apple1', 'banana1', 'grapes1', 'orange']\n"
          ],
          "name": "stdout"
        }
      ]
    },
    {
      "cell_type": "code",
      "metadata": {
        "colab": {
          "base_uri": "https://localhost:8080/"
        },
        "id": "IOGm8sw557Xi",
        "outputId": "190be25a-8e71-4ef4-bf08-f9fed8f99140"
      },
      "source": [
        "thisislist = [\"apple\",\"banana\",\"grapes\",\"apple1\",\"banana1\",\"grapes1\"]\n",
        "thisislist.insert(1,\"orange\")\n",
        "print(thisislist)"
      ],
      "execution_count": null,
      "outputs": [
        {
          "output_type": "stream",
          "text": [
            "['apple', 'orange', 'banana', 'grapes', 'apple1', 'banana1', 'grapes1']\n"
          ],
          "name": "stdout"
        }
      ]
    },
    {
      "cell_type": "code",
      "metadata": {
        "colab": {
          "base_uri": "https://localhost:8080/"
        },
        "id": "Eopn_kVY6DK8",
        "outputId": "49acfc61-2fc5-4155-a7aa-fba35668eeda"
      },
      "source": [
        "thisislist = [\"apple\",\"banana\",\"grapes\",\"apple1\",\"banana1\",\"grapes1\"]\n",
        "tropical = [\"mango\", \"pineapple\", \"papaya\", \"mango1\", \"pineapple1\", \"papaya1\"]\n",
        "thisislist.extend(tropical)\n",
        "print(thisislist)"
      ],
      "execution_count": null,
      "outputs": [
        {
          "output_type": "stream",
          "text": [
            "['apple', 'banana', 'grapes', 'apple1', 'banana1', 'grapes1', 'mango', 'pineapple', 'papaya', 'mango1', 'pineapple1', 'papaya1']\n"
          ],
          "name": "stdout"
        }
      ]
    },
    {
      "cell_type": "code",
      "metadata": {
        "colab": {
          "base_uri": "https://localhost:8080/"
        },
        "id": "OdbFIi3T6rxn",
        "outputId": "33306221-0844-4d64-99d0-f6487bd03ffc"
      },
      "source": [
        "thisislist = [\"apple\",\"banana\",\"grapes\",\"apple1\",\"banana1\",\"grapes1\"]\n",
        "thisistuple = (\"mango\", \"pineapple\", \"papaya\", \"mango1\", \"pineapple1\", \"papaya1\")\n",
        "thisislist.extend(thisistuple)\n",
        "print(thisislist)"
      ],
      "execution_count": null,
      "outputs": [
        {
          "output_type": "stream",
          "text": [
            "['apple', 'banana', 'grapes', 'apple1', 'banana1', 'grapes1', 'mango', 'pineapple', 'papaya', 'mango1', 'pineapple1', 'papaya1']\n"
          ],
          "name": "stdout"
        }
      ]
    },
    {
      "cell_type": "code",
      "metadata": {
        "colab": {
          "base_uri": "https://localhost:8080/"
        },
        "id": "iP0xorgr7YOj",
        "outputId": "d44df051-4f6d-4cd9-8a30-b39941397dca"
      },
      "source": [
        "thisislist = [\"apple\",\"banana\",\"grapes\",\"apple1\",\"banana1\",\"grapes1\"]\n",
        "#tropical = [\"mango\", \"pineapple\", \"papaya\", \"mango1\", \"pineapple1\", \"papaya1\"]\n",
        "thisislist.remove(\"banana\")\n",
        "print(thisislist)"
      ],
      "execution_count": null,
      "outputs": [
        {
          "output_type": "stream",
          "text": [
            "['apple', 'grapes', 'apple1', 'banana1', 'grapes1']\n"
          ],
          "name": "stdout"
        }
      ]
    },
    {
      "cell_type": "code",
      "metadata": {
        "colab": {
          "base_uri": "https://localhost:8080/"
        },
        "id": "iFlyu5VE7jQ3",
        "outputId": "e56dee8b-f68d-4b0f-da99-47653c52b3f9"
      },
      "source": [
        "thisislist = [\"apple\",\"banana\",\"grapes\",\"apple1\",\"banana1\",\"grapes1\"]\n",
        "#tropical = [\"mango\", \"pineapple\", \"papaya\", \"mango1\", \"pineapple1\", \"papaya1\"]\n",
        "thisislist.pop(0)\n",
        "print(thisislist)"
      ],
      "execution_count": null,
      "outputs": [
        {
          "output_type": "stream",
          "text": [
            "['banana', 'grapes', 'apple1', 'banana1', 'grapes1']\n"
          ],
          "name": "stdout"
        }
      ]
    },
    {
      "cell_type": "code",
      "metadata": {
        "colab": {
          "base_uri": "https://localhost:8080/"
        },
        "id": "h_2npJh475_E",
        "outputId": "c7f0ed9a-8dda-4f34-bff2-b3c511178c3a"
      },
      "source": [
        "thisislist = [\"apple\",\"banana\",\"grapes\",\"apple1\",\"banana1\",\"grapes1\"]\n",
        "#tropical = [\"mango\", \"pineapple\", \"papaya\", \"mango1\", \"pineapple1\", \"papaya1\"]\n",
        "#del thisislist\n",
        "thisislist"
      ],
      "execution_count": null,
      "outputs": [
        {
          "output_type": "execute_result",
          "data": {
            "text/plain": [
              "['apple', 'banana', 'grapes', 'apple1', 'banana1', 'grapes1']"
            ]
          },
          "metadata": {
            "tags": []
          },
          "execution_count": 58
        }
      ]
    },
    {
      "cell_type": "code",
      "metadata": {
        "id": "r2BOtuYk8YTK"
      },
      "source": [
        "thisislist = [\"apple\",\"banana\",\"grapes\",\"apple1\",\"banana1\",\"grapes1\"]\n",
        "#tropical = [\"mango\", \"pineapple\", \"papaya\", \"mango1\", \"pineapple1\", \"papaya1\"]\n",
        "del thisislist"
      ],
      "execution_count": null,
      "outputs": []
    },
    {
      "cell_type": "code",
      "metadata": {
        "colab": {
          "base_uri": "https://localhost:8080/"
        },
        "id": "smJ_p5428i0b",
        "outputId": "d3c5441b-3edd-4b55-8978-d719d32774d4"
      },
      "source": [
        "thisislist = [\"apple\",\"banana\",\"grapes\",\"apple1\",\"banana1\",\"grapes1\"]\n",
        "#tropical = [\"mango\", \"pineapple\", \"papaya\", \"mango1\", \"pineapple1\", \"papaya1\"]\n",
        "thisislist.clear()\n",
        "print(thisislist)"
      ],
      "execution_count": null,
      "outputs": [
        {
          "output_type": "stream",
          "text": [
            "[]\n"
          ],
          "name": "stdout"
        }
      ]
    },
    {
      "cell_type": "code",
      "metadata": {
        "colab": {
          "base_uri": "https://localhost:8080/"
        },
        "id": "oSk9p3lB8tmd",
        "outputId": "64ea250a-12b9-47b2-83b7-57e9ff5c3bf1"
      },
      "source": [
        "thislist = [\"apple\",\"banana\",\"grapes\"]\n",
        "for x in thislist:\n",
        "  print(x)"
      ],
      "execution_count": null,
      "outputs": [
        {
          "output_type": "stream",
          "text": [
            "apple\n",
            "banana\n",
            "grapes\n"
          ],
          "name": "stdout"
        }
      ]
    },
    {
      "cell_type": "code",
      "metadata": {
        "colab": {
          "base_uri": "https://localhost:8080/"
        },
        "id": "FXpCjjE_9hw-",
        "outputId": "cd7b14bb-6dd2-4383-e2d6-e1de6bb1e031"
      },
      "source": [
        "thisislist = [\"apple\",\"banana\",\"grapes\",\"apple1\",\"banana1\",\"grapes1\"]\n",
        "for i in thisislist:\n",
        "  print(i)"
      ],
      "execution_count": null,
      "outputs": [
        {
          "output_type": "stream",
          "text": [
            "apple\n",
            "banana\n",
            "grapes\n",
            "apple1\n",
            "banana1\n",
            "grapes1\n"
          ],
          "name": "stdout"
        }
      ]
    },
    {
      "cell_type": "code",
      "metadata": {
        "colab": {
          "base_uri": "https://localhost:8080/"
        },
        "id": "hsKhMVoC-D-B",
        "outputId": "fcf76591-0b56-4a19-fa58-91749d972f35"
      },
      "source": [
        "thisislist = [\"apple\",\"banana\",\"grapes\",\"apple1\",\"banana1\",\"grapes1\"]\n",
        "for i in range (len(thisislist)):\n",
        "  print(thisislist[i])"
      ],
      "execution_count": null,
      "outputs": [
        {
          "output_type": "stream",
          "text": [
            "apple\n",
            "banana\n",
            "grapes\n",
            "apple1\n",
            "banana1\n",
            "grapes1\n"
          ],
          "name": "stdout"
        }
      ]
    },
    {
      "cell_type": "code",
      "metadata": {
        "colab": {
          "base_uri": "https://localhost:8080/",
          "height": 1000
        },
        "id": "isR3_iDh9298",
        "outputId": "bcfd54d9-0fdb-4508-883b-e54f96657e32"
      },
      "source": [
        "thisislist = [\"apple\",\"banana\",\"grapes\",\"apple1\",\"banana1\",\"grapes1\"]\n",
        "i = 0\n",
        "while i < len(thisislist):  \n",
        "  print(thisislist[i])"
      ],
      "execution_count": null,
      "outputs": [
        {
          "output_type": "stream",
          "text": [
            "\u001b[1;30;43mStreaming output truncated to the last 5000 lines.\u001b[0m\n",
            "apple\n",
            "apple\n",
            "apple\n",
            "apple\n",
            "apple\n",
            "apple\n",
            "apple\n",
            "apple\n",
            "apple\n",
            "apple\n",
            "apple\n",
            "apple\n",
            "apple\n",
            "apple\n",
            "apple\n",
            "apple\n",
            "apple\n",
            "apple\n",
            "apple\n",
            "apple\n",
            "apple\n",
            "apple\n",
            "apple\n",
            "apple\n",
            "apple\n",
            "apple\n",
            "apple\n",
            "apple\n",
            "apple\n",
            "apple\n",
            "apple\n",
            "apple\n",
            "apple\n",
            "apple\n",
            "apple\n",
            "apple\n",
            "apple\n",
            "apple\n",
            "apple\n",
            "apple\n",
            "apple\n",
            "apple\n",
            "apple\n",
            "apple\n",
            "apple\n",
            "apple\n",
            "apple\n",
            "apple\n",
            "apple\n",
            "apple\n",
            "apple\n",
            "apple\n",
            "apple\n",
            "apple\n",
            "apple\n",
            "apple\n",
            "apple\n",
            "apple\n",
            "apple\n",
            "apple\n",
            "apple\n",
            "apple\n",
            "apple\n",
            "apple\n",
            "apple\n",
            "apple\n",
            "apple\n",
            "apple\n",
            "apple\n",
            "apple\n",
            "apple\n",
            "apple\n",
            "apple\n",
            "apple\n",
            "apple\n",
            "apple\n",
            "apple\n",
            "apple\n",
            "apple\n",
            "apple\n",
            "apple\n",
            "apple\n",
            "apple\n",
            "apple\n",
            "apple\n",
            "apple\n",
            "apple\n",
            "apple\n",
            "apple\n",
            "apple\n",
            "apple\n",
            "apple\n",
            "apple\n",
            "apple\n",
            "apple\n",
            "apple\n",
            "apple\n",
            "apple\n",
            "apple\n",
            "apple\n",
            "apple\n",
            "apple\n",
            "apple\n",
            "apple\n",
            "apple\n",
            "apple\n",
            "apple\n",
            "apple\n",
            "apple\n",
            "apple\n",
            "apple\n",
            "apple\n",
            "apple\n",
            "apple\n",
            "apple\n",
            "apple\n",
            "apple\n",
            "apple\n",
            "apple\n",
            "apple\n",
            "apple\n",
            "apple\n",
            "apple\n",
            "apple\n",
            "apple\n",
            "apple\n",
            "apple\n",
            "apple\n",
            "apple\n",
            "apple\n",
            "apple\n",
            "apple\n",
            "apple\n",
            "apple\n",
            "apple\n",
            "apple\n",
            "apple\n",
            "apple\n",
            "apple\n",
            "apple\n",
            "apple\n",
            "apple\n",
            "apple\n",
            "apple\n",
            "apple\n",
            "apple\n",
            "apple\n",
            "apple\n",
            "apple\n",
            "apple\n",
            "apple\n",
            "apple\n",
            "apple\n",
            "apple\n",
            "apple\n",
            "apple\n",
            "apple\n",
            "apple\n",
            "apple\n",
            "apple\n",
            "apple\n",
            "apple\n",
            "apple\n",
            "apple\n",
            "apple\n",
            "apple\n",
            "apple\n",
            "apple\n",
            "apple\n",
            "apple\n",
            "apple\n",
            "apple\n",
            "apple\n",
            "apple\n",
            "apple\n",
            "apple\n",
            "apple\n",
            "apple\n",
            "apple\n",
            "apple\n",
            "apple\n",
            "apple\n",
            "apple\n",
            "apple\n",
            "apple\n",
            "apple\n",
            "apple\n",
            "apple\n",
            "apple\n",
            "apple\n",
            "apple\n",
            "apple\n",
            "apple\n",
            "apple\n",
            "apple\n",
            "apple\n",
            "apple\n",
            "apple\n",
            "apple\n",
            "apple\n",
            "apple\n",
            "apple\n",
            "apple\n",
            "apple\n",
            "apple\n",
            "apple\n",
            "apple\n",
            "apple\n",
            "apple\n",
            "apple\n",
            "apple\n",
            "apple\n",
            "apple\n",
            "apple\n",
            "apple\n",
            "apple\n",
            "apple\n",
            "apple\n",
            "apple\n",
            "apple\n",
            "apple\n",
            "apple\n",
            "apple\n",
            "apple\n",
            "apple\n",
            "apple\n",
            "apple\n",
            "apple\n",
            "apple\n",
            "apple\n",
            "apple\n",
            "apple\n",
            "apple\n",
            "apple\n",
            "apple\n",
            "apple\n",
            "apple\n",
            "apple\n",
            "apple\n",
            "apple\n",
            "apple\n",
            "apple\n",
            "apple\n",
            "apple\n",
            "apple\n",
            "apple\n",
            "apple\n",
            "apple\n",
            "apple\n",
            "apple\n",
            "apple\n",
            "apple\n",
            "apple\n",
            "apple\n",
            "apple\n",
            "apple\n",
            "apple\n",
            "apple\n",
            "apple\n",
            "apple\n",
            "apple\n",
            "apple\n",
            "apple\n",
            "apple\n",
            "apple\n",
            "apple\n",
            "apple\n",
            "apple\n",
            "apple\n",
            "apple\n",
            "apple\n",
            "apple\n",
            "apple\n",
            "apple\n",
            "apple\n",
            "apple\n",
            "apple\n",
            "apple\n",
            "apple\n",
            "apple\n",
            "apple\n",
            "apple\n",
            "apple\n",
            "apple\n",
            "apple\n",
            "apple\n",
            "apple\n",
            "apple\n",
            "apple\n",
            "apple\n",
            "apple\n",
            "apple\n",
            "apple\n",
            "apple\n",
            "apple\n",
            "apple\n",
            "apple\n",
            "apple\n",
            "apple\n",
            "apple\n",
            "apple\n",
            "apple\n",
            "apple\n",
            "apple\n",
            "apple\n",
            "apple\n",
            "apple\n",
            "apple\n",
            "apple\n",
            "apple\n",
            "apple\n",
            "apple\n",
            "apple\n",
            "apple\n",
            "apple\n",
            "apple\n",
            "apple\n",
            "apple\n",
            "apple\n",
            "apple\n",
            "apple\n",
            "apple\n",
            "apple\n",
            "apple\n",
            "apple\n",
            "apple\n",
            "apple\n",
            "apple\n",
            "apple\n",
            "apple\n",
            "apple\n",
            "apple\n",
            "apple\n",
            "apple\n",
            "apple\n",
            "apple\n",
            "apple\n",
            "apple\n",
            "apple\n",
            "apple\n",
            "apple\n",
            "apple\n",
            "apple\n",
            "apple\n",
            "apple\n",
            "apple\n",
            "apple\n",
            "apple\n",
            "apple\n",
            "apple\n",
            "apple\n",
            "apple\n",
            "apple\n",
            "apple\n",
            "apple\n",
            "apple\n",
            "apple\n",
            "apple\n",
            "apple\n",
            "apple\n",
            "apple\n",
            "apple\n",
            "apple\n",
            "apple\n",
            "apple\n",
            "apple\n",
            "apple\n",
            "apple\n",
            "apple\n",
            "apple\n",
            "apple\n",
            "apple\n",
            "apple\n",
            "apple\n",
            "apple\n",
            "apple\n",
            "apple\n",
            "apple\n",
            "apple\n",
            "apple\n",
            "apple\n",
            "apple\n",
            "apple\n",
            "apple\n",
            "apple\n",
            "apple\n",
            "apple\n",
            "apple\n",
            "apple\n",
            "apple\n",
            "apple\n",
            "apple\n",
            "apple\n",
            "apple\n",
            "apple\n",
            "apple\n",
            "apple\n",
            "apple\n",
            "apple\n",
            "apple\n",
            "apple\n",
            "apple\n",
            "apple\n",
            "apple\n",
            "apple\n",
            "apple\n",
            "apple\n",
            "apple\n",
            "apple\n",
            "apple\n",
            "apple\n",
            "apple\n",
            "apple\n",
            "apple\n",
            "apple\n",
            "apple\n",
            "apple\n",
            "apple\n",
            "apple\n",
            "apple\n",
            "apple\n",
            "apple\n",
            "apple\n",
            "apple\n",
            "apple\n",
            "apple\n",
            "apple\n",
            "apple\n",
            "apple\n",
            "apple\n",
            "apple\n",
            "apple\n",
            "apple\n",
            "apple\n",
            "apple\n",
            "apple\n",
            "apple\n",
            "apple\n",
            "apple\n",
            "apple\n",
            "apple\n",
            "apple\n",
            "apple\n",
            "apple\n",
            "apple\n",
            "apple\n",
            "apple\n",
            "apple\n",
            "apple\n",
            "apple\n",
            "apple\n",
            "apple\n",
            "apple\n",
            "apple\n",
            "apple\n",
            "apple\n",
            "apple\n",
            "apple\n",
            "apple\n",
            "apple\n",
            "apple\n",
            "apple\n",
            "apple\n",
            "apple\n",
            "apple\n",
            "apple\n",
            "apple\n",
            "apple\n",
            "apple\n",
            "apple\n",
            "apple\n",
            "apple\n",
            "apple\n",
            "apple\n",
            "apple\n",
            "apple\n",
            "apple\n",
            "apple\n",
            "apple\n",
            "apple\n",
            "apple\n",
            "apple\n",
            "apple\n",
            "apple\n",
            "apple\n",
            "apple\n",
            "apple\n",
            "apple\n",
            "apple\n",
            "apple\n",
            "apple\n",
            "apple\n",
            "apple\n",
            "apple\n",
            "apple\n",
            "apple\n",
            "apple\n",
            "apple\n",
            "apple\n",
            "apple\n",
            "apple\n",
            "apple\n",
            "apple\n",
            "apple\n",
            "apple\n",
            "apple\n",
            "apple\n",
            "apple\n",
            "apple\n",
            "apple\n",
            "apple\n",
            "apple\n",
            "apple\n",
            "apple\n",
            "apple\n",
            "apple\n",
            "apple\n",
            "apple\n",
            "apple\n",
            "apple\n",
            "apple\n",
            "apple\n",
            "apple\n",
            "apple\n",
            "apple\n",
            "apple\n",
            "apple\n",
            "apple\n",
            "apple\n",
            "apple\n",
            "apple\n",
            "apple\n",
            "apple\n",
            "apple\n",
            "apple\n",
            "apple\n",
            "apple\n",
            "apple\n",
            "apple\n",
            "apple\n",
            "apple\n",
            "apple\n",
            "apple\n",
            "apple\n",
            "apple\n",
            "apple\n",
            "apple\n",
            "apple\n",
            "apple\n",
            "apple\n",
            "apple\n",
            "apple\n",
            "apple\n",
            "apple\n",
            "apple\n",
            "apple\n",
            "apple\n",
            "apple\n",
            "apple\n",
            "apple\n",
            "apple\n",
            "apple\n",
            "apple\n",
            "apple\n",
            "apple\n",
            "apple\n",
            "apple\n",
            "apple\n",
            "apple\n",
            "apple\n",
            "apple\n",
            "apple\n",
            "apple\n",
            "apple\n",
            "apple\n",
            "apple\n",
            "apple\n",
            "apple\n",
            "apple\n",
            "apple\n",
            "apple\n",
            "apple\n",
            "apple\n",
            "apple\n",
            "apple\n",
            "apple\n",
            "apple\n",
            "apple\n",
            "apple\n",
            "apple\n",
            "apple\n",
            "apple\n",
            "apple\n",
            "apple\n",
            "apple\n",
            "apple\n",
            "apple\n",
            "apple\n",
            "apple\n",
            "apple\n",
            "apple\n",
            "apple\n",
            "apple\n",
            "apple\n",
            "apple\n",
            "apple\n",
            "apple\n",
            "apple\n",
            "apple\n",
            "apple\n",
            "apple\n",
            "apple\n",
            "apple\n",
            "apple\n",
            "apple\n",
            "apple\n",
            "apple\n",
            "apple\n",
            "apple\n",
            "apple\n",
            "apple\n",
            "apple\n",
            "apple\n",
            "apple\n",
            "apple\n",
            "apple\n",
            "apple\n",
            "apple\n",
            "apple\n",
            "apple\n",
            "apple\n",
            "apple\n",
            "apple\n",
            "apple\n",
            "apple\n",
            "apple\n",
            "apple\n",
            "apple\n",
            "apple\n",
            "apple\n",
            "apple\n",
            "apple\n",
            "apple\n",
            "apple\n",
            "apple\n",
            "apple\n",
            "apple\n",
            "apple\n",
            "apple\n",
            "apple\n",
            "apple\n",
            "apple\n",
            "apple\n",
            "apple\n",
            "apple\n",
            "apple\n",
            "apple\n",
            "apple\n",
            "apple\n",
            "apple\n",
            "apple\n",
            "apple\n",
            "apple\n",
            "apple\n",
            "apple\n",
            "apple\n",
            "apple\n",
            "apple\n",
            "apple\n",
            "apple\n",
            "apple\n",
            "apple\n",
            "apple\n",
            "apple\n",
            "apple\n",
            "apple\n",
            "apple\n",
            "apple\n",
            "apple\n",
            "apple\n",
            "apple\n",
            "apple\n",
            "apple\n",
            "apple\n",
            "apple\n",
            "apple\n",
            "apple\n",
            "apple\n",
            "apple\n",
            "apple\n",
            "apple\n",
            "apple\n",
            "apple\n",
            "apple\n",
            "apple\n",
            "apple\n",
            "apple\n",
            "apple\n",
            "apple\n",
            "apple\n",
            "apple\n",
            "apple\n",
            "apple\n",
            "apple\n",
            "apple\n",
            "apple\n",
            "apple\n",
            "apple\n",
            "apple\n",
            "apple\n",
            "apple\n",
            "apple\n",
            "apple\n",
            "apple\n",
            "apple\n",
            "apple\n",
            "apple\n",
            "apple\n",
            "apple\n",
            "apple\n",
            "apple\n",
            "apple\n",
            "apple\n",
            "apple\n",
            "apple\n",
            "apple\n",
            "apple\n",
            "apple\n",
            "apple\n",
            "apple\n",
            "apple\n",
            "apple\n",
            "apple\n",
            "apple\n",
            "apple\n",
            "apple\n",
            "apple\n",
            "apple\n",
            "apple\n",
            "apple\n",
            "apple\n",
            "apple\n",
            "apple\n",
            "apple\n",
            "apple\n",
            "apple\n",
            "apple\n",
            "apple\n",
            "apple\n",
            "apple\n",
            "apple\n",
            "apple\n",
            "apple\n",
            "apple\n",
            "apple\n",
            "apple\n",
            "apple\n",
            "apple\n",
            "apple\n",
            "apple\n",
            "apple\n",
            "apple\n",
            "apple\n",
            "apple\n",
            "apple\n",
            "apple\n",
            "apple\n",
            "apple\n",
            "apple\n",
            "apple\n",
            "apple\n",
            "apple\n",
            "apple\n",
            "apple\n",
            "apple\n",
            "apple\n",
            "apple\n",
            "apple\n",
            "apple\n",
            "apple\n",
            "apple\n",
            "apple\n",
            "apple\n",
            "apple\n",
            "apple\n",
            "apple\n",
            "apple\n",
            "apple\n",
            "apple\n",
            "apple\n",
            "apple\n",
            "apple\n",
            "apple\n",
            "apple\n",
            "apple\n",
            "apple\n",
            "apple\n",
            "apple\n",
            "apple\n",
            "apple\n",
            "apple\n",
            "apple\n",
            "apple\n",
            "apple\n",
            "apple\n",
            "apple\n",
            "apple\n",
            "apple\n",
            "apple\n",
            "apple\n",
            "apple\n",
            "apple\n",
            "apple\n",
            "apple\n",
            "apple\n",
            "apple\n",
            "apple\n",
            "apple\n",
            "apple\n",
            "apple\n",
            "apple\n",
            "apple\n",
            "apple\n",
            "apple\n",
            "apple\n",
            "apple\n",
            "apple\n",
            "apple\n",
            "apple\n",
            "apple\n",
            "apple\n",
            "apple\n",
            "apple\n",
            "apple\n",
            "apple\n",
            "apple\n",
            "apple\n",
            "apple\n",
            "apple\n",
            "apple\n",
            "apple\n",
            "apple\n",
            "apple\n",
            "apple\n",
            "apple\n",
            "apple\n",
            "apple\n",
            "apple\n",
            "apple\n",
            "apple\n",
            "apple\n",
            "apple\n",
            "apple\n",
            "apple\n",
            "apple\n",
            "apple\n",
            "apple\n",
            "apple\n",
            "apple\n",
            "apple\n",
            "apple\n",
            "apple\n",
            "apple\n",
            "apple\n",
            "apple\n",
            "apple\n",
            "apple\n",
            "apple\n",
            "apple\n",
            "apple\n",
            "apple\n",
            "apple\n",
            "apple\n",
            "apple\n",
            "apple\n",
            "apple\n",
            "apple\n",
            "apple\n",
            "apple\n",
            "apple\n",
            "apple\n",
            "apple\n",
            "apple\n",
            "apple\n",
            "apple\n",
            "apple\n",
            "apple\n",
            "apple\n",
            "apple\n",
            "apple\n",
            "apple\n",
            "apple\n",
            "apple\n",
            "apple\n",
            "apple\n",
            "apple\n",
            "apple\n",
            "apple\n",
            "apple\n",
            "apple\n",
            "apple\n",
            "apple\n",
            "apple\n",
            "apple\n",
            "apple\n",
            "apple\n",
            "apple\n",
            "apple\n",
            "apple\n",
            "apple\n",
            "apple\n",
            "apple\n",
            "apple\n",
            "apple\n",
            "apple\n",
            "apple\n",
            "apple\n",
            "apple\n",
            "apple\n",
            "apple\n",
            "apple\n",
            "apple\n",
            "apple\n",
            "apple\n",
            "apple\n",
            "apple\n",
            "apple\n",
            "apple\n",
            "apple\n",
            "apple\n",
            "apple\n",
            "apple\n",
            "apple\n",
            "apple\n",
            "apple\n",
            "apple\n",
            "apple\n",
            "apple\n",
            "apple\n",
            "apple\n",
            "apple\n",
            "apple\n",
            "apple\n",
            "apple\n",
            "apple\n",
            "apple\n",
            "apple\n",
            "apple\n",
            "apple\n",
            "apple\n",
            "apple\n",
            "apple\n",
            "apple\n",
            "apple\n",
            "apple\n",
            "apple\n",
            "apple\n",
            "apple\n",
            "apple\n",
            "apple\n",
            "apple\n",
            "apple\n",
            "apple\n",
            "apple\n",
            "apple\n",
            "apple\n",
            "apple\n",
            "apple\n",
            "apple\n",
            "apple\n",
            "apple\n",
            "apple\n",
            "apple\n",
            "apple\n",
            "apple\n",
            "apple\n",
            "apple\n",
            "apple\n",
            "apple\n",
            "apple\n",
            "apple\n",
            "apple\n",
            "apple\n",
            "apple\n",
            "apple\n",
            "apple\n",
            "apple\n",
            "apple\n",
            "apple\n",
            "apple\n",
            "apple\n",
            "apple\n",
            "apple\n",
            "apple\n",
            "apple\n",
            "apple\n",
            "apple\n",
            "apple\n",
            "apple\n",
            "apple\n",
            "apple\n",
            "apple\n",
            "apple\n",
            "apple\n",
            "apple\n",
            "apple\n",
            "apple\n",
            "apple\n",
            "apple\n",
            "apple\n",
            "apple\n",
            "apple\n",
            "apple\n",
            "apple\n",
            "apple\n",
            "apple\n",
            "apple\n",
            "apple\n",
            "apple\n",
            "apple\n",
            "apple\n",
            "apple\n",
            "apple\n",
            "apple\n",
            "apple\n",
            "apple\n",
            "apple\n",
            "apple\n",
            "apple\n",
            "apple\n",
            "apple\n",
            "apple\n",
            "apple\n",
            "apple\n",
            "apple\n",
            "apple\n",
            "apple\n",
            "apple\n",
            "apple\n",
            "apple\n",
            "apple\n",
            "apple\n",
            "apple\n",
            "apple\n",
            "apple\n",
            "apple\n",
            "apple\n",
            "apple\n",
            "apple\n",
            "apple\n",
            "apple\n",
            "apple\n",
            "apple\n",
            "apple\n",
            "apple\n",
            "apple\n",
            "apple\n",
            "apple\n",
            "apple\n",
            "apple\n",
            "apple\n",
            "apple\n",
            "apple\n",
            "apple\n",
            "apple\n",
            "apple\n",
            "apple\n",
            "apple\n",
            "apple\n",
            "apple\n",
            "apple\n",
            "apple\n",
            "apple\n",
            "apple\n",
            "apple\n",
            "apple\n",
            "apple\n",
            "apple\n",
            "apple\n",
            "apple\n",
            "apple\n",
            "apple\n",
            "apple\n",
            "apple\n",
            "apple\n",
            "apple\n",
            "apple\n",
            "apple\n",
            "apple\n",
            "apple\n",
            "apple\n",
            "apple\n",
            "apple\n",
            "apple\n",
            "apple\n",
            "apple\n",
            "apple\n",
            "apple\n",
            "apple\n",
            "apple\n",
            "apple\n",
            "apple\n",
            "apple\n",
            "apple\n",
            "apple\n",
            "apple\n",
            "apple\n",
            "apple\n",
            "apple\n",
            "apple\n",
            "apple\n",
            "apple\n",
            "apple\n",
            "apple\n",
            "apple\n",
            "apple\n",
            "apple\n",
            "apple\n",
            "apple\n",
            "apple\n",
            "apple\n",
            "apple\n",
            "apple\n",
            "apple\n",
            "apple\n",
            "apple\n",
            "apple\n",
            "apple\n",
            "apple\n",
            "apple\n",
            "apple\n",
            "apple\n",
            "apple\n",
            "apple\n",
            "apple\n",
            "apple\n",
            "apple\n",
            "apple\n",
            "apple\n",
            "apple\n",
            "apple\n",
            "apple\n",
            "apple\n",
            "apple\n",
            "apple\n",
            "apple\n",
            "apple\n",
            "apple\n",
            "apple\n",
            "apple\n",
            "apple\n",
            "apple\n",
            "apple\n",
            "apple\n",
            "apple\n",
            "apple\n",
            "apple\n",
            "apple\n",
            "apple\n",
            "apple\n",
            "apple\n",
            "apple\n",
            "apple\n",
            "apple\n",
            "apple\n",
            "apple\n",
            "apple\n",
            "apple\n",
            "apple\n",
            "apple\n",
            "apple\n",
            "apple\n",
            "apple\n",
            "apple\n",
            "apple\n",
            "apple\n",
            "apple\n",
            "apple\n",
            "apple\n",
            "apple\n",
            "apple\n",
            "apple\n",
            "apple\n",
            "apple\n",
            "apple\n",
            "apple\n",
            "apple\n",
            "apple\n",
            "apple\n",
            "apple\n",
            "apple\n",
            "apple\n",
            "apple\n",
            "apple\n",
            "apple\n",
            "apple\n",
            "apple\n",
            "apple\n",
            "apple\n",
            "apple\n",
            "apple\n",
            "apple\n",
            "apple\n",
            "apple\n",
            "apple\n",
            "apple\n",
            "apple\n",
            "apple\n",
            "apple\n",
            "apple\n",
            "apple\n",
            "apple\n",
            "apple\n",
            "apple\n",
            "apple\n",
            "apple\n",
            "apple\n",
            "apple\n",
            "apple\n",
            "apple\n",
            "apple\n",
            "apple\n",
            "apple\n",
            "apple\n",
            "apple\n",
            "apple\n",
            "apple\n",
            "apple\n",
            "apple\n",
            "apple\n",
            "apple\n",
            "apple\n",
            "apple\n",
            "apple\n",
            "apple\n",
            "apple\n",
            "apple\n",
            "apple\n",
            "apple\n",
            "apple\n",
            "apple\n",
            "apple\n",
            "apple\n",
            "apple\n",
            "apple\n",
            "apple\n",
            "apple\n",
            "apple\n",
            "apple\n",
            "apple\n",
            "apple\n",
            "apple\n",
            "apple\n",
            "apple\n",
            "apple\n",
            "apple\n",
            "apple\n",
            "apple\n",
            "apple\n",
            "apple\n",
            "apple\n",
            "apple\n",
            "apple\n",
            "apple\n",
            "apple\n",
            "apple\n",
            "apple\n",
            "apple\n",
            "apple\n",
            "apple\n",
            "apple\n",
            "apple\n",
            "apple\n",
            "apple\n",
            "apple\n",
            "apple\n",
            "apple\n",
            "apple\n",
            "apple\n",
            "apple\n",
            "apple\n",
            "apple\n",
            "apple\n",
            "apple\n",
            "apple\n",
            "apple\n",
            "apple\n",
            "apple\n",
            "apple\n",
            "apple\n",
            "apple\n",
            "apple\n",
            "apple\n",
            "apple\n",
            "apple\n",
            "apple\n",
            "apple\n",
            "apple\n",
            "apple\n",
            "apple\n",
            "apple\n",
            "apple\n",
            "apple\n",
            "apple\n",
            "apple\n",
            "apple\n",
            "apple\n",
            "apple\n",
            "apple\n",
            "apple\n",
            "apple\n",
            "apple\n",
            "apple\n",
            "apple\n",
            "apple\n",
            "apple\n",
            "apple\n",
            "apple\n",
            "apple\n",
            "apple\n",
            "apple\n",
            "apple\n",
            "apple\n",
            "apple\n",
            "apple\n",
            "apple\n",
            "apple\n",
            "apple\n",
            "apple\n",
            "apple\n",
            "apple\n",
            "apple\n",
            "apple\n",
            "apple\n",
            "apple\n",
            "apple\n",
            "apple\n",
            "apple\n",
            "apple\n",
            "apple\n",
            "apple\n",
            "apple\n",
            "apple\n",
            "apple\n",
            "apple\n",
            "apple\n",
            "apple\n",
            "apple\n",
            "apple\n",
            "apple\n",
            "apple\n",
            "apple\n",
            "apple\n",
            "apple\n",
            "apple\n",
            "apple\n",
            "apple\n",
            "apple\n",
            "apple\n",
            "apple\n",
            "apple\n",
            "apple\n",
            "apple\n",
            "apple\n",
            "apple\n",
            "apple\n",
            "apple\n",
            "apple\n",
            "apple\n",
            "apple\n",
            "apple\n",
            "apple\n",
            "apple\n",
            "apple\n",
            "apple\n",
            "apple\n",
            "apple\n",
            "apple\n",
            "apple\n",
            "apple\n",
            "apple\n",
            "apple\n",
            "apple\n",
            "apple\n",
            "apple\n",
            "apple\n",
            "apple\n",
            "apple\n",
            "apple\n",
            "apple\n",
            "apple\n",
            "apple\n",
            "apple\n",
            "apple\n",
            "apple\n",
            "apple\n",
            "apple\n",
            "apple\n",
            "apple\n",
            "apple\n",
            "apple\n",
            "apple\n",
            "apple\n",
            "apple\n",
            "apple\n",
            "apple\n",
            "apple\n",
            "apple\n",
            "apple\n",
            "apple\n",
            "apple\n",
            "apple\n",
            "apple\n",
            "apple\n",
            "apple\n",
            "apple\n",
            "apple\n",
            "apple\n",
            "apple\n",
            "apple\n",
            "apple\n",
            "apple\n",
            "apple\n",
            "apple\n",
            "apple\n",
            "apple\n",
            "apple\n",
            "apple\n",
            "apple\n",
            "apple\n",
            "apple\n",
            "apple\n",
            "apple\n",
            "apple\n",
            "apple\n",
            "apple\n",
            "apple\n",
            "apple\n",
            "apple\n",
            "apple\n",
            "apple\n",
            "apple\n",
            "apple\n",
            "apple\n",
            "apple\n",
            "apple\n",
            "apple\n",
            "apple\n",
            "apple\n",
            "apple\n",
            "apple\n",
            "apple\n",
            "apple\n",
            "apple\n",
            "apple\n",
            "apple\n",
            "apple\n",
            "apple\n",
            "apple\n",
            "apple\n",
            "apple\n",
            "apple\n",
            "apple\n",
            "apple\n",
            "apple\n",
            "apple\n",
            "apple\n",
            "apple\n",
            "apple\n",
            "apple\n",
            "apple\n",
            "apple\n",
            "apple\n",
            "apple\n",
            "apple\n",
            "apple\n",
            "apple\n",
            "apple\n",
            "apple\n",
            "apple\n",
            "apple\n",
            "apple\n",
            "apple\n",
            "apple\n",
            "apple\n",
            "apple\n",
            "apple\n",
            "apple\n",
            "apple\n",
            "apple\n",
            "apple\n",
            "apple\n",
            "apple\n",
            "apple\n",
            "apple\n",
            "apple\n",
            "apple\n",
            "apple\n",
            "apple\n",
            "apple\n",
            "apple\n",
            "apple\n",
            "apple\n",
            "apple\n",
            "apple\n",
            "apple\n",
            "apple\n",
            "apple\n",
            "apple\n",
            "apple\n",
            "apple\n",
            "apple\n",
            "apple\n",
            "apple\n",
            "apple\n",
            "apple\n",
            "apple\n",
            "apple\n",
            "apple\n",
            "apple\n",
            "apple\n",
            "apple\n",
            "apple\n",
            "apple\n",
            "apple\n",
            "apple\n",
            "apple\n",
            "apple\n",
            "apple\n",
            "apple\n",
            "apple\n",
            "apple\n",
            "apple\n",
            "apple\n",
            "apple\n",
            "apple\n",
            "apple\n",
            "apple\n",
            "apple\n",
            "apple\n",
            "apple\n",
            "apple\n",
            "apple\n",
            "apple\n",
            "apple\n",
            "apple\n",
            "apple\n",
            "apple\n",
            "apple\n",
            "apple\n",
            "apple\n",
            "apple\n",
            "apple\n",
            "apple\n",
            "apple\n",
            "apple\n",
            "apple\n",
            "apple\n",
            "apple\n",
            "apple\n",
            "apple\n",
            "apple\n",
            "apple\n",
            "apple\n",
            "apple\n",
            "apple\n",
            "apple\n",
            "apple\n",
            "apple\n",
            "apple\n",
            "apple\n",
            "apple\n",
            "apple\n",
            "apple\n",
            "apple\n",
            "apple\n",
            "apple\n",
            "apple\n",
            "apple\n",
            "apple\n",
            "apple\n",
            "apple\n",
            "apple\n",
            "apple\n",
            "apple\n",
            "apple\n",
            "apple\n",
            "apple\n",
            "apple\n",
            "apple\n",
            "apple\n",
            "apple\n",
            "apple\n",
            "apple\n",
            "apple\n",
            "apple\n",
            "apple\n",
            "apple\n",
            "apple\n",
            "apple\n",
            "apple\n",
            "apple\n",
            "apple\n",
            "apple\n",
            "apple\n",
            "apple\n",
            "apple\n",
            "apple\n",
            "apple\n",
            "apple\n",
            "apple\n",
            "apple\n",
            "apple\n",
            "apple\n",
            "apple\n",
            "apple\n",
            "apple\n",
            "apple\n",
            "apple\n",
            "apple\n",
            "apple\n",
            "apple\n",
            "apple\n",
            "apple\n",
            "apple\n",
            "apple\n",
            "apple\n",
            "apple\n",
            "apple\n",
            "apple\n",
            "apple\n",
            "apple\n",
            "apple\n",
            "apple\n",
            "apple\n",
            "apple\n",
            "apple\n",
            "apple\n",
            "apple\n",
            "apple\n",
            "apple\n",
            "apple\n",
            "apple\n",
            "apple\n",
            "apple\n",
            "apple\n",
            "apple\n",
            "apple\n",
            "apple\n",
            "apple\n",
            "apple\n",
            "apple\n",
            "apple\n",
            "apple\n",
            "apple\n",
            "apple\n",
            "apple\n",
            "apple\n",
            "apple\n",
            "apple\n",
            "apple\n",
            "apple\n",
            "apple\n",
            "apple\n",
            "apple\n",
            "apple\n",
            "apple\n",
            "apple\n",
            "apple\n",
            "apple\n",
            "apple\n",
            "apple\n",
            "apple\n",
            "apple\n",
            "apple\n",
            "apple\n",
            "apple\n",
            "apple\n",
            "apple\n",
            "apple\n",
            "apple\n",
            "apple\n",
            "apple\n",
            "apple\n",
            "apple\n",
            "apple\n",
            "apple\n",
            "apple\n",
            "apple\n",
            "apple\n",
            "apple\n",
            "apple\n",
            "apple\n",
            "apple\n",
            "apple\n",
            "apple\n",
            "apple\n",
            "apple\n",
            "apple\n",
            "apple\n",
            "apple\n",
            "apple\n",
            "apple\n",
            "apple\n",
            "apple\n",
            "apple\n",
            "apple\n",
            "apple\n",
            "apple\n",
            "apple\n",
            "apple\n",
            "apple\n",
            "apple\n",
            "apple\n",
            "apple\n",
            "apple\n",
            "apple\n",
            "apple\n",
            "apple\n",
            "apple\n",
            "apple\n",
            "apple\n",
            "apple\n",
            "apple\n",
            "apple\n",
            "apple\n",
            "apple\n",
            "apple\n",
            "apple\n",
            "apple\n",
            "apple\n",
            "apple\n",
            "apple\n",
            "apple\n",
            "apple\n",
            "apple\n",
            "apple\n",
            "apple\n",
            "apple\n",
            "apple\n",
            "apple\n",
            "apple\n",
            "apple\n",
            "apple\n",
            "apple\n",
            "apple\n",
            "apple\n",
            "apple\n",
            "apple\n",
            "apple\n",
            "apple\n",
            "apple\n",
            "apple\n",
            "apple\n",
            "apple\n",
            "apple\n",
            "apple\n",
            "apple\n",
            "apple\n",
            "apple\n",
            "apple\n",
            "apple\n",
            "apple\n",
            "apple\n",
            "apple\n",
            "apple\n",
            "apple\n",
            "apple\n",
            "apple\n",
            "apple\n",
            "apple\n",
            "apple\n",
            "apple\n",
            "apple\n",
            "apple\n",
            "apple\n",
            "apple\n",
            "apple\n",
            "apple\n",
            "apple\n",
            "apple\n",
            "apple\n",
            "apple\n",
            "apple\n",
            "apple\n",
            "apple\n",
            "apple\n",
            "apple\n",
            "apple\n",
            "apple\n",
            "apple\n",
            "apple\n",
            "apple\n",
            "apple\n",
            "apple\n",
            "apple\n",
            "apple\n",
            "apple\n",
            "apple\n",
            "apple\n",
            "apple\n",
            "apple\n",
            "apple\n",
            "apple\n",
            "apple\n",
            "apple\n",
            "apple\n",
            "apple\n",
            "apple\n",
            "apple\n",
            "apple\n",
            "apple\n",
            "apple\n",
            "apple\n",
            "apple\n",
            "apple\n",
            "apple\n",
            "apple\n",
            "apple\n",
            "apple\n",
            "apple\n",
            "apple\n",
            "apple\n",
            "apple\n",
            "apple\n",
            "apple\n",
            "apple\n",
            "apple\n",
            "apple\n",
            "apple\n",
            "apple\n",
            "apple\n",
            "apple\n",
            "apple\n",
            "apple\n",
            "apple\n",
            "apple\n",
            "apple\n",
            "apple\n",
            "apple\n",
            "apple\n",
            "apple\n",
            "apple\n",
            "apple\n",
            "apple\n",
            "apple\n",
            "apple\n",
            "apple\n",
            "apple\n",
            "apple\n",
            "apple\n",
            "apple\n",
            "apple\n",
            "apple\n",
            "apple\n",
            "apple\n",
            "apple\n",
            "apple\n",
            "apple\n",
            "apple\n",
            "apple\n",
            "apple\n",
            "apple\n",
            "apple\n",
            "apple\n",
            "apple\n",
            "apple\n",
            "apple\n",
            "apple\n",
            "apple\n",
            "apple\n",
            "apple\n",
            "apple\n",
            "apple\n",
            "apple\n",
            "apple\n",
            "apple\n",
            "apple\n",
            "apple\n",
            "apple\n",
            "apple\n",
            "apple\n",
            "apple\n",
            "apple\n",
            "apple\n",
            "apple\n",
            "apple\n",
            "apple\n",
            "apple\n",
            "apple\n",
            "apple\n",
            "apple\n",
            "apple\n",
            "apple\n",
            "apple\n",
            "apple\n",
            "apple\n",
            "apple\n",
            "apple\n",
            "apple\n",
            "apple\n",
            "apple\n",
            "apple\n",
            "apple\n",
            "apple\n",
            "apple\n",
            "apple\n",
            "apple\n",
            "apple\n",
            "apple\n",
            "apple\n",
            "apple\n",
            "apple\n",
            "apple\n",
            "apple\n",
            "apple\n",
            "apple\n",
            "apple\n",
            "apple\n",
            "apple\n",
            "apple\n",
            "apple\n",
            "apple\n",
            "apple\n",
            "apple\n",
            "apple\n",
            "apple\n",
            "apple\n",
            "apple\n",
            "apple\n",
            "apple\n",
            "apple\n",
            "apple\n",
            "apple\n",
            "apple\n",
            "apple\n",
            "apple\n",
            "apple\n",
            "apple\n",
            "apple\n",
            "apple\n",
            "apple\n",
            "apple\n",
            "apple\n",
            "apple\n",
            "apple\n",
            "apple\n",
            "apple\n",
            "apple\n",
            "apple\n",
            "apple\n",
            "apple\n",
            "apple\n",
            "apple\n",
            "apple\n",
            "apple\n",
            "apple\n",
            "apple\n",
            "apple\n",
            "apple\n",
            "apple\n",
            "apple\n",
            "apple\n",
            "apple\n",
            "apple\n",
            "apple\n",
            "apple\n",
            "apple\n",
            "apple\n",
            "apple\n",
            "apple\n",
            "apple\n",
            "apple\n",
            "apple\n",
            "apple\n",
            "apple\n",
            "apple\n",
            "apple\n",
            "apple\n",
            "apple\n",
            "apple\n",
            "apple\n",
            "apple\n",
            "apple\n",
            "apple\n",
            "apple\n",
            "apple\n",
            "apple\n",
            "apple\n",
            "apple\n",
            "apple\n",
            "apple\n",
            "apple\n",
            "apple\n",
            "apple\n",
            "apple\n",
            "apple\n",
            "apple\n",
            "apple\n",
            "apple\n",
            "apple\n",
            "apple\n",
            "apple\n",
            "apple\n",
            "apple\n",
            "apple\n",
            "apple\n",
            "apple\n",
            "apple\n",
            "apple\n",
            "apple\n",
            "apple\n",
            "apple\n",
            "apple\n",
            "apple\n",
            "apple\n",
            "apple\n",
            "apple\n",
            "apple\n",
            "apple\n",
            "apple\n",
            "apple\n",
            "apple\n",
            "apple\n",
            "apple\n",
            "apple\n",
            "apple\n",
            "apple\n",
            "apple\n",
            "apple\n",
            "apple\n",
            "apple\n",
            "apple\n",
            "apple\n",
            "apple\n",
            "apple\n",
            "apple\n",
            "apple\n",
            "apple\n",
            "apple\n",
            "apple\n",
            "apple\n",
            "apple\n",
            "apple\n",
            "apple\n",
            "apple\n",
            "apple\n",
            "apple\n",
            "apple\n",
            "apple\n",
            "apple\n",
            "apple\n",
            "apple\n",
            "apple\n",
            "apple\n",
            "apple\n",
            "apple\n",
            "apple\n",
            "apple\n",
            "apple\n",
            "apple\n",
            "apple\n",
            "apple\n",
            "apple\n",
            "apple\n",
            "apple\n",
            "apple\n",
            "apple\n",
            "apple\n",
            "apple\n",
            "apple\n",
            "apple\n",
            "apple\n",
            "apple\n",
            "apple\n",
            "apple\n",
            "apple\n",
            "apple\n",
            "apple\n",
            "apple\n",
            "apple\n",
            "apple\n",
            "apple\n",
            "apple\n",
            "apple\n",
            "apple\n",
            "apple\n",
            "apple\n",
            "apple\n",
            "apple\n",
            "apple\n",
            "apple\n",
            "apple\n",
            "apple\n",
            "apple\n",
            "apple\n",
            "apple\n",
            "apple\n",
            "apple\n",
            "apple\n",
            "apple\n",
            "apple\n",
            "apple\n",
            "apple\n",
            "apple\n",
            "apple\n",
            "apple\n",
            "apple\n",
            "apple\n",
            "apple\n",
            "apple\n",
            "apple\n",
            "apple\n",
            "apple\n",
            "apple\n",
            "apple\n",
            "apple\n",
            "apple\n",
            "apple\n",
            "apple\n",
            "apple\n",
            "apple\n",
            "apple\n",
            "apple\n",
            "apple\n",
            "apple\n",
            "apple\n",
            "apple\n",
            "apple\n",
            "apple\n",
            "apple\n",
            "apple\n",
            "apple\n",
            "apple\n",
            "apple\n",
            "apple\n",
            "apple\n",
            "apple\n",
            "apple\n",
            "apple\n",
            "apple\n",
            "apple\n",
            "apple\n",
            "apple\n",
            "apple\n",
            "apple\n",
            "apple\n",
            "apple\n",
            "apple\n",
            "apple\n",
            "apple\n",
            "apple\n",
            "apple\n",
            "apple\n",
            "apple\n",
            "apple\n",
            "apple\n",
            "apple\n",
            "apple\n",
            "apple\n",
            "apple\n",
            "apple\n",
            "apple\n",
            "apple\n",
            "apple\n",
            "apple\n",
            "apple\n",
            "apple\n",
            "apple\n",
            "apple\n",
            "apple\n",
            "apple\n",
            "apple\n",
            "apple\n",
            "apple\n",
            "apple\n",
            "apple\n",
            "apple\n",
            "apple\n",
            "apple\n",
            "apple\n",
            "apple\n",
            "apple\n",
            "apple\n",
            "apple\n",
            "apple\n",
            "apple\n",
            "apple\n",
            "apple\n",
            "apple\n",
            "apple\n",
            "apple\n",
            "apple\n",
            "apple\n",
            "apple\n",
            "apple\n",
            "apple\n",
            "apple\n",
            "apple\n",
            "apple\n",
            "apple\n",
            "apple\n",
            "apple\n",
            "apple\n",
            "apple\n",
            "apple\n",
            "apple\n",
            "apple\n",
            "apple\n",
            "apple\n",
            "apple\n",
            "apple\n",
            "apple\n",
            "apple\n",
            "apple\n",
            "apple\n",
            "apple\n",
            "apple\n",
            "apple\n",
            "apple\n",
            "apple\n",
            "apple\n",
            "apple\n",
            "apple\n",
            "apple\n",
            "apple\n",
            "apple\n",
            "apple\n",
            "apple\n",
            "apple\n",
            "apple\n",
            "apple\n",
            "apple\n",
            "apple\n",
            "apple\n",
            "apple\n",
            "apple\n",
            "apple\n",
            "apple\n",
            "apple\n",
            "apple\n",
            "apple\n",
            "apple\n",
            "apple\n",
            "apple\n",
            "apple\n",
            "apple\n",
            "apple\n",
            "apple\n",
            "apple\n",
            "apple\n",
            "apple\n",
            "apple\n",
            "apple\n",
            "apple\n",
            "apple\n",
            "apple\n",
            "apple\n",
            "apple\n",
            "apple\n",
            "apple\n",
            "apple\n",
            "apple\n",
            "apple\n",
            "apple\n",
            "apple\n",
            "apple\n",
            "apple\n",
            "apple\n",
            "apple\n",
            "apple\n",
            "apple\n",
            "apple\n",
            "apple\n",
            "apple\n",
            "apple\n",
            "apple\n",
            "apple\n",
            "apple\n",
            "apple\n",
            "apple\n",
            "apple\n",
            "apple\n",
            "apple\n",
            "apple\n",
            "apple\n",
            "apple\n",
            "apple\n",
            "apple\n",
            "apple\n",
            "apple\n",
            "apple\n",
            "apple\n",
            "apple\n",
            "apple\n",
            "apple\n",
            "apple\n",
            "apple\n",
            "apple\n",
            "apple\n",
            "apple\n",
            "apple\n",
            "apple\n",
            "apple\n",
            "apple\n",
            "apple\n",
            "apple\n",
            "apple\n",
            "apple\n",
            "apple\n",
            "apple\n",
            "apple\n",
            "apple\n",
            "apple\n",
            "apple\n",
            "apple\n",
            "apple\n",
            "apple\n",
            "apple\n",
            "apple\n",
            "apple\n",
            "apple\n",
            "apple\n",
            "apple\n",
            "apple\n",
            "apple\n",
            "apple\n",
            "apple\n",
            "apple\n",
            "apple\n",
            "apple\n",
            "apple\n",
            "apple\n",
            "apple\n",
            "apple\n",
            "apple\n",
            "apple\n",
            "apple\n",
            "apple\n",
            "apple\n",
            "apple\n",
            "apple\n",
            "apple\n",
            "apple\n",
            "apple\n",
            "apple\n",
            "apple\n",
            "apple\n",
            "apple\n",
            "apple\n",
            "apple\n",
            "apple\n",
            "apple\n",
            "apple\n",
            "apple\n",
            "apple\n",
            "apple\n",
            "apple\n",
            "apple\n",
            "apple\n",
            "apple\n",
            "apple\n",
            "apple\n",
            "apple\n",
            "apple\n",
            "apple\n",
            "apple\n",
            "apple\n",
            "apple\n",
            "apple\n",
            "apple\n",
            "apple\n",
            "apple\n",
            "apple\n",
            "apple\n",
            "apple\n",
            "apple\n",
            "apple\n",
            "apple\n",
            "apple\n",
            "apple\n",
            "apple\n",
            "apple\n",
            "apple\n",
            "apple\n",
            "apple\n",
            "apple\n",
            "apple\n",
            "apple\n",
            "apple\n",
            "apple\n",
            "apple\n",
            "apple\n",
            "apple\n",
            "apple\n",
            "apple\n",
            "apple\n",
            "apple\n",
            "apple\n",
            "apple\n",
            "apple\n",
            "apple\n",
            "apple\n",
            "apple\n",
            "apple\n",
            "apple\n",
            "apple\n",
            "apple\n",
            "apple\n",
            "apple\n",
            "apple\n",
            "apple\n",
            "apple\n",
            "apple\n",
            "apple\n",
            "apple\n",
            "apple\n",
            "apple\n",
            "apple\n",
            "apple\n",
            "apple\n",
            "apple\n",
            "apple\n",
            "apple\n",
            "apple\n",
            "apple\n",
            "apple\n",
            "apple\n",
            "apple\n",
            "apple\n",
            "apple\n",
            "apple\n",
            "apple\n",
            "apple\n",
            "apple\n",
            "apple\n",
            "apple\n",
            "apple\n",
            "apple\n",
            "apple\n",
            "apple\n",
            "apple\n",
            "apple\n",
            "apple\n",
            "apple\n",
            "apple\n",
            "apple\n",
            "apple\n",
            "apple\n",
            "apple\n",
            "apple\n",
            "apple\n",
            "apple\n",
            "apple\n",
            "apple\n",
            "apple\n",
            "apple\n",
            "apple\n",
            "apple\n",
            "apple\n",
            "apple\n",
            "apple\n",
            "apple\n",
            "apple\n",
            "apple\n",
            "apple\n",
            "apple\n",
            "apple\n",
            "apple\n",
            "apple\n",
            "apple\n",
            "apple\n",
            "apple\n",
            "apple\n",
            "apple\n",
            "apple\n",
            "apple\n",
            "apple\n",
            "apple\n",
            "apple\n",
            "apple\n",
            "apple\n",
            "apple\n",
            "apple\n",
            "apple\n",
            "apple\n",
            "apple\n",
            "apple\n",
            "apple\n",
            "apple\n",
            "apple\n",
            "apple\n",
            "apple\n",
            "apple\n",
            "apple\n",
            "apple\n",
            "apple\n",
            "apple\n",
            "apple\n",
            "apple\n",
            "apple\n",
            "apple\n",
            "apple\n",
            "apple\n",
            "apple\n",
            "apple\n",
            "apple\n",
            "apple\n",
            "apple\n",
            "apple\n",
            "apple\n",
            "apple\n",
            "apple\n",
            "apple\n",
            "apple\n",
            "apple\n",
            "apple\n",
            "apple\n",
            "apple\n",
            "apple\n",
            "apple\n",
            "apple\n",
            "apple\n",
            "apple\n",
            "apple\n",
            "apple\n",
            "apple\n",
            "apple\n",
            "apple\n",
            "apple\n",
            "apple\n",
            "apple\n",
            "apple\n",
            "apple\n",
            "apple\n",
            "apple\n",
            "apple\n",
            "apple\n",
            "apple\n",
            "apple\n",
            "apple\n",
            "apple\n",
            "apple\n",
            "apple\n",
            "apple\n",
            "apple\n",
            "apple\n",
            "apple\n",
            "apple\n",
            "apple\n",
            "apple\n",
            "apple\n",
            "apple\n",
            "apple\n",
            "apple\n",
            "apple\n",
            "apple\n",
            "apple\n",
            "apple\n",
            "apple\n",
            "apple\n",
            "apple\n",
            "apple\n",
            "apple\n",
            "apple\n",
            "apple\n",
            "apple\n",
            "apple\n",
            "apple\n",
            "apple\n",
            "apple\n",
            "apple\n",
            "apple\n",
            "apple\n",
            "apple\n",
            "apple\n",
            "apple\n",
            "apple\n",
            "apple\n",
            "apple\n",
            "apple\n",
            "apple\n",
            "apple\n",
            "apple\n",
            "apple\n",
            "apple\n",
            "apple\n",
            "apple\n",
            "apple\n",
            "apple\n",
            "apple\n",
            "apple\n",
            "apple\n",
            "apple\n",
            "apple\n",
            "apple\n",
            "apple\n",
            "apple\n",
            "apple\n",
            "apple\n",
            "apple\n",
            "apple\n",
            "apple\n",
            "apple\n",
            "apple\n",
            "apple\n",
            "apple\n",
            "apple\n",
            "apple\n",
            "apple\n",
            "apple\n",
            "apple\n",
            "apple\n",
            "apple\n",
            "apple\n",
            "apple\n",
            "apple\n",
            "apple\n",
            "apple\n",
            "apple\n",
            "apple\n",
            "apple\n",
            "apple\n",
            "apple\n",
            "apple\n",
            "apple\n",
            "apple\n",
            "apple\n",
            "apple\n",
            "apple\n",
            "apple\n",
            "apple\n",
            "apple\n",
            "apple\n",
            "apple\n",
            "apple\n",
            "apple\n",
            "apple\n",
            "apple\n",
            "apple\n",
            "apple\n",
            "apple\n",
            "apple\n",
            "apple\n",
            "apple\n",
            "apple\n",
            "apple\n",
            "apple\n",
            "apple\n",
            "apple\n",
            "apple\n",
            "apple\n",
            "apple\n",
            "apple\n",
            "apple\n",
            "apple\n",
            "apple\n",
            "apple\n",
            "apple\n",
            "apple\n",
            "apple\n",
            "apple\n",
            "apple\n",
            "apple\n",
            "apple\n",
            "apple\n",
            "apple\n",
            "apple\n",
            "apple\n",
            "apple\n",
            "apple\n",
            "apple\n",
            "apple\n",
            "apple\n",
            "apple\n",
            "apple\n",
            "apple\n",
            "apple\n",
            "apple\n",
            "apple\n",
            "apple\n",
            "apple\n",
            "apple\n",
            "apple\n",
            "apple\n",
            "apple\n",
            "apple\n",
            "apple\n",
            "apple\n",
            "apple\n",
            "apple\n",
            "apple\n",
            "apple\n",
            "apple\n",
            "apple\n",
            "apple\n",
            "apple\n",
            "apple\n",
            "apple\n",
            "apple\n",
            "apple\n",
            "apple\n",
            "apple\n",
            "apple\n",
            "apple\n",
            "apple\n",
            "apple\n",
            "apple\n",
            "apple\n",
            "apple\n",
            "apple\n",
            "apple\n",
            "apple\n",
            "apple\n",
            "apple\n",
            "apple\n",
            "apple\n",
            "apple\n",
            "apple\n",
            "apple\n",
            "apple\n",
            "apple\n",
            "apple\n",
            "apple\n",
            "apple\n",
            "apple\n",
            "apple\n",
            "apple\n",
            "apple\n",
            "apple\n",
            "apple\n",
            "apple\n",
            "apple\n",
            "apple\n",
            "apple\n",
            "apple\n",
            "apple\n",
            "apple\n",
            "apple\n",
            "apple\n",
            "apple\n",
            "apple\n",
            "apple\n",
            "apple\n",
            "apple\n",
            "apple\n",
            "apple\n",
            "apple\n",
            "apple\n",
            "apple\n",
            "apple\n",
            "apple\n",
            "apple\n",
            "apple\n",
            "apple\n",
            "apple\n",
            "apple\n",
            "apple\n",
            "apple\n",
            "apple\n",
            "apple\n",
            "apple\n",
            "apple\n",
            "apple\n",
            "apple\n",
            "apple\n",
            "apple\n",
            "apple\n",
            "apple\n",
            "apple\n",
            "apple\n",
            "apple\n",
            "apple\n",
            "apple\n",
            "apple\n",
            "apple\n",
            "apple\n",
            "apple\n",
            "apple\n",
            "apple\n",
            "apple\n",
            "apple\n",
            "apple\n",
            "apple\n",
            "apple\n",
            "apple\n",
            "apple\n",
            "apple\n",
            "apple\n",
            "apple\n",
            "apple\n",
            "apple\n",
            "apple\n",
            "apple\n",
            "apple\n",
            "apple\n",
            "apple\n",
            "apple\n",
            "apple\n",
            "apple\n",
            "apple\n",
            "apple\n",
            "apple\n",
            "apple\n",
            "apple\n",
            "apple\n",
            "apple\n",
            "apple\n",
            "apple\n",
            "apple\n",
            "apple\n",
            "apple\n",
            "apple\n",
            "apple\n",
            "apple\n",
            "apple\n",
            "apple\n",
            "apple\n",
            "apple\n",
            "apple\n",
            "apple\n",
            "apple\n",
            "apple\n",
            "apple\n",
            "apple\n",
            "apple\n",
            "apple\n",
            "apple\n",
            "apple\n",
            "apple\n",
            "apple\n",
            "apple\n",
            "apple\n",
            "apple\n",
            "apple\n",
            "apple\n",
            "apple\n",
            "apple\n",
            "apple\n",
            "apple\n",
            "apple\n",
            "apple\n",
            "apple\n",
            "apple\n",
            "apple\n",
            "apple\n",
            "apple\n",
            "apple\n",
            "apple\n",
            "apple\n",
            "apple\n",
            "apple\n",
            "apple\n",
            "apple\n",
            "apple\n",
            "apple\n",
            "apple\n",
            "apple\n",
            "apple\n",
            "apple\n",
            "apple\n",
            "apple\n",
            "apple\n",
            "apple\n",
            "apple\n",
            "apple\n",
            "apple\n",
            "apple\n",
            "apple\n",
            "apple\n",
            "apple\n",
            "apple\n",
            "apple\n",
            "apple\n",
            "apple\n",
            "apple\n",
            "apple\n",
            "apple\n",
            "apple\n",
            "apple\n",
            "apple\n",
            "apple\n",
            "apple\n",
            "apple\n",
            "apple\n",
            "apple\n",
            "apple\n",
            "apple\n",
            "apple\n",
            "apple\n",
            "apple\n",
            "apple\n",
            "apple\n",
            "apple\n",
            "apple\n",
            "apple\n",
            "apple\n",
            "apple\n",
            "apple\n",
            "apple\n",
            "apple\n",
            "apple\n",
            "apple\n",
            "apple\n",
            "apple\n",
            "apple\n",
            "apple\n",
            "apple\n",
            "apple\n",
            "apple\n",
            "apple\n",
            "apple\n",
            "apple\n",
            "apple\n",
            "apple\n",
            "apple\n",
            "apple\n",
            "apple\n",
            "apple\n",
            "apple\n",
            "apple\n",
            "apple\n",
            "apple\n",
            "apple\n",
            "apple\n",
            "apple\n",
            "apple\n",
            "apple\n",
            "apple\n",
            "apple\n",
            "apple\n",
            "apple\n",
            "apple\n",
            "apple\n",
            "apple\n",
            "apple\n",
            "apple\n",
            "apple\n",
            "apple\n",
            "apple\n",
            "apple\n",
            "apple\n",
            "apple\n",
            "apple\n",
            "apple\n",
            "apple\n",
            "apple\n",
            "apple\n",
            "apple\n",
            "apple\n",
            "apple\n",
            "apple\n",
            "apple\n",
            "apple\n",
            "apple\n",
            "apple\n",
            "apple\n",
            "apple\n",
            "apple\n",
            "apple\n",
            "apple\n",
            "apple\n",
            "apple\n",
            "apple\n",
            "apple\n",
            "apple\n",
            "apple\n",
            "apple\n",
            "apple\n",
            "apple\n",
            "apple\n",
            "apple\n",
            "apple\n",
            "apple\n",
            "apple\n",
            "apple\n",
            "apple\n",
            "apple\n",
            "apple\n",
            "apple\n",
            "apple\n",
            "apple\n",
            "apple\n",
            "apple\n",
            "apple\n",
            "apple\n",
            "apple\n",
            "apple\n",
            "apple\n",
            "apple\n",
            "apple\n",
            "apple\n",
            "apple\n",
            "apple\n",
            "apple\n",
            "apple\n",
            "apple\n",
            "apple\n",
            "apple\n",
            "apple\n",
            "apple\n",
            "apple\n",
            "apple\n",
            "apple\n",
            "apple\n",
            "apple\n",
            "apple\n",
            "apple\n",
            "apple\n",
            "apple\n",
            "apple\n",
            "apple\n",
            "apple\n",
            "apple\n",
            "apple\n",
            "apple\n",
            "apple\n",
            "apple\n",
            "apple\n",
            "apple\n",
            "apple\n",
            "apple\n",
            "apple\n",
            "apple\n",
            "apple\n",
            "apple\n",
            "apple\n",
            "apple\n",
            "apple\n",
            "apple\n",
            "apple\n",
            "apple\n",
            "apple\n",
            "apple\n",
            "apple\n",
            "apple\n",
            "apple\n",
            "apple\n",
            "apple\n",
            "apple\n",
            "apple\n",
            "apple\n",
            "apple\n",
            "apple\n",
            "apple\n",
            "apple\n",
            "apple\n",
            "apple\n",
            "apple\n",
            "apple\n",
            "apple\n",
            "apple\n",
            "apple\n",
            "apple\n",
            "apple\n",
            "apple\n",
            "apple\n",
            "apple\n",
            "apple\n",
            "apple\n",
            "apple\n",
            "apple\n",
            "apple\n",
            "apple\n",
            "apple\n",
            "apple\n",
            "apple\n",
            "apple\n",
            "apple\n",
            "apple\n",
            "apple\n",
            "apple\n",
            "apple\n",
            "apple\n",
            "apple\n",
            "apple\n",
            "apple\n",
            "apple\n",
            "apple\n",
            "apple\n",
            "apple\n",
            "apple\n",
            "apple\n",
            "apple\n",
            "apple\n",
            "apple\n",
            "apple\n",
            "apple\n",
            "apple\n",
            "apple\n",
            "apple\n",
            "apple\n",
            "apple\n",
            "apple\n",
            "apple\n",
            "apple\n",
            "apple\n",
            "apple\n",
            "apple\n",
            "apple\n",
            "apple\n",
            "apple\n",
            "apple\n",
            "apple\n",
            "apple\n",
            "apple\n",
            "apple\n",
            "apple\n",
            "apple\n",
            "apple\n",
            "apple\n",
            "apple\n",
            "apple\n",
            "apple\n",
            "apple\n",
            "apple\n",
            "apple\n",
            "apple\n",
            "apple\n",
            "apple\n",
            "apple\n",
            "apple\n",
            "apple\n",
            "apple\n",
            "apple\n",
            "apple\n",
            "apple\n",
            "apple\n",
            "apple\n",
            "apple\n",
            "apple\n",
            "apple\n",
            "apple\n",
            "apple\n",
            "apple\n",
            "apple\n",
            "apple\n",
            "apple\n",
            "apple\n",
            "apple\n",
            "apple\n",
            "apple\n",
            "apple\n",
            "apple\n",
            "apple\n",
            "apple\n",
            "apple\n",
            "apple\n",
            "apple\n",
            "apple\n",
            "apple\n",
            "apple\n",
            "apple\n",
            "apple\n",
            "apple\n",
            "apple\n",
            "apple\n",
            "apple\n",
            "apple\n",
            "apple\n",
            "apple\n",
            "apple\n",
            "apple\n",
            "apple\n",
            "apple\n",
            "apple\n",
            "apple\n",
            "apple\n",
            "apple\n",
            "apple\n",
            "apple\n",
            "apple\n",
            "apple\n",
            "apple\n",
            "apple\n",
            "apple\n",
            "apple\n",
            "apple\n",
            "apple\n",
            "apple\n",
            "apple\n",
            "apple\n",
            "apple\n",
            "apple\n",
            "apple\n",
            "apple\n",
            "apple\n",
            "apple\n",
            "apple\n",
            "apple\n",
            "apple\n",
            "apple\n",
            "apple\n",
            "apple\n",
            "apple\n",
            "apple\n",
            "apple\n",
            "apple\n",
            "apple\n",
            "apple\n",
            "apple\n",
            "apple\n",
            "apple\n",
            "apple\n",
            "apple\n",
            "apple\n",
            "apple\n",
            "apple\n",
            "apple\n",
            "apple\n",
            "apple\n",
            "apple\n",
            "apple\n",
            "apple\n",
            "apple\n",
            "apple\n",
            "apple\n",
            "apple\n",
            "apple\n",
            "apple\n",
            "apple\n",
            "apple\n",
            "apple\n",
            "apple\n",
            "apple\n",
            "apple\n",
            "apple\n",
            "apple\n",
            "apple\n",
            "apple\n",
            "apple\n",
            "apple\n",
            "apple\n",
            "apple\n",
            "apple\n",
            "apple\n",
            "apple\n",
            "apple\n",
            "apple\n",
            "apple\n",
            "apple\n",
            "apple\n",
            "apple\n",
            "apple\n",
            "apple\n",
            "apple\n",
            "apple\n",
            "apple\n",
            "apple\n",
            "apple\n",
            "apple\n",
            "apple\n",
            "apple\n",
            "apple\n",
            "apple\n",
            "apple\n",
            "apple\n",
            "apple\n",
            "apple\n",
            "apple\n",
            "apple\n",
            "apple\n",
            "apple\n",
            "apple\n",
            "apple\n",
            "apple\n",
            "apple\n",
            "apple\n",
            "apple\n",
            "apple\n",
            "apple\n",
            "apple\n",
            "apple\n",
            "apple\n",
            "apple\n",
            "apple\n",
            "apple\n",
            "apple\n",
            "apple\n",
            "apple\n",
            "apple\n",
            "apple\n",
            "apple\n",
            "apple\n",
            "apple\n",
            "apple\n",
            "apple\n",
            "apple\n",
            "apple\n",
            "apple\n",
            "apple\n",
            "apple\n",
            "apple\n",
            "apple\n",
            "apple\n",
            "apple\n",
            "apple\n",
            "apple\n",
            "apple\n",
            "apple\n",
            "apple\n",
            "apple\n",
            "apple\n",
            "apple\n",
            "apple\n",
            "apple\n",
            "apple\n",
            "apple\n",
            "apple\n",
            "apple\n",
            "apple\n",
            "apple\n",
            "apple\n",
            "apple\n",
            "apple\n",
            "apple\n",
            "apple\n",
            "apple\n",
            "apple\n",
            "apple\n",
            "apple\n",
            "apple\n",
            "apple\n",
            "apple\n",
            "apple\n",
            "apple\n",
            "apple\n",
            "apple\n",
            "apple\n",
            "apple\n",
            "apple\n",
            "apple\n",
            "apple\n",
            "apple\n",
            "apple\n",
            "apple\n",
            "apple\n",
            "apple\n",
            "apple\n",
            "apple\n",
            "apple\n",
            "apple\n",
            "apple\n",
            "apple\n",
            "apple\n",
            "apple\n",
            "apple\n",
            "apple\n",
            "apple\n",
            "apple\n",
            "apple\n",
            "apple\n",
            "apple\n",
            "apple\n",
            "apple\n",
            "apple\n",
            "apple\n",
            "apple\n",
            "apple\n",
            "apple\n",
            "apple\n",
            "apple\n",
            "apple\n",
            "apple\n",
            "apple\n",
            "apple\n",
            "apple\n",
            "apple\n",
            "apple\n",
            "apple\n",
            "apple\n",
            "apple\n",
            "apple\n",
            "apple\n",
            "apple\n",
            "apple\n",
            "apple\n",
            "apple\n",
            "apple\n",
            "apple\n",
            "apple\n",
            "apple\n",
            "apple\n",
            "apple\n",
            "apple\n",
            "apple\n",
            "apple\n",
            "apple\n",
            "apple\n",
            "apple\n",
            "apple\n",
            "apple\n",
            "apple\n",
            "apple\n",
            "apple\n",
            "apple\n",
            "apple\n",
            "apple\n",
            "apple\n",
            "apple\n",
            "apple\n",
            "apple\n",
            "apple\n",
            "apple\n",
            "apple\n",
            "apple\n",
            "apple\n",
            "apple\n",
            "apple\n",
            "apple\n",
            "apple\n",
            "apple\n",
            "apple\n",
            "apple\n",
            "apple\n",
            "apple\n",
            "apple\n",
            "apple\n",
            "apple\n",
            "apple\n",
            "apple\n",
            "apple\n",
            "apple\n",
            "apple\n",
            "apple\n",
            "apple\n",
            "apple\n",
            "apple\n",
            "apple\n",
            "apple\n",
            "apple\n",
            "apple\n",
            "apple\n",
            "apple\n",
            "apple\n",
            "apple\n",
            "apple\n",
            "apple\n",
            "apple\n",
            "apple\n",
            "apple\n",
            "apple\n",
            "apple\n",
            "apple\n",
            "apple\n",
            "apple\n",
            "apple\n",
            "apple\n",
            "apple\n",
            "apple\n",
            "apple\n",
            "apple\n",
            "apple\n",
            "apple\n",
            "apple\n",
            "apple\n",
            "apple\n",
            "apple\n",
            "apple\n",
            "apple\n",
            "apple\n",
            "apple\n",
            "apple\n",
            "apple\n",
            "apple\n",
            "apple\n",
            "apple\n",
            "apple\n",
            "apple\n",
            "apple\n",
            "apple\n",
            "apple\n",
            "apple\n",
            "apple\n",
            "apple\n",
            "apple\n",
            "apple\n",
            "apple\n",
            "apple\n",
            "apple\n",
            "apple\n",
            "apple\n",
            "apple\n",
            "apple\n",
            "apple\n",
            "apple\n",
            "apple\n",
            "apple\n",
            "apple\n",
            "apple\n",
            "apple\n",
            "apple\n",
            "apple\n",
            "apple\n",
            "apple\n",
            "apple\n",
            "apple\n",
            "apple\n",
            "apple\n",
            "apple\n",
            "apple\n",
            "apple\n",
            "apple\n",
            "apple\n",
            "apple\n",
            "apple\n",
            "apple\n",
            "apple\n",
            "apple\n",
            "apple\n",
            "apple\n",
            "apple\n",
            "apple\n",
            "apple\n",
            "apple\n",
            "apple\n",
            "apple\n",
            "apple\n",
            "apple\n",
            "apple\n",
            "apple\n",
            "apple\n",
            "apple\n",
            "apple\n",
            "apple\n",
            "apple\n",
            "apple\n",
            "apple\n",
            "apple\n",
            "apple\n",
            "apple\n",
            "apple\n",
            "apple\n",
            "apple\n",
            "apple\n",
            "apple\n",
            "apple\n",
            "apple\n",
            "apple\n",
            "apple\n",
            "apple\n",
            "apple\n",
            "apple\n",
            "apple\n",
            "apple\n",
            "apple\n",
            "apple\n",
            "apple\n",
            "apple\n",
            "apple\n",
            "apple\n",
            "apple\n",
            "apple\n",
            "apple\n",
            "apple\n",
            "apple\n",
            "apple\n",
            "apple\n",
            "apple\n",
            "apple\n",
            "apple\n",
            "apple\n",
            "apple\n",
            "apple\n",
            "apple\n",
            "apple\n",
            "apple\n",
            "apple\n",
            "apple\n",
            "apple\n",
            "apple\n",
            "apple\n",
            "apple\n",
            "apple\n",
            "apple\n",
            "apple\n",
            "apple\n",
            "apple\n",
            "apple\n",
            "apple\n",
            "apple\n",
            "apple\n",
            "apple\n",
            "apple\n",
            "apple\n",
            "apple\n",
            "apple\n",
            "apple\n",
            "apple\n",
            "apple\n",
            "apple\n",
            "apple\n",
            "apple\n",
            "apple\n",
            "apple\n",
            "apple\n",
            "apple\n",
            "apple\n",
            "apple\n",
            "apple\n",
            "apple\n",
            "apple\n",
            "apple\n",
            "apple\n",
            "apple\n",
            "apple\n",
            "apple\n",
            "apple\n",
            "apple\n",
            "apple\n",
            "apple\n",
            "apple\n",
            "apple\n",
            "apple\n",
            "apple\n",
            "apple\n",
            "apple\n",
            "apple\n",
            "apple\n",
            "apple\n",
            "apple\n",
            "apple\n",
            "apple\n",
            "apple\n",
            "apple\n",
            "apple\n",
            "apple\n",
            "apple\n",
            "apple\n",
            "apple\n",
            "apple\n",
            "apple\n",
            "apple\n",
            "apple\n",
            "apple\n",
            "apple\n",
            "apple\n",
            "apple\n",
            "apple\n",
            "apple\n",
            "apple\n",
            "apple\n",
            "apple\n",
            "apple\n",
            "apple\n",
            "apple\n",
            "apple\n",
            "apple\n",
            "apple\n",
            "apple\n",
            "apple\n",
            "apple\n",
            "apple\n",
            "apple\n",
            "apple\n",
            "apple\n",
            "apple\n",
            "apple\n",
            "apple\n",
            "apple\n",
            "apple\n",
            "apple\n",
            "apple\n",
            "apple\n",
            "apple\n",
            "apple\n",
            "apple\n",
            "apple\n",
            "apple\n",
            "apple\n",
            "apple\n",
            "apple\n",
            "apple\n",
            "apple\n",
            "apple\n",
            "apple\n",
            "apple\n",
            "apple\n",
            "apple\n",
            "apple\n",
            "apple\n",
            "apple\n",
            "apple\n",
            "apple\n",
            "apple\n",
            "apple\n",
            "apple\n",
            "apple\n",
            "apple\n",
            "apple\n",
            "apple\n",
            "apple\n",
            "apple\n",
            "apple\n",
            "apple\n",
            "apple\n",
            "apple\n",
            "apple\n",
            "apple\n",
            "apple\n",
            "apple\n",
            "apple\n",
            "apple\n",
            "apple\n",
            "apple\n",
            "apple\n",
            "apple\n",
            "apple\n",
            "apple\n",
            "apple\n",
            "apple\n",
            "apple\n",
            "apple\n",
            "apple\n",
            "apple\n",
            "apple\n",
            "apple\n",
            "apple\n",
            "apple\n",
            "apple\n",
            "apple\n",
            "apple\n",
            "apple\n",
            "apple\n",
            "apple\n",
            "apple\n",
            "apple\n",
            "apple\n",
            "apple\n",
            "apple\n",
            "apple\n",
            "apple\n",
            "apple\n",
            "apple\n",
            "apple\n",
            "apple\n",
            "apple\n",
            "apple\n",
            "apple\n",
            "apple\n",
            "apple\n",
            "apple\n",
            "apple\n",
            "apple\n",
            "apple\n",
            "apple\n",
            "apple\n",
            "apple\n",
            "apple\n",
            "apple\n",
            "apple\n",
            "apple\n",
            "apple\n",
            "apple\n",
            "apple\n",
            "apple\n",
            "apple\n",
            "apple\n",
            "apple\n",
            "apple\n",
            "apple\n",
            "apple\n",
            "apple\n",
            "apple\n",
            "apple\n",
            "apple\n",
            "apple\n",
            "apple\n",
            "apple\n",
            "apple\n",
            "apple\n",
            "apple\n",
            "apple\n",
            "apple\n",
            "apple\n",
            "apple\n",
            "apple\n",
            "apple\n",
            "apple\n",
            "apple\n",
            "apple\n",
            "apple\n",
            "apple\n",
            "apple\n",
            "apple\n",
            "apple\n",
            "apple\n",
            "apple\n",
            "apple\n",
            "apple\n",
            "apple\n",
            "apple\n",
            "apple\n",
            "apple\n",
            "apple\n",
            "apple\n",
            "apple\n",
            "apple\n",
            "apple\n",
            "apple\n",
            "apple\n",
            "apple\n",
            "apple\n",
            "apple\n",
            "apple\n",
            "apple\n",
            "apple\n",
            "apple\n",
            "apple\n",
            "apple\n",
            "apple\n",
            "apple\n",
            "apple\n",
            "apple\n",
            "apple\n",
            "apple\n",
            "apple\n",
            "apple\n",
            "apple\n",
            "apple\n",
            "apple\n",
            "apple\n",
            "apple\n",
            "apple\n",
            "apple\n",
            "apple\n",
            "apple\n",
            "apple\n",
            "apple\n",
            "apple\n",
            "apple\n",
            "apple\n",
            "apple\n",
            "apple\n",
            "apple\n",
            "apple\n",
            "apple\n",
            "apple\n",
            "apple\n",
            "apple\n",
            "apple\n",
            "apple\n",
            "apple\n",
            "apple\n",
            "apple\n",
            "apple\n",
            "apple\n",
            "apple\n",
            "apple\n",
            "apple\n",
            "apple\n",
            "apple\n",
            "apple\n",
            "apple\n",
            "apple\n",
            "apple\n",
            "apple\n",
            "apple\n",
            "apple\n",
            "apple\n",
            "apple\n",
            "apple\n",
            "apple\n",
            "apple\n",
            "apple\n",
            "apple\n",
            "apple\n",
            "apple\n",
            "apple\n",
            "apple\n",
            "apple\n",
            "apple\n",
            "apple\n",
            "apple\n",
            "apple\n",
            "apple\n",
            "apple\n",
            "apple\n",
            "apple\n",
            "apple\n",
            "apple\n",
            "apple\n",
            "apple\n",
            "apple\n",
            "apple\n",
            "apple\n",
            "apple\n",
            "apple\n",
            "apple\n",
            "apple\n",
            "apple\n",
            "apple\n",
            "apple\n",
            "apple\n",
            "apple\n",
            "apple\n",
            "apple\n",
            "apple\n",
            "apple\n",
            "apple\n",
            "apple\n",
            "apple\n",
            "apple\n",
            "apple\n",
            "apple\n",
            "apple\n",
            "apple\n",
            "apple\n",
            "apple\n",
            "apple\n",
            "apple\n",
            "apple\n",
            "apple\n",
            "apple\n",
            "apple\n",
            "apple\n",
            "apple\n",
            "apple\n",
            "apple\n",
            "apple\n",
            "apple\n",
            "apple\n",
            "apple\n",
            "apple\n",
            "apple\n",
            "apple\n",
            "apple\n",
            "apple\n",
            "apple\n",
            "apple\n",
            "apple\n",
            "apple\n",
            "apple\n",
            "apple\n",
            "apple\n",
            "apple\n",
            "apple\n",
            "apple\n",
            "apple\n",
            "apple\n",
            "apple\n",
            "apple\n",
            "apple\n",
            "apple\n",
            "apple\n",
            "apple\n",
            "apple\n",
            "apple\n",
            "apple\n",
            "apple\n",
            "apple\n",
            "apple\n",
            "apple\n",
            "apple\n",
            "apple\n",
            "apple\n",
            "apple\n",
            "apple\n",
            "apple\n",
            "apple\n",
            "apple\n",
            "apple\n",
            "apple\n",
            "apple\n",
            "apple\n",
            "apple\n",
            "apple\n",
            "apple\n",
            "apple\n",
            "apple\n",
            "apple\n",
            "apple\n",
            "apple\n",
            "apple\n",
            "apple\n",
            "apple\n",
            "apple\n",
            "apple\n",
            "apple\n",
            "apple\n",
            "apple\n",
            "apple\n",
            "apple\n",
            "apple\n",
            "apple\n",
            "apple\n",
            "apple\n",
            "apple\n",
            "apple\n",
            "apple\n",
            "apple\n",
            "apple\n",
            "apple\n",
            "apple\n",
            "apple\n",
            "apple\n",
            "apple\n",
            "apple\n",
            "apple\n",
            "apple\n",
            "apple\n",
            "apple\n",
            "apple\n",
            "apple\n",
            "apple\n",
            "apple\n",
            "apple\n",
            "apple\n",
            "apple\n",
            "apple\n",
            "apple\n",
            "apple\n",
            "apple\n",
            "apple\n",
            "apple\n",
            "apple\n",
            "apple\n",
            "apple\n",
            "apple\n",
            "apple\n",
            "apple\n",
            "apple\n",
            "apple\n",
            "apple\n",
            "apple\n",
            "apple\n",
            "apple\n",
            "apple\n",
            "apple\n",
            "apple\n",
            "apple\n",
            "apple\n",
            "apple\n",
            "apple\n",
            "apple\n",
            "apple\n",
            "apple\n",
            "apple\n",
            "apple\n",
            "apple\n",
            "apple\n",
            "apple\n",
            "apple\n",
            "apple\n",
            "apple\n",
            "apple\n",
            "apple\n",
            "apple\n",
            "apple\n",
            "apple\n",
            "apple\n",
            "apple\n",
            "apple\n",
            "apple\n",
            "apple\n",
            "apple\n",
            "apple\n",
            "apple\n",
            "apple\n",
            "apple\n",
            "apple\n",
            "apple\n",
            "apple\n",
            "apple\n",
            "apple\n",
            "apple\n",
            "apple\n",
            "apple\n",
            "apple\n",
            "apple\n",
            "apple\n",
            "apple\n",
            "apple\n",
            "apple\n",
            "apple\n",
            "apple\n",
            "apple\n",
            "apple\n",
            "apple\n",
            "apple\n",
            "apple\n",
            "apple\n",
            "apple\n",
            "apple\n",
            "apple\n",
            "apple\n",
            "apple\n",
            "apple\n",
            "apple\n",
            "apple\n",
            "apple\n",
            "apple\n",
            "apple\n",
            "apple\n",
            "apple\n",
            "apple\n",
            "apple\n",
            "apple\n",
            "apple\n",
            "apple\n",
            "apple\n",
            "apple\n",
            "apple\n",
            "apple\n",
            "apple\n",
            "apple\n",
            "apple\n",
            "apple\n",
            "apple\n",
            "apple\n",
            "apple\n",
            "apple\n",
            "apple\n",
            "apple\n",
            "apple\n",
            "apple\n",
            "apple\n",
            "apple\n",
            "apple\n",
            "apple\n",
            "apple\n",
            "apple\n",
            "apple\n",
            "apple\n",
            "apple\n",
            "apple\n",
            "apple\n",
            "apple\n",
            "apple\n",
            "apple\n",
            "apple\n",
            "apple\n",
            "apple\n",
            "apple\n",
            "apple\n",
            "apple\n",
            "apple\n",
            "apple\n",
            "apple\n",
            "apple\n",
            "apple\n",
            "apple\n",
            "apple\n",
            "apple\n",
            "apple\n",
            "apple\n",
            "apple\n",
            "apple\n",
            "apple\n",
            "apple\n",
            "apple\n",
            "apple\n",
            "apple\n",
            "apple\n",
            "apple\n",
            "apple\n",
            "apple\n",
            "apple\n",
            "apple\n",
            "apple\n",
            "apple\n",
            "apple\n",
            "apple\n",
            "apple\n",
            "apple\n",
            "apple\n",
            "apple\n",
            "apple\n",
            "apple\n",
            "apple\n",
            "apple\n",
            "apple\n",
            "apple\n",
            "apple\n",
            "apple\n",
            "apple\n",
            "apple\n",
            "apple\n",
            "apple\n",
            "apple\n",
            "apple\n",
            "apple\n",
            "apple\n",
            "apple\n",
            "apple\n",
            "apple\n",
            "apple\n",
            "apple\n",
            "apple\n",
            "apple\n",
            "apple\n",
            "apple\n",
            "apple\n",
            "apple\n",
            "apple\n",
            "apple\n",
            "apple\n",
            "apple\n",
            "apple\n",
            "apple\n",
            "apple\n",
            "apple\n",
            "apple\n",
            "apple\n",
            "apple\n",
            "apple\n",
            "apple\n",
            "apple\n",
            "apple\n",
            "apple\n",
            "apple\n",
            "apple\n",
            "apple\n",
            "apple\n",
            "apple\n",
            "apple\n",
            "apple\n",
            "apple\n",
            "apple\n",
            "apple\n",
            "apple\n",
            "apple\n",
            "apple\n",
            "apple\n",
            "apple\n",
            "apple\n",
            "apple\n",
            "apple\n",
            "apple\n",
            "apple\n",
            "apple\n",
            "apple\n",
            "apple\n",
            "apple\n",
            "apple\n",
            "apple\n",
            "apple\n",
            "apple\n",
            "apple\n",
            "apple\n",
            "apple\n",
            "apple\n",
            "apple\n",
            "apple\n",
            "apple\n",
            "apple\n",
            "apple\n",
            "apple\n",
            "apple\n",
            "apple\n",
            "apple\n",
            "apple\n",
            "apple\n",
            "apple\n",
            "apple\n",
            "apple\n",
            "apple\n",
            "apple\n",
            "apple\n",
            "apple\n",
            "apple\n",
            "apple\n",
            "apple\n",
            "apple\n",
            "apple\n",
            "apple\n",
            "apple\n",
            "apple\n",
            "apple\n",
            "apple\n",
            "apple\n",
            "apple\n",
            "apple\n",
            "apple\n",
            "apple\n",
            "apple\n",
            "apple\n",
            "apple\n",
            "apple\n",
            "apple\n",
            "apple\n",
            "apple\n",
            "apple\n",
            "apple\n",
            "apple\n",
            "apple\n",
            "apple\n",
            "apple\n",
            "apple\n",
            "apple\n",
            "apple\n",
            "apple\n",
            "apple\n",
            "apple\n",
            "apple\n",
            "apple\n",
            "apple\n",
            "apple\n",
            "apple\n",
            "apple\n",
            "apple\n",
            "apple\n",
            "apple\n",
            "apple\n",
            "apple\n",
            "apple\n",
            "apple\n",
            "apple\n",
            "apple\n",
            "apple\n",
            "apple\n",
            "apple\n",
            "apple\n",
            "apple\n",
            "apple\n",
            "apple\n",
            "apple\n",
            "apple\n",
            "apple\n",
            "apple\n",
            "apple\n",
            "apple\n",
            "apple\n",
            "apple\n",
            "apple\n",
            "apple\n",
            "apple\n",
            "apple\n",
            "apple\n",
            "apple\n",
            "apple\n",
            "apple\n",
            "apple\n",
            "apple\n",
            "apple\n",
            "apple\n",
            "apple\n",
            "apple\n",
            "apple\n",
            "apple\n",
            "apple\n",
            "apple\n",
            "apple\n",
            "apple\n",
            "apple\n",
            "apple\n",
            "apple\n",
            "apple\n",
            "apple\n",
            "apple\n",
            "apple\n",
            "apple\n",
            "apple\n",
            "apple\n",
            "apple\n",
            "apple\n",
            "apple\n",
            "apple\n",
            "apple\n",
            "apple\n",
            "apple\n",
            "apple\n",
            "apple\n",
            "apple\n",
            "apple\n",
            "apple\n",
            "apple\n",
            "apple\n",
            "apple\n",
            "apple\n",
            "apple\n",
            "apple\n",
            "apple\n",
            "apple\n",
            "apple\n",
            "apple\n",
            "apple\n",
            "apple\n",
            "apple\n",
            "apple\n",
            "apple\n",
            "apple\n",
            "apple\n",
            "apple\n",
            "apple\n",
            "apple\n",
            "apple\n",
            "apple\n",
            "apple\n",
            "apple\n",
            "apple\n",
            "apple\n",
            "apple\n",
            "apple\n",
            "apple\n",
            "apple\n",
            "apple\n",
            "apple\n",
            "apple\n",
            "apple\n",
            "apple\n",
            "apple\n",
            "apple\n",
            "apple\n",
            "apple\n",
            "apple\n",
            "apple\n",
            "apple\n",
            "apple\n",
            "apple\n",
            "apple\n",
            "apple\n",
            "apple\n",
            "apple\n",
            "apple\n",
            "apple\n",
            "apple\n",
            "apple\n",
            "apple\n",
            "apple\n",
            "apple\n",
            "apple\n",
            "apple\n",
            "apple\n",
            "apple\n",
            "apple\n",
            "apple\n",
            "apple\n",
            "apple\n",
            "apple\n",
            "apple\n",
            "apple\n",
            "apple\n",
            "apple\n",
            "apple\n",
            "apple\n",
            "apple\n",
            "apple\n",
            "apple\n",
            "apple\n",
            "apple\n",
            "apple\n",
            "apple\n",
            "apple\n",
            "apple\n",
            "apple\n",
            "apple\n",
            "apple\n",
            "apple\n",
            "apple\n",
            "apple\n",
            "apple\n",
            "apple\n",
            "apple\n",
            "apple\n",
            "apple\n",
            "apple\n",
            "apple\n",
            "apple\n",
            "apple\n",
            "apple\n",
            "apple\n",
            "apple\n",
            "apple\n",
            "apple\n",
            "apple\n",
            "apple\n",
            "apple\n",
            "apple\n",
            "apple\n",
            "apple\n",
            "apple\n",
            "apple\n",
            "apple\n",
            "apple\n",
            "apple\n",
            "apple\n",
            "apple\n",
            "apple\n",
            "apple\n",
            "apple\n",
            "apple\n",
            "apple\n",
            "apple\n",
            "apple\n",
            "apple\n",
            "apple\n",
            "apple\n",
            "apple\n",
            "apple\n",
            "apple\n",
            "apple\n",
            "apple\n",
            "apple\n",
            "apple\n",
            "apple\n",
            "apple\n",
            "apple\n",
            "apple\n",
            "apple\n",
            "apple\n",
            "apple\n",
            "apple\n",
            "apple\n",
            "apple\n",
            "apple\n",
            "apple\n",
            "apple\n",
            "apple\n",
            "apple\n",
            "apple\n",
            "apple\n",
            "apple\n",
            "apple\n",
            "apple\n",
            "apple\n",
            "apple\n",
            "apple\n",
            "apple\n",
            "apple\n",
            "apple\n",
            "apple\n",
            "apple\n",
            "apple\n",
            "apple\n",
            "apple\n",
            "apple\n",
            "apple\n",
            "apple\n",
            "apple\n",
            "apple\n",
            "apple\n",
            "apple\n",
            "apple\n",
            "apple\n",
            "apple\n",
            "apple\n",
            "apple\n",
            "apple\n",
            "apple\n",
            "apple\n",
            "apple\n",
            "apple\n",
            "apple\n",
            "apple\n",
            "apple\n",
            "apple\n",
            "apple\n",
            "apple\n",
            "apple\n",
            "apple\n",
            "apple\n",
            "apple\n",
            "apple\n",
            "apple\n",
            "apple\n",
            "apple\n",
            "apple\n",
            "apple\n",
            "apple\n",
            "apple\n",
            "apple\n",
            "apple\n",
            "apple\n",
            "apple\n",
            "apple\n",
            "apple\n",
            "apple\n",
            "apple\n",
            "apple\n",
            "apple\n",
            "apple\n",
            "apple\n",
            "apple\n",
            "apple\n",
            "apple\n",
            "apple\n",
            "apple\n",
            "apple\n",
            "apple\n",
            "apple\n",
            "apple\n",
            "apple\n",
            "apple\n",
            "apple\n",
            "apple\n",
            "apple\n",
            "apple\n",
            "apple\n",
            "apple\n",
            "apple\n",
            "apple\n",
            "apple\n",
            "apple\n",
            "apple\n",
            "apple\n",
            "apple\n",
            "apple\n",
            "apple\n",
            "apple\n",
            "apple\n",
            "apple\n",
            "apple\n",
            "apple\n",
            "apple\n",
            "apple\n",
            "apple\n",
            "apple\n",
            "apple\n",
            "apple\n",
            "apple\n",
            "apple\n",
            "apple\n",
            "apple\n",
            "apple\n",
            "apple\n",
            "apple\n",
            "apple\n",
            "apple\n",
            "apple\n",
            "apple\n",
            "apple\n",
            "apple\n",
            "apple\n",
            "apple\n",
            "apple\n",
            "apple\n",
            "apple\n",
            "apple\n",
            "apple\n",
            "apple\n",
            "apple\n",
            "apple\n",
            "apple\n",
            "apple\n",
            "apple\n",
            "apple\n",
            "apple\n",
            "apple\n",
            "apple\n",
            "apple\n",
            "apple\n",
            "apple\n",
            "apple\n",
            "apple\n",
            "apple\n",
            "apple\n",
            "apple\n",
            "apple\n",
            "apple\n",
            "apple\n",
            "apple\n",
            "apple\n",
            "apple\n",
            "apple\n",
            "apple\n",
            "apple\n",
            "apple\n",
            "apple\n",
            "apple\n",
            "apple\n",
            "apple\n",
            "apple\n",
            "apple\n",
            "apple\n",
            "apple\n",
            "apple\n",
            "apple\n",
            "apple\n",
            "apple\n",
            "apple\n",
            "apple\n",
            "apple\n",
            "apple\n",
            "apple\n",
            "apple\n",
            "apple\n",
            "apple\n",
            "apple\n",
            "apple\n",
            "apple\n",
            "apple\n",
            "apple\n",
            "apple\n",
            "apple\n",
            "apple\n",
            "apple\n",
            "apple\n",
            "apple\n",
            "apple\n",
            "apple\n",
            "apple\n",
            "apple\n",
            "apple\n",
            "apple\n",
            "apple\n",
            "apple\n",
            "apple\n",
            "apple\n",
            "apple\n",
            "apple\n",
            "apple\n",
            "apple\n",
            "apple\n",
            "apple\n",
            "apple\n",
            "apple\n",
            "apple\n",
            "apple\n",
            "apple\n",
            "apple\n",
            "apple\n",
            "apple\n",
            "apple\n",
            "apple\n",
            "apple\n",
            "apple\n",
            "apple\n",
            "apple\n",
            "apple\n",
            "apple\n",
            "apple\n",
            "apple\n",
            "apple\n",
            "apple\n",
            "apple\n",
            "apple\n",
            "apple\n",
            "apple\n",
            "apple\n",
            "apple\n",
            "apple\n",
            "apple\n",
            "apple\n",
            "apple\n",
            "apple\n",
            "apple\n",
            "apple\n",
            "apple\n",
            "apple\n",
            "apple\n",
            "apple\n",
            "apple\n",
            "apple\n",
            "apple\n",
            "apple\n",
            "apple\n",
            "apple\n",
            "apple\n",
            "apple\n",
            "apple\n",
            "apple\n",
            "apple\n",
            "apple\n",
            "apple\n",
            "apple\n",
            "apple\n",
            "apple\n",
            "apple\n",
            "apple\n",
            "apple\n",
            "apple\n",
            "apple\n",
            "apple\n",
            "apple\n",
            "apple\n",
            "apple\n",
            "apple\n",
            "apple\n",
            "apple\n",
            "apple\n",
            "apple\n",
            "apple\n",
            "apple\n",
            "apple\n",
            "apple\n",
            "apple\n",
            "apple\n",
            "apple\n",
            "apple\n",
            "apple\n",
            "apple\n",
            "apple\n",
            "apple\n",
            "apple\n",
            "apple\n",
            "apple\n",
            "apple\n",
            "apple\n",
            "apple\n",
            "apple\n",
            "apple\n",
            "apple\n",
            "apple\n",
            "apple\n",
            "apple\n",
            "apple\n",
            "apple\n",
            "apple\n",
            "apple\n",
            "apple\n",
            "apple\n",
            "apple\n",
            "apple\n",
            "apple\n",
            "apple\n",
            "apple\n",
            "apple\n",
            "apple\n",
            "apple\n",
            "apple\n",
            "apple\n",
            "apple\n",
            "apple\n",
            "apple\n",
            "apple\n",
            "apple\n",
            "apple\n",
            "apple\n",
            "apple\n",
            "apple\n",
            "apple\n",
            "apple\n",
            "apple\n",
            "apple\n",
            "apple\n",
            "apple\n",
            "apple\n",
            "apple\n",
            "apple\n",
            "apple\n",
            "apple\n",
            "apple\n",
            "apple\n",
            "apple\n",
            "apple\n",
            "apple\n",
            "apple\n",
            "apple\n",
            "apple\n",
            "apple\n",
            "apple\n",
            "apple\n",
            "apple\n",
            "apple\n",
            "apple\n",
            "apple\n",
            "apple\n",
            "apple\n",
            "apple\n",
            "apple\n",
            "apple\n",
            "apple\n",
            "apple\n",
            "apple\n",
            "apple\n",
            "apple\n",
            "apple\n",
            "apple\n",
            "apple\n",
            "apple\n",
            "apple\n",
            "apple\n",
            "apple\n",
            "apple\n",
            "apple\n",
            "apple\n",
            "apple\n",
            "apple\n",
            "apple\n",
            "apple\n",
            "apple\n",
            "apple\n",
            "apple\n",
            "apple\n",
            "apple\n",
            "apple\n",
            "apple\n",
            "apple\n",
            "apple\n",
            "apple\n",
            "apple\n",
            "apple\n",
            "apple\n",
            "apple\n",
            "apple\n",
            "apple\n",
            "apple\n",
            "apple\n",
            "apple\n",
            "apple\n",
            "apple\n",
            "apple\n",
            "apple\n",
            "apple\n",
            "apple\n",
            "apple\n",
            "apple\n",
            "apple\n",
            "apple\n",
            "apple\n",
            "apple\n",
            "apple\n",
            "apple\n",
            "apple\n",
            "apple\n",
            "apple\n",
            "apple\n",
            "apple\n",
            "apple\n",
            "apple\n",
            "apple\n",
            "apple\n",
            "apple\n",
            "apple\n",
            "apple\n",
            "apple\n",
            "apple\n",
            "apple\n",
            "apple\n",
            "apple\n",
            "apple\n",
            "apple\n",
            "apple\n",
            "apple\n",
            "apple\n",
            "apple\n",
            "apple\n",
            "apple\n",
            "apple\n",
            "apple\n",
            "apple\n",
            "apple\n",
            "apple\n",
            "apple\n",
            "apple\n",
            "apple\n",
            "apple\n",
            "apple\n",
            "apple\n",
            "apple\n",
            "apple\n",
            "apple\n",
            "apple\n",
            "apple\n",
            "apple\n",
            "apple\n",
            "apple\n",
            "apple\n",
            "apple\n",
            "apple\n",
            "apple\n",
            "apple\n",
            "apple\n",
            "apple\n",
            "apple\n",
            "apple\n",
            "apple\n",
            "apple\n",
            "apple\n",
            "apple\n",
            "apple\n",
            "apple\n",
            "apple\n",
            "apple\n",
            "apple\n",
            "apple\n",
            "apple\n",
            "apple\n",
            "apple\n",
            "apple\n",
            "apple\n",
            "apple\n",
            "apple\n",
            "apple\n",
            "apple\n",
            "apple\n",
            "apple\n",
            "apple\n",
            "apple\n",
            "apple\n",
            "apple\n",
            "apple\n",
            "apple\n",
            "apple\n",
            "apple\n",
            "apple\n",
            "apple\n",
            "apple\n",
            "apple\n",
            "apple\n",
            "apple\n",
            "apple\n",
            "apple\n",
            "apple\n",
            "apple\n",
            "apple\n",
            "apple\n",
            "apple\n",
            "apple"
          ],
          "name": "stdout"
        },
        {
          "output_type": "error",
          "ename": "KeyboardInterrupt",
          "evalue": "ignored",
          "traceback": [
            "\u001b[0;31m---------------------------------------------------------------------------\u001b[0m",
            "\u001b[0;31mKeyboardInterrupt\u001b[0m                         Traceback (most recent call last)",
            "\u001b[0;32m<ipython-input-84-00a2c38ea997>\u001b[0m in \u001b[0;36m<module>\u001b[0;34m()\u001b[0m\n\u001b[1;32m      2\u001b[0m \u001b[0mi\u001b[0m \u001b[0;34m=\u001b[0m \u001b[0;36m0\u001b[0m\u001b[0;34m\u001b[0m\u001b[0;34m\u001b[0m\u001b[0m\n\u001b[1;32m      3\u001b[0m \u001b[0;32mwhile\u001b[0m \u001b[0mi\u001b[0m \u001b[0;34m<\u001b[0m \u001b[0mlen\u001b[0m\u001b[0;34m(\u001b[0m\u001b[0mthisislist\u001b[0m\u001b[0;34m)\u001b[0m\u001b[0;34m:\u001b[0m\u001b[0;34m\u001b[0m\u001b[0;34m\u001b[0m\u001b[0m\n\u001b[0;32m----> 4\u001b[0;31m   \u001b[0mprint\u001b[0m\u001b[0;34m(\u001b[0m\u001b[0mthisislist\u001b[0m\u001b[0;34m[\u001b[0m\u001b[0mi\u001b[0m\u001b[0;34m]\u001b[0m\u001b[0;34m)\u001b[0m\u001b[0;34m\u001b[0m\u001b[0;34m\u001b[0m\u001b[0m\n\u001b[0m",
            "\u001b[0;32m/usr/local/lib/python3.6/dist-packages/ipykernel/iostream.py\u001b[0m in \u001b[0;36mwrite\u001b[0;34m(self, string)\u001b[0m\n\u001b[1;32m    398\u001b[0m             \u001b[0mis_child\u001b[0m \u001b[0;34m=\u001b[0m \u001b[0;34m(\u001b[0m\u001b[0;32mnot\u001b[0m \u001b[0mself\u001b[0m\u001b[0;34m.\u001b[0m\u001b[0m_is_master_process\u001b[0m\u001b[0;34m(\u001b[0m\u001b[0;34m)\u001b[0m\u001b[0;34m)\u001b[0m\u001b[0;34m\u001b[0m\u001b[0;34m\u001b[0m\u001b[0m\n\u001b[1;32m    399\u001b[0m             \u001b[0;31m# only touch the buffer in the IO thread to avoid races\u001b[0m\u001b[0;34m\u001b[0m\u001b[0;34m\u001b[0m\u001b[0;34m\u001b[0m\u001b[0m\n\u001b[0;32m--> 400\u001b[0;31m             \u001b[0mself\u001b[0m\u001b[0;34m.\u001b[0m\u001b[0mpub_thread\u001b[0m\u001b[0;34m.\u001b[0m\u001b[0mschedule\u001b[0m\u001b[0;34m(\u001b[0m\u001b[0;32mlambda\u001b[0m \u001b[0;34m:\u001b[0m \u001b[0mself\u001b[0m\u001b[0;34m.\u001b[0m\u001b[0m_buffer\u001b[0m\u001b[0;34m.\u001b[0m\u001b[0mwrite\u001b[0m\u001b[0;34m(\u001b[0m\u001b[0mstring\u001b[0m\u001b[0;34m)\u001b[0m\u001b[0;34m)\u001b[0m\u001b[0;34m\u001b[0m\u001b[0;34m\u001b[0m\u001b[0m\n\u001b[0m\u001b[1;32m    401\u001b[0m             \u001b[0;32mif\u001b[0m \u001b[0mis_child\u001b[0m\u001b[0;34m:\u001b[0m\u001b[0;34m\u001b[0m\u001b[0;34m\u001b[0m\u001b[0m\n\u001b[1;32m    402\u001b[0m                 \u001b[0;31m# newlines imply flush in subprocesses\u001b[0m\u001b[0;34m\u001b[0m\u001b[0;34m\u001b[0m\u001b[0;34m\u001b[0m\u001b[0m\n",
            "\u001b[0;32m/usr/local/lib/python3.6/dist-packages/ipykernel/iostream.py\u001b[0m in \u001b[0;36mschedule\u001b[0;34m(self, f)\u001b[0m\n\u001b[1;32m    201\u001b[0m             \u001b[0mself\u001b[0m\u001b[0;34m.\u001b[0m\u001b[0m_events\u001b[0m\u001b[0;34m.\u001b[0m\u001b[0mappend\u001b[0m\u001b[0;34m(\u001b[0m\u001b[0mf\u001b[0m\u001b[0;34m)\u001b[0m\u001b[0;34m\u001b[0m\u001b[0;34m\u001b[0m\u001b[0m\n\u001b[1;32m    202\u001b[0m             \u001b[0;31m# wake event thread (message content is ignored)\u001b[0m\u001b[0;34m\u001b[0m\u001b[0;34m\u001b[0m\u001b[0;34m\u001b[0m\u001b[0m\n\u001b[0;32m--> 203\u001b[0;31m             \u001b[0mself\u001b[0m\u001b[0;34m.\u001b[0m\u001b[0m_event_pipe\u001b[0m\u001b[0;34m.\u001b[0m\u001b[0msend\u001b[0m\u001b[0;34m(\u001b[0m\u001b[0;34mb''\u001b[0m\u001b[0;34m)\u001b[0m\u001b[0;34m\u001b[0m\u001b[0;34m\u001b[0m\u001b[0m\n\u001b[0m\u001b[1;32m    204\u001b[0m         \u001b[0;32melse\u001b[0m\u001b[0;34m:\u001b[0m\u001b[0;34m\u001b[0m\u001b[0;34m\u001b[0m\u001b[0m\n\u001b[1;32m    205\u001b[0m             \u001b[0mf\u001b[0m\u001b[0;34m(\u001b[0m\u001b[0;34m)\u001b[0m\u001b[0;34m\u001b[0m\u001b[0;34m\u001b[0m\u001b[0m\n",
            "\u001b[0;32m/usr/local/lib/python3.6/dist-packages/zmq/sugar/socket.py\u001b[0m in \u001b[0;36msend\u001b[0;34m(self, data, flags, copy, track, routing_id, group)\u001b[0m\n\u001b[1;32m    414\u001b[0m                                  copy_threshold=self.copy_threshold)\n\u001b[1;32m    415\u001b[0m             \u001b[0mdata\u001b[0m\u001b[0;34m.\u001b[0m\u001b[0mgroup\u001b[0m \u001b[0;34m=\u001b[0m \u001b[0mgroup\u001b[0m\u001b[0;34m\u001b[0m\u001b[0;34m\u001b[0m\u001b[0m\n\u001b[0;32m--> 416\u001b[0;31m         \u001b[0;32mreturn\u001b[0m \u001b[0msuper\u001b[0m\u001b[0;34m(\u001b[0m\u001b[0mSocket\u001b[0m\u001b[0;34m,\u001b[0m \u001b[0mself\u001b[0m\u001b[0;34m)\u001b[0m\u001b[0;34m.\u001b[0m\u001b[0msend\u001b[0m\u001b[0;34m(\u001b[0m\u001b[0mdata\u001b[0m\u001b[0;34m,\u001b[0m \u001b[0mflags\u001b[0m\u001b[0;34m=\u001b[0m\u001b[0mflags\u001b[0m\u001b[0;34m,\u001b[0m \u001b[0mcopy\u001b[0m\u001b[0;34m=\u001b[0m\u001b[0mcopy\u001b[0m\u001b[0;34m,\u001b[0m \u001b[0mtrack\u001b[0m\u001b[0;34m=\u001b[0m\u001b[0mtrack\u001b[0m\u001b[0;34m)\u001b[0m\u001b[0;34m\u001b[0m\u001b[0;34m\u001b[0m\u001b[0m\n\u001b[0m\u001b[1;32m    417\u001b[0m \u001b[0;34m\u001b[0m\u001b[0m\n\u001b[1;32m    418\u001b[0m     \u001b[0;32mdef\u001b[0m \u001b[0msend_multipart\u001b[0m\u001b[0;34m(\u001b[0m\u001b[0mself\u001b[0m\u001b[0;34m,\u001b[0m \u001b[0mmsg_parts\u001b[0m\u001b[0;34m,\u001b[0m \u001b[0mflags\u001b[0m\u001b[0;34m=\u001b[0m\u001b[0;36m0\u001b[0m\u001b[0;34m,\u001b[0m \u001b[0mcopy\u001b[0m\u001b[0;34m=\u001b[0m\u001b[0;32mTrue\u001b[0m\u001b[0;34m,\u001b[0m \u001b[0mtrack\u001b[0m\u001b[0;34m=\u001b[0m\u001b[0;32mFalse\u001b[0m\u001b[0;34m,\u001b[0m \u001b[0;34m**\u001b[0m\u001b[0mkwargs\u001b[0m\u001b[0;34m)\u001b[0m\u001b[0;34m:\u001b[0m\u001b[0;34m\u001b[0m\u001b[0;34m\u001b[0m\u001b[0m\n",
            "\u001b[0;32mzmq/backend/cython/socket.pyx\u001b[0m in \u001b[0;36mzmq.backend.cython.socket.Socket.send\u001b[0;34m()\u001b[0m\n",
            "\u001b[0;32mzmq/backend/cython/socket.pyx\u001b[0m in \u001b[0;36mzmq.backend.cython.socket.Socket.send\u001b[0;34m()\u001b[0m\n",
            "\u001b[0;32mzmq/backend/cython/socket.pyx\u001b[0m in \u001b[0;36mzmq.backend.cython.socket._send_copy\u001b[0;34m()\u001b[0m\n",
            "\u001b[0;32m/usr/local/lib/python3.6/dist-packages/zmq/backend/cython/checkrc.pxd\u001b[0m in \u001b[0;36mzmq.backend.cython.checkrc._check_rc\u001b[0;34m()\u001b[0m\n",
            "\u001b[0;31mKeyboardInterrupt\u001b[0m: "
          ]
        }
      ]
    },
    {
      "cell_type": "code",
      "metadata": {
        "colab": {
          "base_uri": "https://localhost:8080/"
        },
        "id": "tDaO8FQ3_HNc",
        "outputId": "ce99ebb2-a046-43db-dcce-a1a871afc754"
      },
      "source": [
        "thislist = [\"apple\", \"banana\", \"cherry\"]\n",
        "[print (x) for x in thislist]"
      ],
      "execution_count": null,
      "outputs": [
        {
          "output_type": "stream",
          "text": [
            "apple\n",
            "banana\n",
            "cherry\n"
          ],
          "name": "stdout"
        },
        {
          "output_type": "execute_result",
          "data": {
            "text/plain": [
              "[None, None, None]"
            ]
          },
          "metadata": {
            "tags": []
          },
          "execution_count": 64
        }
      ]
    },
    {
      "cell_type": "code",
      "metadata": {
        "colab": {
          "base_uri": "https://localhost:8080/"
        },
        "id": "01REhoeJ_4dD",
        "outputId": "b6315f4f-b377-453e-9387-f259fcddf386"
      },
      "source": [
        "fruits = [\"apple\", \"banana\" , \"cherry\", \"kiwi\", \"mango\"]\n",
        "newlist = []\n",
        "\n",
        "for x in fruits:\n",
        "  if \"a\" in x:\n",
        "    newlist.append(x)\n",
        "print(newlist)"
      ],
      "execution_count": null,
      "outputs": [
        {
          "output_type": "stream",
          "text": [
            "['apple', 'banana', 'mango']\n"
          ],
          "name": "stdout"
        }
      ]
    },
    {
      "cell_type": "code",
      "metadata": {
        "colab": {
          "base_uri": "https://localhost:8080/"
        },
        "id": "dwSbK_nBCGsV",
        "outputId": "2c6e7edd-04f6-4cd5-ce8b-576aa34de1b2"
      },
      "source": [
        "fruits = [\"apple\", \"banana\" , \"cherry\", \"kiwi\", \"mango\"]\n",
        "newlist = [x for x in fruits if \"a\" in x]\n",
        "print(newlist)"
      ],
      "execution_count": null,
      "outputs": [
        {
          "output_type": "stream",
          "text": [
            "['apple', 'banana', 'mango']\n"
          ],
          "name": "stdout"
        }
      ]
    },
    {
      "cell_type": "code",
      "metadata": {
        "id": "c_B73oX2C1fQ",
        "colab": {
          "base_uri": "https://localhost:8080/"
        },
        "outputId": "7bc37e8a-bb93-4cfb-c8b1-fd6bc0fc92d2"
      },
      "source": [
        "fruits = [\"apple\",\"banana\",\"cherry\",\"kiwi\",\"mango\"]\n",
        "newlist = [x for x in fruits if \"a\" in x]\n",
        "print(newlist)"
      ],
      "execution_count": null,
      "outputs": [
        {
          "output_type": "stream",
          "text": [
            "['apple', 'banana', 'mango']\n"
          ],
          "name": "stdout"
        }
      ]
    },
    {
      "cell_type": "code",
      "metadata": {
        "colab": {
          "base_uri": "https://localhost:8080/"
        },
        "id": "MNAn4ZNaRTVl",
        "outputId": "2ae394db-482e-4320-815d-ae92e0be0ba5"
      },
      "source": [
        "fruits = [\"apple\",\"Banana\",\"Cherry\",\"kiwi\",\"mango\"]\n",
        "fruits.sort()\n",
        "print(fruits)"
      ],
      "execution_count": null,
      "outputs": [
        {
          "output_type": "stream",
          "text": [
            "['Banana', 'Cherry', 'apple', 'kiwi', 'mango']\n"
          ],
          "name": "stdout"
        }
      ]
    },
    {
      "cell_type": "code",
      "metadata": {
        "colab": {
          "base_uri": "https://localhost:8080/"
        },
        "id": "gvHhfwQsRpee",
        "outputId": "c98a0a12-9201-4bcb-ddd5-e6193d5d646f"
      },
      "source": [
        "thislist = [\"orange\",\"mango\",\"kiwi\",\"pineapple\",\"banana\"]\n",
        "thislist.sort()\n",
        "print(thislist)"
      ],
      "execution_count": null,
      "outputs": [
        {
          "output_type": "stream",
          "text": [
            "['banana', 'kiwi', 'mango', 'orange', 'pineapple']\n"
          ],
          "name": "stdout"
        }
      ]
    },
    {
      "cell_type": "code",
      "metadata": {
        "colab": {
          "base_uri": "https://localhost:8080/"
        },
        "id": "mb433562SSyn",
        "outputId": "333be9e2-a1ef-47b1-db57-7350b785394e"
      },
      "source": [
        "thislist = [100,40,50,2,22,83,78]\n",
        "thislist.sort()\n",
        "print(thislist)"
      ],
      "execution_count": null,
      "outputs": [
        {
          "output_type": "stream",
          "text": [
            "[2, 22, 40, 50, 78, 83, 100]\n"
          ],
          "name": "stdout"
        }
      ]
    },
    {
      "cell_type": "code",
      "metadata": {
        "colab": {
          "base_uri": "https://localhost:8080/"
        },
        "id": "qump8JTHS27M",
        "outputId": "265ad572-95ca-4f95-d383-887d4e85abda"
      },
      "source": [
        "thislist = [\"orange\",\"mango\",\"kiwi\",\"pineapple\",\"banana\"]\n",
        "thislist.sort(reverse=True)\n",
        "print(thislist)"
      ],
      "execution_count": null,
      "outputs": [
        {
          "output_type": "stream",
          "text": [
            "['pineapple', 'orange', 'mango', 'kiwi', 'banana']\n"
          ],
          "name": "stdout"
        }
      ]
    },
    {
      "cell_type": "code",
      "metadata": {
        "colab": {
          "base_uri": "https://localhost:8080/"
        },
        "id": "60Vugt8uTDFp",
        "outputId": "cc98b495-bba4-4b48-eefc-d132f6617ed5"
      },
      "source": [
        "thislist = [100,40,50,2,22,83,78]\n",
        "thislist.sort(reverse=True)\n",
        "print(thislist)"
      ],
      "execution_count": null,
      "outputs": [
        {
          "output_type": "stream",
          "text": [
            "[100, 83, 78, 50, 40, 22, 2]\n"
          ],
          "name": "stdout"
        }
      ]
    },
    {
      "cell_type": "code",
      "metadata": {
        "colab": {
          "base_uri": "https://localhost:8080/"
        },
        "id": "E8O3vXpFTJeu",
        "outputId": "0346ed82-364a-43cf-ae25-e0901a657f8c"
      },
      "source": [
        "thislist = [\"orange\",\"mango\",\"kiwi\",\"pineapple\",\"banana\"]\n",
        "newlist = thislist.copy()\n",
        "print(newlist)"
      ],
      "execution_count": null,
      "outputs": [
        {
          "output_type": "stream",
          "text": [
            "['orange', 'mango', 'kiwi', 'pineapple', 'banana']\n"
          ],
          "name": "stdout"
        }
      ]
    },
    {
      "cell_type": "code",
      "metadata": {
        "colab": {
          "base_uri": "https://localhost:8080/"
        },
        "id": "JUYJsX-ST4Gc",
        "outputId": "e8d8a23e-00f8-4044-eeb7-738053a92bfd"
      },
      "source": [
        "thislist = [100,40,50,2,22,83,78]\n",
        "newlist = thislist.copy()\n",
        "print(newlist)"
      ],
      "execution_count": null,
      "outputs": [
        {
          "output_type": "stream",
          "text": [
            "[100, 40, 50, 2, 22, 83, 78]\n"
          ],
          "name": "stdout"
        }
      ]
    },
    {
      "cell_type": "code",
      "metadata": {
        "colab": {
          "base_uri": "https://localhost:8080/"
        },
        "id": "6BBAMKQ4UA0C",
        "outputId": "e9a07585-1e14-4b8e-f1cc-a2d9331d7056"
      },
      "source": [
        "list1 = [\"orange\",\"mango\",\"kiwi\",\"pineapple\",\"banana\"]\n",
        "list2 = [100,40,50,2,22,83,78]\n",
        "list3=list1+list2\n",
        "print(list3)"
      ],
      "execution_count": null,
      "outputs": [
        {
          "output_type": "stream",
          "text": [
            "['orange', 'mango', 'kiwi', 'pineapple', 'banana', 100, 40, 50, 2, 22, 83, 78]\n"
          ],
          "name": "stdout"
        }
      ]
    },
    {
      "cell_type": "code",
      "metadata": {
        "colab": {
          "base_uri": "https://localhost:8080/"
        },
        "id": "CuQYaBdxUf0J",
        "outputId": "e7f0e7c6-b3b7-4965-97fd-848b00904d45"
      },
      "source": [
        "list1 = [\"orange\",\"mango\",\"kiwi\",\"pineapple\",\"banana\"]\n",
        "list2 = [100,40,50,2,22,83,78]\n",
        "for x in list2:\n",
        "  list1.append(x)\n",
        "print(list1)"
      ],
      "execution_count": null,
      "outputs": [
        {
          "output_type": "stream",
          "text": [
            "['orange', 'mango', 'kiwi', 'pineapple', 'banana', 100, 40, 50, 2, 22, 83, 78]\n"
          ],
          "name": "stdout"
        }
      ]
    },
    {
      "cell_type": "code",
      "metadata": {
        "colab": {
          "base_uri": "https://localhost:8080/"
        },
        "id": "Rnu0u6fIU-S4",
        "outputId": "8edeb078-af21-416f-a501-dcac4b6f098c"
      },
      "source": [
        "list1 = [\"orange\",\"mango\",\"kiwi\",\"pineapple\",\"banana\"]\n",
        "list2 = [100,40,50,2,22,83,78]\n",
        "list1.extend(list2)\n",
        "print(list1)"
      ],
      "execution_count": null,
      "outputs": [
        {
          "output_type": "stream",
          "text": [
            "['orange', 'mango', 'kiwi', 'pineapple', 'banana', 100, 40, 50, 2, 22, 83, 78]\n"
          ],
          "name": "stdout"
        }
      ]
    },
    {
      "cell_type": "code",
      "metadata": {
        "colab": {
          "base_uri": "https://localhost:8080/"
        },
        "id": "JzdHU5vCV4-Q",
        "outputId": "4a820f91-c371-4a0c-cda3-9923f056e7cf"
      },
      "source": [
        "list1 = [\"India\",\"Australia\",\"Maldives\",\"France\",\"Greece\"]\n",
        "list2 = [5,2,3,4,1]\n",
        "list3=list1+list2\n",
        "print(list3)"
      ],
      "execution_count": null,
      "outputs": [
        {
          "output_type": "stream",
          "text": [
            "['India', 'Australia', 'Maldives', 'France', 'Greece', 5, 2, 3, 4, 1]\n"
          ],
          "name": "stdout"
        }
      ]
    },
    {
      "cell_type": "code",
      "metadata": {
        "colab": {
          "base_uri": "https://localhost:8080/"
        },
        "id": "ykr34daEYEvN",
        "outputId": "03ee804f-b9d1-4332-b8c2-e823f5959ed2"
      },
      "source": [
        "list1 = [\"India\",\"Australia\",\"Maldives\",\"France\",\"Greece\"]\n",
        "list2 = [5,2,3,4,1]\n",
        "for x in list2:\n",
        "  list1.append(x)\n",
        "print(list1)"
      ],
      "execution_count": null,
      "outputs": [
        {
          "output_type": "stream",
          "text": [
            "['India', 'Australia', 'Maldives', 'France', 'Greece', 5, 2, 3, 4, 1]\n"
          ],
          "name": "stdout"
        }
      ]
    },
    {
      "cell_type": "code",
      "metadata": {
        "colab": {
          "base_uri": "https://localhost:8080/"
        },
        "id": "FIDP6XA5YKjX",
        "outputId": "3cdc0465-13c9-48b1-c89a-c98074da2ae0"
      },
      "source": [
        "list1 = [\"India\",\"Australia\",\"Maldives\",\"France\",\"Greece\"]\n",
        "list2 = [5,2,3,4,1]\n",
        "list1.extend(list2)\n",
        "print(list1)"
      ],
      "execution_count": null,
      "outputs": [
        {
          "output_type": "stream",
          "text": [
            "['India', 'Australia', 'Maldives', 'France', 'Greece', 5, 2, 3, 4, 1]\n"
          ],
          "name": "stdout"
        }
      ]
    },
    {
      "cell_type": "code",
      "metadata": {
        "colab": {
          "base_uri": "https://localhost:8080/"
        },
        "id": "StE7R2t0YSOK",
        "outputId": "3b306c1a-babe-4851-fb91-b35b33fd5ff8"
      },
      "source": [
        "list1 = [\"orange\",\"mango\",\"kiwi\",\"pineapple\",\"banana\"]\n",
        "list2 = [100,40,50,2,22,83,78]\n",
        "list1.extend(list2)\n",
        "print(list1)"
      ],
      "execution_count": null,
      "outputs": [
        {
          "output_type": "stream",
          "text": [
            "['orange', 'mango', 'kiwi', 'pineapple', 'banana', 100, 40, 50, 2, 22, 83, 78]\n"
          ],
          "name": "stdout"
        }
      ]
    },
    {
      "cell_type": "code",
      "metadata": {
        "id": "cqp7NzP7ZIJs"
      },
      "source": [
        "list1 = [\"orange\",\"mango\",\"kiwi\",\"pineapple\",\"banana\"]\n",
        "#******"
      ],
      "execution_count": null,
      "outputs": []
    },
    {
      "cell_type": "code",
      "metadata": {
        "colab": {
          "base_uri": "https://localhost:8080/"
        },
        "id": "JRbR9ruvZcsg",
        "outputId": "d316dca2-f4d1-458c-8f5e-f9a91f5f4e29"
      },
      "source": [
        "thistuple = (\"Apple\",\"Banana\",\"Cherry\")\n",
        "print(thistuple)"
      ],
      "execution_count": null,
      "outputs": [
        {
          "output_type": "stream",
          "text": [
            "('Apple', 'Banana', 'Cherry')\n"
          ],
          "name": "stdout"
        }
      ]
    },
    {
      "cell_type": "code",
      "metadata": {
        "colab": {
          "base_uri": "https://localhost:8080/"
        },
        "id": "yyiGdLazan-Q",
        "outputId": "f62ec0e4-73ca-4ef4-c3d9-23f47bc6929c"
      },
      "source": [
        "thistuple = (\"Apple\",\"Banana\",\"Cherry\",\"Apple\",\"Banana\",\"Cherry\")\n",
        "print(thistuple)"
      ],
      "execution_count": null,
      "outputs": [
        {
          "output_type": "stream",
          "text": [
            "('Apple', 'Banana', 'Cherry', 'Apple', 'Banana', 'Cherry')\n"
          ],
          "name": "stdout"
        }
      ]
    },
    {
      "cell_type": "code",
      "metadata": {
        "colab": {
          "base_uri": "https://localhost:8080/"
        },
        "id": "OY4wfteUa27n",
        "outputId": "1f5cdbe9-661e-4c26-cc9a-280c215a6d47"
      },
      "source": [
        "thistuple = (\"Apple\",\"Banana\",\"Cherry\",\"Apple\",\"Banana\",\"Cherry\")\n",
        "print(len(thistuple))"
      ],
      "execution_count": null,
      "outputs": [
        {
          "output_type": "stream",
          "text": [
            "6\n"
          ],
          "name": "stdout"
        }
      ]
    },
    {
      "cell_type": "code",
      "metadata": {
        "colab": {
          "base_uri": "https://localhost:8080/"
        },
        "id": "a3_TR4Ida9bP",
        "outputId": "85160922-820f-45a0-cc9b-112eeaa10388"
      },
      "source": [
        "tuple1 = (\"orange\",\"mango\",\"kiwi\",\"pineapple\",\"banana\")\n",
        "tuple2 = (100,40,50,2,22,83,78)\n",
        "tuple3 = (True,False,False)\n",
        "print(tuple1)\n",
        "print(tuple2)\n",
        "print(tuple3)"
      ],
      "execution_count": null,
      "outputs": [
        {
          "output_type": "stream",
          "text": [
            "('orange', 'mango', 'kiwi', 'pineapple', 'banana')\n",
            "(100, 40, 50, 2, 22, 83, 78)\n",
            "(True, False, False)\n"
          ],
          "name": "stdout"
        }
      ]
    },
    {
      "cell_type": "code",
      "metadata": {
        "colab": {
          "base_uri": "https://localhost:8080/"
        },
        "id": "kSVEk8JKbjc6",
        "outputId": "7cb565ca-ae54-402d-81f0-848ecec064fb"
      },
      "source": [
        "tuple1 = (\"orange\",23,\"pineapple\",\"banana\",True,\"34\")\n",
        "print(tuple1)\n",
        "print(type(tuple1))"
      ],
      "execution_count": null,
      "outputs": [
        {
          "output_type": "stream",
          "text": [
            "('orange', 23, 'pineapple', 'banana', True, '34')\n",
            "<class 'tuple'>\n"
          ],
          "name": "stdout"
        }
      ]
    },
    {
      "cell_type": "code",
      "metadata": {
        "colab": {
          "base_uri": "https://localhost:8080/"
        },
        "id": "tiUzT4Lab49R",
        "outputId": "c7976ecb-7af9-499b-9eb0-a66512afc796"
      },
      "source": [
        "tuple1 = (\"orange\",23,\"pineapple\",\"banana\",True,\"34\")\n",
        "print(tuple1[1])"
      ],
      "execution_count": null,
      "outputs": [
        {
          "output_type": "stream",
          "text": [
            "23\n"
          ],
          "name": "stdout"
        }
      ]
    },
    {
      "cell_type": "code",
      "metadata": {
        "colab": {
          "base_uri": "https://localhost:8080/"
        },
        "id": "BWkc6cPac6r_",
        "outputId": "ef8148c4-2663-4b32-d5fc-7bf96a9d62fa"
      },
      "source": [
        "tuple1 = (\"orange\",23,\"pineapple\",\"banana\",True,\"34\")\n",
        "print(tuple1[3])"
      ],
      "execution_count": null,
      "outputs": [
        {
          "output_type": "stream",
          "text": [
            "banana\n"
          ],
          "name": "stdout"
        }
      ]
    },
    {
      "cell_type": "code",
      "metadata": {
        "colab": {
          "base_uri": "https://localhost:8080/"
        },
        "id": "tzWsNZcRdACB",
        "outputId": "12f1fee9-10ed-4cc3-f839-7ac32bb03b5e"
      },
      "source": [
        "tuple2 = (\"orange\",23,\"pineapple\",\"banana\",True,\"34\")\n",
        "print(tuple1[-2])"
      ],
      "execution_count": null,
      "outputs": [
        {
          "output_type": "stream",
          "text": [
            "True\n"
          ],
          "name": "stdout"
        }
      ]
    },
    {
      "cell_type": "code",
      "metadata": {
        "colab": {
          "base_uri": "https://localhost:8080/"
        },
        "id": "fElprdmtdHwc",
        "outputId": "ffb55073-fae7-4264-e5b3-db535cafd7c7"
      },
      "source": [
        "tuple1 = (\"orange\",23,\"pineapple\",\"banana\",True,\"34\")\n",
        "print(tuple1[2:])"
      ],
      "execution_count": null,
      "outputs": [
        {
          "output_type": "stream",
          "text": [
            "('pineapple', 'banana', True, '34')\n"
          ],
          "name": "stdout"
        }
      ]
    },
    {
      "cell_type": "code",
      "metadata": {
        "colab": {
          "base_uri": "https://localhost:8080/"
        },
        "id": "0yRKEBrPdTQ_",
        "outputId": "b5c938ee-594e-4466-f5e9-b5fdeb82eea5"
      },
      "source": [
        "tuple1 = (\"orange\",23,\"pineapple\",\"banana\",True,\"34\")\n",
        "print(tuple1[:4])"
      ],
      "execution_count": null,
      "outputs": [
        {
          "output_type": "stream",
          "text": [
            "('orange', 23, 'pineapple', 'banana')\n"
          ],
          "name": "stdout"
        }
      ]
    },
    {
      "cell_type": "code",
      "metadata": {
        "colab": {
          "base_uri": "https://localhost:8080/"
        },
        "id": "7sJdcHA1dWA4",
        "outputId": "b2532b1d-c939-4f66-dcc2-d9f9fc9a0a0a"
      },
      "source": [
        "x = (\"apple\",\"Banana\",\"Cherry\")\n",
        "y = list(x)\n",
        "y[1] = \"kiwi\"\n",
        "x = tuple(y)\n",
        "print(x)"
      ],
      "execution_count": null,
      "outputs": [
        {
          "output_type": "stream",
          "text": [
            "('apple', 'kiwi', 'Cherry')\n"
          ],
          "name": "stdout"
        }
      ]
    },
    {
      "cell_type": "code",
      "metadata": {
        "colab": {
          "base_uri": "https://localhost:8080/"
        },
        "id": "FsVCeefJdxsV",
        "outputId": "e7f142b4-225c-4beb-bb30-17accc337540"
      },
      "source": [
        "x = (\"apple\",\"Banana\",\"Cherry\")\n",
        "y = list(x)\n",
        "y.append(\"orange\")\n",
        "thistuple = tuple(y)\n",
        "print(thistuple)"
      ],
      "execution_count": null,
      "outputs": [
        {
          "output_type": "stream",
          "text": [
            "('apple', 'Banana', 'Cherry', 'orange')\n"
          ],
          "name": "stdout"
        }
      ]
    },
    {
      "cell_type": "code",
      "metadata": {
        "colab": {
          "base_uri": "https://localhost:8080/"
        },
        "id": "7L68loEeeSb1",
        "outputId": "a8daca85-a597-4bc5-bb16-2ceaea53ffd8"
      },
      "source": [
        "x = (\"apple\",\"Banana\",\"Cherry\")\n",
        "y = list(x)\n",
        "y.remove(\"Banana\")\n",
        "thistuple = tuple(y)\n",
        "print(thistuple)"
      ],
      "execution_count": null,
      "outputs": [
        {
          "output_type": "stream",
          "text": [
            "('apple', 'Cherry')\n"
          ],
          "name": "stdout"
        }
      ]
    },
    {
      "cell_type": "code",
      "metadata": {
        "id": "fPRAkvK3egHr"
      },
      "source": [
        "thistuple = (\"apple\",\"Banana\",\"Cherry\")"
      ],
      "execution_count": null,
      "outputs": []
    },
    {
      "cell_type": "code",
      "metadata": {
        "colab": {
          "base_uri": "https://localhost:8080/"
        },
        "id": "4-6jgJq7exXN",
        "outputId": "f7f0ac48-b769-4f2a-b81d-b191ee1ac36a"
      },
      "source": [
        "fruits = (\"apple\",\"Banana\",\"Cherry\")\n",
        "(green,yellow,red) = fruits\n",
        "print(green)\n",
        "print(yellow)\n",
        "print(red)"
      ],
      "execution_count": null,
      "outputs": [
        {
          "output_type": "stream",
          "text": [
            "apple\n",
            "Banana\n",
            "Cherry\n"
          ],
          "name": "stdout"
        }
      ]
    },
    {
      "cell_type": "code",
      "metadata": {
        "colab": {
          "base_uri": "https://localhost:8080/"
        },
        "id": "YOlx1KOZfaGT",
        "outputId": "14661adf-036c-47f9-8978-f70067cd3b33"
      },
      "source": [
        "fruits = (\"apple\",\"Banana\",\"Cherry\",\"orange\",\"mango\")\n",
        "(green,yellow,*red) = fruits\n",
        "print(green)\n",
        "print(yellow)\n",
        "print(red)"
      ],
      "execution_count": null,
      "outputs": [
        {
          "output_type": "stream",
          "text": [
            "apple\n",
            "Banana\n",
            "['Cherry', 'orange', 'mango']\n"
          ],
          "name": "stdout"
        }
      ]
    },
    {
      "cell_type": "code",
      "metadata": {
        "colab": {
          "base_uri": "https://localhost:8080/"
        },
        "id": "eovTmESDf6DX",
        "outputId": "d0306996-d112-474c-a552-3260b2f753ce"
      },
      "source": [
        "fruits = (\"apple\",\"Banana\",\"Cherry\",\"orange\",\"mango\")\n",
        "(green,*yellow,red) = fruits\n",
        "print(green)\n",
        "print(yellow)\n",
        "print(red)"
      ],
      "execution_count": null,
      "outputs": [
        {
          "output_type": "stream",
          "text": [
            "apple\n",
            "['Banana', 'Cherry', 'orange']\n",
            "mango\n"
          ],
          "name": "stdout"
        }
      ]
    },
    {
      "cell_type": "code",
      "metadata": {
        "colab": {
          "base_uri": "https://localhost:8080/"
        },
        "id": "pG9HdVv0gFfF",
        "outputId": "f77832b5-d640-4c68-cc0c-8b8dd6e15b99"
      },
      "source": [
        "fruits = (\"apple\",\"Banana\",\"Cherry\",\"orange\",\"mango\")\n",
        "for x in fruits:\n",
        "  print(x)"
      ],
      "execution_count": null,
      "outputs": [
        {
          "output_type": "stream",
          "text": [
            "apple\n",
            "Banana\n",
            "Cherry\n",
            "orange\n",
            "mango\n"
          ],
          "name": "stdout"
        }
      ]
    },
    {
      "cell_type": "code",
      "metadata": {
        "colab": {
          "base_uri": "https://localhost:8080/"
        },
        "id": "7WjoP9ulgP1c",
        "outputId": "ff28fdb6-5e12-4284-8030-4d46e9b81c1d"
      },
      "source": [
        "fruits = (\"apple\",\"Banana\",\"Cherry\",\"orange\",\"mango\")\n",
        "for i in range(len(fruits)):\n",
        "  print(fruits[i])"
      ],
      "execution_count": null,
      "outputs": [
        {
          "output_type": "stream",
          "text": [
            "apple\n",
            "Banana\n",
            "Cherry\n",
            "orange\n",
            "mango\n"
          ],
          "name": "stdout"
        }
      ]
    },
    {
      "cell_type": "code",
      "metadata": {
        "id": "sZ15ahOkgjcD"
      },
      "source": [
        "###Concatination , Merge & Joining Data Frames in Pandas"
      ],
      "execution_count": null,
      "outputs": []
    },
    {
      "cell_type": "markdown",
      "metadata": {
        "id": "3n48LJ5Na0Lt"
      },
      "source": [
        "**Let us understand concatination**"
      ]
    },
    {
      "cell_type": "code",
      "metadata": {
        "colab": {
          "base_uri": "https://localhost:8080/"
        },
        "id": "STuutrvAanXs",
        "outputId": "b7c81907-45dd-42d4-9426-5320ba97afce"
      },
      "source": [
        "import pandas as pd\n",
        "df1 = pd.DataFrame({'Item':['A','B','C','D'], 'Value':[1,2,3,5]})\n",
        "df2 = pd.DataFrame({'Item':['E','F','G','H'], 'Value':[5,6,7,8]})\n",
        "print(df1)\n",
        "print(df2)"
      ],
      "execution_count": null,
      "outputs": [
        {
          "output_type": "stream",
          "text": [
            "  Item  Value\n",
            "0    A      1\n",
            "1    B      2\n",
            "2    C      3\n",
            "3    D      5\n",
            "  Item  Value\n",
            "0    E      5\n",
            "1    F      6\n",
            "2    G      7\n",
            "3    H      8\n"
          ],
          "name": "stdout"
        }
      ]
    },
    {
      "cell_type": "code",
      "metadata": {
        "colab": {
          "base_uri": "https://localhost:8080/",
          "height": 173
        },
        "id": "6bsRdlzFdltY",
        "outputId": "5df75135-1889-48d1-a883-ae520db04b93"
      },
      "source": [
        "df1"
      ],
      "execution_count": null,
      "outputs": [
        {
          "output_type": "execute_result",
          "data": {
            "text/html": [
              "<div>\n",
              "<style scoped>\n",
              "    .dataframe tbody tr th:only-of-type {\n",
              "        vertical-align: middle;\n",
              "    }\n",
              "\n",
              "    .dataframe tbody tr th {\n",
              "        vertical-align: top;\n",
              "    }\n",
              "\n",
              "    .dataframe thead th {\n",
              "        text-align: right;\n",
              "    }\n",
              "</style>\n",
              "<table border=\"1\" class=\"dataframe\">\n",
              "  <thead>\n",
              "    <tr style=\"text-align: right;\">\n",
              "      <th></th>\n",
              "      <th>Item</th>\n",
              "      <th>Value</th>\n",
              "    </tr>\n",
              "  </thead>\n",
              "  <tbody>\n",
              "    <tr>\n",
              "      <th>0</th>\n",
              "      <td>A</td>\n",
              "      <td>1</td>\n",
              "    </tr>\n",
              "    <tr>\n",
              "      <th>1</th>\n",
              "      <td>B</td>\n",
              "      <td>2</td>\n",
              "    </tr>\n",
              "    <tr>\n",
              "      <th>2</th>\n",
              "      <td>C</td>\n",
              "      <td>3</td>\n",
              "    </tr>\n",
              "    <tr>\n",
              "      <th>3</th>\n",
              "      <td>D</td>\n",
              "      <td>5</td>\n",
              "    </tr>\n",
              "  </tbody>\n",
              "</table>\n",
              "</div>"
            ],
            "text/plain": [
              "  Item  Value\n",
              "0    A      1\n",
              "1    B      2\n",
              "2    C      3\n",
              "3    D      5"
            ]
          },
          "metadata": {
            "tags": []
          },
          "execution_count": 5
        }
      ]
    },
    {
      "cell_type": "code",
      "metadata": {
        "colab": {
          "base_uri": "https://localhost:8080/",
          "height": 173
        },
        "id": "HS58ob9OeS6j",
        "outputId": "9fe2f288-f78f-40c5-fa27-c4ae27989087"
      },
      "source": [
        "df2"
      ],
      "execution_count": null,
      "outputs": [
        {
          "output_type": "execute_result",
          "data": {
            "text/html": [
              "<div>\n",
              "<style scoped>\n",
              "    .dataframe tbody tr th:only-of-type {\n",
              "        vertical-align: middle;\n",
              "    }\n",
              "\n",
              "    .dataframe tbody tr th {\n",
              "        vertical-align: top;\n",
              "    }\n",
              "\n",
              "    .dataframe thead th {\n",
              "        text-align: right;\n",
              "    }\n",
              "</style>\n",
              "<table border=\"1\" class=\"dataframe\">\n",
              "  <thead>\n",
              "    <tr style=\"text-align: right;\">\n",
              "      <th></th>\n",
              "      <th>Item</th>\n",
              "      <th>Value</th>\n",
              "    </tr>\n",
              "  </thead>\n",
              "  <tbody>\n",
              "    <tr>\n",
              "      <th>0</th>\n",
              "      <td>E</td>\n",
              "      <td>5</td>\n",
              "    </tr>\n",
              "    <tr>\n",
              "      <th>1</th>\n",
              "      <td>F</td>\n",
              "      <td>6</td>\n",
              "    </tr>\n",
              "    <tr>\n",
              "      <th>2</th>\n",
              "      <td>G</td>\n",
              "      <td>7</td>\n",
              "    </tr>\n",
              "    <tr>\n",
              "      <th>3</th>\n",
              "      <td>H</td>\n",
              "      <td>8</td>\n",
              "    </tr>\n",
              "  </tbody>\n",
              "</table>\n",
              "</div>"
            ],
            "text/plain": [
              "  Item  Value\n",
              "0    E      5\n",
              "1    F      6\n",
              "2    G      7\n",
              "3    H      8"
            ]
          },
          "metadata": {
            "tags": []
          },
          "execution_count": 6
        }
      ]
    },
    {
      "cell_type": "code",
      "metadata": {
        "colab": {
          "base_uri": "https://localhost:8080/",
          "height": 297
        },
        "id": "ndXNr7u-eVjT",
        "outputId": "04976e2b-56f9-4239-a347-1aef3d2f9d23"
      },
      "source": [
        "pd.concat([df1,df2])"
      ],
      "execution_count": null,
      "outputs": [
        {
          "output_type": "execute_result",
          "data": {
            "text/html": [
              "<div>\n",
              "<style scoped>\n",
              "    .dataframe tbody tr th:only-of-type {\n",
              "        vertical-align: middle;\n",
              "    }\n",
              "\n",
              "    .dataframe tbody tr th {\n",
              "        vertical-align: top;\n",
              "    }\n",
              "\n",
              "    .dataframe thead th {\n",
              "        text-align: right;\n",
              "    }\n",
              "</style>\n",
              "<table border=\"1\" class=\"dataframe\">\n",
              "  <thead>\n",
              "    <tr style=\"text-align: right;\">\n",
              "      <th></th>\n",
              "      <th>Item</th>\n",
              "      <th>Value</th>\n",
              "    </tr>\n",
              "  </thead>\n",
              "  <tbody>\n",
              "    <tr>\n",
              "      <th>0</th>\n",
              "      <td>A</td>\n",
              "      <td>1</td>\n",
              "    </tr>\n",
              "    <tr>\n",
              "      <th>1</th>\n",
              "      <td>B</td>\n",
              "      <td>2</td>\n",
              "    </tr>\n",
              "    <tr>\n",
              "      <th>2</th>\n",
              "      <td>C</td>\n",
              "      <td>3</td>\n",
              "    </tr>\n",
              "    <tr>\n",
              "      <th>3</th>\n",
              "      <td>D</td>\n",
              "      <td>5</td>\n",
              "    </tr>\n",
              "    <tr>\n",
              "      <th>0</th>\n",
              "      <td>E</td>\n",
              "      <td>5</td>\n",
              "    </tr>\n",
              "    <tr>\n",
              "      <th>1</th>\n",
              "      <td>F</td>\n",
              "      <td>6</td>\n",
              "    </tr>\n",
              "    <tr>\n",
              "      <th>2</th>\n",
              "      <td>G</td>\n",
              "      <td>7</td>\n",
              "    </tr>\n",
              "    <tr>\n",
              "      <th>3</th>\n",
              "      <td>H</td>\n",
              "      <td>8</td>\n",
              "    </tr>\n",
              "  </tbody>\n",
              "</table>\n",
              "</div>"
            ],
            "text/plain": [
              "  Item  Value\n",
              "0    A      1\n",
              "1    B      2\n",
              "2    C      3\n",
              "3    D      5\n",
              "0    E      5\n",
              "1    F      6\n",
              "2    G      7\n",
              "3    H      8"
            ]
          },
          "metadata": {
            "tags": []
          },
          "execution_count": 7
        }
      ]
    },
    {
      "cell_type": "code",
      "metadata": {
        "colab": {
          "base_uri": "https://localhost:8080/"
        },
        "id": "6Wi1QukZebk1",
        "outputId": "09419f85-0f3a-4621-eca7-8849580cb2a1"
      },
      "source": [
        "import pandas as pd\n",
        "df1 = pd.DataFrame({'Item':['A','B','C','D'], 'Value':[1,2,3,5]})\n",
        "df2 = pd.DataFrame({'Item':['E','F','G','H'], 'Value':[6,7,8,9]})\n",
        "print(df1)\n",
        "print(df2)"
      ],
      "execution_count": null,
      "outputs": [
        {
          "output_type": "stream",
          "text": [
            "  Item  Value\n",
            "0    A      1\n",
            "1    B      2\n",
            "2    C      3\n",
            "3    D      5\n",
            "  Item  Value\n",
            "0    E      6\n",
            "1    F      7\n",
            "2    G      8\n",
            "3    H      9\n"
          ],
          "name": "stdout"
        }
      ]
    },
    {
      "cell_type": "code",
      "metadata": {
        "colab": {
          "base_uri": "https://localhost:8080/",
          "height": 297
        },
        "id": "bSlOido7eqtz",
        "outputId": "e5c14217-58e3-4b4f-8c7a-e62e87dc7a3c"
      },
      "source": [
        "pd.concat([df1,df2])"
      ],
      "execution_count": null,
      "outputs": [
        {
          "output_type": "execute_result",
          "data": {
            "text/html": [
              "<div>\n",
              "<style scoped>\n",
              "    .dataframe tbody tr th:only-of-type {\n",
              "        vertical-align: middle;\n",
              "    }\n",
              "\n",
              "    .dataframe tbody tr th {\n",
              "        vertical-align: top;\n",
              "    }\n",
              "\n",
              "    .dataframe thead th {\n",
              "        text-align: right;\n",
              "    }\n",
              "</style>\n",
              "<table border=\"1\" class=\"dataframe\">\n",
              "  <thead>\n",
              "    <tr style=\"text-align: right;\">\n",
              "      <th></th>\n",
              "      <th>Item</th>\n",
              "      <th>Value</th>\n",
              "    </tr>\n",
              "  </thead>\n",
              "  <tbody>\n",
              "    <tr>\n",
              "      <th>0</th>\n",
              "      <td>A</td>\n",
              "      <td>1</td>\n",
              "    </tr>\n",
              "    <tr>\n",
              "      <th>1</th>\n",
              "      <td>B</td>\n",
              "      <td>2</td>\n",
              "    </tr>\n",
              "    <tr>\n",
              "      <th>2</th>\n",
              "      <td>C</td>\n",
              "      <td>3</td>\n",
              "    </tr>\n",
              "    <tr>\n",
              "      <th>3</th>\n",
              "      <td>D</td>\n",
              "      <td>5</td>\n",
              "    </tr>\n",
              "    <tr>\n",
              "      <th>0</th>\n",
              "      <td>E</td>\n",
              "      <td>6</td>\n",
              "    </tr>\n",
              "    <tr>\n",
              "      <th>1</th>\n",
              "      <td>F</td>\n",
              "      <td>7</td>\n",
              "    </tr>\n",
              "    <tr>\n",
              "      <th>2</th>\n",
              "      <td>G</td>\n",
              "      <td>8</td>\n",
              "    </tr>\n",
              "    <tr>\n",
              "      <th>3</th>\n",
              "      <td>H</td>\n",
              "      <td>9</td>\n",
              "    </tr>\n",
              "  </tbody>\n",
              "</table>\n",
              "</div>"
            ],
            "text/plain": [
              "  Item  Value\n",
              "0    A      1\n",
              "1    B      2\n",
              "2    C      3\n",
              "3    D      5\n",
              "0    E      6\n",
              "1    F      7\n",
              "2    G      8\n",
              "3    H      9"
            ]
          },
          "metadata": {
            "tags": []
          },
          "execution_count": 9
        }
      ]
    },
    {
      "cell_type": "code",
      "metadata": {
        "colab": {
          "base_uri": "https://localhost:8080/",
          "height": 297
        },
        "id": "pTizlZD-eux_",
        "outputId": "e24f0699-9c04-4937-c862-be9ce218180a"
      },
      "source": [
        "df1 = pd.DataFrame({'Item':['A','B','C','D'], 'Value':[1,2,3,5]})\n",
        "df2 = pd.DataFrame({'Item':['E','F','G','H'], 'value':[6,7,8,9]})\n",
        "pd.concat([df1,df2])"
      ],
      "execution_count": null,
      "outputs": [
        {
          "output_type": "execute_result",
          "data": {
            "text/html": [
              "<div>\n",
              "<style scoped>\n",
              "    .dataframe tbody tr th:only-of-type {\n",
              "        vertical-align: middle;\n",
              "    }\n",
              "\n",
              "    .dataframe tbody tr th {\n",
              "        vertical-align: top;\n",
              "    }\n",
              "\n",
              "    .dataframe thead th {\n",
              "        text-align: right;\n",
              "    }\n",
              "</style>\n",
              "<table border=\"1\" class=\"dataframe\">\n",
              "  <thead>\n",
              "    <tr style=\"text-align: right;\">\n",
              "      <th></th>\n",
              "      <th>Item</th>\n",
              "      <th>Value</th>\n",
              "      <th>value</th>\n",
              "    </tr>\n",
              "  </thead>\n",
              "  <tbody>\n",
              "    <tr>\n",
              "      <th>0</th>\n",
              "      <td>A</td>\n",
              "      <td>1.0</td>\n",
              "      <td>NaN</td>\n",
              "    </tr>\n",
              "    <tr>\n",
              "      <th>1</th>\n",
              "      <td>B</td>\n",
              "      <td>2.0</td>\n",
              "      <td>NaN</td>\n",
              "    </tr>\n",
              "    <tr>\n",
              "      <th>2</th>\n",
              "      <td>C</td>\n",
              "      <td>3.0</td>\n",
              "      <td>NaN</td>\n",
              "    </tr>\n",
              "    <tr>\n",
              "      <th>3</th>\n",
              "      <td>D</td>\n",
              "      <td>5.0</td>\n",
              "      <td>NaN</td>\n",
              "    </tr>\n",
              "    <tr>\n",
              "      <th>0</th>\n",
              "      <td>E</td>\n",
              "      <td>NaN</td>\n",
              "      <td>6.0</td>\n",
              "    </tr>\n",
              "    <tr>\n",
              "      <th>1</th>\n",
              "      <td>F</td>\n",
              "      <td>NaN</td>\n",
              "      <td>7.0</td>\n",
              "    </tr>\n",
              "    <tr>\n",
              "      <th>2</th>\n",
              "      <td>G</td>\n",
              "      <td>NaN</td>\n",
              "      <td>8.0</td>\n",
              "    </tr>\n",
              "    <tr>\n",
              "      <th>3</th>\n",
              "      <td>H</td>\n",
              "      <td>NaN</td>\n",
              "      <td>9.0</td>\n",
              "    </tr>\n",
              "  </tbody>\n",
              "</table>\n",
              "</div>"
            ],
            "text/plain": [
              "  Item  Value  value\n",
              "0    A    1.0    NaN\n",
              "1    B    2.0    NaN\n",
              "2    C    3.0    NaN\n",
              "3    D    5.0    NaN\n",
              "0    E    NaN    6.0\n",
              "1    F    NaN    7.0\n",
              "2    G    NaN    8.0\n",
              "3    H    NaN    9.0"
            ]
          },
          "metadata": {
            "tags": []
          },
          "execution_count": 18
        }
      ]
    },
    {
      "cell_type": "code",
      "metadata": {
        "colab": {
          "base_uri": "https://localhost:8080/",
          "height": 297
        },
        "id": "vk2tKOPifZeD",
        "outputId": "88871511-2808-4c29-b9f0-5509c9ecabec"
      },
      "source": [
        "df1 = pd.DataFrame({'Item':['A','B','C','D'], 'Value':[1,2,3,5]})\n",
        "df2 = pd.DataFrame({'Item':['E','F','G','H'], 'Quantity':[6,7,8,9]})\n",
        "pd.concat([df1,df2])"
      ],
      "execution_count": null,
      "outputs": [
        {
          "output_type": "execute_result",
          "data": {
            "text/html": [
              "<div>\n",
              "<style scoped>\n",
              "    .dataframe tbody tr th:only-of-type {\n",
              "        vertical-align: middle;\n",
              "    }\n",
              "\n",
              "    .dataframe tbody tr th {\n",
              "        vertical-align: top;\n",
              "    }\n",
              "\n",
              "    .dataframe thead th {\n",
              "        text-align: right;\n",
              "    }\n",
              "</style>\n",
              "<table border=\"1\" class=\"dataframe\">\n",
              "  <thead>\n",
              "    <tr style=\"text-align: right;\">\n",
              "      <th></th>\n",
              "      <th>Item</th>\n",
              "      <th>Value</th>\n",
              "      <th>Quantity</th>\n",
              "    </tr>\n",
              "  </thead>\n",
              "  <tbody>\n",
              "    <tr>\n",
              "      <th>0</th>\n",
              "      <td>A</td>\n",
              "      <td>1.0</td>\n",
              "      <td>NaN</td>\n",
              "    </tr>\n",
              "    <tr>\n",
              "      <th>1</th>\n",
              "      <td>B</td>\n",
              "      <td>2.0</td>\n",
              "      <td>NaN</td>\n",
              "    </tr>\n",
              "    <tr>\n",
              "      <th>2</th>\n",
              "      <td>C</td>\n",
              "      <td>3.0</td>\n",
              "      <td>NaN</td>\n",
              "    </tr>\n",
              "    <tr>\n",
              "      <th>3</th>\n",
              "      <td>D</td>\n",
              "      <td>5.0</td>\n",
              "      <td>NaN</td>\n",
              "    </tr>\n",
              "    <tr>\n",
              "      <th>0</th>\n",
              "      <td>E</td>\n",
              "      <td>NaN</td>\n",
              "      <td>6.0</td>\n",
              "    </tr>\n",
              "    <tr>\n",
              "      <th>1</th>\n",
              "      <td>F</td>\n",
              "      <td>NaN</td>\n",
              "      <td>7.0</td>\n",
              "    </tr>\n",
              "    <tr>\n",
              "      <th>2</th>\n",
              "      <td>G</td>\n",
              "      <td>NaN</td>\n",
              "      <td>8.0</td>\n",
              "    </tr>\n",
              "    <tr>\n",
              "      <th>3</th>\n",
              "      <td>H</td>\n",
              "      <td>NaN</td>\n",
              "      <td>9.0</td>\n",
              "    </tr>\n",
              "  </tbody>\n",
              "</table>\n",
              "</div>"
            ],
            "text/plain": [
              "  Item  Value  Quantity\n",
              "0    A    1.0       NaN\n",
              "1    B    2.0       NaN\n",
              "2    C    3.0       NaN\n",
              "3    D    5.0       NaN\n",
              "0    E    NaN       6.0\n",
              "1    F    NaN       7.0\n",
              "2    G    NaN       8.0\n",
              "3    H    NaN       9.0"
            ]
          },
          "metadata": {
            "tags": []
          },
          "execution_count": 19
        }
      ]
    },
    {
      "cell_type": "code",
      "metadata": {
        "colab": {
          "base_uri": "https://localhost:8080/",
          "height": 297
        },
        "id": "KNYIiGpgfmIR",
        "outputId": "1b449e1d-178d-4012-a33e-948488c8f87f"
      },
      "source": [
        "df1 = pd.DataFrame({'Item':['A','B','C','D'], 'Value':[1,2,3,5]})\n",
        "df2 = pd.DataFrame({'Item':['E','F','G','H'], 'Quantity':[6,7,8,9]})\n",
        "pd.concat([df1,df2]).reset_index()"
      ],
      "execution_count": null,
      "outputs": [
        {
          "output_type": "execute_result",
          "data": {
            "text/html": [
              "<div>\n",
              "<style scoped>\n",
              "    .dataframe tbody tr th:only-of-type {\n",
              "        vertical-align: middle;\n",
              "    }\n",
              "\n",
              "    .dataframe tbody tr th {\n",
              "        vertical-align: top;\n",
              "    }\n",
              "\n",
              "    .dataframe thead th {\n",
              "        text-align: right;\n",
              "    }\n",
              "</style>\n",
              "<table border=\"1\" class=\"dataframe\">\n",
              "  <thead>\n",
              "    <tr style=\"text-align: right;\">\n",
              "      <th></th>\n",
              "      <th>index</th>\n",
              "      <th>Item</th>\n",
              "      <th>Value</th>\n",
              "      <th>Quantity</th>\n",
              "    </tr>\n",
              "  </thead>\n",
              "  <tbody>\n",
              "    <tr>\n",
              "      <th>0</th>\n",
              "      <td>0</td>\n",
              "      <td>A</td>\n",
              "      <td>1.0</td>\n",
              "      <td>NaN</td>\n",
              "    </tr>\n",
              "    <tr>\n",
              "      <th>1</th>\n",
              "      <td>1</td>\n",
              "      <td>B</td>\n",
              "      <td>2.0</td>\n",
              "      <td>NaN</td>\n",
              "    </tr>\n",
              "    <tr>\n",
              "      <th>2</th>\n",
              "      <td>2</td>\n",
              "      <td>C</td>\n",
              "      <td>3.0</td>\n",
              "      <td>NaN</td>\n",
              "    </tr>\n",
              "    <tr>\n",
              "      <th>3</th>\n",
              "      <td>3</td>\n",
              "      <td>D</td>\n",
              "      <td>5.0</td>\n",
              "      <td>NaN</td>\n",
              "    </tr>\n",
              "    <tr>\n",
              "      <th>4</th>\n",
              "      <td>0</td>\n",
              "      <td>E</td>\n",
              "      <td>NaN</td>\n",
              "      <td>6.0</td>\n",
              "    </tr>\n",
              "    <tr>\n",
              "      <th>5</th>\n",
              "      <td>1</td>\n",
              "      <td>F</td>\n",
              "      <td>NaN</td>\n",
              "      <td>7.0</td>\n",
              "    </tr>\n",
              "    <tr>\n",
              "      <th>6</th>\n",
              "      <td>2</td>\n",
              "      <td>G</td>\n",
              "      <td>NaN</td>\n",
              "      <td>8.0</td>\n",
              "    </tr>\n",
              "    <tr>\n",
              "      <th>7</th>\n",
              "      <td>3</td>\n",
              "      <td>H</td>\n",
              "      <td>NaN</td>\n",
              "      <td>9.0</td>\n",
              "    </tr>\n",
              "  </tbody>\n",
              "</table>\n",
              "</div>"
            ],
            "text/plain": [
              "   index Item  Value  Quantity\n",
              "0      0    A    1.0       NaN\n",
              "1      1    B    2.0       NaN\n",
              "2      2    C    3.0       NaN\n",
              "3      3    D    5.0       NaN\n",
              "4      0    E    NaN       6.0\n",
              "5      1    F    NaN       7.0\n",
              "6      2    G    NaN       8.0\n",
              "7      3    H    NaN       9.0"
            ]
          },
          "metadata": {
            "tags": []
          },
          "execution_count": 20
        }
      ]
    },
    {
      "cell_type": "code",
      "metadata": {
        "colab": {
          "base_uri": "https://localhost:8080/",
          "height": 173
        },
        "id": "3V_rfkAXgEmS",
        "outputId": "895bbe39-914c-4b38-ca4a-dad06e26848f"
      },
      "source": [
        "pd.concat([df1,df2], axis=1)"
      ],
      "execution_count": null,
      "outputs": [
        {
          "output_type": "execute_result",
          "data": {
            "text/html": [
              "<div>\n",
              "<style scoped>\n",
              "    .dataframe tbody tr th:only-of-type {\n",
              "        vertical-align: middle;\n",
              "    }\n",
              "\n",
              "    .dataframe tbody tr th {\n",
              "        vertical-align: top;\n",
              "    }\n",
              "\n",
              "    .dataframe thead th {\n",
              "        text-align: right;\n",
              "    }\n",
              "</style>\n",
              "<table border=\"1\" class=\"dataframe\">\n",
              "  <thead>\n",
              "    <tr style=\"text-align: right;\">\n",
              "      <th></th>\n",
              "      <th>Item</th>\n",
              "      <th>Value</th>\n",
              "      <th>Item</th>\n",
              "      <th>Quantity</th>\n",
              "    </tr>\n",
              "  </thead>\n",
              "  <tbody>\n",
              "    <tr>\n",
              "      <th>0</th>\n",
              "      <td>A</td>\n",
              "      <td>1</td>\n",
              "      <td>E</td>\n",
              "      <td>6</td>\n",
              "    </tr>\n",
              "    <tr>\n",
              "      <th>1</th>\n",
              "      <td>B</td>\n",
              "      <td>2</td>\n",
              "      <td>F</td>\n",
              "      <td>7</td>\n",
              "    </tr>\n",
              "    <tr>\n",
              "      <th>2</th>\n",
              "      <td>C</td>\n",
              "      <td>3</td>\n",
              "      <td>G</td>\n",
              "      <td>8</td>\n",
              "    </tr>\n",
              "    <tr>\n",
              "      <th>3</th>\n",
              "      <td>D</td>\n",
              "      <td>5</td>\n",
              "      <td>H</td>\n",
              "      <td>9</td>\n",
              "    </tr>\n",
              "  </tbody>\n",
              "</table>\n",
              "</div>"
            ],
            "text/plain": [
              "  Item  Value Item  Quantity\n",
              "0    A      1    E         6\n",
              "1    B      2    F         7\n",
              "2    C      3    G         8\n",
              "3    D      5    H         9"
            ]
          },
          "metadata": {
            "tags": []
          },
          "execution_count": 21
        }
      ]
    },
    {
      "cell_type": "markdown",
      "metadata": {
        "id": "RLbpWhIJg7dP"
      },
      "source": [
        "***Use Append to add multiple dataframes to another***"
      ]
    },
    {
      "cell_type": "code",
      "metadata": {
        "colab": {
          "base_uri": "https://localhost:8080/",
          "height": 421
        },
        "id": "Xr6kmJlogdQW",
        "outputId": "46538e5b-3fb3-4260-aef8-cc0c40679c14"
      },
      "source": [
        "import pandas as pd\n",
        "df1 = pd.DataFrame({'Item':['A','B','C','D'], 'Value':[1,2,3,5]})\n",
        "df2 = pd.DataFrame({'Item':['E','F','G','H'], 'Quantity':[6,7,8,9]})\n",
        "df3 = pd.DataFrame({'Item':['I','J','K','L'], 'Quantity':[3,7,4,25]})\n",
        "df1.append([df2,df3])"
      ],
      "execution_count": null,
      "outputs": [
        {
          "output_type": "execute_result",
          "data": {
            "text/html": [
              "<div>\n",
              "<style scoped>\n",
              "    .dataframe tbody tr th:only-of-type {\n",
              "        vertical-align: middle;\n",
              "    }\n",
              "\n",
              "    .dataframe tbody tr th {\n",
              "        vertical-align: top;\n",
              "    }\n",
              "\n",
              "    .dataframe thead th {\n",
              "        text-align: right;\n",
              "    }\n",
              "</style>\n",
              "<table border=\"1\" class=\"dataframe\">\n",
              "  <thead>\n",
              "    <tr style=\"text-align: right;\">\n",
              "      <th></th>\n",
              "      <th>Item</th>\n",
              "      <th>Value</th>\n",
              "      <th>Quantity</th>\n",
              "    </tr>\n",
              "  </thead>\n",
              "  <tbody>\n",
              "    <tr>\n",
              "      <th>0</th>\n",
              "      <td>A</td>\n",
              "      <td>1.0</td>\n",
              "      <td>NaN</td>\n",
              "    </tr>\n",
              "    <tr>\n",
              "      <th>1</th>\n",
              "      <td>B</td>\n",
              "      <td>2.0</td>\n",
              "      <td>NaN</td>\n",
              "    </tr>\n",
              "    <tr>\n",
              "      <th>2</th>\n",
              "      <td>C</td>\n",
              "      <td>3.0</td>\n",
              "      <td>NaN</td>\n",
              "    </tr>\n",
              "    <tr>\n",
              "      <th>3</th>\n",
              "      <td>D</td>\n",
              "      <td>5.0</td>\n",
              "      <td>NaN</td>\n",
              "    </tr>\n",
              "    <tr>\n",
              "      <th>0</th>\n",
              "      <td>E</td>\n",
              "      <td>NaN</td>\n",
              "      <td>6.0</td>\n",
              "    </tr>\n",
              "    <tr>\n",
              "      <th>1</th>\n",
              "      <td>F</td>\n",
              "      <td>NaN</td>\n",
              "      <td>7.0</td>\n",
              "    </tr>\n",
              "    <tr>\n",
              "      <th>2</th>\n",
              "      <td>G</td>\n",
              "      <td>NaN</td>\n",
              "      <td>8.0</td>\n",
              "    </tr>\n",
              "    <tr>\n",
              "      <th>3</th>\n",
              "      <td>H</td>\n",
              "      <td>NaN</td>\n",
              "      <td>9.0</td>\n",
              "    </tr>\n",
              "    <tr>\n",
              "      <th>0</th>\n",
              "      <td>I</td>\n",
              "      <td>NaN</td>\n",
              "      <td>3.0</td>\n",
              "    </tr>\n",
              "    <tr>\n",
              "      <th>1</th>\n",
              "      <td>J</td>\n",
              "      <td>NaN</td>\n",
              "      <td>7.0</td>\n",
              "    </tr>\n",
              "    <tr>\n",
              "      <th>2</th>\n",
              "      <td>K</td>\n",
              "      <td>NaN</td>\n",
              "      <td>4.0</td>\n",
              "    </tr>\n",
              "    <tr>\n",
              "      <th>3</th>\n",
              "      <td>L</td>\n",
              "      <td>NaN</td>\n",
              "      <td>25.0</td>\n",
              "    </tr>\n",
              "  </tbody>\n",
              "</table>\n",
              "</div>"
            ],
            "text/plain": [
              "  Item  Value  Quantity\n",
              "0    A    1.0       NaN\n",
              "1    B    2.0       NaN\n",
              "2    C    3.0       NaN\n",
              "3    D    5.0       NaN\n",
              "0    E    NaN       6.0\n",
              "1    F    NaN       7.0\n",
              "2    G    NaN       8.0\n",
              "3    H    NaN       9.0\n",
              "0    I    NaN       3.0\n",
              "1    J    NaN       7.0\n",
              "2    K    NaN       4.0\n",
              "3    L    NaN      25.0"
            ]
          },
          "metadata": {
            "tags": []
          },
          "execution_count": 23
        }
      ]
    },
    {
      "cell_type": "code",
      "metadata": {
        "colab": {
          "base_uri": "https://localhost:8080/",
          "height": 49
        },
        "id": "xPa6VDClhdOm",
        "outputId": "5441271d-9304-4039-ee09-ed31db8d99e6"
      },
      "source": [
        "dfA = pd.DataFrame({'Key':['A','B','C','D'], 'A':[1,2,3,5]})\n",
        "dfB = pd.DataFrame({'Key':['E','F','G','H'], 'B':[6,7,8,9]})\n",
        "pd.merge(dfA,dfB, on='Key')"
      ],
      "execution_count": null,
      "outputs": [
        {
          "output_type": "execute_result",
          "data": {
            "text/html": [
              "<div>\n",
              "<style scoped>\n",
              "    .dataframe tbody tr th:only-of-type {\n",
              "        vertical-align: middle;\n",
              "    }\n",
              "\n",
              "    .dataframe tbody tr th {\n",
              "        vertical-align: top;\n",
              "    }\n",
              "\n",
              "    .dataframe thead th {\n",
              "        text-align: right;\n",
              "    }\n",
              "</style>\n",
              "<table border=\"1\" class=\"dataframe\">\n",
              "  <thead>\n",
              "    <tr style=\"text-align: right;\">\n",
              "      <th></th>\n",
              "      <th>Key</th>\n",
              "      <th>A</th>\n",
              "      <th>B</th>\n",
              "    </tr>\n",
              "  </thead>\n",
              "  <tbody>\n",
              "  </tbody>\n",
              "</table>\n",
              "</div>"
            ],
            "text/plain": [
              "Empty DataFrame\n",
              "Columns: [Key, A, B]\n",
              "Index: []"
            ]
          },
          "metadata": {
            "tags": []
          },
          "execution_count": 24
        }
      ]
    },
    {
      "cell_type": "code",
      "metadata": {
        "colab": {
          "base_uri": "https://localhost:8080/",
          "height": 173
        },
        "id": "pQgXW-r7iZ69",
        "outputId": "af65783c-8642-409d-8b6c-41ca51a46b86"
      },
      "source": [
        "dfA = pd.DataFrame({'Key':['K0','K1','K2','K3'], 'A':['A0','A1','A2','A3'], 'B':['B0','B1','B2','B3']})\n",
        "dfB = pd.DataFrame({'Key':['K0','K1','K2','K3'], 'C':['C0','C1','C2','C3'], 'D':['D0','D1','D2','D3']})\n",
        "pd.merge(dfA,dfB, on='Key')"
      ],
      "execution_count": null,
      "outputs": [
        {
          "output_type": "execute_result",
          "data": {
            "text/html": [
              "<div>\n",
              "<style scoped>\n",
              "    .dataframe tbody tr th:only-of-type {\n",
              "        vertical-align: middle;\n",
              "    }\n",
              "\n",
              "    .dataframe tbody tr th {\n",
              "        vertical-align: top;\n",
              "    }\n",
              "\n",
              "    .dataframe thead th {\n",
              "        text-align: right;\n",
              "    }\n",
              "</style>\n",
              "<table border=\"1\" class=\"dataframe\">\n",
              "  <thead>\n",
              "    <tr style=\"text-align: right;\">\n",
              "      <th></th>\n",
              "      <th>Key</th>\n",
              "      <th>A</th>\n",
              "      <th>B</th>\n",
              "      <th>C</th>\n",
              "      <th>D</th>\n",
              "    </tr>\n",
              "  </thead>\n",
              "  <tbody>\n",
              "    <tr>\n",
              "      <th>0</th>\n",
              "      <td>K0</td>\n",
              "      <td>A0</td>\n",
              "      <td>B0</td>\n",
              "      <td>C0</td>\n",
              "      <td>D0</td>\n",
              "    </tr>\n",
              "    <tr>\n",
              "      <th>1</th>\n",
              "      <td>K1</td>\n",
              "      <td>A1</td>\n",
              "      <td>B1</td>\n",
              "      <td>C1</td>\n",
              "      <td>D1</td>\n",
              "    </tr>\n",
              "    <tr>\n",
              "      <th>2</th>\n",
              "      <td>K2</td>\n",
              "      <td>A2</td>\n",
              "      <td>B2</td>\n",
              "      <td>C2</td>\n",
              "      <td>D2</td>\n",
              "    </tr>\n",
              "    <tr>\n",
              "      <th>3</th>\n",
              "      <td>K3</td>\n",
              "      <td>A3</td>\n",
              "      <td>B3</td>\n",
              "      <td>C3</td>\n",
              "      <td>D3</td>\n",
              "    </tr>\n",
              "  </tbody>\n",
              "</table>\n",
              "</div>"
            ],
            "text/plain": [
              "  Key   A   B   C   D\n",
              "0  K0  A0  B0  C0  D0\n",
              "1  K1  A1  B1  C1  D1\n",
              "2  K2  A2  B2  C2  D2\n",
              "3  K3  A3  B3  C3  D3"
            ]
          },
          "metadata": {
            "tags": []
          },
          "execution_count": 25
        }
      ]
    },
    {
      "cell_type": "code",
      "metadata": {
        "colab": {
          "base_uri": "https://localhost:8080/",
          "height": 173
        },
        "id": "zTN_SdNajswC",
        "outputId": "65bbbf48-b9ff-4f74-d38d-d3293d9ece8d"
      },
      "source": [
        "dfA = pd.DataFrame({'Key':['K0','K1','K2','K3'], 'A':['A0','A1','A2','A3'], 'B':['B0','B1','B2','B3']})\n",
        "dfB = pd.DataFrame({'Key':['K0','K1','K2','K3'], 'C':['C0','C1','C2','C3'], 'D':['D0','D1','D2','D3']})\n",
        "pd.merge(dfA,dfB, how='left', on='Key')"
      ],
      "execution_count": null,
      "outputs": [
        {
          "output_type": "execute_result",
          "data": {
            "text/html": [
              "<div>\n",
              "<style scoped>\n",
              "    .dataframe tbody tr th:only-of-type {\n",
              "        vertical-align: middle;\n",
              "    }\n",
              "\n",
              "    .dataframe tbody tr th {\n",
              "        vertical-align: top;\n",
              "    }\n",
              "\n",
              "    .dataframe thead th {\n",
              "        text-align: right;\n",
              "    }\n",
              "</style>\n",
              "<table border=\"1\" class=\"dataframe\">\n",
              "  <thead>\n",
              "    <tr style=\"text-align: right;\">\n",
              "      <th></th>\n",
              "      <th>Key</th>\n",
              "      <th>A</th>\n",
              "      <th>B</th>\n",
              "      <th>C</th>\n",
              "      <th>D</th>\n",
              "    </tr>\n",
              "  </thead>\n",
              "  <tbody>\n",
              "    <tr>\n",
              "      <th>0</th>\n",
              "      <td>K0</td>\n",
              "      <td>A0</td>\n",
              "      <td>B0</td>\n",
              "      <td>C0</td>\n",
              "      <td>D0</td>\n",
              "    </tr>\n",
              "    <tr>\n",
              "      <th>1</th>\n",
              "      <td>K1</td>\n",
              "      <td>A1</td>\n",
              "      <td>B1</td>\n",
              "      <td>C1</td>\n",
              "      <td>D1</td>\n",
              "    </tr>\n",
              "    <tr>\n",
              "      <th>2</th>\n",
              "      <td>K2</td>\n",
              "      <td>A2</td>\n",
              "      <td>B2</td>\n",
              "      <td>C2</td>\n",
              "      <td>D2</td>\n",
              "    </tr>\n",
              "    <tr>\n",
              "      <th>3</th>\n",
              "      <td>K3</td>\n",
              "      <td>A3</td>\n",
              "      <td>B3</td>\n",
              "      <td>C3</td>\n",
              "      <td>D3</td>\n",
              "    </tr>\n",
              "  </tbody>\n",
              "</table>\n",
              "</div>"
            ],
            "text/plain": [
              "  Key   A   B   C   D\n",
              "0  K0  A0  B0  C0  D0\n",
              "1  K1  A1  B1  C1  D1\n",
              "2  K2  A2  B2  C2  D2\n",
              "3  K3  A3  B3  C3  D3"
            ]
          },
          "metadata": {
            "tags": []
          },
          "execution_count": 26
        }
      ]
    },
    {
      "cell_type": "code",
      "metadata": {
        "colab": {
          "base_uri": "https://localhost:8080/",
          "height": 173
        },
        "id": "pAzgFh-PjyF7",
        "outputId": "509cd8a8-b721-4d3d-864a-ebc4e49d2330"
      },
      "source": [
        "dfA = pd.DataFrame({'Key':['K0','K1','K2','K3'], 'A':['A0','A1','A2','A3'], 'B':['B0','B1','B2','B3']})\n",
        "dfB = pd.DataFrame({'Key':['K0','K1','K2','K3'], 'C':['C0','C1','C2','C3'], 'D':['D0','D1','D2','D3']})\n",
        "pd.merge(dfA,dfB, how='right', on='Key')"
      ],
      "execution_count": null,
      "outputs": [
        {
          "output_type": "execute_result",
          "data": {
            "text/html": [
              "<div>\n",
              "<style scoped>\n",
              "    .dataframe tbody tr th:only-of-type {\n",
              "        vertical-align: middle;\n",
              "    }\n",
              "\n",
              "    .dataframe tbody tr th {\n",
              "        vertical-align: top;\n",
              "    }\n",
              "\n",
              "    .dataframe thead th {\n",
              "        text-align: right;\n",
              "    }\n",
              "</style>\n",
              "<table border=\"1\" class=\"dataframe\">\n",
              "  <thead>\n",
              "    <tr style=\"text-align: right;\">\n",
              "      <th></th>\n",
              "      <th>Key</th>\n",
              "      <th>A</th>\n",
              "      <th>B</th>\n",
              "      <th>C</th>\n",
              "      <th>D</th>\n",
              "    </tr>\n",
              "  </thead>\n",
              "  <tbody>\n",
              "    <tr>\n",
              "      <th>0</th>\n",
              "      <td>K0</td>\n",
              "      <td>A0</td>\n",
              "      <td>B0</td>\n",
              "      <td>C0</td>\n",
              "      <td>D0</td>\n",
              "    </tr>\n",
              "    <tr>\n",
              "      <th>1</th>\n",
              "      <td>K1</td>\n",
              "      <td>A1</td>\n",
              "      <td>B1</td>\n",
              "      <td>C1</td>\n",
              "      <td>D1</td>\n",
              "    </tr>\n",
              "    <tr>\n",
              "      <th>2</th>\n",
              "      <td>K2</td>\n",
              "      <td>A2</td>\n",
              "      <td>B2</td>\n",
              "      <td>C2</td>\n",
              "      <td>D2</td>\n",
              "    </tr>\n",
              "    <tr>\n",
              "      <th>3</th>\n",
              "      <td>K3</td>\n",
              "      <td>A3</td>\n",
              "      <td>B3</td>\n",
              "      <td>C3</td>\n",
              "      <td>D3</td>\n",
              "    </tr>\n",
              "  </tbody>\n",
              "</table>\n",
              "</div>"
            ],
            "text/plain": [
              "  Key   A   B   C   D\n",
              "0  K0  A0  B0  C0  D0\n",
              "1  K1  A1  B1  C1  D1\n",
              "2  K2  A2  B2  C2  D2\n",
              "3  K3  A3  B3  C3  D3"
            ]
          },
          "metadata": {
            "tags": []
          },
          "execution_count": 27
        }
      ]
    },
    {
      "cell_type": "code",
      "metadata": {
        "colab": {
          "base_uri": "https://localhost:8080/",
          "height": 173
        },
        "id": "kCsy4AWmj3ZX",
        "outputId": "bc01b234-d088-42ca-8985-6be71a01b376"
      },
      "source": [
        "dfA = pd.DataFrame({'Key':['K0','K1','K2','K3'], 'A':['A0','A1','A2','A3'], 'B':['B0','B1','B2','B3']})\n",
        "dfB = pd.DataFrame({'Key':['K0','K1','K2','K3'], 'C':['C0','C1','C2','C3'], 'D':['D0','D1','D2','D3']})\n",
        "pd.merge(dfA,dfB, how='inner', on='Key')"
      ],
      "execution_count": null,
      "outputs": [
        {
          "output_type": "execute_result",
          "data": {
            "text/html": [
              "<div>\n",
              "<style scoped>\n",
              "    .dataframe tbody tr th:only-of-type {\n",
              "        vertical-align: middle;\n",
              "    }\n",
              "\n",
              "    .dataframe tbody tr th {\n",
              "        vertical-align: top;\n",
              "    }\n",
              "\n",
              "    .dataframe thead th {\n",
              "        text-align: right;\n",
              "    }\n",
              "</style>\n",
              "<table border=\"1\" class=\"dataframe\">\n",
              "  <thead>\n",
              "    <tr style=\"text-align: right;\">\n",
              "      <th></th>\n",
              "      <th>Key</th>\n",
              "      <th>A</th>\n",
              "      <th>B</th>\n",
              "      <th>C</th>\n",
              "      <th>D</th>\n",
              "    </tr>\n",
              "  </thead>\n",
              "  <tbody>\n",
              "    <tr>\n",
              "      <th>0</th>\n",
              "      <td>K0</td>\n",
              "      <td>A0</td>\n",
              "      <td>B0</td>\n",
              "      <td>C0</td>\n",
              "      <td>D0</td>\n",
              "    </tr>\n",
              "    <tr>\n",
              "      <th>1</th>\n",
              "      <td>K1</td>\n",
              "      <td>A1</td>\n",
              "      <td>B1</td>\n",
              "      <td>C1</td>\n",
              "      <td>D1</td>\n",
              "    </tr>\n",
              "    <tr>\n",
              "      <th>2</th>\n",
              "      <td>K2</td>\n",
              "      <td>A2</td>\n",
              "      <td>B2</td>\n",
              "      <td>C2</td>\n",
              "      <td>D2</td>\n",
              "    </tr>\n",
              "    <tr>\n",
              "      <th>3</th>\n",
              "      <td>K3</td>\n",
              "      <td>A3</td>\n",
              "      <td>B3</td>\n",
              "      <td>C3</td>\n",
              "      <td>D3</td>\n",
              "    </tr>\n",
              "  </tbody>\n",
              "</table>\n",
              "</div>"
            ],
            "text/plain": [
              "  Key   A   B   C   D\n",
              "0  K0  A0  B0  C0  D0\n",
              "1  K1  A1  B1  C1  D1\n",
              "2  K2  A2  B2  C2  D2\n",
              "3  K3  A3  B3  C3  D3"
            ]
          },
          "metadata": {
            "tags": []
          },
          "execution_count": 28
        }
      ]
    },
    {
      "cell_type": "markdown",
      "metadata": {
        "id": "ptfAN1iqkTzN"
      },
      "source": [
        "**Joining**"
      ]
    },
    {
      "cell_type": "code",
      "metadata": {
        "id": "hOXqPsPYkCrD"
      },
      "source": [
        "left = pd.DataFrame({'A':['K0','K1','K2','K3'], 'B':['A0','A1','A2','A3']}, index = ['B0','B1','B2','B3'])"
      ],
      "execution_count": null,
      "outputs": []
    },
    {
      "cell_type": "code",
      "metadata": {
        "colab": {
          "base_uri": "https://localhost:8080/",
          "height": 173
        },
        "id": "Cg2l1ueVkoqW",
        "outputId": "9ed0d16f-564f-4df8-a5d7-47a0f51d03e5"
      },
      "source": [
        "left"
      ],
      "execution_count": null,
      "outputs": [
        {
          "output_type": "execute_result",
          "data": {
            "text/html": [
              "<div>\n",
              "<style scoped>\n",
              "    .dataframe tbody tr th:only-of-type {\n",
              "        vertical-align: middle;\n",
              "    }\n",
              "\n",
              "    .dataframe tbody tr th {\n",
              "        vertical-align: top;\n",
              "    }\n",
              "\n",
              "    .dataframe thead th {\n",
              "        text-align: right;\n",
              "    }\n",
              "</style>\n",
              "<table border=\"1\" class=\"dataframe\">\n",
              "  <thead>\n",
              "    <tr style=\"text-align: right;\">\n",
              "      <th></th>\n",
              "      <th>A</th>\n",
              "      <th>B</th>\n",
              "    </tr>\n",
              "  </thead>\n",
              "  <tbody>\n",
              "    <tr>\n",
              "      <th>B0</th>\n",
              "      <td>K0</td>\n",
              "      <td>A0</td>\n",
              "    </tr>\n",
              "    <tr>\n",
              "      <th>B1</th>\n",
              "      <td>K1</td>\n",
              "      <td>A1</td>\n",
              "    </tr>\n",
              "    <tr>\n",
              "      <th>B2</th>\n",
              "      <td>K2</td>\n",
              "      <td>A2</td>\n",
              "    </tr>\n",
              "    <tr>\n",
              "      <th>B3</th>\n",
              "      <td>K3</td>\n",
              "      <td>A3</td>\n",
              "    </tr>\n",
              "  </tbody>\n",
              "</table>\n",
              "</div>"
            ],
            "text/plain": [
              "     A   B\n",
              "B0  K0  A0\n",
              "B1  K1  A1\n",
              "B2  K2  A2\n",
              "B3  K3  A3"
            ]
          },
          "metadata": {
            "tags": []
          },
          "execution_count": 32
        }
      ]
    },
    {
      "cell_type": "code",
      "metadata": {
        "colab": {
          "base_uri": "https://localhost:8080/",
          "height": 173
        },
        "id": "B-7sFBJbkzdJ",
        "outputId": "8dd77954-d4ad-43df-98c3-f7c911df30e9"
      },
      "source": [
        "right = pd.DataFrame({'A':['K0','K1','K2','K3'], 'B':['A0','A1','A2','A3']}, index = ['B3','B2','B1','B0'])\n",
        "right"
      ],
      "execution_count": null,
      "outputs": [
        {
          "output_type": "execute_result",
          "data": {
            "text/html": [
              "<div>\n",
              "<style scoped>\n",
              "    .dataframe tbody tr th:only-of-type {\n",
              "        vertical-align: middle;\n",
              "    }\n",
              "\n",
              "    .dataframe tbody tr th {\n",
              "        vertical-align: top;\n",
              "    }\n",
              "\n",
              "    .dataframe thead th {\n",
              "        text-align: right;\n",
              "    }\n",
              "</style>\n",
              "<table border=\"1\" class=\"dataframe\">\n",
              "  <thead>\n",
              "    <tr style=\"text-align: right;\">\n",
              "      <th></th>\n",
              "      <th>A</th>\n",
              "      <th>B</th>\n",
              "    </tr>\n",
              "  </thead>\n",
              "  <tbody>\n",
              "    <tr>\n",
              "      <th>B3</th>\n",
              "      <td>K0</td>\n",
              "      <td>A0</td>\n",
              "    </tr>\n",
              "    <tr>\n",
              "      <th>B2</th>\n",
              "      <td>K1</td>\n",
              "      <td>A1</td>\n",
              "    </tr>\n",
              "    <tr>\n",
              "      <th>B1</th>\n",
              "      <td>K2</td>\n",
              "      <td>A2</td>\n",
              "    </tr>\n",
              "    <tr>\n",
              "      <th>B0</th>\n",
              "      <td>K3</td>\n",
              "      <td>A3</td>\n",
              "    </tr>\n",
              "  </tbody>\n",
              "</table>\n",
              "</div>"
            ],
            "text/plain": [
              "     A   B\n",
              "B3  K0  A0\n",
              "B2  K1  A1\n",
              "B1  K2  A2\n",
              "B0  K3  A3"
            ]
          },
          "metadata": {
            "tags": []
          },
          "execution_count": 33
        }
      ]
    },
    {
      "cell_type": "code",
      "metadata": {
        "colab": {
          "base_uri": "https://localhost:8080/",
          "height": 142
        },
        "id": "EPXhvxOslolB",
        "outputId": "fe160294-7e38-4369-d1f0-474d03d5a04f"
      },
      "source": [
        "left = pd.DataFrame({'A':['A0','A1','A2'], 'B':['B0','B1','B2']}, index = ['K0','K1','K2'])\n",
        "left"
      ],
      "execution_count": null,
      "outputs": [
        {
          "output_type": "execute_result",
          "data": {
            "text/html": [
              "<div>\n",
              "<style scoped>\n",
              "    .dataframe tbody tr th:only-of-type {\n",
              "        vertical-align: middle;\n",
              "    }\n",
              "\n",
              "    .dataframe tbody tr th {\n",
              "        vertical-align: top;\n",
              "    }\n",
              "\n",
              "    .dataframe thead th {\n",
              "        text-align: right;\n",
              "    }\n",
              "</style>\n",
              "<table border=\"1\" class=\"dataframe\">\n",
              "  <thead>\n",
              "    <tr style=\"text-align: right;\">\n",
              "      <th></th>\n",
              "      <th>A</th>\n",
              "      <th>B</th>\n",
              "    </tr>\n",
              "  </thead>\n",
              "  <tbody>\n",
              "    <tr>\n",
              "      <th>K0</th>\n",
              "      <td>A0</td>\n",
              "      <td>B0</td>\n",
              "    </tr>\n",
              "    <tr>\n",
              "      <th>K1</th>\n",
              "      <td>A1</td>\n",
              "      <td>B1</td>\n",
              "    </tr>\n",
              "    <tr>\n",
              "      <th>K2</th>\n",
              "      <td>A2</td>\n",
              "      <td>B2</td>\n",
              "    </tr>\n",
              "  </tbody>\n",
              "</table>\n",
              "</div>"
            ],
            "text/plain": [
              "     A   B\n",
              "K0  A0  B0\n",
              "K1  A1  B1\n",
              "K2  A2  B2"
            ]
          },
          "metadata": {
            "tags": []
          },
          "execution_count": 34
        }
      ]
    },
    {
      "cell_type": "code",
      "metadata": {
        "colab": {
          "base_uri": "https://localhost:8080/",
          "height": 142
        },
        "id": "JqeC7WCTlHPZ",
        "outputId": "822fdb74-6585-4b3b-9806-342408a4ad9f"
      },
      "source": [
        "right = pd.DataFrame({'C':['C0','C1','C2'], 'D':['D0','D1','D2']}, index = ['K0','K1','K2'])\n",
        "right"
      ],
      "execution_count": null,
      "outputs": [
        {
          "output_type": "execute_result",
          "data": {
            "text/html": [
              "<div>\n",
              "<style scoped>\n",
              "    .dataframe tbody tr th:only-of-type {\n",
              "        vertical-align: middle;\n",
              "    }\n",
              "\n",
              "    .dataframe tbody tr th {\n",
              "        vertical-align: top;\n",
              "    }\n",
              "\n",
              "    .dataframe thead th {\n",
              "        text-align: right;\n",
              "    }\n",
              "</style>\n",
              "<table border=\"1\" class=\"dataframe\">\n",
              "  <thead>\n",
              "    <tr style=\"text-align: right;\">\n",
              "      <th></th>\n",
              "      <th>C</th>\n",
              "      <th>D</th>\n",
              "    </tr>\n",
              "  </thead>\n",
              "  <tbody>\n",
              "    <tr>\n",
              "      <th>K0</th>\n",
              "      <td>C0</td>\n",
              "      <td>D0</td>\n",
              "    </tr>\n",
              "    <tr>\n",
              "      <th>K1</th>\n",
              "      <td>C1</td>\n",
              "      <td>D1</td>\n",
              "    </tr>\n",
              "    <tr>\n",
              "      <th>K2</th>\n",
              "      <td>C2</td>\n",
              "      <td>D2</td>\n",
              "    </tr>\n",
              "  </tbody>\n",
              "</table>\n",
              "</div>"
            ],
            "text/plain": [
              "     C   D\n",
              "K0  C0  D0\n",
              "K1  C1  D1\n",
              "K2  C2  D2"
            ]
          },
          "metadata": {
            "tags": []
          },
          "execution_count": 35
        }
      ]
    },
    {
      "cell_type": "code",
      "metadata": {
        "colab": {
          "base_uri": "https://localhost:8080/",
          "height": 142
        },
        "id": "5itlOS6UmJKv",
        "outputId": "6418af26-05d0-4715-ce25-df5f357fc7b7"
      },
      "source": [
        "left.join(right)"
      ],
      "execution_count": null,
      "outputs": [
        {
          "output_type": "execute_result",
          "data": {
            "text/html": [
              "<div>\n",
              "<style scoped>\n",
              "    .dataframe tbody tr th:only-of-type {\n",
              "        vertical-align: middle;\n",
              "    }\n",
              "\n",
              "    .dataframe tbody tr th {\n",
              "        vertical-align: top;\n",
              "    }\n",
              "\n",
              "    .dataframe thead th {\n",
              "        text-align: right;\n",
              "    }\n",
              "</style>\n",
              "<table border=\"1\" class=\"dataframe\">\n",
              "  <thead>\n",
              "    <tr style=\"text-align: right;\">\n",
              "      <th></th>\n",
              "      <th>A</th>\n",
              "      <th>B</th>\n",
              "      <th>C</th>\n",
              "      <th>D</th>\n",
              "    </tr>\n",
              "  </thead>\n",
              "  <tbody>\n",
              "    <tr>\n",
              "      <th>K0</th>\n",
              "      <td>A0</td>\n",
              "      <td>B0</td>\n",
              "      <td>C0</td>\n",
              "      <td>D0</td>\n",
              "    </tr>\n",
              "    <tr>\n",
              "      <th>K1</th>\n",
              "      <td>A1</td>\n",
              "      <td>B1</td>\n",
              "      <td>C1</td>\n",
              "      <td>D1</td>\n",
              "    </tr>\n",
              "    <tr>\n",
              "      <th>K2</th>\n",
              "      <td>A2</td>\n",
              "      <td>B2</td>\n",
              "      <td>C2</td>\n",
              "      <td>D2</td>\n",
              "    </tr>\n",
              "  </tbody>\n",
              "</table>\n",
              "</div>"
            ],
            "text/plain": [
              "     A   B   C   D\n",
              "K0  A0  B0  C0  D0\n",
              "K1  A1  B1  C1  D1\n",
              "K2  A2  B2  C2  D2"
            ]
          },
          "metadata": {
            "tags": []
          },
          "execution_count": 36
        }
      ]
    },
    {
      "cell_type": "code",
      "metadata": {
        "colab": {
          "base_uri": "https://localhost:8080/",
          "height": 142
        },
        "id": "xHODHF51mL1r",
        "outputId": "1c08e41c-fcbf-44ef-ce90-6c5d95827a80"
      },
      "source": [
        "left.join(right,how='outer')"
      ],
      "execution_count": null,
      "outputs": [
        {
          "output_type": "execute_result",
          "data": {
            "text/html": [
              "<div>\n",
              "<style scoped>\n",
              "    .dataframe tbody tr th:only-of-type {\n",
              "        vertical-align: middle;\n",
              "    }\n",
              "\n",
              "    .dataframe tbody tr th {\n",
              "        vertical-align: top;\n",
              "    }\n",
              "\n",
              "    .dataframe thead th {\n",
              "        text-align: right;\n",
              "    }\n",
              "</style>\n",
              "<table border=\"1\" class=\"dataframe\">\n",
              "  <thead>\n",
              "    <tr style=\"text-align: right;\">\n",
              "      <th></th>\n",
              "      <th>A</th>\n",
              "      <th>B</th>\n",
              "      <th>C</th>\n",
              "      <th>D</th>\n",
              "    </tr>\n",
              "  </thead>\n",
              "  <tbody>\n",
              "    <tr>\n",
              "      <th>K0</th>\n",
              "      <td>A0</td>\n",
              "      <td>B0</td>\n",
              "      <td>C0</td>\n",
              "      <td>D0</td>\n",
              "    </tr>\n",
              "    <tr>\n",
              "      <th>K1</th>\n",
              "      <td>A1</td>\n",
              "      <td>B1</td>\n",
              "      <td>C1</td>\n",
              "      <td>D1</td>\n",
              "    </tr>\n",
              "    <tr>\n",
              "      <th>K2</th>\n",
              "      <td>A2</td>\n",
              "      <td>B2</td>\n",
              "      <td>C2</td>\n",
              "      <td>D2</td>\n",
              "    </tr>\n",
              "  </tbody>\n",
              "</table>\n",
              "</div>"
            ],
            "text/plain": [
              "     A   B   C   D\n",
              "K0  A0  B0  C0  D0\n",
              "K1  A1  B1  C1  D1\n",
              "K2  A2  B2  C2  D2"
            ]
          },
          "metadata": {
            "tags": []
          },
          "execution_count": 37
        }
      ]
    },
    {
      "cell_type": "code",
      "metadata": {
        "colab": {
          "base_uri": "https://localhost:8080/"
        },
        "id": "FiXpQQAmmY1y",
        "outputId": "31416e0f-5562-45f5-dae2-1213f5106a03"
      },
      "source": [
        "# Python Program for finding H.C.F of two input numbers\n",
        "def computeHCF(x,y):\n",
        "# choose the smaller number\n",
        "    if x>y:\n",
        "      smaller = y\n",
        "    else:\n",
        "      smaller = x\n",
        "    for i in range(1, smaller+1):\n",
        "       if ((x % i == 0) and (y % i ==0)):\n",
        "        hcf =i\n",
        "\n",
        "    return hcf\n",
        "num1 = int(input(\"Enter first number\"))\n",
        "num2 = int(input(\"Enter second number\"))\n",
        "print(\"The H.C.G of\",num1, \"and\", num2, \"is\", computeHCF(num1,num2))"
      ],
      "execution_count": null,
      "outputs": [
        {
          "output_type": "stream",
          "text": [
            "Enter first number54\n",
            "Enter second number22\n",
            "The H.C.G of 54 and 22 is 2\n"
          ],
          "name": "stdout"
        }
      ]
    },
    {
      "cell_type": "code",
      "metadata": {
        "colab": {
          "base_uri": "https://localhost:8080/"
        },
        "id": "nGJRu0nLoFlV",
        "outputId": "0d8a0b99-2eb7-4eb6-8efc-e9002a12c976"
      },
      "source": [
        "def computeHCF(x,y):\n",
        "  if x>y:\n",
        "    smaller = y\n",
        "  else:\n",
        "    smaller = x\n",
        "  for i in range(1, smaller+1):\n",
        "     if ((x % i == 0) and (y % i ==0)):\n",
        "      hcf =i\n",
        "\n",
        "  return hcf\n",
        "num1 = 54\n",
        "num2 = 22\n",
        "print(\"The H.C.G of\",num1, \"and\", num2, \"is\", computeHCF(num1,num2))"
      ],
      "execution_count": null,
      "outputs": [
        {
          "output_type": "stream",
          "text": [
            "The H.C.G of 54 and 22 is 2\n"
          ],
          "name": "stdout"
        }
      ]
    },
    {
      "cell_type": "markdown",
      "metadata": {
        "id": "_3LY1rs3OaQw"
      },
      "source": [
        "**Python Dictionaries**"
      ]
    },
    {
      "cell_type": "code",
      "metadata": {
        "id": "P6Js847HpyXd",
        "colab": {
          "base_uri": "https://localhost:8080/"
        },
        "outputId": "aa2101e8-4552-4679-c1f9-b18000dd77f0"
      },
      "source": [
        "thisdict = {\n",
        "    \"Brand\": \"Ford\",\n",
        "    \"Model\": \"Mustang\",\n",
        "    \"Year\" : 1964\n",
        "}\n",
        "print(thisdict)"
      ],
      "execution_count": null,
      "outputs": [
        {
          "output_type": "stream",
          "text": [
            "{'Brand': 'Ford', 'Model': 'Mustang', 'Year': 1964}\n"
          ],
          "name": "stdout"
        }
      ]
    },
    {
      "cell_type": "code",
      "metadata": {
        "colab": {
          "base_uri": "https://localhost:8080/"
        },
        "id": "Li-Ust1JPOBl",
        "outputId": "d2e02ce5-0b21-4351-ce3b-68e2d4b3de48"
      },
      "source": [
        "thisdict = {\n",
        "    \"Brand\": \"Ford\",\n",
        "    \"Model\": \"Mustang\",\n",
        "    \"Year\" : 1964,\n",
        "    \"Country\": \"India\"\n",
        "}\n",
        "print(thisdict)"
      ],
      "execution_count": null,
      "outputs": [
        {
          "output_type": "stream",
          "text": [
            "{'Brand': 'Ford', 'Model': 'Mustang', 'Year': 1964, 'Country': 'India'}\n"
          ],
          "name": "stdout"
        }
      ]
    },
    {
      "cell_type": "code",
      "metadata": {
        "colab": {
          "base_uri": "https://localhost:8080/"
        },
        "id": "RKYHYfmqP2x3",
        "outputId": "1447de1e-9b76-4fd6-94cb-2e6a975ad7b7"
      },
      "source": [
        "thisdict = {\n",
        "    \"Brand\": \"Ford\",\n",
        "    \"Model\": \"Mustang\",\n",
        "    \"Year\" : 1964,\n",
        "    \"Country\": \"India\"\n",
        "}\n",
        "print(thisdict[\"Brand\"])"
      ],
      "execution_count": null,
      "outputs": [
        {
          "output_type": "stream",
          "text": [
            "Ford\n"
          ],
          "name": "stdout"
        }
      ]
    },
    {
      "cell_type": "code",
      "metadata": {
        "colab": {
          "base_uri": "https://localhost:8080/"
        },
        "id": "NcKfeQNfQBR9",
        "outputId": "86c977e9-7ad4-4acf-c315-f835ba6fe853"
      },
      "source": [
        "thisdict = {\n",
        "    \"Brand\": \"Ford\",\n",
        "    \"Model\": \"Mustang\",\n",
        "    \"Year\" : 1964,\n",
        "    \"Country\": \"India\"\n",
        "}\n",
        "print(thisdict[\"Year\"])"
      ],
      "execution_count": null,
      "outputs": [
        {
          "output_type": "stream",
          "text": [
            "1964\n"
          ],
          "name": "stdout"
        }
      ]
    },
    {
      "cell_type": "code",
      "metadata": {
        "colab": {
          "base_uri": "https://localhost:8080/"
        },
        "id": "jwJmlEKoQEmN",
        "outputId": "7ae77604-17a8-4962-f544-ed526270211e"
      },
      "source": [
        "thisdict = {\n",
        "    \"Brand\": \"Ford\",\n",
        "    \"Model\": \"Mustang\",\n",
        "    \"Year\" : 1964,\n",
        "    \"Country\": \"India\"\n",
        "}\n",
        "print(thisdict[\"Model\"])"
      ],
      "execution_count": null,
      "outputs": [
        {
          "output_type": "stream",
          "text": [
            "Mustang\n"
          ],
          "name": "stdout"
        }
      ]
    },
    {
      "cell_type": "code",
      "metadata": {
        "colab": {
          "base_uri": "https://localhost:8080/"
        },
        "id": "bHyWuUVIQH0Q",
        "outputId": "3d230f38-626b-4c19-a55f-35907378dff5"
      },
      "source": [
        "thisdict = {\n",
        "    \"Brand\": \"Ford\",\n",
        "    \"Model\": \"Mustang\",\n",
        "    \"Year\" : 1964,\n",
        "    \"Country\": \"India\"\n",
        "}\n",
        "print(thisdict[\"Country\"])"
      ],
      "execution_count": null,
      "outputs": [
        {
          "output_type": "stream",
          "text": [
            "India\n"
          ],
          "name": "stdout"
        }
      ]
    },
    {
      "cell_type": "code",
      "metadata": {
        "colab": {
          "base_uri": "https://localhost:8080/"
        },
        "id": "mdkgjQYXQUzl",
        "outputId": "5e8cbf4e-f338-42f7-8d7e-9a97d806f70d"
      },
      "source": [
        "thisdict = {\n",
        "    \"Brand\": \"Ford\",\n",
        "    \"Model\": \"Mustang\",\n",
        "    \"Year\" : 1964,\n",
        "    \"Country\": \"India\",\n",
        "    \"Year\" : 2020\n",
        "}\n",
        "print(thisdict[\"Year\"])"
      ],
      "execution_count": null,
      "outputs": [
        {
          "output_type": "stream",
          "text": [
            "2020\n"
          ],
          "name": "stdout"
        }
      ]
    },
    {
      "cell_type": "code",
      "metadata": {
        "colab": {
          "base_uri": "https://localhost:8080/"
        },
        "id": "p4pbjym-QgdW",
        "outputId": "51ad7ca2-d4c1-4f90-9378-ed4c38a3fbac"
      },
      "source": [
        "print(len(thisdict))"
      ],
      "execution_count": null,
      "outputs": [
        {
          "output_type": "stream",
          "text": [
            "4\n"
          ],
          "name": "stdout"
        }
      ]
    },
    {
      "cell_type": "code",
      "metadata": {
        "colab": {
          "base_uri": "https://localhost:8080/"
        },
        "id": "zpxCkKRjU3cj",
        "outputId": "6aafc260-416f-46db-f419-e97d82c78f59"
      },
      "source": [
        "thisdict = {\n",
        "    \"Brand\": \"Ford\",\n",
        "    \"Model\": \"Mustang\",\n",
        "    \"Year\" : 2020,\n",
        "    \"Country\": \"India\"\n",
        "}\n",
        "print(thisdict[\"Year\"])"
      ],
      "execution_count": null,
      "outputs": [
        {
          "output_type": "stream",
          "text": [
            "2020\n"
          ],
          "name": "stdout"
        }
      ]
    },
    {
      "cell_type": "code",
      "metadata": {
        "colab": {
          "base_uri": "https://localhost:8080/"
        },
        "id": "vY2TeduwVaDU",
        "outputId": "87ddce88-4012-42c1-d102-cc99acb7a3ce"
      },
      "source": [
        "print(len(thisdict))"
      ],
      "execution_count": null,
      "outputs": [
        {
          "output_type": "stream",
          "text": [
            "4\n"
          ],
          "name": "stdout"
        }
      ]
    },
    {
      "cell_type": "code",
      "metadata": {
        "colab": {
          "base_uri": "https://localhost:8080/"
        },
        "id": "aUZLvCsuVh2t",
        "outputId": "8ba04496-5752-4f0a-b3c0-ed46fbd76c84"
      },
      "source": [
        "thisdict = {\n",
        "    \"Brand\": \"Ford\",\n",
        "    \"Model\": \"Mustang\",\n",
        "    \"Country\": \"India\"\n",
        "}\n",
        "print(thisdict[\"Model\"])"
      ],
      "execution_count": null,
      "outputs": [
        {
          "output_type": "stream",
          "text": [
            "Mustang\n"
          ],
          "name": "stdout"
        }
      ]
    },
    {
      "cell_type": "code",
      "metadata": {
        "colab": {
          "base_uri": "https://localhost:8080/"
        },
        "id": "7OwwQsX3n9Tz",
        "outputId": "c392882d-5d29-4b1b-80ad-e51e496c084e"
      },
      "source": [
        "print(len(thisdict))"
      ],
      "execution_count": null,
      "outputs": [
        {
          "output_type": "stream",
          "text": [
            "3\n"
          ],
          "name": "stdout"
        }
      ]
    },
    {
      "cell_type": "code",
      "metadata": {
        "colab": {
          "base_uri": "https://localhost:8080/"
        },
        "id": "WkKJ1q6FoUZK",
        "outputId": "c339edd4-cbee-4827-8726-83d388ef48c1"
      },
      "source": [
        "thisdict = {\n",
        "    \"Brand\": \"Ford\",\n",
        "    \"Model\": \"Mustang\",\n",
        "    \"Year\" : 1964,\n",
        "    \"Country\": \"India\",\n",
        "    \"Colors\": [\"Red\",\"White\",\"Blue\"]\n",
        "}\n",
        "print(thisdict)"
      ],
      "execution_count": null,
      "outputs": [
        {
          "output_type": "stream",
          "text": [
            "{'Brand': 'Ford', 'Model': 'Mustang', 'Year': 1964, 'Country': 'India', 'Colors': ['Red', 'White', 'Blue']}\n"
          ],
          "name": "stdout"
        }
      ]
    },
    {
      "cell_type": "code",
      "metadata": {
        "colab": {
          "base_uri": "https://localhost:8080/"
        },
        "id": "EMMCdmuYo_7d",
        "outputId": "93688167-e9f6-406d-fb06-93fc90389f73"
      },
      "source": [
        "thisdict = {\n",
        "    \"Brand\": \"Ford\",\n",
        "    \"Model\": \"Mustang\",\n",
        "    \"Year\" : 1964,\n",
        "    \"Country\": \"India\",\n",
        "    \"Colors\": [\"Red\",\"White\",\"Blue\"]\n",
        "}\n",
        "print(thisdict)\n",
        "print(type(thisdict))"
      ],
      "execution_count": null,
      "outputs": [
        {
          "output_type": "stream",
          "text": [
            "{'Brand': 'Ford', 'Model': 'Mustang', 'Year': 1964, 'Country': 'India', 'Colors': ['Red', 'White', 'Blue']}\n",
            "<class 'dict'>\n"
          ],
          "name": "stdout"
        }
      ]
    },
    {
      "cell_type": "code",
      "metadata": {
        "colab": {
          "base_uri": "https://localhost:8080/"
        },
        "id": "Nhs8LPpkpZ3d",
        "outputId": "5e6c27eb-3682-4cb5-b1c1-c4c85ea8705f"
      },
      "source": [
        "thisdict = {\n",
        "    \"Brand\": \"Ford\",\n",
        "    \"Model\": \"Mustang\",\n",
        "    \"Year\" : 1964,\n",
        "    \"Country\": \"India\",\n",
        "    \"Colors\": [\"Red\",\"White\",\"Blue\"]\n",
        "}\n",
        "thisdict[\"Year\"] = 2020\n",
        "print(thisdict)\n",
        "print(type(thisdict))"
      ],
      "execution_count": null,
      "outputs": [
        {
          "output_type": "stream",
          "text": [
            "{'Brand': 'Ford', 'Model': 'Mustang', 'Year': 2020, 'Country': 'India', 'Colors': ['Red', 'White', 'Blue']}\n",
            "<class 'dict'>\n"
          ],
          "name": "stdout"
        }
      ]
    },
    {
      "cell_type": "code",
      "metadata": {
        "id": "TsSyDPESqKpf",
        "colab": {
          "base_uri": "https://localhost:8080/"
        },
        "outputId": "510ecf76-0f81-4aeb-c7fa-52aa194f4794"
      },
      "source": [
        "thisdict = {\n",
        "    \"Brand\": \"Ford\",\n",
        "    \"Model\": \"Mustang\",\n",
        "    \"Year\" : 2022,\n",
        "    \"Country\": \"India\",\n",
        "    \"Colors\": [\"Red\",\"White\",\"Blue\"]\n",
        "}\n",
        "thisdict.update({\"Aditya\": \"First Owner\"})\n",
        "print(thisdict)"
      ],
      "execution_count": null,
      "outputs": [
        {
          "output_type": "stream",
          "text": [
            "{'Brand': 'Ford', 'Model': 'Mustang', 'Year': 2022, 'Country': 'India', 'Colors': ['Red', 'White', 'Blue'], 'Aditya': 'First Owner'}\n"
          ],
          "name": "stdout"
        }
      ]
    },
    {
      "cell_type": "code",
      "metadata": {
        "colab": {
          "base_uri": "https://localhost:8080/"
        },
        "id": "Gzki1QT-o0Sq",
        "outputId": "7ea6ac14-dd52-4d55-f2f7-f84c94c6376c"
      },
      "source": [
        "thisdict = {\n",
        "    \"Brand\": \"Ford\",\n",
        "    \"Model\": \"Mustang\",\n",
        "    \"Year\" : 2022,\n",
        "    \"Country\": \"India\",\n",
        "    \"Colors\": [\"Red\",\"White\",\"Blue\"]\n",
        "}\n",
        "thisdict.pop(\"Colors\")\n",
        "print(thisdict)"
      ],
      "execution_count": null,
      "outputs": [
        {
          "output_type": "stream",
          "text": [
            "{'Brand': 'Ford', 'Model': 'Mustang', 'Year': 2022, 'Country': 'India'}\n"
          ],
          "name": "stdout"
        }
      ]
    },
    {
      "cell_type": "code",
      "metadata": {
        "colab": {
          "base_uri": "https://localhost:8080/"
        },
        "id": "uk40rr04pcdk",
        "outputId": "e3e77504-93d7-4d41-ab0a-bc96267732f5"
      },
      "source": [
        "thisdict = {\n",
        "    \"Brand\": \"Ford\",\n",
        "    \"Model\": \"Mustang\",\n",
        "    \"Year\" : 2022,\n",
        "    \"Country\": \"India\",\n",
        "    \"Colors\": [\"Red\",\"White\",\"Blue\"]\n",
        "}\n",
        "del thisdict[\"Year\"]\n",
        "print(thisdict)"
      ],
      "execution_count": null,
      "outputs": [
        {
          "output_type": "stream",
          "text": [
            "{'Brand': 'Ford', 'Model': 'Mustang', 'Country': 'India', 'Colors': ['Red', 'White', 'Blue']}\n"
          ],
          "name": "stdout"
        }
      ]
    },
    {
      "cell_type": "code",
      "metadata": {
        "colab": {
          "base_uri": "https://localhost:8080/"
        },
        "id": "n27sTi06p5sU",
        "outputId": "09b5ec12-75df-4b09-f10b-0050096c3365"
      },
      "source": [
        "thisdict = {\n",
        "    \"Brand\": \"Ford\",\n",
        "    \"Model\": \"Mustang\",\n",
        "    \"Year\" : 2022,\n",
        "    \"Country\": \"India\",\n",
        "    \"Colors\": [\"Red\",\"White\",\"Blue\"]\n",
        "}\n",
        "thisdict.clear()\n",
        "print(thisdict)"
      ],
      "execution_count": null,
      "outputs": [
        {
          "output_type": "stream",
          "text": [
            "{}\n"
          ],
          "name": "stdout"
        }
      ]
    },
    {
      "cell_type": "code",
      "metadata": {
        "colab": {
          "base_uri": "https://localhost:8080/"
        },
        "id": "vnDqEyt8qK2M",
        "outputId": "e2ee3974-fb02-420e-b7de-cc7caa37cd74"
      },
      "source": [
        "thisdict = {\n",
        "    \"Brand\": \"Ford\",\n",
        "    \"Model\": \"Mustang\",\n",
        "    \"Year\" : 2022,\n",
        "    \"Country\": \"India\",\n",
        "    \"Colors\": [\"Red\",\"White\",\"Blue\"]\n",
        "}\n",
        "Newdict = thisdict.copy()\n",
        "print(Newdict)"
      ],
      "execution_count": null,
      "outputs": [
        {
          "output_type": "stream",
          "text": [
            "{'Brand': 'Ford', 'Model': 'Mustang', 'Year': 2022, 'Country': 'India', 'Colors': ['Red', 'White', 'Blue']}\n"
          ],
          "name": "stdout"
        }
      ]
    },
    {
      "cell_type": "code",
      "metadata": {
        "colab": {
          "base_uri": "https://localhost:8080/"
        },
        "id": "J8vigm0eqhJA",
        "outputId": "524bea03-2df1-4416-e569-1c89fcf64178"
      },
      "source": [
        "thisdict = {\n",
        "    \"child1\":{\n",
        "     \"Name\" : \"Mansi\",\n",
        "     \"Year\" : 2002\n",
        "    },\n",
        "    \"child2\":{\n",
        "     \"Name\" : \"Vikas\",\n",
        "     \"Year\" : 1985\n",
        "    },\n",
        "    \"child3\":{\n",
        "     \"Name\" : \"Payal\",\n",
        "     \"Year\" : 2007\n",
        "    }\n",
        "}\n",
        "print(thisdict)"
      ],
      "execution_count": null,
      "outputs": [
        {
          "output_type": "stream",
          "text": [
            "{'child1': {'Name': 'Mansi', 'Year': 2002}, 'child2': {'Name': 'Vikas', 'Year': 1985}, 'child3': {'Name': 'Payal', 'Year': 2007}}\n"
          ],
          "name": "stdout"
        }
      ]
    },
    {
      "cell_type": "code",
      "metadata": {
        "colab": {
          "base_uri": "https://localhost:8080/"
        },
        "id": "-sc2X_wCroHc",
        "outputId": "93015fc5-286e-45a7-e669-14ac9ef838f5"
      },
      "source": [
        "a = 33\n",
        "b = 200\n",
        "if b >a:\n",
        "  print(\"b is greater than a\")"
      ],
      "execution_count": null,
      "outputs": [
        {
          "output_type": "stream",
          "text": [
            "b is greater than a\n"
          ],
          "name": "stdout"
        }
      ]
    },
    {
      "cell_type": "code",
      "metadata": {
        "colab": {
          "base_uri": "https://localhost:8080/"
        },
        "id": "qk9MP7kFskWp",
        "outputId": "4034e326-0fea-4581-d4e3-733e23397890"
      },
      "source": [
        "a = 33\n",
        "b = 33\n",
        "if b >a:\n",
        "  print(\"b is greater than a\")\n",
        "elif a == b:\n",
        "  print(\"a and b are equal\")"
      ],
      "execution_count": null,
      "outputs": [
        {
          "output_type": "stream",
          "text": [
            "a and b are equal\n"
          ],
          "name": "stdout"
        }
      ]
    },
    {
      "cell_type": "code",
      "metadata": {
        "colab": {
          "base_uri": "https://localhost:8080/"
        },
        "id": "JwXkTn9PsywF",
        "outputId": "922b5be6-2f70-48d4-b80c-e33fa7ef2438"
      },
      "source": [
        "a = 333\n",
        "b = 33\n",
        "if b >a:\n",
        "  print(\"b is greater than a\")\n",
        "elif a == b:\n",
        "  print(\"a and b are equal\")\n",
        "else:\n",
        "  print(\"a is greater than b\")"
      ],
      "execution_count": null,
      "outputs": [
        {
          "output_type": "stream",
          "text": [
            "a is greater than b\n"
          ],
          "name": "stdout"
        }
      ]
    },
    {
      "cell_type": "code",
      "metadata": {
        "colab": {
          "base_uri": "https://localhost:8080/"
        },
        "id": "BPsaYqAhs-0A",
        "outputId": "5b35af9e-5919-4b77-aff9-a570cc109be8"
      },
      "source": [
        "a = 333\n",
        "b = 33\n",
        "if b >a:\n",
        "  print(\"b is greater than a\")\n",
        "else:\n",
        "  print(\"a is greater than b\")"
      ],
      "execution_count": null,
      "outputs": [
        {
          "output_type": "stream",
          "text": [
            "a is greater than b\n"
          ],
          "name": "stdout"
        }
      ]
    },
    {
      "cell_type": "code",
      "metadata": {
        "colab": {
          "base_uri": "https://localhost:8080/"
        },
        "id": "TGD5Cm4otOM-",
        "outputId": "ff1bc54f-83dc-4fca-d40d-14a5b2e1fda7"
      },
      "source": [
        "a = 333\n",
        "b = 3345\n",
        "if b >a: print(\"b is greater than a\")"
      ],
      "execution_count": null,
      "outputs": [
        {
          "output_type": "stream",
          "text": [
            "b is greater than a\n"
          ],
          "name": "stdout"
        }
      ]
    },
    {
      "cell_type": "code",
      "metadata": {
        "colab": {
          "base_uri": "https://localhost:8080/"
        },
        "id": "Fel08k9ytVqa",
        "outputId": "132448e4-725e-4634-eb2a-c03c0be11bd6"
      },
      "source": [
        "a = 333\n",
        "b = 33\n",
        "c = 340\n",
        "if a>b and c>a:\n",
        "  print(\"Both conditions are true\")"
      ],
      "execution_count": null,
      "outputs": [
        {
          "output_type": "stream",
          "text": [
            "Both conditions are true\n"
          ],
          "name": "stdout"
        }
      ]
    },
    {
      "cell_type": "code",
      "metadata": {
        "colab": {
          "base_uri": "https://localhost:8080/"
        },
        "id": "has5DFg-tt48",
        "outputId": "c89e3e22-cbfd-4555-d0c5-234e0983568d"
      },
      "source": [
        "a = 333\n",
        "b = 33\n",
        "c = 340\n",
        "if a>b and c>a:\n",
        "  print(\"Atleast one of the condition is true\")"
      ],
      "execution_count": null,
      "outputs": [
        {
          "output_type": "stream",
          "text": [
            "Atleast one of the condition is true\n"
          ],
          "name": "stdout"
        }
      ]
    },
    {
      "cell_type": "markdown",
      "metadata": {
        "id": "Uj6W6b1ZwN24"
      },
      "source": [
        "**Nested If**"
      ]
    },
    {
      "cell_type": "code",
      "metadata": {
        "colab": {
          "base_uri": "https://localhost:8080/"
        },
        "id": "z9xhYUbGt1x0",
        "outputId": "4d2a880d-d2d6-4d03-feb9-f67f9ca5ef20"
      },
      "source": [
        "x = 41\n",
        "if x>10:\n",
        "  print(\"It is above the value 10\")\n",
        "  if x>20:\n",
        "    print(\"It is above the vale 20\")\n",
        "else:\n",
        "      print(\"But not above 20\")"
      ],
      "execution_count": null,
      "outputs": [
        {
          "output_type": "stream",
          "text": [
            "It is above the value 10\n",
            "It is above the vale 20\n"
          ],
          "name": "stdout"
        }
      ]
    },
    {
      "cell_type": "code",
      "metadata": {
        "colab": {
          "base_uri": "https://localhost:8080/"
        },
        "id": "Ro8mSh1vwyOL",
        "outputId": "80361fd7-a885-4744-ed86-a6ed9c28ca37"
      },
      "source": [
        "#While Loop\n",
        "i = 1\n",
        "while i<6:\n",
        "  print(i)\n",
        "  i += 1"
      ],
      "execution_count": null,
      "outputs": [
        {
          "output_type": "stream",
          "text": [
            "1\n",
            "2\n",
            "3\n",
            "4\n",
            "5\n"
          ],
          "name": "stdout"
        }
      ]
    },
    {
      "cell_type": "code",
      "metadata": {
        "colab": {
          "base_uri": "https://localhost:8080/"
        },
        "id": "Lc8dh4m3xfZP",
        "outputId": "be8fb8da-c2dd-4bec-e1e4-1a21c62b096f"
      },
      "source": [
        "i = 1\n",
        "while i<6:\n",
        "  print(i)\n",
        "  if (i==3):\n",
        "    break\n",
        "  i += 1"
      ],
      "execution_count": null,
      "outputs": [
        {
          "output_type": "stream",
          "text": [
            "1\n",
            "2\n",
            "3\n"
          ],
          "name": "stdout"
        }
      ]
    },
    {
      "cell_type": "code",
      "metadata": {
        "colab": {
          "base_uri": "https://localhost:8080/"
        },
        "id": "T5OIAKO6xwZr",
        "outputId": "a9ac39e6-2405-4e15-9e17-71e62af0f9f5"
      },
      "source": [
        "i = 1\n",
        "while i<6:\n",
        "  print(i)\n",
        "  i += 1\n",
        "else:\n",
        "  print(\"i is no longer less than 6\")"
      ],
      "execution_count": null,
      "outputs": [
        {
          "output_type": "stream",
          "text": [
            "1\n",
            "2\n",
            "3\n",
            "4\n",
            "5\n",
            "i is no longer less than 6\n"
          ],
          "name": "stdout"
        }
      ]
    },
    {
      "cell_type": "code",
      "metadata": {
        "colab": {
          "base_uri": "https://localhost:8080/"
        },
        "id": "icwe5RdNyA7z",
        "outputId": "9d21ae8f-8e8d-4876-8c1d-37863c7d93f5"
      },
      "source": [
        "#Python Program to find L.C.M of two input numbers\n",
        "\n",
        "def lcm(x, y):\n",
        "  if x > y:\n",
        "    greater = x\n",
        "  else:\n",
        "    greater = y\n",
        "  while(True):\n",
        "    if ((greater % x == 0) and (greater % y == 0)):\n",
        "      lcm = greater\n",
        "      break\n",
        "    greater += 1\n",
        "  return lcm\n",
        "num1 = int(input(\"Enter first number: \"))\n",
        "num2 = int(input(\"Enter second number: \"))\n",
        "print(\"The LCM of\", num1, \"and\", num2, \"is\", lcm(num1,num2))"
      ],
      "execution_count": null,
      "outputs": [
        {
          "output_type": "stream",
          "text": [
            "Enter first number: 2435\n",
            "Enter second number: 4521\n",
            "The LCM of 2435 and 4521 is 11008635\n"
          ],
          "name": "stdout"
        }
      ]
    },
    {
      "cell_type": "code",
      "metadata": {
        "colab": {
          "base_uri": "https://localhost:8080/"
        },
        "id": "VvZUkJd80NFU",
        "outputId": "5e8f3c1a-5f39-4228-da71-da4de72ce5a3"
      },
      "source": [
        "def lcm(x, y):\n",
        "  if x > y:\n",
        "    greater = x\n",
        "  else:\n",
        "    greater = y\n",
        "  while(True):\n",
        "    if ((greater % x == 0) and (greater % y == 0)):\n",
        "      lcm = greater\n",
        "      break\n",
        "    greater += 1\n",
        "  return lcm\n",
        "num1 = 2435\n",
        "num2 = 4521\n",
        "print(\"The LCM of\", num1, \"and\", num2, \"is\", lcm(num1,num2))"
      ],
      "execution_count": null,
      "outputs": [
        {
          "output_type": "stream",
          "text": [
            "The LCM of 2435 and 4521 is 11008635\n"
          ],
          "name": "stdout"
        }
      ]
    },
    {
      "cell_type": "code",
      "metadata": {
        "id": "SYSFUCf32Jwz",
        "colab": {
          "base_uri": "https://localhost:8080/"
        },
        "outputId": "6d29c381-ea3b-419a-a963-82689cca78c1"
      },
      "source": [
        "def lcm(x, y):\n",
        "  if x > y:\n",
        "    greater = x\n",
        "  else:\n",
        "    greater = y\n",
        "  while(True):\n",
        "    if ((greater % x == 0) and (greater % y == 0)):\n",
        "      lcm = greater\n",
        "      break\n",
        "    greater += 1\n",
        "  return lcm\n",
        "num1 = 34\n",
        "num2 = 56\n",
        "print(\"The LCM of\", num1, \"and\", num2, \"is\", lcm(num1,num2))"
      ],
      "execution_count": null,
      "outputs": [
        {
          "output_type": "stream",
          "text": [
            "The LCM of 34 and 56 is 952\n"
          ],
          "name": "stdout"
        }
      ]
    },
    {
      "cell_type": "markdown",
      "metadata": {
        "id": "Am1jvyR0sP9S"
      },
      "source": [
        "**Getting started with Numpy**"
      ]
    },
    {
      "cell_type": "code",
      "metadata": {
        "colab": {
          "base_uri": "https://localhost:8080/"
        },
        "id": "P0rqtTlhqPQy",
        "outputId": "6d64788b-0ce3-48ee-dd9e-ecd7de56e542"
      },
      "source": [
        "import numpy as np\n",
        "arr = np.array([1,2,3,4,5])\n",
        "print(arr)"
      ],
      "execution_count": null,
      "outputs": [
        {
          "output_type": "stream",
          "text": [
            "[1 2 3 4 5]\n"
          ],
          "name": "stdout"
        }
      ]
    },
    {
      "cell_type": "code",
      "metadata": {
        "colab": {
          "base_uri": "https://localhost:8080/"
        },
        "id": "BpHQtsIMsfvN",
        "outputId": "b73fe767-3881-4d77-8eb7-3dfdd67f035d"
      },
      "source": [
        "import numpy \n",
        "arr = numpy.array([1,2,3,4,5])\n",
        "print(arr)"
      ],
      "execution_count": null,
      "outputs": [
        {
          "output_type": "stream",
          "text": [
            "[1 2 3 4 5]\n"
          ],
          "name": "stdout"
        }
      ]
    },
    {
      "cell_type": "code",
      "metadata": {
        "colab": {
          "base_uri": "https://localhost:8080/"
        },
        "id": "HfWOETFSss0m",
        "outputId": "26625006-ca13-4c6b-a292-7419ceb9b12a"
      },
      "source": [
        "import numpy as np\n",
        "print(np.__version__)"
      ],
      "execution_count": null,
      "outputs": [
        {
          "output_type": "stream",
          "text": [
            "1.18.5\n"
          ],
          "name": "stdout"
        }
      ]
    },
    {
      "cell_type": "markdown",
      "metadata": {
        "id": "jasHajlRtHzf"
      },
      "source": [
        "Create a Numpy ndarray object"
      ]
    },
    {
      "cell_type": "code",
      "metadata": {
        "colab": {
          "base_uri": "https://localhost:8080/"
        },
        "id": "Auei4LUDtCrz",
        "outputId": "a3d5e4cf-79e1-49f7-9a83-f2c639d76f93"
      },
      "source": [
        "import numpy as np\n",
        "arr = np.array([1,2,3,4,5])\n",
        "print(arr)\n",
        "print(type(arr))"
      ],
      "execution_count": null,
      "outputs": [
        {
          "output_type": "stream",
          "text": [
            "[1 2 3 4 5]\n",
            "<class 'numpy.ndarray'>\n"
          ],
          "name": "stdout"
        }
      ]
    },
    {
      "cell_type": "code",
      "metadata": {
        "colab": {
          "base_uri": "https://localhost:8080/"
        },
        "id": "WMjwT8T4tTh6",
        "outputId": "ae2b6495-b07a-4276-fee4-9415d45e9024"
      },
      "source": [
        "import numpy as np\n",
        "arr = np.array([345])\n",
        "print(arr)\n",
        "print(type(arr))"
      ],
      "execution_count": null,
      "outputs": [
        {
          "output_type": "stream",
          "text": [
            "[345]\n",
            "<class 'numpy.ndarray'>\n"
          ],
          "name": "stdout"
        }
      ]
    },
    {
      "cell_type": "code",
      "metadata": {
        "colab": {
          "base_uri": "https://localhost:8080/"
        },
        "id": "5Ni24Dp0tjiR",
        "outputId": "05d60fb9-28b8-4232-daef-7d690ae823e2"
      },
      "source": [
        "import numpy as np\n",
        "arr = np.array([[1,2,3,4,5],[6,7,8,9,10]])\n",
        "print(arr)\n",
        "print(type(arr))"
      ],
      "execution_count": null,
      "outputs": [
        {
          "output_type": "stream",
          "text": [
            "[[ 1  2  3  4  5]\n",
            " [ 6  7  8  9 10]]\n",
            "<class 'numpy.ndarray'>\n"
          ],
          "name": "stdout"
        }
      ]
    },
    {
      "cell_type": "code",
      "metadata": {
        "colab": {
          "base_uri": "https://localhost:8080/"
        },
        "id": "11U2swqctx7w",
        "outputId": "bbf45e66-1e2d-400b-9fec-6d70988ec803"
      },
      "source": [
        "import numpy as np\n",
        "arr = np.array([[[1,2,3],[4,5,6]],[[6,7,8],[9,10,11]]])\n",
        "print(arr)\n",
        "print(type(arr))"
      ],
      "execution_count": null,
      "outputs": [
        {
          "output_type": "stream",
          "text": [
            "[[[ 1  2  3]\n",
            "  [ 4  5  6]]\n",
            "\n",
            " [[ 6  7  8]\n",
            "  [ 9 10 11]]]\n",
            "<class 'numpy.ndarray'>\n"
          ],
          "name": "stdout"
        }
      ]
    },
    {
      "cell_type": "code",
      "metadata": {
        "colab": {
          "base_uri": "https://localhost:8080/"
        },
        "id": "qU5JcUBIuaHX",
        "outputId": "87efd2db-4771-49dd-9e0c-3fc99f82d92a"
      },
      "source": [
        "import numpy as np\n",
        "\n",
        "a = np.array(456)\n",
        "b = np.array([1,2,3,4,5,6,7])\n",
        "c = np.array([[1,2,3,4,5],[6,7,8,9,10]])\n",
        "d = np.array([[[1,2,3],[4,5,6]],[[6,7,8],[9,10,11]]])\n",
        "\n",
        "print(a.ndim)\n",
        "print(b.ndim)\n",
        "print(c.ndim)\n",
        "print(d.ndim)"
      ],
      "execution_count": null,
      "outputs": [
        {
          "output_type": "stream",
          "text": [
            "0\n",
            "1\n",
            "2\n",
            "3\n"
          ],
          "name": "stdout"
        }
      ]
    },
    {
      "cell_type": "code",
      "metadata": {
        "colab": {
          "base_uri": "https://localhost:8080/"
        },
        "id": "BmwWiPrvvrT_",
        "outputId": "a9ae4f15-2c3f-4338-ef68-387fba512d35"
      },
      "source": [
        "import numpy as np\n",
        "arr = np.array([1,2,3,4,5,6,7])\n",
        "print(arr[0])"
      ],
      "execution_count": null,
      "outputs": [
        {
          "output_type": "stream",
          "text": [
            "1\n"
          ],
          "name": "stdout"
        }
      ]
    },
    {
      "cell_type": "code",
      "metadata": {
        "colab": {
          "base_uri": "https://localhost:8080/"
        },
        "id": "ZJcDQqfNwBEh",
        "outputId": "8b646f35-adce-4648-c1bb-14b0f2d58855"
      },
      "source": [
        "import numpy as np\n",
        "arr = np.array([1,2,3,4,5,6,7])\n",
        "print(arr[2])"
      ],
      "execution_count": null,
      "outputs": [
        {
          "output_type": "stream",
          "text": [
            "3\n"
          ],
          "name": "stdout"
        }
      ]
    },
    {
      "cell_type": "code",
      "metadata": {
        "colab": {
          "base_uri": "https://localhost:8080/"
        },
        "id": "EdIdzGypwEMm",
        "outputId": "85caa3bc-d158-4be7-e1b2-cf8f230d80cb"
      },
      "source": [
        "import numpy as np\n",
        "arr = np.array([1,2,3,4,5,6,7])\n",
        "print(arr[2] + arr[4])"
      ],
      "execution_count": null,
      "outputs": [
        {
          "output_type": "stream",
          "text": [
            "8\n"
          ],
          "name": "stdout"
        }
      ]
    },
    {
      "cell_type": "code",
      "metadata": {
        "colab": {
          "base_uri": "https://localhost:8080/"
        },
        "id": "1foEn7ibwO5y",
        "outputId": "db444331-02af-437d-d619-04ca4a19aad4"
      },
      "source": [
        "import numpy as np\n",
        "c = np.array([[1,2,3,4,5],[6,7,8,9,10]])\n",
        "print('5th element n 2nd dim: ', c[1,4])"
      ],
      "execution_count": null,
      "outputs": [
        {
          "output_type": "stream",
          "text": [
            "5th element n 2nd dim:  10\n"
          ],
          "name": "stdout"
        }
      ]
    },
    {
      "cell_type": "code",
      "metadata": {
        "colab": {
          "base_uri": "https://localhost:8080/"
        },
        "id": "OC7ecHZSw0I3",
        "outputId": "d222dcb9-4ee3-4d92-b45f-5df2f6df5170"
      },
      "source": [
        "import numpy as np\n",
        "c = np.array([[1,2,3,4,5],[6,7,8,9,10]])\n",
        "print(c)\n",
        "print('5th element n 2nd dim: ', c[1,4])"
      ],
      "execution_count": null,
      "outputs": [
        {
          "output_type": "stream",
          "text": [
            "[[ 1  2  3  4  5]\n",
            " [ 6  7  8  9 10]]\n",
            "5th element n 2nd dim:  10\n"
          ],
          "name": "stdout"
        }
      ]
    },
    {
      "cell_type": "code",
      "metadata": {
        "colab": {
          "base_uri": "https://localhost:8080/"
        },
        "id": "15oDhlb_xDoc",
        "outputId": "19f00341-0b83-4431-d0b8-d0712010eeac"
      },
      "source": [
        "import numpy as np\n",
        "c = np.array([[[1,2,3],[4,5,6]],[[6,7,8],[9,10,11]]])\n",
        "print(c)\n",
        "print('5th element on 2nd dim: ',c[0,1,2])"
      ],
      "execution_count": null,
      "outputs": [
        {
          "output_type": "stream",
          "text": [
            "[[[ 1  2  3]\n",
            "  [ 4  5  6]]\n",
            "\n",
            " [[ 6  7  8]\n",
            "  [ 9 10 11]]]\n",
            "5th element on 2nd dim:  6\n"
          ],
          "name": "stdout"
        }
      ]
    },
    {
      "cell_type": "code",
      "metadata": {
        "colab": {
          "base_uri": "https://localhost:8080/"
        },
        "id": "s7DsZHgJAQcn",
        "outputId": "4b91f426-6298-4f91-f7f0-0e52abdaffce"
      },
      "source": [
        "import numpy as np\n",
        "c = np.array([[[1,2,3],[4,5,6]],[[6,7,8],[9,10,11]]])\n",
        "print(c)\n",
        "print('Print the third element of second array of the first array: ',c[0,1,2])"
      ],
      "execution_count": null,
      "outputs": [
        {
          "output_type": "stream",
          "text": [
            "[[[ 1  2  3]\n",
            "  [ 4  5  6]]\n",
            "\n",
            " [[ 6  7  8]\n",
            "  [ 9 10 11]]]\n",
            "Print the third element of second array of the first array:  6\n"
          ],
          "name": "stdout"
        }
      ]
    },
    {
      "cell_type": "code",
      "metadata": {
        "colab": {
          "base_uri": "https://localhost:8080/"
        },
        "id": "KmbzIYpkyrAK",
        "outputId": "44e1d740-6895-463d-e0e4-b92b2acffbaf"
      },
      "source": [
        "import numpy as np\n",
        "c = np.array([[1,2,3,4,5],[6,7,8,9,10]])\n",
        "print(c)\n",
        "print('Last element from 2nd dim: ', c[1,-1])"
      ],
      "execution_count": null,
      "outputs": [
        {
          "output_type": "stream",
          "text": [
            "[[ 1  2  3  4  5]\n",
            " [ 6  7  8  9 10]]\n",
            "Last element from 2nd dim:  10\n"
          ],
          "name": "stdout"
        }
      ]
    },
    {
      "cell_type": "code",
      "metadata": {
        "colab": {
          "base_uri": "https://localhost:8080/"
        },
        "id": "LHNk0M8czDNC",
        "outputId": "e6c41b71-4805-4ac2-98b0-f6020d75e65b"
      },
      "source": [
        "import numpy as np\n",
        "c = np.array([1,2,3,4,5,6,7,8,9,10])\n",
        "print(c[1:6])\n"
      ],
      "execution_count": null,
      "outputs": [
        {
          "output_type": "stream",
          "text": [
            "[2 3 4 5 6]\n"
          ],
          "name": "stdout"
        }
      ]
    },
    {
      "cell_type": "code",
      "metadata": {
        "colab": {
          "base_uri": "https://localhost:8080/"
        },
        "id": "unI_i1WBzcLN",
        "outputId": "fecd8ef0-677d-4542-a9a5-0e085dc39465"
      },
      "source": [
        "import numpy as np\n",
        "c = np.array([1,2,3,4,5,6,7,8,9,10])\n",
        "print(c[1:5])"
      ],
      "execution_count": null,
      "outputs": [
        {
          "output_type": "stream",
          "text": [
            "[2 3 4 5]\n"
          ],
          "name": "stdout"
        }
      ]
    },
    {
      "cell_type": "code",
      "metadata": {
        "colab": {
          "base_uri": "https://localhost:8080/"
        },
        "id": "deYHUdShzm6T",
        "outputId": "368df831-62de-416e-8b1d-31424b16d760"
      },
      "source": [
        "import numpy as np\n",
        "c = np.array([1,2,3,4,5,6,7,8,9,10,22,23,24,25,26,27])\n",
        "print(c[5:])"
      ],
      "execution_count": null,
      "outputs": [
        {
          "output_type": "stream",
          "text": [
            "[ 6  7  8  9 10 22 23 24 25 26 27]\n"
          ],
          "name": "stdout"
        }
      ]
    },
    {
      "cell_type": "code",
      "metadata": {
        "colab": {
          "base_uri": "https://localhost:8080/"
        },
        "id": "jMj0jm88zy7_",
        "outputId": "81a81279-918e-4598-9bc7-bf97cc9d8153"
      },
      "source": [
        "import numpy as np\n",
        "c = np.array([1,2,3,4,5,6,7,8,9,10,22,23,24,25,26,27])\n",
        "print(c[7:])"
      ],
      "execution_count": null,
      "outputs": [
        {
          "output_type": "stream",
          "text": [
            "[ 8  9 10 22 23 24 25 26 27]\n"
          ],
          "name": "stdout"
        }
      ]
    },
    {
      "cell_type": "code",
      "metadata": {
        "colab": {
          "base_uri": "https://localhost:8080/"
        },
        "id": "VzK-LIxWz1Eo",
        "outputId": "648d5e4f-a145-4e2f-f6ff-47a8dc425210"
      },
      "source": [
        "import numpy as np\n",
        "c = np.array([1,2,3,4,5,6,7,8,9,10,22,23,24,25,26,27])\n",
        "print(c[:8])"
      ],
      "execution_count": null,
      "outputs": [
        {
          "output_type": "stream",
          "text": [
            "[1 2 3 4 5 6 7 8]\n"
          ],
          "name": "stdout"
        }
      ]
    },
    {
      "cell_type": "code",
      "metadata": {
        "colab": {
          "base_uri": "https://localhost:8080/"
        },
        "id": "T9SnF8Oxz4ov",
        "outputId": "12c808b0-a977-48a2-c3f1-6956887e17cd"
      },
      "source": [
        "import numpy as np\n",
        "c = np.array([1,2,3,4,5,6,7,8,9,10,22,23,24,25,26,27])\n",
        "print(c[-3:-1])"
      ],
      "execution_count": null,
      "outputs": [
        {
          "output_type": "stream",
          "text": [
            "[25 26]\n"
          ],
          "name": "stdout"
        }
      ]
    },
    {
      "cell_type": "code",
      "metadata": {
        "colab": {
          "base_uri": "https://localhost:8080/"
        },
        "id": "fYjjrMVg0JlL",
        "outputId": "dd9a708d-0ac1-4064-812c-023c8282fcf2"
      },
      "source": [
        "import numpy as np\n",
        "c = np.array([1,2,3,4,5,6,7,8,9,10,22,23,24,25,26,27])\n",
        "print(c[1:3:5])"
      ],
      "execution_count": null,
      "outputs": [
        {
          "output_type": "stream",
          "text": [
            "[2]\n"
          ],
          "name": "stdout"
        }
      ]
    },
    {
      "cell_type": "code",
      "metadata": {
        "colab": {
          "base_uri": "https://localhost:8080/"
        },
        "id": "EaS7CTW60Qll",
        "outputId": "78d4a072-ef21-4aa4-a83f-aebe47eddc12"
      },
      "source": [
        "import numpy as np\n",
        "c = np.array([1,2,3,4,5,6,7,8,9,10,22,23,24,25,26,27])\n",
        "print(c[1:5:3])"
      ],
      "execution_count": null,
      "outputs": [
        {
          "output_type": "stream",
          "text": [
            "[2 5]\n"
          ],
          "name": "stdout"
        }
      ]
    },
    {
      "cell_type": "code",
      "metadata": {
        "colab": {
          "base_uri": "https://localhost:8080/"
        },
        "id": "ATlgtKkK0TYa",
        "outputId": "b4ceeb2c-eaa4-425e-ff41-e12069c70e56"
      },
      "source": [
        "import numpy as np\n",
        "c = np.array([1,2,3,4,5,6,7,8,9,10,22,23,24,25,26,27])\n",
        "print(c[1:5:2])"
      ],
      "execution_count": null,
      "outputs": [
        {
          "output_type": "stream",
          "text": [
            "[2 4]\n"
          ],
          "name": "stdout"
        }
      ]
    },
    {
      "cell_type": "code",
      "metadata": {
        "colab": {
          "base_uri": "https://localhost:8080/"
        },
        "id": "xaPq7Nra0vNP",
        "outputId": "f4b94b7f-3762-445c-da37-01821c6e85b3"
      },
      "source": [
        "import numpy as np\n",
        "c = np.array([1,2,3,4,5,6,7,8,9,10,22,23,24,25,26,27])\n",
        "print(c[::2])"
      ],
      "execution_count": null,
      "outputs": [
        {
          "output_type": "stream",
          "text": [
            "[ 1  3  5  7  9 22 24 26]\n"
          ],
          "name": "stdout"
        }
      ]
    },
    {
      "cell_type": "code",
      "metadata": {
        "colab": {
          "base_uri": "https://localhost:8080/"
        },
        "id": "X_JT_5_30_Wm",
        "outputId": "fcaea974-2438-4bcc-def3-a7e9634fa855"
      },
      "source": [
        "import numpy as np\n",
        "c = np.array([[1,2,3,4,5],[6,7,8,9,10]])\n",
        "print(c[0:2,1:4])"
      ],
      "execution_count": null,
      "outputs": [
        {
          "output_type": "stream",
          "text": [
            "[[2 3 4]\n",
            " [7 8 9]]\n"
          ],
          "name": "stdout"
        }
      ]
    },
    {
      "cell_type": "code",
      "metadata": {
        "colab": {
          "base_uri": "https://localhost:8080/"
        },
        "id": "vnGEtpNI1jat",
        "outputId": "c01135a5-b21b-4481-bebd-986638dfb7fe"
      },
      "source": [
        "import numpy as np\n",
        "c = np.array([1,2,3,4,5,6,7,8,9,10,22,23,24,25,26,27])\n",
        "print(c.dtype)"
      ],
      "execution_count": null,
      "outputs": [
        {
          "output_type": "stream",
          "text": [
            "int64\n"
          ],
          "name": "stdout"
        }
      ]
    },
    {
      "cell_type": "code",
      "metadata": {
        "colab": {
          "base_uri": "https://localhost:8080/"
        },
        "id": "K5YDRW0W2XSa",
        "outputId": "88bae027-3fe6-450b-d89f-017d1151a1c1"
      },
      "source": [
        "import numpy as np\n",
        "c = np.array(['Madhu','Sai','Mansi','Payal','Ashwini','Rahul'])\n",
        "print(c.dtype)"
      ],
      "execution_count": null,
      "outputs": [
        {
          "output_type": "stream",
          "text": [
            "<U7\n"
          ],
          "name": "stdout"
        }
      ]
    },
    {
      "cell_type": "code",
      "metadata": {
        "colab": {
          "base_uri": "https://localhost:8080/"
        },
        "id": "rTrwTbK03CED",
        "outputId": "0b3c7146-a572-49b2-d5c2-d219ca2f8626"
      },
      "source": [
        "import numpy as np\n",
        "c = np.array([1.23,2.34,3.44,4.45])\n",
        "newarry = c.astype(int)\n",
        "print(newarry)\n",
        "print(newarry.dtype)"
      ],
      "execution_count": null,
      "outputs": [
        {
          "output_type": "stream",
          "text": [
            "[1 2 3 4]\n",
            "int64\n"
          ],
          "name": "stdout"
        }
      ]
    },
    {
      "cell_type": "code",
      "metadata": {
        "colab": {
          "base_uri": "https://localhost:8080/"
        },
        "id": "GH1Vt1sh5ywU",
        "outputId": "9a2cfa25-770e-40af-a9ab-fbc72cad2450"
      },
      "source": [
        "import numpy as np\n",
        "c = np.array([1.23,2.34,3.44,4.45])\n",
        "newarry = c.astype(bool)\n",
        "print(newarry)\n",
        "print(newarry.dtype)"
      ],
      "execution_count": null,
      "outputs": [
        {
          "output_type": "stream",
          "text": [
            "[ True  True  True  True]\n",
            "bool\n"
          ],
          "name": "stdout"
        }
      ]
    },
    {
      "cell_type": "code",
      "metadata": {
        "colab": {
          "base_uri": "https://localhost:8080/"
        },
        "id": "r-NgWnpY58eQ",
        "outputId": "215b5f5b-cb18-4a2d-a2e3-a0915360d377"
      },
      "source": [
        "import numpy as np\n",
        "c = np.array([1.23,2.34,3.44,4.45])\n",
        "x = c.copy()\n",
        "print(x)\n",
        "print(x.dtype)"
      ],
      "execution_count": null,
      "outputs": [
        {
          "output_type": "stream",
          "text": [
            "[1.23 2.34 3.44 4.45]\n",
            "float64\n"
          ],
          "name": "stdout"
        }
      ]
    },
    {
      "cell_type": "code",
      "metadata": {
        "colab": {
          "base_uri": "https://localhost:8080/"
        },
        "id": "T4DqBg746G-p",
        "outputId": "28fced15-21b3-4185-ae7a-ccbefcd2efbc"
      },
      "source": [
        "import numpy as np\n",
        "c = np.array([1.23,2.34,3.44,4.45])\n",
        "x = c.copy()\n",
        "print(x)\n",
        "print(c)\n",
        "print(x.dtype)"
      ],
      "execution_count": null,
      "outputs": [
        {
          "output_type": "stream",
          "text": [
            "[1.23 2.34 3.44 4.45]\n",
            "[1.23 2.34 3.44 4.45]\n",
            "float64\n"
          ],
          "name": "stdout"
        }
      ]
    },
    {
      "cell_type": "code",
      "metadata": {
        "colab": {
          "base_uri": "https://localhost:8080/"
        },
        "id": "3OoP9cDx6rxh",
        "outputId": "5e8c4281-4455-4781-879d-768158d72d04"
      },
      "source": [
        "import numpy as np\n",
        "c = np.array([1.23,2.34,3.44,4.45])\n",
        "x = c.view()\n",
        "x[0]\n",
        "print(x)\n",
        "print(c)\n",
        "print(x.dtype)"
      ],
      "execution_count": null,
      "outputs": [
        {
          "output_type": "stream",
          "text": [
            "[1.23 2.34 3.44 4.45]\n",
            "[1.23 2.34 3.44 4.45]\n",
            "float64\n"
          ],
          "name": "stdout"
        }
      ]
    },
    {
      "cell_type": "code",
      "metadata": {
        "colab": {
          "base_uri": "https://localhost:8080/"
        },
        "id": "u5-q8d9X63_5",
        "outputId": "d2f7ffe6-7bb9-4a39-cc4c-43acb8c57aa8"
      },
      "source": [
        "import numpy as np\n",
        "c = np.array([1.23,2.34,3.44,4.45])\n",
        "x = c.view()\n",
        "x[0] = 34\n",
        "print(x)\n",
        "print(c)\n",
        "print(x.dtype)"
      ],
      "execution_count": null,
      "outputs": [
        {
          "output_type": "stream",
          "text": [
            "[34.    2.34  3.44  4.45]\n",
            "[34.    2.34  3.44  4.45]\n",
            "float64\n"
          ],
          "name": "stdout"
        }
      ]
    },
    {
      "cell_type": "code",
      "metadata": {
        "colab": {
          "base_uri": "https://localhost:8080/"
        },
        "id": "yu4LcpN-7BXl",
        "outputId": "1e118793-97ec-4e25-8c98-5ff861b4354a"
      },
      "source": [
        "import numpy as np\n",
        "c = np.array([1.23,2.34,3.44,4.45])\n",
        "\n",
        "x = c.view()\n",
        "x[0] = 34\n",
        "\n",
        "print(x)\n",
        "print(c)\n",
        "print(x.dtype)"
      ],
      "execution_count": null,
      "outputs": [
        {
          "output_type": "stream",
          "text": [
            "[34.    2.34  3.44  4.45]\n",
            "[34.    2.34  3.44  4.45]\n",
            "float64\n"
          ],
          "name": "stdout"
        }
      ]
    },
    {
      "cell_type": "code",
      "metadata": {
        "colab": {
          "base_uri": "https://localhost:8080/"
        },
        "id": "pCjxH70j7LeO",
        "outputId": "894787b3-8319-4efd-81c8-81fd08b1ab80"
      },
      "source": [
        "import numpy as np\n",
        "c = np.array([1.23,2.34,3.44,4.45])\n",
        "x = c.view() #print the value of the base attribute to check if any array ownsits data or not\n",
        "y = c.copy()\n",
        "print(x.base)\n",
        "print(y.base)\n"
      ],
      "execution_count": null,
      "outputs": [
        {
          "output_type": "stream",
          "text": [
            "[1.23 2.34 3.44 4.45]\n",
            "None\n"
          ],
          "name": "stdout"
        }
      ]
    },
    {
      "cell_type": "code",
      "metadata": {
        "colab": {
          "base_uri": "https://localhost:8080/"
        },
        "id": "58ZZA26i7_Ns",
        "outputId": "f9f590bc-0299-4b56-98c1-e446093e6bb5"
      },
      "source": [
        "import numpy as np\n",
        "c = np.array([1.23,2.34,3.44,4.45])\n",
        "c = np.array([[1,2,3,4,5],[6,7,8,9,10]])\n",
        "print(c.shape)\n",
        "print(y.shape)"
      ],
      "execution_count": null,
      "outputs": [
        {
          "output_type": "stream",
          "text": [
            "(2, 5)\n",
            "(4,)\n"
          ],
          "name": "stdout"
        }
      ]
    },
    {
      "cell_type": "code",
      "metadata": {
        "colab": {
          "base_uri": "https://localhost:8080/"
        },
        "id": "vNn2oVjW8ZaW",
        "outputId": "c1d1c521-56bb-4321-e0a7-1870cde3cd71"
      },
      "source": [
        "import numpy as np\n",
        "c = np.array([1,2,3,4,5,6,7,8,9,10,11,12])\n",
        "newarr = c.reshape(4,3)\n",
        "print(newarr)"
      ],
      "execution_count": null,
      "outputs": [
        {
          "output_type": "stream",
          "text": [
            "[[ 1  2  3]\n",
            " [ 4  5  6]\n",
            " [ 7  8  9]\n",
            " [10 11 12]]\n"
          ],
          "name": "stdout"
        }
      ]
    },
    {
      "cell_type": "code",
      "metadata": {
        "colab": {
          "base_uri": "https://localhost:8080/"
        },
        "id": "tQfZcNe99kuO",
        "outputId": "802c22ad-3712-4244-877d-69774fc790ac"
      },
      "source": [
        "import numpy as np\n",
        "c = np.array([1,2,3,4,5,6,7,8,9,10,11,12])\n",
        "newarr = c.reshape(2,3,2)\n",
        "print(newarr)"
      ],
      "execution_count": null,
      "outputs": [
        {
          "output_type": "stream",
          "text": [
            "[[[ 1  2]\n",
            "  [ 3  4]\n",
            "  [ 5  6]]\n",
            "\n",
            " [[ 7  8]\n",
            "  [ 9 10]\n",
            "  [11 12]]]\n"
          ],
          "name": "stdout"
        }
      ]
    },
    {
      "cell_type": "code",
      "metadata": {
        "colab": {
          "base_uri": "https://localhost:8080/"
        },
        "id": "Uhg5b99Ttc76",
        "outputId": "054b8cff-0db2-44ee-f4a7-63ef5d28a4fd"
      },
      "source": [
        "import numpy as np\n",
        "arr = np.array([[1,2,3],[4,5,6]])\n",
        "newarr = arr.reshape(-1)\n",
        "print(arr)\n",
        "print(newarr)"
      ],
      "execution_count": null,
      "outputs": [
        {
          "output_type": "stream",
          "text": [
            "[[1 2 3]\n",
            " [4 5 6]]\n",
            "[1 2 3 4 5 6]\n"
          ],
          "name": "stdout"
        }
      ]
    },
    {
      "cell_type": "code",
      "metadata": {
        "colab": {
          "base_uri": "https://localhost:8080/"
        },
        "id": "urfi6OJHt22z",
        "outputId": "ab88614b-1fd4-4cc6-ed69-0ce48288e5af"
      },
      "source": [
        "import numpy as np\n",
        "arr1 = np.array([1,2,3])\n",
        "arr2 = np.array([4,5,6])\n",
        "newarr = np.concatenate((arr1,arr2))\n",
        "print(arr1)\n",
        "print(arr2)\n",
        "print(newarr)"
      ],
      "execution_count": null,
      "outputs": [
        {
          "output_type": "stream",
          "text": [
            "[1 2 3]\n",
            "[4 5 6]\n",
            "[1 2 3 4 5 6]\n"
          ],
          "name": "stdout"
        }
      ]
    },
    {
      "cell_type": "code",
      "metadata": {
        "colab": {
          "base_uri": "https://localhost:8080/"
        },
        "id": "-vczfYolu9HN",
        "outputId": "a7357398-9e31-48c4-8e20-349606a17f79"
      },
      "source": [
        "import numpy as np\n",
        "arr1 = np.array([1,2,3])\n",
        "arr2 = np.array([4,5,6])\n",
        "newarr = np.stack((arr1,arr2),axis=1)\n",
        "print(arr1)\n",
        "print(arr2)\n",
        "print(newarr)"
      ],
      "execution_count": null,
      "outputs": [
        {
          "output_type": "stream",
          "text": [
            "[1 2 3]\n",
            "[4 5 6]\n",
            "[[1 4]\n",
            " [2 5]\n",
            " [3 6]]\n"
          ],
          "name": "stdout"
        }
      ]
    },
    {
      "cell_type": "code",
      "metadata": {
        "colab": {
          "base_uri": "https://localhost:8080/"
        },
        "id": "iKgzHM9tv27f",
        "outputId": "bfe5a9ca-a05a-44e4-f81c-aea30217996a"
      },
      "source": [
        "import numpy as np\n",
        "arr1 = np.array([1,2,3])\n",
        "arr2 = np.array([4,5,6])\n",
        "newarr = np.stack((arr1,arr2),axis=0)\n",
        "print(arr1)\n",
        "print(arr2)\n",
        "print(newarr)"
      ],
      "execution_count": null,
      "outputs": [
        {
          "output_type": "stream",
          "text": [
            "[1 2 3]\n",
            "[4 5 6]\n",
            "[[1 2 3]\n",
            " [4 5 6]]\n"
          ],
          "name": "stdout"
        }
      ]
    },
    {
      "cell_type": "code",
      "metadata": {
        "colab": {
          "base_uri": "https://localhost:8080/"
        },
        "id": "rB-QONziwDXT",
        "outputId": "6236d610-8d6b-4577-9c9d-c37d14d8a434"
      },
      "source": [
        "import numpy as np\n",
        "arr1 = np.array([1,2,3])\n",
        "arr2 = np.array([4,5,6])\n",
        "newarr = np.hstack((arr1,arr2))\n",
        "print(arr1)\n",
        "print(arr2)\n",
        "print(newarr)"
      ],
      "execution_count": null,
      "outputs": [
        {
          "output_type": "stream",
          "text": [
            "[1 2 3]\n",
            "[4 5 6]\n",
            "[1 2 3 4 5 6]\n"
          ],
          "name": "stdout"
        }
      ]
    },
    {
      "cell_type": "code",
      "metadata": {
        "colab": {
          "base_uri": "https://localhost:8080/"
        },
        "id": "ptoWBbNowULv",
        "outputId": "e4a07c2c-faaf-47a1-b20a-b9fba5cbfd4f"
      },
      "source": [
        "import numpy as np\n",
        "arr1 = np.array([1,2,3])\n",
        "arr2 = np.array([4,5,6])\n",
        "newarr = np.vstack((arr1,arr2))\n",
        "print(arr1)\n",
        "print(arr2)\n",
        "print(newarr)"
      ],
      "execution_count": null,
      "outputs": [
        {
          "output_type": "stream",
          "text": [
            "[1 2 3]\n",
            "[4 5 6]\n",
            "[[1 2 3]\n",
            " [4 5 6]]\n"
          ],
          "name": "stdout"
        }
      ]
    },
    {
      "cell_type": "code",
      "metadata": {
        "colab": {
          "base_uri": "https://localhost:8080/"
        },
        "id": "Jj7euJRkwe3w",
        "outputId": "2bbc8b99-4f85-4b28-eddc-6afeb839b648"
      },
      "source": [
        "import numpy as np\n",
        "arr1 = np.array([1,2,3])\n",
        "arr2 = np.array([4,5,6])\n",
        "newarr = np.dstack((arr1,arr2))\n",
        "print(newarr)"
      ],
      "execution_count": null,
      "outputs": [
        {
          "output_type": "stream",
          "text": [
            "[[[1 4]\n",
            "  [2 5]\n",
            "  [3 6]]]\n"
          ],
          "name": "stdout"
        }
      ]
    },
    {
      "cell_type": "markdown",
      "metadata": {
        "id": "C2Gx_Jorw0O3"
      },
      "source": [
        "###Split the given Array ###"
      ]
    },
    {
      "cell_type": "code",
      "metadata": {
        "colab": {
          "base_uri": "https://localhost:8080/"
        },
        "id": "svIpyn8cwsgT",
        "outputId": "89b7cfb0-8733-4e24-9710-2ff889a3e1d9"
      },
      "source": [
        "import numpy as np\n",
        "arr1 = np.array([1,2,3,4,5,6])\n",
        "newarr = np.array_split(arr,3)\n",
        "print(arr1)\n",
        "print(newarr)"
      ],
      "execution_count": null,
      "outputs": [
        {
          "output_type": "stream",
          "text": [
            "[1 2 3 4 5 6]\n",
            "[array([1, 2]), array([3, 4]), array([5, 6])]\n"
          ],
          "name": "stdout"
        }
      ]
    },
    {
      "cell_type": "code",
      "metadata": {
        "colab": {
          "base_uri": "https://localhost:8080/"
        },
        "id": "RVp7XdguxRYG",
        "outputId": "bd6652db-7695-4109-9d9f-bec83326c242"
      },
      "source": [
        "import numpy as np\n",
        "arr1 = np.array([1,2,3,4,5,6])\n",
        "newarr = np.array_split(arr,4)\n",
        "print(arr1)\n",
        "print(newarr)"
      ],
      "execution_count": null,
      "outputs": [
        {
          "output_type": "stream",
          "text": [
            "[1 2 3 4 5 6]\n",
            "[array([1, 2]), array([3, 4]), array([5]), array([6])]\n"
          ],
          "name": "stdout"
        }
      ]
    },
    {
      "cell_type": "code",
      "metadata": {
        "colab": {
          "base_uri": "https://localhost:8080/"
        },
        "id": "ouWOfZQ9xgJO",
        "outputId": "17db51e4-6354-4c20-8b74-28042cd0d925"
      },
      "source": [
        "import numpy as np\n",
        "arr1 = np.array([1,2,3,4,5,6])\n",
        "newarr = np.array_split(arr,3)\n",
        "print(newarr[0])\n",
        "print(newarr[1])\n",
        "print(newarr[2])"
      ],
      "execution_count": null,
      "outputs": [
        {
          "output_type": "stream",
          "text": [
            "[1 2]\n",
            "[3 4]\n",
            "[5 6]\n"
          ],
          "name": "stdout"
        }
      ]
    },
    {
      "cell_type": "code",
      "metadata": {
        "colab": {
          "base_uri": "https://localhost:8080/"
        },
        "id": "TCvLTFb1yBOO",
        "outputId": "92de4a26-be5a-4ea9-c30a-6a07bd8af7c0"
      },
      "source": [
        "import numpy as np\n",
        "arr1 = np.array([1,2,3,4,5,6])\n",
        "newarr = np.array_split(arr,3)\n",
        "print(newarr[0])\n",
        "print(newarr[2])\n",
        "print(newarr[1])"
      ],
      "execution_count": null,
      "outputs": [
        {
          "output_type": "stream",
          "text": [
            "[1 2]\n",
            "[5 6]\n",
            "[3 4]\n"
          ],
          "name": "stdout"
        }
      ]
    },
    {
      "cell_type": "code",
      "metadata": {
        "colab": {
          "base_uri": "https://localhost:8080/"
        },
        "id": "-Jy9ZluYySRN",
        "outputId": "184f9cfe-16b3-4f0b-a21d-260e4e5a5a8e"
      },
      "source": [
        "import numpy as np\n",
        "arr = np.array([1,2,3,4,5,4,4])\n",
        "newarr = np.where(arr==3)\n",
        "print(newarr)"
      ],
      "execution_count": null,
      "outputs": [
        {
          "output_type": "stream",
          "text": [
            "(array([2]),)\n"
          ],
          "name": "stdout"
        }
      ]
    },
    {
      "cell_type": "code",
      "metadata": {
        "colab": {
          "base_uri": "https://localhost:8080/"
        },
        "id": "O5xq_hMhz4Sq",
        "outputId": "aa83b134-583d-4598-a603-36b58b087be1"
      },
      "source": [
        "import numpy as np\n",
        "arr = np.array([1,2,3,4,5,4,4])\n",
        "newarr = np.where(arr==4)\n",
        "print(newarr)"
      ],
      "execution_count": null,
      "outputs": [
        {
          "output_type": "stream",
          "text": [
            "(array([3, 5, 6]),)\n"
          ],
          "name": "stdout"
        }
      ]
    },
    {
      "cell_type": "code",
      "metadata": {
        "colab": {
          "base_uri": "https://localhost:8080/"
        },
        "id": "sqthXI0o0Ed5",
        "outputId": "f129b1ab-77ff-4beb-9336-9a05cbcc2b27"
      },
      "source": [
        "import numpy as np\n",
        "arr = np.array([1,2,3,4,5,6,7,8])\n",
        "newarr = np.where(arr%2 ==0)\n",
        "print(newarr)"
      ],
      "execution_count": null,
      "outputs": [
        {
          "output_type": "stream",
          "text": [
            "(array([1, 3, 5, 7]),)\n"
          ],
          "name": "stdout"
        }
      ]
    },
    {
      "cell_type": "code",
      "metadata": {
        "colab": {
          "base_uri": "https://localhost:8080/"
        },
        "id": "iXQO7Plh0Yzv",
        "outputId": "9eae542d-1058-43cd-d39b-5ff9441aa938"
      },
      "source": [
        "import numpy as np\n",
        "arr = np.array([1,2,3,4,5,6,7,8])\n",
        "newarr = np.where(arr%2 == 1)\n",
        "print(newarr)"
      ],
      "execution_count": null,
      "outputs": [
        {
          "output_type": "stream",
          "text": [
            "(array([0, 2, 4, 6]),)\n"
          ],
          "name": "stdout"
        }
      ]
    },
    {
      "cell_type": "code",
      "metadata": {
        "colab": {
          "base_uri": "https://localhost:8080/"
        },
        "id": "S8v_Fw-K0nab",
        "outputId": "a88edfc6-a0cb-48fe-e533-f13103103fac"
      },
      "source": [
        "import numpy as np\n",
        "arr = np.array([6,7,8,9])\n",
        "x = np.searchsorted(arr,7)\n",
        "print(x)"
      ],
      "execution_count": null,
      "outputs": [
        {
          "output_type": "stream",
          "text": [
            "1\n"
          ],
          "name": "stdout"
        }
      ]
    },
    {
      "cell_type": "code",
      "metadata": {
        "colab": {
          "base_uri": "https://localhost:8080/"
        },
        "id": "sQRERQ7D1au1",
        "outputId": "4321b6d7-c285-4972-e0af-00a5a7038947"
      },
      "source": [
        "import numpy as np\n",
        "arr = np.array([6,7,8,9])\n",
        "x = np.searchsorted(arr,7,side = 'right')\n",
        "print(x)"
      ],
      "execution_count": null,
      "outputs": [
        {
          "output_type": "stream",
          "text": [
            "2\n"
          ],
          "name": "stdout"
        }
      ]
    },
    {
      "cell_type": "code",
      "metadata": {
        "colab": {
          "base_uri": "https://localhost:8080/"
        },
        "id": "wdujQ8Yp2APH",
        "outputId": "60157d0f-6cce-4b2e-a2a8-372ee4a4e160"
      },
      "source": [
        "import numpy as np\n",
        "arr = np.array([41,42,43,44])\n",
        "x = arr[[True,False,True,False]]\n",
        "print(x)"
      ],
      "execution_count": null,
      "outputs": [
        {
          "output_type": "stream",
          "text": [
            "[41 43]\n"
          ],
          "name": "stdout"
        }
      ]
    },
    {
      "cell_type": "code",
      "metadata": {
        "colab": {
          "base_uri": "https://localhost:8080/"
        },
        "id": "4jFAFr1x2z24",
        "outputId": "50d5156b-9ad7-48cc-b14b-86ba57679ab5"
      },
      "source": [
        "import numpy as np\n",
        "arr = np.array([41,42,43,44])\n",
        "x = arr[[True,False,True,True]]\n",
        "print(x)"
      ],
      "execution_count": null,
      "outputs": [
        {
          "output_type": "stream",
          "text": [
            "[41 43 44]\n"
          ],
          "name": "stdout"
        }
      ]
    },
    {
      "cell_type": "code",
      "metadata": {
        "colab": {
          "base_uri": "https://localhost:8080/"
        },
        "id": "xij81MpL3CXQ",
        "outputId": "04c1171b-c7b0-45ae-b288-448ebaa4ae90"
      },
      "source": [
        "import numpy as np\n",
        "arr = np.array([101,102,103,104])\n",
        "x = arr[[True,True,True,False]]\n",
        "print(x)"
      ],
      "execution_count": null,
      "outputs": [
        {
          "output_type": "stream",
          "text": [
            "[101 102 103]\n"
          ],
          "name": "stdout"
        }
      ]
    },
    {
      "cell_type": "code",
      "metadata": {
        "colab": {
          "base_uri": "https://localhost:8080/"
        },
        "id": "9Hlf56a03Jof",
        "outputId": "7083af4a-eb9b-41d4-8fe8-35568317fe19"
      },
      "source": [
        "import numpy as np\n",
        "arr = np.array([41,42,43,44])\n",
        "filter_arr = arr>42\n",
        "newarr = arr[filter_arr]\n",
        "print(filter_arr)\n",
        "print(newarr)"
      ],
      "execution_count": null,
      "outputs": [
        {
          "output_type": "stream",
          "text": [
            "[False False  True  True]\n",
            "[43 44]\n"
          ],
          "name": "stdout"
        }
      ]
    },
    {
      "cell_type": "code",
      "metadata": {
        "colab": {
          "base_uri": "https://localhost:8080/"
        },
        "id": "y318beNm4AVU",
        "outputId": "5a336c84-fde6-4455-a65f-89313af756c6"
      },
      "source": [
        "import matplotlib\n",
        "print(matplotlib._version)"
      ],
      "execution_count": null,
      "outputs": [
        {
          "output_type": "stream",
          "text": [
            "<module 'matplotlib._version' from '/usr/local/lib/python3.6/dist-packages/matplotlib/_version.py'>\n"
          ],
          "name": "stdout"
        }
      ]
    },
    {
      "cell_type": "code",
      "metadata": {
        "colab": {
          "base_uri": "https://localhost:8080/",
          "height": 265
        },
        "id": "FWHxqwno5Lt8",
        "outputId": "89b94a9d-d939-4bf6-dcba-460cc6d32829"
      },
      "source": [
        "import matplotlib.pyplot as plt\n",
        "import numpy as np\n",
        "xpoints = np.array([0,6])\n",
        "ypoints = np.array([0,6])\n",
        "plt.plot(xpoints,ypoints)\n",
        "plt.show()"
      ],
      "execution_count": null,
      "outputs": [
        {
          "output_type": "display_data",
          "data": {
            "image/png": "[encoded data removed]",
            "text/plain": [
              "<Figure size 432x288 with 1 Axes>"
            ]
          },
          "metadata": {
            "tags": [],
            "needs_background": "light"
          }
        }
      ]
    },
    {
      "cell_type": "code",
      "metadata": {
        "colab": {
          "base_uri": "https://localhost:8080/",
          "height": 265
        },
        "id": "9PL2Wsxr70u7",
        "outputId": "941547db-87fa-4232-d424-e05bf3b5cc0f"
      },
      "source": [
        "import matplotlib.pyplot as plt\n",
        "import numpy as np\n",
        "xpoints = np.array([1,8])\n",
        "ypoints = np.array([3,10])\n",
        "plt.plot(xpoints,ypoints)\n",
        "plt.show()"
      ],
      "execution_count": null,
      "outputs": [
        {
          "output_type": "display_data",
          "data": {
            "image/png": "[encoded data removed]",
            "text/plain": [
              "<Figure size 432x288 with 1 Axes>"
            ]
          },
          "metadata": {
            "tags": [],
            "needs_background": "light"
          }
        }
      ]
    },
    {
      "cell_type": "code",
      "metadata": {
        "colab": {
          "base_uri": "https://localhost:8080/",
          "height": 265
        },
        "id": "hu2Gtqjp6N-O",
        "outputId": "d57ee44c-3308-4142-ec3d-4e4190244fd3"
      },
      "source": [
        "import matplotlib.pyplot as plt\n",
        "import numpy as np\n",
        "xpoints = np.array([1,8])\n",
        "ypoints = np.array([3,10])\n",
        "plt.plot(xpoints,ypoints,'o')\n",
        "plt.show()"
      ],
      "execution_count": null,
      "outputs": [
        {
          "output_type": "display_data",
          "data": {
            "image/png": "[encoded data removed]",
            "text/plain": [
              "<Figure size 432x288 with 1 Axes>"
            ]
          },
          "metadata": {
            "tags": [],
            "needs_background": "light"
          }
        }
      ]
    },
    {
      "cell_type": "code",
      "metadata": {
        "colab": {
          "base_uri": "https://localhost:8080/",
          "height": 265
        },
        "id": "dty2LEoB6gcu",
        "outputId": "59277c9d-2163-41e4-c2fb-dd81ba8a2ef7"
      },
      "source": [
        "import matplotlib.pyplot as plt\n",
        "import numpy as np\n",
        "xpoints = np.array([1,2,6,8])\n",
        "ypoints = np.array([3,8,1,10])\n",
        "plt.plot(xpoints,ypoints)\n",
        "plt.show()"
      ],
      "execution_count": null,
      "outputs": [
        {
          "output_type": "display_data",
          "data": {
            "image/png": "[encoded data removed]",
            "text/plain": [
              "<Figure size 432x288 with 1 Axes>"
            ]
          },
          "metadata": {
            "tags": [],
            "needs_background": "light"
          }
        }
      ]
    },
    {
      "cell_type": "code",
      "metadata": {
        "colab": {
          "base_uri": "https://localhost:8080/",
          "height": 265
        },
        "id": "PyxWJscs79iU",
        "outputId": "1bb1288c-7340-4dd5-bfc9-06364c648e48"
      },
      "source": [
        "import matplotlib.pyplot as plt\n",
        "import numpy as np\n",
        "xpoints = np.array([1,2,6,8,33,22,33,1,2,22,54,22])\n",
        "plt.plot(xpoints)\n",
        "plt.show()"
      ],
      "execution_count": null,
      "outputs": [
        {
          "output_type": "display_data",
          "data": {
            "image/png": "[encoded data removed]",
            "text/plain": [
              "<Figure size 432x288 with 1 Axes>"
            ]
          },
          "metadata": {
            "tags": [],
            "needs_background": "light"
          }
        }
      ]
    },
    {
      "cell_type": "code",
      "metadata": {
        "colab": {
          "base_uri": "https://localhost:8080/",
          "height": 265
        },
        "id": "uRy8goVV8dSB",
        "outputId": "8682b6d7-4a46-4c63-edac-0581f659058e"
      },
      "source": [
        "import matplotlib.pyplot as plt\n",
        "import numpy as np\n",
        "xpoints = np.array([1,2,6,8,33,22,33,1,2,22,54,22])\n",
        "plt.plot(xpoints, marker = 'o')\n",
        "plt.show()"
      ],
      "execution_count": null,
      "outputs": [
        {
          "output_type": "display_data",
          "data": {
            "image/png": "[encoded data removed]",
            "text/plain": [
              "<Figure size 432x288 with 1 Axes>"
            ]
          },
          "metadata": {
            "tags": [],
            "needs_background": "light"
          }
        }
      ]
    },
    {
      "cell_type": "code",
      "metadata": {
        "colab": {
          "base_uri": "https://localhost:8080/",
          "height": 265
        },
        "id": "wSUOE_Sd9I7p",
        "outputId": "97f8b3e0-6747-4fe4-bd07-adb14725cf10"
      },
      "source": [
        "import matplotlib.pyplot as plt\n",
        "import numpy as np\n",
        "xpoints = np.array([1,2,6,8,33,22,33,1,2,22,54,22])\n",
        "plt.plot(xpoints, marker = '*')\n",
        "plt.show()"
      ],
      "execution_count": null,
      "outputs": [
        {
          "output_type": "display_data",
          "data": {
            "image/png": "[encoded data removed]",
            "text/plain": [
              "<Figure size 432x288 with 1 Axes>"
            ]
          },
          "metadata": {
            "tags": [],
            "needs_background": "light"
          }
        }
      ]
    },
    {
      "cell_type": "code",
      "metadata": {
        "colab": {
          "base_uri": "https://localhost:8080/",
          "height": 265
        },
        "id": "iQrVbcc69M7-",
        "outputId": "89411559-78fa-46a6-d5bd-8d7c03a79045"
      },
      "source": [
        "import matplotlib.pyplot as plt\n",
        "import numpy as np\n",
        "xpoints = np.array([1,2,6,8,33,22,33,1,2,22,54,22])\n",
        "plt.plot(xpoints, 'o:r')\n",
        "plt.show()"
      ],
      "execution_count": null,
      "outputs": [
        {
          "output_type": "display_data",
          "data": {
            "image/png": "[encoded data removed]",
            "text/plain": [
              "<Figure size 432x288 with 1 Axes>"
            ]
          },
          "metadata": {
            "tags": [],
            "needs_background": "light"
          }
        }
      ]
    },
    {
      "cell_type": "code",
      "metadata": {
        "colab": {
          "base_uri": "https://localhost:8080/",
          "height": 265
        },
        "id": "1rg7D90c9vfj",
        "outputId": "c19404ad-83c2-4c9a-8103-2f44bac6d6cb"
      },
      "source": [
        "import matplotlib.pyplot as plt\n",
        "import numpy as np\n",
        "xpoints = np.array([1,2,6,8,33,22,33,1,2,22,54,22])\n",
        "plt.plot(xpoints, 'o-r')\n",
        "plt.show()"
      ],
      "execution_count": null,
      "outputs": [
        {
          "output_type": "display_data",
          "data": {
            "image/png": "[encoded data removed]",
            "text/plain": [
              "<Figure size 432x288 with 1 Axes>"
            ]
          },
          "metadata": {
            "tags": [],
            "needs_background": "light"
          }
        }
      ]
    },
    {
      "cell_type": "code",
      "metadata": {
        "colab": {
          "base_uri": "https://localhost:8080/",
          "height": 265
        },
        "id": "xoup1JT89Unj",
        "outputId": "f48433bd-3678-4281-8656-e85e7566d91a"
      },
      "source": [
        "import matplotlib.pyplot as plt\n",
        "import numpy as np\n",
        "xpoints = np.array([1,2,6,8,33,22,33,1,2,22,54,22])\n",
        "plt.plot(xpoints, 'o--r')\n",
        "plt.show()"
      ],
      "execution_count": null,
      "outputs": [
        {
          "output_type": "display_data",
          "data": {
            "image/png": "[encoded data removed]",
            "text/plain": [
              "<Figure size 432x288 with 1 Axes>"
            ]
          },
          "metadata": {
            "tags": [],
            "needs_background": "light"
          }
        }
      ]
    },
    {
      "cell_type": "code",
      "metadata": {
        "colab": {
          "base_uri": "https://localhost:8080/",
          "height": 265
        },
        "id": "07S_Xslb9dtx",
        "outputId": "948edc85-ec99-43ab-8835-82782aa92831"
      },
      "source": [
        "import matplotlib.pyplot as plt\n",
        "import numpy as np\n",
        "xpoints = np.array([1,2,6,8,33,22,33,1,2,22,54,22])\n",
        "plt.plot(xpoints, 'o-.r')\n",
        "plt.show()"
      ],
      "execution_count": null,
      "outputs": [
        {
          "output_type": "display_data",
          "data": {
            "image/png": "[encoded data removed]",
            "text/plain": [
              "<Figure size 432x288 with 1 Axes>"
            ]
          },
          "metadata": {
            "tags": [],
            "needs_background": "light"
          }
        }
      ]
    },
    {
      "cell_type": "code",
      "metadata": {
        "colab": {
          "base_uri": "https://localhost:8080/",
          "height": 265
        },
        "id": "vtzvmHOb9pPS",
        "outputId": "b3727370-8d51-433a-f671-71b261091e0b"
      },
      "source": [
        "import matplotlib.pyplot as plt\n",
        "import numpy as np\n",
        "x = np.array([0,1,2,3])\n",
        "y = np.array([3,5,2,10])\n",
        "plt.subplot(1,2,1 )\n",
        "plt.plot(x,y)\n",
        "\n",
        "x = np.array([0,1,2,3])\n",
        "y = np.array([13,25,32,40])\n",
        "plt.subplot(1,2,2 )\n",
        "plt.plot(x,y)\n",
        "\n",
        "plt.show()"
      ],
      "execution_count": null,
      "outputs": [
        {
          "output_type": "display_data",
          "data": {
            "image/png": "[encoded data removed]",
            "text/plain": [
              "<Figure size 432x288 with 2 Axes>"
            ]
          },
          "metadata": {
            "tags": [],
            "needs_background": "light"
          }
        }
      ]
    },
    {
      "cell_type": "code",
      "metadata": {
        "colab": {
          "base_uri": "https://localhost:8080/",
          "height": 147
        },
        "id": "QqBedPgP-kEV",
        "outputId": "86b95d8f-e442-4731-8f7e-8c055269bd0a"
      },
      "source": [
        "import matplotlib.pyplot as plt\n",
        "import numpy as np\n",
        "x = np.array([0,1,2,3])\n",
        "y = np.array([3,5,2,10])\n",
        "plt.subplot(2,2,1 )\n",
        "plt.plot(x,y)\n",
        "\n",
        "x = np.array([0,1,2,3])\n",
        "y = np.array([13,25,32,40])\n",
        "plt.subplot(2,2,2 )\n",
        "plt.plot(x,y)\n",
        "\n",
        "plt.show()"
      ],
      "execution_count": null,
      "outputs": [
        {
          "output_type": "display_data",
          "data": {
            "image/png": "[encoded data removed]",
            "text/plain": [
              "<Figure size 432x288 with 2 Axes>"
            ]
          },
          "metadata": {
            "tags": [],
            "needs_background": "light"
          }
        }
      ]
    },
    {
      "cell_type": "code",
      "metadata": {
        "colab": {
          "base_uri": "https://localhost:8080/",
          "height": 265
        },
        "id": "5Yt6S5bP_Mp5",
        "outputId": "22ed6c5a-c995-4a45-c6f9-8e9ae379e299"
      },
      "source": [
        "import matplotlib.pyplot as plt\n",
        "import numpy as np\n",
        "x = np.array([0,1,2,3])\n",
        "y = np.array([3,5,2,10])\n",
        "plt.subplot(2,1,1 )\n",
        "plt.plot(x,y)\n",
        "\n",
        "x = np.array([0,1,2,3])\n",
        "y = np.array([13,25,32,40])\n",
        "plt.subplot(2,1,2 )\n",
        "plt.plot(x,y)\n",
        "\n",
        "plt.show()"
      ],
      "execution_count": null,
      "outputs": [
        {
          "output_type": "display_data",
          "data": {
            "image/png": "[encoded data removed]",
            "text/plain": [
              "<Figure size 432x288 with 2 Axes>"
            ]
          },
          "metadata": {
            "tags": [],
            "needs_background": "light"
          }
        }
      ]
    },
    {
      "cell_type": "code",
      "metadata": {
        "colab": {
          "base_uri": "https://localhost:8080/",
          "height": 265
        },
        "id": "bhLLE-dK_WS8",
        "outputId": "46227fa6-a6af-4802-84ab-9ba7aaf8a6b1"
      },
      "source": [
        "import matplotlib.pyplot as plt\n",
        "import numpy as np\n",
        "x = np.array([0,1,2,3])\n",
        "y = np.array([3,5,2,10])\n",
        "plt.subplot(2,3,1 )\n",
        "plt.plot(x,y)\n",
        "\n",
        "x = np.array([0,1,2,3])\n",
        "y = np.array([13,25,32,40])\n",
        "plt.subplot(2,3,2 )\n",
        "plt.plot(x,y)\n",
        "\n",
        "x = np.array([2,13,2,13])\n",
        "y = np.array([13,25,32,40])\n",
        "plt.subplot(2,3,3 )\n",
        "plt.plot(x,y)\n",
        "\n",
        "x = np.array([10,11,12,13])\n",
        "y = np.array([3,5,32,20])\n",
        "plt.subplot(2,3,4 )\n",
        "plt.plot(x,y)\n",
        "\n",
        "x = np.array([8,23,5,39])\n",
        "y = np.array([13,25,32,400])\n",
        "plt.subplot(2,3,5 )\n",
        "plt.plot(x,y)\n",
        "\n",
        "x = np.array([20,13,25,3])\n",
        "y = np.array([13,25,32,40])\n",
        "plt.subplot(2,3,6 )\n",
        "plt.plot(x,y)\n",
        "\n",
        "plt.show()"
      ],
      "execution_count": null,
      "outputs": [
        {
          "output_type": "display_data",
          "data": {
            "image/png": "[encoded data removed]",
            "text/plain": [
              "<Figure size 432x288 with 6 Axes>"
            ]
          },
          "metadata": {
            "tags": [],
            "needs_background": "light"
          }
        }
      ]
    },
    {
      "cell_type": "code",
      "metadata": {
        "colab": {
          "base_uri": "https://localhost:8080/",
          "height": 281
        },
        "id": "8LhW9hPa_88c",
        "outputId": "d46e86c9-de45-445c-fb13-ef11a5c60256"
      },
      "source": [
        "import matplotlib.pyplot as plt\n",
        "import numpy as np\n",
        "x = np.array([0,1,2,3])\n",
        "y = np.array([3,5,2,10])\n",
        "plt.subplot(1,2,1 )\n",
        "plt.plot(x,y)\n",
        "plt.title('SALES')\n",
        "\n",
        "x = np.array([0,1,2,3])\n",
        "y = np.array([13,25,32,40])\n",
        "plt.subplot(1,2,2 )\n",
        "plt.plot(x,y)\n",
        "plt.title('INCOME')\n",
        "\n",
        "plt.show()"
      ],
      "execution_count": null,
      "outputs": [
        {
          "output_type": "display_data",
          "data": {
            "image/png": "[encoded data removed]",
            "text/plain": [
              "<Figure size 432x288 with 2 Axes>"
            ]
          },
          "metadata": {
            "tags": [],
            "needs_background": "light"
          }
        }
      ]
    },
    {
      "cell_type": "code",
      "metadata": {
        "colab": {
          "base_uri": "https://localhost:8080/",
          "height": 294
        },
        "id": "2iqMdtDrBAp8",
        "outputId": "43566a1a-c1d4-45a7-af62-47d5954a206e"
      },
      "source": [
        "import matplotlib.pyplot as plt\n",
        "import numpy as np\n",
        "x = np.array([0,1,2,3])\n",
        "y = np.array([3,5,2,10])\n",
        "plt.subplot(1,2,1 )\n",
        "plt.plot(x,y)\n",
        "plt.title('SALES')\n",
        "\n",
        "x = np.array([0,1,2,3])\n",
        "y = np.array([13,25,32,40])\n",
        "plt.subplot(1,2,2 )\n",
        "plt.plot(x,y)\n",
        "plt.title('INCOME')\n",
        "\n",
        "plt.suptitle(\"Workshop of Acharya College\")\n",
        "plt.show()"
      ],
      "execution_count": null,
      "outputs": [
        {
          "output_type": "display_data",
          "data": {
            "image/png": "[encoded data removed]",
            "text/plain": [
              "<Figure size 432x288 with 2 Axes>"
            ]
          },
          "metadata": {
            "tags": [],
            "needs_background": "light"
          }
        }
      ]
    },
    {
      "cell_type": "code",
      "metadata": {
        "colab": {
          "base_uri": "https://localhost:8080/",
          "height": 294
        },
        "id": "yJ74zhHNBfZ0",
        "outputId": "70ce97e8-dbab-4a08-a09a-93fd73046cd6"
      },
      "source": [
        "import matplotlib.pyplot as plt\n",
        "import numpy as np\n",
        "x = np.array([10,20,30,40])\n",
        "y = np.array([3,5,2,10])\n",
        "plt.subplot(1,2,1 )\n",
        "plt.plot(x,y)\n",
        "plt.title('SALES')\n",
        "\n",
        "x = np.array([10,20,30,40])\n",
        "y = np.array([13,25,32,40])\n",
        "plt.subplot(1,2,2 )\n",
        "plt.plot(x,y)\n",
        "plt.title('INCOME')\n",
        "\n",
        "plt.suptitle(\"Workshop on Acharya College\")\n",
        "plt.show()"
      ],
      "execution_count": null,
      "outputs": [
        {
          "output_type": "display_data",
          "data": {
            "image/png": "[encoded data removed]",
            "text/plain": [
              "<Figure size 432x288 with 2 Axes>"
            ]
          },
          "metadata": {
            "tags": [],
            "needs_background": "light"
          }
        }
      ]
    },
    {
      "cell_type": "code",
      "metadata": {
        "colab": {
          "base_uri": "https://localhost:8080/",
          "height": 281
        },
        "id": "cfBn8W-cCMl6",
        "outputId": "ce5d4900-346e-4516-868a-2eda604918bc"
      },
      "source": [
        "import matplotlib.pyplot as plt\n",
        "import numpy as np\n",
        "x = np.array([0,1,2,34,6,9,7,8,3,5,6,9,7,9,6,4,2,5])\n",
        "y = np.array([3,5,2,10,2,8,6,4,2,5,3,5,7,1,1,4,6,6])\n",
        "plt.scatter(x,y)\n",
        "plt.title('Scatter Plot')\n",
        "plt.show()"
      ],
      "execution_count": null,
      "outputs": [
        {
          "output_type": "display_data",
          "data": {
            "image/png": "[encoded data removed]",
            "text/plain": [
              "<Figure size 432x288 with 1 Axes>"
            ]
          },
          "metadata": {
            "tags": [],
            "needs_background": "light"
          }
        }
      ]
    },
    {
      "cell_type": "code",
      "metadata": {
        "colab": {
          "base_uri": "https://localhost:8080/",
          "height": 281
        },
        "id": "i1iAx13ZC438",
        "outputId": "ed335e63-0d1c-4a40-e455-61e35bddeca3"
      },
      "source": [
        "import matplotlib.pyplot as plt\n",
        "import numpy as np\n",
        "x = np.array([0,1,2,34,6,9,7,8,3,5,6,9,7,9,6,4,2,5])\n",
        "y = np.array([3,5,2,10,2,8,6,4,2,5,3,5,7,1,1,4,6,6])\n",
        "plt.scatter(x,y, color = 'hotpink')\n",
        "\n",
        "x = np.array([0,11,22,34,6,9,7,85,33,5,6,9,7,9,6,4,2,5,8,9,6,3,2,1,4,7,8])\n",
        "y = np.array([3,5,2,10,2,8,6,4,2,5,23,5,7,1,1,4,6,6,1,2,3,6,9,8,7,4,5])\n",
        "plt.scatter(x,y, color = '#88c999')\n",
        "\n",
        "plt.title('Scatter Plot')\n",
        "plt.show()"
      ],
      "execution_count": null,
      "outputs": [
        {
          "output_type": "display_data",
          "data": {
            "image/png": "[encoded data removed]",
            "text/plain": [
              "<Figure size 432x288 with 1 Axes>"
            ]
          },
          "metadata": {
            "tags": [],
            "needs_background": "light"
          }
        }
      ]
    },
    {
      "cell_type": "code",
      "metadata": {
        "id": "7Mpkn0kTDj1U",
        "colab": {
          "base_uri": "https://localhost:8080/",
          "height": 265
        },
        "outputId": "6ebc1735-9178-40ea-d9f5-c11042a855d9"
      },
      "source": [
        "import matplotlib.pyplot as plt\r\n",
        "import numpy as np\r\n",
        "x = np.array([5,7,8,7,2,17,2,9,4,11,12,9,6])\r\n",
        "y = np.array([99,86,87,88,111,86,103,87,94,78,77,85,86])\r\n",
        "colors = np.array([0,10,20,30,40,45,50,55,60,70,80,90,100])\r\n",
        "plt.scatter(x,y, c=colors,cmap = 'viridis')\r\n",
        "plt.show()"
      ],
      "execution_count": null,
      "outputs": [
        {
          "output_type": "display_data",
          "data": {
            "image/png": "[encoded data removed]",
            "text/plain": [
              "<Figure size 432x288 with 1 Axes>"
            ]
          },
          "metadata": {
            "tags": [],
            "needs_background": "light"
          }
        }
      ]
    },
    {
      "cell_type": "code",
      "metadata": {
        "colab": {
          "base_uri": "https://localhost:8080/",
          "height": 269
        },
        "id": "soCv6DzyFbkx",
        "outputId": "81c20f38-27d9-4511-f1a4-8b43f89fc9a9"
      },
      "source": [
        "import matplotlib.pyplot as plt\r\n",
        "import numpy as np\r\n",
        "x = np.array([5,7,8,7,2,17,2,9,4,11,12,9,6])\r\n",
        "y = np.array([99,86,87,88,111,86,103,87,94,78,77,85,86])\r\n",
        "colors = np.array([0,10,20,30,40,45,50,55,60,70,80,90,100])\r\n",
        "plt.scatter(x,y, c=colors,cmap = 'viridis')\r\n",
        "plt.colorbar()\r\n",
        "plt.show()"
      ],
      "execution_count": null,
      "outputs": [
        {
          "output_type": "display_data",
          "data": {
            "image/png": "[encoded data removed]",
            "text/plain": [
              "<Figure size 432x288 with 2 Axes>"
            ]
          },
          "metadata": {
            "tags": [],
            "needs_background": "light"
          }
        }
      ]
    },
    {
      "cell_type": "code",
      "metadata": {
        "colab": {
          "base_uri": "https://localhost:8080/",
          "height": 269
        },
        "id": "8xiHOsFrFayK",
        "outputId": "d0a4b4cd-41b9-4dac-a6c8-1825ffd4b27d"
      },
      "source": [
        "import matplotlib.pyplot as plt\r\n",
        "import numpy as np\r\n",
        "x = np.array([5,7,8,7,2,17,2,9,4,11,12,9,6])\r\n",
        "y = np.array([99,86,87,88,111,86,103,87,94,78,77,85,86])\r\n",
        "colors = np.array([0,10,20,30,40,45,50,55,60,70,80,90,100])\r\n",
        "plt.scatter(x,y, c=colors,cmap = 'Accent')\r\n",
        "plt.colorbar()\r\n",
        "plt.show()"
      ],
      "execution_count": null,
      "outputs": [
        {
          "output_type": "display_data",
          "data": {
            "image/png": "[encoded data removed]",
            "text/plain": [
              "<Figure size 432x288 with 2 Axes>"
            ]
          },
          "metadata": {
            "tags": [],
            "needs_background": "light"
          }
        }
      ]
    },
    {
      "cell_type": "code",
      "metadata": {
        "colab": {
          "base_uri": "https://localhost:8080/",
          "height": 269
        },
        "id": "75_Sl-BXMSw7",
        "outputId": "f22d2c43-a247-4838-b14e-d1c47e6abd13"
      },
      "source": [
        "import matplotlib.pyplot as plt\r\n",
        "import numpy as np\r\n",
        "x = np.array([5,7,8,7,2,17,2,9,4,11,12,9,6])\r\n",
        "y = np.array([99,86,87,88,111,86,103,87,94,78,77,85,86])\r\n",
        "sizes = np.array([0,10,20,30,40,45,50,55,60,70,80,90,100])\r\n",
        "plt.scatter(x,y,s=sizes)\r\n",
        "plt.colorbar()\r\n",
        "plt.show()"
      ],
      "execution_count": null,
      "outputs": [
        {
          "output_type": "display_data",
          "data": {
            "image/png": "[encoded data removed]",
            "text/plain": [
              "<Figure size 432x288 with 2 Axes>"
            ]
          },
          "metadata": {
            "tags": [],
            "needs_background": "light"
          }
        }
      ]
    },
    {
      "cell_type": "code",
      "metadata": {
        "colab": {
          "base_uri": "https://localhost:8080/",
          "height": 269
        },
        "id": "hm1S03KqMm6O",
        "outputId": "f294e5f0-be5c-46cd-fd79-b7fe8ff86f6f"
      },
      "source": [
        "import matplotlib.pyplot as plt\r\n",
        "import numpy as np\r\n",
        "x = np.array([5,7,8,7,2,17,2,9,4,11,12,9,6])\r\n",
        "y = np.array([99,86,87,88,111,86,103,87,94,78,77,85,86])\r\n",
        "sizes = np.array([0,10,20,30,40,45,50,55,60,70,80,90,100])\r\n",
        "plt.scatter(x,y,s=sizes,alpha=0.5)\r\n",
        "plt.colorbar()\r\n",
        "plt.show()"
      ],
      "execution_count": null,
      "outputs": [
        {
          "output_type": "display_data",
          "data": {
            "image/png": "[encoded data removed]",
            "text/plain": [
              "<Figure size 432x288 with 2 Axes>"
            ]
          },
          "metadata": {
            "tags": [],
            "needs_background": "light"
          }
        }
      ]
    },
    {
      "cell_type": "code",
      "metadata": {
        "colab": {
          "base_uri": "https://localhost:8080/",
          "height": 265
        },
        "id": "f3zmHAUjMxv1",
        "outputId": "b2282a84-08a5-4e89-d248-94c268be51a5"
      },
      "source": [
        "import matplotlib.pyplot as plt\r\n",
        "import numpy as np\r\n",
        "x = np.array([5,7,8,7,2,17,2,9,4,11,12,9,6])\r\n",
        "y = np.array([99,86,87,88,111,86,103,87,94,78,77,85,86])\r\n",
        "sizes = np.array([0,10,20,30,40,45,50,55,60,70,80,90,100])\r\n",
        "plt.scatter(x,y,s=sizes,alpha=0.7)\r\n",
        "plt.show()"
      ],
      "execution_count": null,
      "outputs": [
        {
          "output_type": "display_data",
          "data": {
            "image/png": "[encoded data removed]",
            "text/plain": [
              "<Figure size 432x288 with 1 Axes>"
            ]
          },
          "metadata": {
            "tags": [],
            "needs_background": "light"
          }
        }
      ]
    },
    {
      "cell_type": "code",
      "metadata": {
        "colab": {
          "base_uri": "https://localhost:8080/",
          "height": 268
        },
        "id": "cykns5FxM_VO",
        "outputId": "adf3451f-b256-4162-8cdb-cdfbb28cb78c"
      },
      "source": [
        "import matplotlib.pyplot as plt\r\n",
        "import numpy as np\r\n",
        "x = np.random.randint(100,size=(100))\r\n",
        "y = np.random.randint(100,size=(100))\r\n",
        "colors = np.random.randint(100,size=(100))\r\n",
        "sizes = 10 * np.random.randint(100,size=(100))\r\n",
        "plt.scatter(x,y,c=colors,s=sizes,alpha=0.7,cmap='nipy_spectral')\r\n",
        "plt.colorbar\r\n",
        "plt.show()"
      ],
      "execution_count": null,
      "outputs": [
        {
          "output_type": "display_data",
          "data": {
            "image/png": "[encoded data removed]",
            "text/plain": [
              "<Figure size 432x288 with 1 Axes>"
            ]
          },
          "metadata": {
            "tags": [],
            "needs_background": "light"
          }
        }
      ]
    },
    {
      "cell_type": "markdown",
      "metadata": {
        "id": "1N23vJADNypu"
      },
      "source": [
        "***Bar Plots/Charts***"
      ]
    },
    {
      "cell_type": "code",
      "metadata": {
        "colab": {
          "base_uri": "https://localhost:8080/",
          "height": 265
        },
        "id": "raeN3DYbN72v",
        "outputId": "1c1e3bf1-8d46-406b-d142-c99341eb7ed7"
      },
      "source": [
        "import matplotlib.pyplot as plt\r\n",
        "import numpy as np\r\n",
        "x = np.array([\"A\",\"B\",\"C\",\"D\"])\r\n",
        "y = np.array([23,15,25,20])\r\n",
        "plt.bar(x,y)\r\n",
        "plt.show()"
      ],
      "execution_count": null,
      "outputs": [
        {
          "output_type": "display_data",
          "data": {
            "image/png": "[encoded data removed]",
            "text/plain": [
              "<Figure size 432x288 with 1 Axes>"
            ]
          },
          "metadata": {
            "tags": [],
            "needs_background": "light"
          }
        }
      ]
    },
    {
      "cell_type": "code",
      "metadata": {
        "colab": {
          "base_uri": "https://localhost:8080/",
          "height": 265
        },
        "id": "s7MnKfqvOzZ8",
        "outputId": "adab458b-10a9-481a-c527-17863f708d07"
      },
      "source": [
        "import matplotlib.pyplot as plt\r\n",
        "import numpy as np\r\n",
        "x = np.array([\"A\",\"B\",\"C\",\"D\"])\r\n",
        "y = np.array([23,15,25,20])\r\n",
        "plt.barh(x,y)\r\n",
        "plt.show()"
      ],
      "execution_count": null,
      "outputs": [
        {
          "output_type": "display_data",
          "data": {
            "image/png": "[encoded data removed]",
            "text/plain": [
              "<Figure size 432x288 with 1 Axes>"
            ]
          },
          "metadata": {
            "tags": [],
            "needs_background": "light"
          }
        }
      ]
    },
    {
      "cell_type": "code",
      "metadata": {
        "colab": {
          "base_uri": "https://localhost:8080/",
          "height": 265
        },
        "id": "nLDQksCWO6M_",
        "outputId": "a9669171-37e2-45fa-bb5c-94679341081f"
      },
      "source": [
        "import matplotlib.pyplot as plt\r\n",
        "import numpy as np\r\n",
        "x = np.array([\"A\",\"B\",\"C\",\"D\"])\r\n",
        "y = np.array([23,15,25,20])\r\n",
        "plt.bar(x,y,color = 'red')\r\n",
        "plt.show()"
      ],
      "execution_count": null,
      "outputs": [
        {
          "output_type": "display_data",
          "data": {
            "image/png": "[encoded data removed]",
            "text/plain": [
              "<Figure size 432x288 with 1 Axes>"
            ]
          },
          "metadata": {
            "tags": [],
            "needs_background": "light"
          }
        }
      ]
    },
    {
      "cell_type": "code",
      "metadata": {
        "colab": {
          "base_uri": "https://localhost:8080/",
          "height": 265
        },
        "id": "j9xdwpNnPZAA",
        "outputId": "aabb125a-c199-4f3e-86bc-eafcd5bb1a0a"
      },
      "source": [
        "import matplotlib.pyplot as plt\r\n",
        "import numpy as np\r\n",
        "x = np.array([\"A\",\"B\",\"C\",\"D\"])\r\n",
        "y = np.array([23,15,25,20])\r\n",
        "plt.barh(x,y,color = 'red')\r\n",
        "plt.show()"
      ],
      "execution_count": null,
      "outputs": [
        {
          "output_type": "display_data",
          "data": {
            "image/png": "[encoded data removed]",
            "text/plain": [
              "<Figure size 432x288 with 1 Axes>"
            ]
          },
          "metadata": {
            "tags": [],
            "needs_background": "light"
          }
        }
      ]
    },
    {
      "cell_type": "code",
      "metadata": {
        "colab": {
          "base_uri": "https://localhost:8080/",
          "height": 265
        },
        "id": "5-izaFbOPlfD",
        "outputId": "57c78a56-341f-484b-ab72-88270811bbe8"
      },
      "source": [
        "import matplotlib.pyplot as plt\r\n",
        "import numpy as np\r\n",
        "x = np.array([\"A\",\"B\",\"C\",\"D\"])\r\n",
        "y = np.array([23,15,25,20])\r\n",
        "plt.bar(x,y,color = 'hotpink')\r\n",
        "plt.show()"
      ],
      "execution_count": null,
      "outputs": [
        {
          "output_type": "display_data",
          "data": {
            "image/png": "[encoded data removed]",
            "text/plain": [
              "<Figure size 432x288 with 1 Axes>"
            ]
          },
          "metadata": {
            "tags": [],
            "needs_background": "light"
          }
        }
      ]
    },
    {
      "cell_type": "code",
      "metadata": {
        "colab": {
          "base_uri": "https://localhost:8080/",
          "height": 265
        },
        "id": "w1qawLhRP4A9",
        "outputId": "03403d4e-05a3-464b-a270-e14dcd3b30f5"
      },
      "source": [
        "import matplotlib.pyplot as plt\r\n",
        "import numpy as np\r\n",
        "x = np.array([\"A\",\"B\",\"C\",\"D\"])\r\n",
        "y = np.array([23,15,25,20])\r\n",
        "plt.bar(x,y,width = 0.1)\r\n",
        "plt.show()"
      ],
      "execution_count": null,
      "outputs": [
        {
          "output_type": "display_data",
          "data": {
            "image/png": "[encoded data removed]",
            "text/plain": [
              "<Figure size 432x288 with 1 Axes>"
            ]
          },
          "metadata": {
            "tags": [],
            "needs_background": "light"
          }
        }
      ]
    },
    {
      "cell_type": "code",
      "metadata": {
        "colab": {
          "base_uri": "https://localhost:8080/",
          "height": 265
        },
        "id": "ODK7XHH7QCuh",
        "outputId": "b60a67f2-3dab-4ddf-ac97-7f161fb73f86"
      },
      "source": [
        "import matplotlib.pyplot as plt\r\n",
        "import numpy as np\r\n",
        "x = np.array([\"A\",\"B\",\"C\",\"D\"])\r\n",
        "y = np.array([23,15,25,20])\r\n",
        "plt.bar(x,y,width = 0.5)\r\n",
        "plt.show()"
      ],
      "execution_count": null,
      "outputs": [
        {
          "output_type": "display_data",
          "data": {
            "image/png": "[encoded data removed]",
            "text/plain": [
              "<Figure size 432x288 with 1 Axes>"
            ]
          },
          "metadata": {
            "tags": [],
            "needs_background": "light"
          }
        }
      ]
    },
    {
      "cell_type": "code",
      "metadata": {
        "colab": {
          "base_uri": "https://localhost:8080/",
          "height": 265
        },
        "id": "WRpXMh8SQHsU",
        "outputId": "4fea1df5-5733-42b7-db0b-01f380717f12"
      },
      "source": [
        "import matplotlib.pyplot as plt\r\n",
        "import numpy as np\r\n",
        "x = np.array([\"A\",\"B\",\"C\",\"D\"])\r\n",
        "y = np.array([23,15,25,20])\r\n",
        "plt.bar(x,y,width = 0.1)\r\n",
        "plt.show()"
      ],
      "execution_count": null,
      "outputs": [
        {
          "output_type": "display_data",
          "data": {
            "image/png": "[encoded data removed]",
            "text/plain": [
              "<Figure size 432x288 with 1 Axes>"
            ]
          },
          "metadata": {
            "tags": [],
            "needs_background": "light"
          }
        }
      ]
    },
    {
      "cell_type": "code",
      "metadata": {
        "colab": {
          "base_uri": "https://localhost:8080/",
          "height": 265
        },
        "id": "5oKBDq7KQazH",
        "outputId": "f84efdba-ac9e-42c7-e1bc-001f0ed13918"
      },
      "source": [
        "import matplotlib.pyplot as plt\r\n",
        "import numpy as np\r\n",
        "x = np.array([\"A\",\"B\",\"C\",\"D\"])\r\n",
        "y = np.array([23,15,25,20])\r\n",
        "plt.barh(x,y,height = 0.8)\r\n",
        "plt.show()"
      ],
      "execution_count": null,
      "outputs": [
        {
          "output_type": "display_data",
          "data": {
            "image/png": "[encoded data removed]",
            "text/plain": [
              "<Figure size 432x288 with 1 Axes>"
            ]
          },
          "metadata": {
            "tags": [],
            "needs_background": "light"
          }
        }
      ]
    },
    {
      "cell_type": "code",
      "metadata": {
        "colab": {
          "base_uri": "https://localhost:8080/",
          "height": 265
        },
        "id": "Cw3KQUZFQlBj",
        "outputId": "ccd4f4a6-d653-435a-85c9-12616ec02eb9"
      },
      "source": [
        "import matplotlib.pyplot as plt\r\n",
        "import numpy as np\r\n",
        "x = np.array([\"A\",\"B\",\"C\",\"D\"])\r\n",
        "y = np.array([23,15,25,20])\r\n",
        "plt.barh(x,y,height = 0.1)\r\n",
        "plt.show()"
      ],
      "execution_count": null,
      "outputs": [
        {
          "output_type": "display_data",
          "data": {
            "image/png": "[encoded data removed]",
            "text/plain": [
              "<Figure size 432x288 with 1 Axes>"
            ]
          },
          "metadata": {
            "tags": [],
            "needs_background": "light"
          }
        }
      ]
    },
    {
      "cell_type": "code",
      "metadata": {
        "colab": {
          "base_uri": "https://localhost:8080/"
        },
        "id": "72GXnmqYFNab",
        "outputId": "d59fd440-8d5b-406b-fbbd-bf2bfecb5bf2"
      },
      "source": [
        "import numpy as np\r\n",
        "x = np.random.normal(170,10,250)\r\n",
        "print(x)"
      ],
      "execution_count": null,
      "outputs": [
        {
          "output_type": "stream",
          "text": [
            "[172.73272651 193.70910296 151.6299592  173.0892155  169.73568986\n",
            " 167.71063366 174.81838759 177.44470339 180.02735856 177.7488328\n",
            " 158.46703714 188.56164572 162.4046943  172.52697915 176.64358665\n",
            " 152.57246249 177.30941686 157.35441385 150.17983939 174.3244731\n",
            " 161.45087124 173.37251391 168.968569   184.85214809 162.38281307\n",
            " 152.09451034 173.27852636 180.33807722 163.26522568 174.64366305\n",
            " 169.69355167 161.17829662 175.99952003 181.86557007 188.75253806\n",
            " 169.21034251 160.27171118 174.25378026 173.25891346 181.75553974\n",
            " 156.42764636 167.60320781 178.58247168 156.9583939  170.27943786\n",
            " 168.40903622 150.58005499 160.33173082 160.9896423  167.27101883\n",
            " 186.72315907 179.88611277 187.47678854 179.77992948 170.42587928\n",
            " 181.97220443 172.55190267 163.09405383 160.19884196 167.26585182\n",
            " 178.58506122 164.47303205 157.14196584 183.51777547 176.17429585\n",
            " 195.7596857  157.6014764  172.67995087 156.63091279 181.89336741\n",
            " 170.56059505 157.56228958 166.00631783 170.25511241 153.50635554\n",
            " 188.40529564 168.7286121  192.56519805 180.46796326 170.25205035\n",
            " 160.27026692 169.60820048 166.64118502 150.72730713 156.48395008\n",
            " 169.48942011 167.90831985 180.05824579 156.1496258  168.68707204\n",
            " 163.28667941 162.92537917 155.72732851 180.85438341 167.36880443\n",
            " 179.39584883 164.40006763 182.24049027 185.70855629 176.56212963\n",
            " 176.46085818 169.81071776 182.32077375 190.53742078 183.12913917\n",
            " 177.95659719 164.96472109 156.94467525 170.61296835 170.42658967\n",
            " 167.39577685 162.65028999 175.1423816  172.67410703 168.94057066\n",
            " 166.94458784 175.3032773  171.14081892 149.70395108 171.34109212\n",
            " 163.90288984 161.01795771 173.94160221 177.79706827 174.00854324\n",
            " 149.47425259 149.51900784 179.57447966 167.83948392 177.76922968\n",
            " 171.87199818 166.78913834 169.01011587 187.22490066 192.9423616\n",
            " 161.72787079 190.59554038 152.7253155  177.91745404 163.451276\n",
            " 186.8831793  161.8708328  175.63997287 154.49099535 168.26363609\n",
            " 176.07858404 169.21087768 156.44867709 166.97645586 176.16577954\n",
            " 168.13949681 174.85390816 163.65080798 167.56891584 163.5182651\n",
            " 185.24748929 183.09906707 161.70986927 171.41556234 164.47542539\n",
            " 158.07132472 167.51665009 165.3594104  159.32570261 168.00248664\n",
            " 164.47998475 167.29265825 159.84796663 163.79870381 168.71317408\n",
            " 165.10072429 168.07113539 168.96480451 189.51359302 180.31711083\n",
            " 173.68668671 174.75746384 168.95353449 164.05528157 161.79211602\n",
            " 168.98197747 173.45445903 172.56607538 154.0692604  169.8864688\n",
            " 178.23995257 188.15987428 176.87092411 172.18407849 175.08770776\n",
            " 172.90697465 169.2940116  175.09043627 189.82731549 159.59351939\n",
            " 175.82465949 170.03810149 173.16953211 177.34045479 171.7888947\n",
            " 144.97784143 167.88528805 185.34155203 162.71951915 167.23606366\n",
            " 194.80830059 170.04946221 151.23492927 173.79361237 160.68798177\n",
            " 184.74714354 135.62067808 170.16445419 169.11393671 188.56395451\n",
            " 188.19383297 178.07540345 165.65608721 164.31170077 167.24242659\n",
            " 182.98783374 162.93303666 171.32920729 165.67919186 169.59763572\n",
            " 170.11666165 155.77973028 175.08048548 175.41131474 167.45730836\n",
            " 181.54242906 183.87980326 159.59704592 156.59620338 167.29800236\n",
            " 167.32948542 166.09031264 186.69748164 173.11282772 144.69099043\n",
            " 159.17252992 176.12062214 170.5596909  169.41576285 163.83298248\n",
            " 176.11496257 180.37375549 173.38694178 185.62055278 171.12494294]\n"
          ],
          "name": "stdout"
        }
      ]
    },
    {
      "cell_type": "code",
      "metadata": {
        "colab": {
          "base_uri": "https://localhost:8080/",
          "height": 265
        },
        "id": "drcYb106FZcP",
        "outputId": "74cc0a81-9de5-434c-f3a4-4b2d0e3a2282"
      },
      "source": [
        "import matplotlib.pyplot as plt\r\n",
        "import numpy as np\r\n",
        "\r\n",
        "x = np.random.normal(170,10,250)\r\n",
        "plt.hist(x)\r\n",
        "plt.show()"
      ],
      "execution_count": null,
      "outputs": [
        {
          "output_type": "display_data",
          "data": {
            "image/png": "[encoded data removed]",
            "text/plain": [
              "<Figure size 432x288 with 1 Axes>"
            ]
          },
          "metadata": {
            "tags": [],
            "needs_background": "light"
          }
        }
      ]
    },
    {
      "cell_type": "code",
      "metadata": {
        "colab": {
          "base_uri": "https://localhost:8080/",
          "height": 248
        },
        "id": "p6JbwhNzGB0h",
        "outputId": "b68a7c43-0c10-40c8-da96-7be725e9def1"
      },
      "source": [
        "import matplotlib.pyplot as plt\r\n",
        "import numpy as np\r\n",
        "y = np.array([35,25,25,15])\r\n",
        "mylabels = ['Mansi', 'Rajath', 'Ramesh', 'Chotu']\r\n",
        "plt.pie(y, labels=mylabels)\r\n",
        "plt.show()"
      ],
      "execution_count": null,
      "outputs": [
        {
          "output_type": "display_data",
          "data": {
            "image/png": "[encoded data removed]",
            "text/plain": [
              "<Figure size 432x288 with 1 Axes>"
            ]
          },
          "metadata": {
            "tags": []
          }
        }
      ]
    },
    {
      "cell_type": "code",
      "metadata": {
        "colab": {
          "base_uri": "https://localhost:8080/",
          "height": 248
        },
        "id": "V6GvRT9dGOxv",
        "outputId": "327b8d15-f090-4e81-e93d-12dd3d02ed73"
      },
      "source": [
        "import matplotlib.pyplot as plt\r\n",
        "import numpy as np\r\n",
        "y = np.array([35,25,25,15])\r\n",
        "mylabels = ['Mansi', 'Rajath', 'Ramesh', 'Chotu']\r\n",
        "myexplode = [0.2,0,0,0]\r\n",
        "plt.pie(y, labels=mylabels,explode=myexplode)\r\n",
        "plt.show()"
      ],
      "execution_count": null,
      "outputs": [
        {
          "output_type": "display_data",
          "data": {
            "image/png": "[encoded data removed]",
            "text/plain": [
              "<Figure size 432x288 with 1 Axes>"
            ]
          },
          "metadata": {
            "tags": []
          }
        }
      ]
    },
    {
      "cell_type": "code",
      "metadata": {
        "colab": {
          "base_uri": "https://localhost:8080/",
          "height": 248
        },
        "id": "qU19GxX2HFXV",
        "outputId": "90c70d2d-eb05-4c6e-f34d-df156f6b0745"
      },
      "source": [
        "import matplotlib.pyplot as plt\r\n",
        "import numpy as np\r\n",
        "y = np.array([35,25,25,15])\r\n",
        "mylabels = ['Mansi', 'Rajath', 'Ramesh', 'Chotu']\r\n",
        "myexplode = [0.2,0.3,0,0]\r\n",
        "plt.pie(y, labels=mylabels,explode=myexplode)\r\n",
        "plt.show()"
      ],
      "execution_count": null,
      "outputs": [
        {
          "output_type": "display_data",
          "data": {
            "image/png": "[encoded data removed]",
            "text/plain": [
              "<Figure size 432x288 with 1 Axes>"
            ]
          },
          "metadata": {
            "tags": []
          }
        }
      ]
    },
    {
      "cell_type": "code",
      "metadata": {
        "colab": {
          "base_uri": "https://localhost:8080/",
          "height": 248
        },
        "id": "N1n-RhenHN2a",
        "outputId": "496fc556-c5ac-4fa8-e6f7-d8c2092d8333"
      },
      "source": [
        "import matplotlib.pyplot as plt\r\n",
        "import numpy as np\r\n",
        "y = np.array([35,25,25,15])\r\n",
        "mylabels = ['Mansi', 'Rajath', 'Ramesh', 'Chotu']\r\n",
        "myexplode = [0.2,0,0,0]\r\n",
        "plt.pie(y, labels=mylabels,explode=myexplode,shadow=True)\r\n",
        "plt.show()"
      ],
      "execution_count": null,
      "outputs": [
        {
          "output_type": "display_data",
          "data": {
            "image/png": "[encoded data removed]",
            "text/plain": [
              "<Figure size 432x288 with 1 Axes>"
            ]
          },
          "metadata": {
            "tags": []
          }
        }
      ]
    },
    {
      "cell_type": "code",
      "metadata": {
        "colab": {
          "base_uri": "https://localhost:8080/",
          "height": 248
        },
        "id": "cTnNcoGVHtDr",
        "outputId": "7d26be81-b56b-4b15-ad68-87da33f8ed8a"
      },
      "source": [
        "import matplotlib.pyplot as plt\r\n",
        "import numpy as np\r\n",
        "y = np.array([35,25,25,15])\r\n",
        "mylabels = ['Mansi', 'Rajath', 'Ramesh', 'Chotu']\r\n",
        "myexplode = [0.2,0,0,0]\r\n",
        "plt.pie(y, labels=mylabels,explode=myexplode,shadow=True)\r\n",
        "plt.legend()\r\n",
        "plt.show()"
      ],
      "execution_count": null,
      "outputs": [
        {
          "output_type": "display_data",
          "data": {
            "image/png": "[encoded data removed]",
            "text/plain": [
              "<Figure size 432x288 with 1 Axes>"
            ]
          },
          "metadata": {
            "tags": []
          }
        }
      ]
    },
    {
      "cell_type": "code",
      "metadata": {
        "colab": {
          "base_uri": "https://localhost:8080/",
          "height": 248
        },
        "id": "9JFlEixxIF6p",
        "outputId": "09838af5-ab8a-425a-b750-f91dc1dac442"
      },
      "source": [
        "import matplotlib.pyplot as plt\r\n",
        "import numpy as np\r\n",
        "y = np.array([35,25,25,15])\r\n",
        "mylabels = ['Mansi', 'Rajath', 'Ramesh', 'Varsha']\r\n",
        "myexplode = [0.2,0,0,0]\r\n",
        "plt.pie(y, labels=mylabels,explode=myexplode,shadow=True)\r\n",
        "plt.legend(title='Student Names:')\r\n",
        "plt.show()"
      ],
      "execution_count": null,
      "outputs": [
        {
          "output_type": "display_data",
          "data": {
            "image/png": "[encoded data removed]",
            "text/plain": [
              "<Figure size 432x288 with 1 Axes>"
            ]
          },
          "metadata": {
            "tags": []
          }
        }
      ]
    },
    {
      "cell_type": "code",
      "metadata": {
        "colab": {
          "base_uri": "https://localhost:8080/",
          "height": 248
        },
        "id": "XBLQ-4LMIpe-",
        "outputId": "c7262e5e-7a1f-45f2-bfa0-cc434985138e"
      },
      "source": [
        "import matplotlib.pyplot as plt\r\n",
        "import numpy as np\r\n",
        "y = np.array([35,25,25,15])\r\n",
        "mylabels = ['Mansi', 'Rajath', 'Ramesh', 'Chotu']\r\n",
        "myexplode = [0.2,0,0,0]\r\n",
        "plt.pie(y, labels=mylabels,explode=myexplode)\r\n",
        "plt.legend()\r\n",
        "plt.show()"
      ],
      "execution_count": null,
      "outputs": [
        {
          "output_type": "display_data",
          "data": {
            "image/png": "[encoded data removed]",
            "text/plain": [
              "<Figure size 432x288 with 1 Axes>"
            ]
          },
          "metadata": {
            "tags": []
          }
        }
      ]
    },
    {
      "cell_type": "markdown",
      "metadata": {
        "id": "uZRcWpOdzYlU"
      },
      "source": [
        "**Scientific Computing using Scipy **"
      ]
    },
    {
      "cell_type": "code",
      "metadata": {
        "id": "z1tbIIHdIrtr",
        "colab": {
          "base_uri": "https://localhost:8080/"
        },
        "outputId": "2fd42ea3-4615-4288-d654-b25ce6aedbc4"
      },
      "source": [
        "from scipy import constants\r\n",
        "print(constants.pi)"
      ],
      "execution_count": null,
      "outputs": [
        {
          "output_type": "stream",
          "text": [
            "3.141592653589793\n"
          ],
          "name": "stdout"
        }
      ]
    },
    {
      "cell_type": "code",
      "metadata": {
        "colab": {
          "base_uri": "https://localhost:8080/"
        },
        "id": "J7fqO_DGzuKc",
        "outputId": "030bde4f-453c-43a3-d8cd-df6d434ff23a"
      },
      "source": [
        "from scipy import constants\r\n",
        "print(dir(constants))"
      ],
      "execution_count": null,
      "outputs": [
        {
          "output_type": "stream",
          "text": [
            "['Avogadro', 'Boltzmann', 'Btu', 'Btu_IT', 'Btu_th', 'ConstantWarning', 'G', 'Julian_year', 'N_A', 'Planck', 'R', 'Rydberg', 'Stefan_Boltzmann', 'Wien', '__all__', '__builtins__', '__cached__', '__doc__', '__file__', '__loader__', '__name__', '__package__', '__path__', '__spec__', '_obsolete_constants', 'absolute_import', 'acre', 'alpha', 'angstrom', 'arcmin', 'arcminute', 'arcsec', 'arcsecond', 'astronomical_unit', 'atm', 'atmosphere', 'atomic_mass', 'atto', 'au', 'bar', 'barrel', 'bbl', 'blob', 'c', 'calorie', 'calorie_IT', 'calorie_th', 'carat', 'centi', 'codata', 'constants', 'convert_temperature', 'day', 'deci', 'degree', 'degree_Fahrenheit', 'deka', 'division', 'dyn', 'dyne', 'e', 'eV', 'electron_mass', 'electron_volt', 'elementary_charge', 'epsilon_0', 'erg', 'exa', 'exbi', 'femto', 'fermi', 'find', 'fine_structure', 'fluid_ounce', 'fluid_ounce_US', 'fluid_ounce_imp', 'foot', 'g', 'gallon', 'gallon_US', 'gallon_imp', 'gas_constant', 'gibi', 'giga', 'golden', 'golden_ratio', 'grain', 'gram', 'gravitational_constant', 'h', 'hbar', 'hectare', 'hecto', 'horsepower', 'hour', 'hp', 'inch', 'k', 'kgf', 'kibi', 'kilo', 'kilogram_force', 'kmh', 'knot', 'lambda2nu', 'lb', 'lbf', 'light_year', 'liter', 'litre', 'long_ton', 'm_e', 'm_n', 'm_p', 'm_u', 'mach', 'mebi', 'mega', 'metric_ton', 'micro', 'micron', 'mil', 'mile', 'milli', 'minute', 'mmHg', 'mph', 'mu_0', 'nano', 'nautical_mile', 'neutron_mass', 'nu2lambda', 'ounce', 'oz', 'parsec', 'pebi', 'peta', 'physical_constants', 'pi', 'pico', 'point', 'pound', 'pound_force', 'precision', 'print_function', 'proton_mass', 'psi', 'pt', 'short_ton', 'sigma', 'slinch', 'slug', 'speed_of_light', 'speed_of_sound', 'stone', 'survey_foot', 'survey_mile', 'tebi', 'tera', 'test', 'ton_TNT', 'torr', 'troy_ounce', 'troy_pound', 'u', 'unit', 'value', 'week', 'yard', 'year', 'yobi', 'yotta', 'zebi', 'zepto', 'zero_Celsius', 'zetta']\n"
          ],
          "name": "stdout"
        }
      ]
    },
    {
      "cell_type": "code",
      "metadata": {
        "colab": {
          "base_uri": "https://localhost:8080/"
        },
        "id": "tlAQWy3Wz3Gk",
        "outputId": "d124a2f8-2c6b-4d0b-d090-3dee92dc9ee9"
      },
      "source": [
        "from scipy import constants\r\n",
        "print(constants.yotta)\r\n",
        "print(constants.zetta)\r\n",
        "print(constants.exa)\r\n",
        "print(constants.tera)\r\n",
        "print(constants.mega)\r\n",
        "print(constants.kilo)\r\n",
        "print(constants.pico)"
      ],
      "execution_count": null,
      "outputs": [
        {
          "output_type": "stream",
          "text": [
            "1e+24\n",
            "1e+21\n",
            "1e+18\n",
            "1000000000000.0\n",
            "1000000.0\n",
            "1000.0\n",
            "1e-12\n"
          ],
          "name": "stdout"
        }
      ]
    },
    {
      "cell_type": "code",
      "metadata": {
        "colab": {
          "base_uri": "https://localhost:8080/"
        },
        "id": "3ndAZuWB0hqh",
        "outputId": "2848dc9e-c4f2-477a-e386-91341575ed3c"
      },
      "source": [
        "from scipy import constants\r\n",
        "print(constants.gram)\r\n",
        "print(constants.pound)\r\n",
        "print(constants.carat)\r\n",
        "print(constants.u)\r\n",
        "print(constants.atomic_mass)\r\n",
        "print(constants.astronomical_unit)"
      ],
      "execution_count": null,
      "outputs": [
        {
          "output_type": "stream",
          "text": [
            "0.001\n",
            "0.45359236999999997\n",
            "0.0002\n",
            "1.6605390666e-27\n",
            "1.6605390666e-27\n",
            "149597870700.0\n"
          ],
          "name": "stdout"
        }
      ]
    },
    {
      "cell_type": "code",
      "metadata": {
        "colab": {
          "base_uri": "https://localhost:8080/"
        },
        "id": "XEYRUWTV0-bY",
        "outputId": "8b63c962-2ef0-4ca8-fc74-ce5862dcc745"
      },
      "source": [
        "from scipy import constants\r\n",
        "print(constants.minute)\r\n",
        "print(constants.hour)\r\n",
        "print(constants.day)\r\n",
        "print(constants.week)\r\n",
        "print(constants.year)\r\n",
        "print(constants.Julian_year)"
      ],
      "execution_count": null,
      "outputs": [
        {
          "output_type": "stream",
          "text": [
            "60.0\n",
            "3600.0\n",
            "86400.0\n",
            "604800.0\n",
            "31536000.0\n",
            "31557600.0\n"
          ],
          "name": "stdout"
        }
      ]
    },
    {
      "cell_type": "code",
      "metadata": {
        "colab": {
          "base_uri": "https://localhost:8080/"
        },
        "id": "mwBgQil91kLk",
        "outputId": "785225e1-6581-4180-93b8-75093c31cccf"
      },
      "source": [
        "from scipy import constants\r\n",
        "print(constants.inch)\r\n",
        "print(constants.foot)\r\n",
        "print(constants.mile)\r\n",
        "print(constants.pt)\r\n",
        "print(constants.point)\r\n",
        "print(constants.nautical_mile)"
      ],
      "execution_count": null,
      "outputs": [
        {
          "output_type": "stream",
          "text": [
            "0.0254\n",
            "0.30479999999999996\n",
            "1609.3439999999998\n",
            "0.00035277777777777776\n",
            "0.00035277777777777776\n",
            "1852.0\n"
          ],
          "name": "stdout"
        }
      ]
    },
    {
      "cell_type": "code",
      "metadata": {
        "colab": {
          "base_uri": "https://localhost:8080/"
        },
        "id": "1d7RixGc1-5h",
        "outputId": "8e0ef176-c580-4c34-82fb-6df0dcb1b517"
      },
      "source": [
        "from scipy import constants\r\n",
        "print(constants.zero_Celsius)\r\n",
        "print(constants.degree_Fahrenheit)"
      ],
      "execution_count": null,
      "outputs": [
        {
          "output_type": "stream",
          "text": [
            "273.15\n",
            "0.5555555555555556\n"
          ],
          "name": "stdout"
        }
      ]
    },
    {
      "cell_type": "code",
      "metadata": {
        "colab": {
          "base_uri": "https://localhost:8080/"
        },
        "id": "P_V8aXi82Q-i",
        "outputId": "64717d91-2dc1-4b5f-a8e9-7f13d99f514a"
      },
      "source": [
        "from scipy import constants\r\n",
        "print(constants.eV)\r\n",
        "print(constants.electron_volt)"
      ],
      "execution_count": null,
      "outputs": [
        {
          "output_type": "stream",
          "text": [
            "1.602176634e-19\n",
            "1.602176634e-19\n"
          ],
          "name": "stdout"
        }
      ]
    },
    {
      "cell_type": "code",
      "metadata": {
        "colab": {
          "base_uri": "https://localhost:8080/"
        },
        "id": "CX8doJi12a_W",
        "outputId": "51d9da82-61c6-444a-a331-f99a2d7faa1a"
      },
      "source": [
        "from scipy import constants\r\n",
        "print(constants.hp)\r\n",
        "print(constants.horsepower)"
      ],
      "execution_count": null,
      "outputs": [
        {
          "output_type": "stream",
          "text": [
            "745.6998715822701\n",
            "745.6998715822701\n"
          ],
          "name": "stdout"
        }
      ]
    },
    {
      "cell_type": "code",
      "metadata": {
        "colab": {
          "base_uri": "https://localhost:8080/"
        },
        "id": "cdvWPsQG3B04",
        "outputId": "bcf1d26d-20d3-4aa5-e13f-20f1e251c634"
      },
      "source": [
        "from scipy.optimize import root\r\n",
        "from math import cos\r\n",
        "\r\n",
        "def eqn(x):\r\n",
        "  return x +cos(x)\r\n",
        "\r\n",
        "myroot = root(eqn,0)\r\n",
        "print(myroot.x)"
      ],
      "execution_count": null,
      "outputs": [
        {
          "output_type": "stream",
          "text": [
            "[-0.73908513]\n"
          ],
          "name": "stdout"
        }
      ]
    },
    {
      "cell_type": "code",
      "metadata": {
        "colab": {
          "base_uri": "https://localhost:8080/"
        },
        "id": "d20d8ogB3k4y",
        "outputId": "a6c90c35-a8ea-4d1f-ffd7-1a70afde852b"
      },
      "source": [
        "from scipy.optimize import root\r\n",
        "from math import cos\r\n",
        "\r\n",
        "def eqn(x):\r\n",
        "  return x +cos(x)\r\n",
        "\r\n",
        "myroot = root(eqn,0)\r\n",
        "print(myroot)"
      ],
      "execution_count": null,
      "outputs": [
        {
          "output_type": "stream",
          "text": [
            "    fjac: array([[-1.]])\n",
            "     fun: array([0.])\n",
            " message: 'The solution converged.'\n",
            "    nfev: 9\n",
            "     qtf: array([-2.66786593e-13])\n",
            "       r: array([-1.67361202])\n",
            "  status: 1\n",
            " success: True\n",
            "       x: array([-0.73908513])\n"
          ],
          "name": "stdout"
        }
      ]
    },
    {
      "cell_type": "code",
      "metadata": {
        "colab": {
          "base_uri": "https://localhost:8080/"
        },
        "id": "Vj4YCz_Z4TFr",
        "outputId": "f1e6593a-1ca7-4271-f6e1-97a891c2e1f4"
      },
      "source": [
        "from scipy.optimize import root\r\n",
        "from math import cos\r\n",
        "\r\n",
        "def eqn(x):\r\n",
        "  return x +cos(x)\r\n",
        "\r\n",
        "myroot = root(eqn,1)\r\n",
        "print(myroot.x)"
      ],
      "execution_count": null,
      "outputs": [
        {
          "output_type": "stream",
          "text": [
            "[-0.73908513]\n"
          ],
          "name": "stdout"
        }
      ]
    },
    {
      "cell_type": "code",
      "metadata": {
        "colab": {
          "base_uri": "https://localhost:8080/"
        },
        "id": "vzZnKtEx4X3S",
        "outputId": "a8868076-d625-4e04-96f1-14d1690369da"
      },
      "source": [
        "from scipy.optimize import root\r\n",
        "from math import cos\r\n",
        "\r\n",
        "def eqn(x):\r\n",
        "  return x +cos(x)\r\n",
        "\r\n",
        "myroot = root(eqn,4)\r\n",
        "print(myroot.x)"
      ],
      "execution_count": null,
      "outputs": [
        {
          "output_type": "stream",
          "text": [
            "[-0.73908513]\n"
          ],
          "name": "stdout"
        }
      ]
    },
    {
      "cell_type": "code",
      "metadata": {
        "colab": {
          "base_uri": "https://localhost:8080/"
        },
        "id": "3fTKVphA4Z86",
        "outputId": "ebaf5426-a40d-44b3-a7d3-072025161a29"
      },
      "source": [
        "from scipy.optimize import minimize\r\n",
        "\r\n",
        "def eqn(x):\r\n",
        "  return x**2 +x + 2\r\n",
        "\r\n",
        "mymin = minimize(eqn,0,method=\"BFGS\")\r\n",
        "print(mymin)"
      ],
      "execution_count": null,
      "outputs": [
        {
          "output_type": "stream",
          "text": [
            "      fun: 1.75\n",
            " hess_inv: array([[0.50000001]])\n",
            "      jac: array([0.])\n",
            "  message: 'Optimization terminated successfully.'\n",
            "     nfev: 12\n",
            "      nit: 2\n",
            "     njev: 4\n",
            "   status: 0\n",
            "  success: True\n",
            "        x: array([-0.50000001])\n"
          ],
          "name": "stdout"
        }
      ]
    },
    {
      "cell_type": "code",
      "metadata": {
        "id": "xLS1lv3V5Nc1"
      },
      "source": [
        ""
      ],
      "execution_count": null,
      "outputs": []
    }
  ]
}