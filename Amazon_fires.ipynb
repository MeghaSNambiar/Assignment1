{
  "nbformat": 4,
  "nbformat_minor": 0,
  "metadata": {
    "colab": {
      "name": "Amazon fires.ipynb",
      "provenance": [],
      "collapsed_sections": []
    },
    "kernelspec": {
      "name": "python3",
      "display_name": "Python 3"
    }
  },
  "cells": [
    {
      "cell_type": "code",
      "metadata": {
        "colab": {
          "base_uri": "https://localhost:8080/",
          "height": 359
        },
        "id": "5I6x6gAhz55W",
        "outputId": "0f0c91e8-6739-4e63-b6df-3f6da79e2731"
      },
      "source": [
        "import pandas as pd\n",
        "file_name = \"/content/amazon_fires (3).csv\"\n",
        "df = pd.read_csv(file_name, encoding = \"ISO-8859-1\")\n",
        "df.head(10)"
      ],
      "execution_count": null,
      "outputs": [
        {
          "output_type": "execute_result",
          "data": {
            "text/html": [
              "<div>\n",
              "<style scoped>\n",
              "    .dataframe tbody tr th:only-of-type {\n",
              "        vertical-align: middle;\n",
              "    }\n",
              "\n",
              "    .dataframe tbody tr th {\n",
              "        vertical-align: top;\n",
              "    }\n",
              "\n",
              "    .dataframe thead th {\n",
              "        text-align: right;\n",
              "    }\n",
              "</style>\n",
              "<table border=\"1\" class=\"dataframe\">\n",
              "  <thead>\n",
              "    <tr style=\"text-align: right;\">\n",
              "      <th></th>\n",
              "      <th>ano</th>\n",
              "      <th>mes</th>\n",
              "      <th>estado</th>\n",
              "      <th>numero</th>\n",
              "      <th>encontro</th>\n",
              "    </tr>\n",
              "  </thead>\n",
              "  <tbody>\n",
              "    <tr>\n",
              "      <th>0</th>\n",
              "      <td>1998</td>\n",
              "      <td>Janeiro</td>\n",
              "      <td>Acre</td>\n",
              "      <td>0 Fires</td>\n",
              "      <td>01-01-1998</td>\n",
              "    </tr>\n",
              "    <tr>\n",
              "      <th>1</th>\n",
              "      <td>1999</td>\n",
              "      <td>Janeiro</td>\n",
              "      <td>Acre</td>\n",
              "      <td>0 Fires</td>\n",
              "      <td>01-01-1999</td>\n",
              "    </tr>\n",
              "    <tr>\n",
              "      <th>2</th>\n",
              "      <td>2000</td>\n",
              "      <td>Janeiro</td>\n",
              "      <td>Acre</td>\n",
              "      <td>0 Fires</td>\n",
              "      <td>01-01-2000</td>\n",
              "    </tr>\n",
              "    <tr>\n",
              "      <th>3</th>\n",
              "      <td>2001</td>\n",
              "      <td>Janeiro</td>\n",
              "      <td>Acre</td>\n",
              "      <td>0 Fires</td>\n",
              "      <td>01-01-2001</td>\n",
              "    </tr>\n",
              "    <tr>\n",
              "      <th>4</th>\n",
              "      <td>2002</td>\n",
              "      <td>Janeiro</td>\n",
              "      <td>Acre</td>\n",
              "      <td>0 Fires</td>\n",
              "      <td>01-01-2002</td>\n",
              "    </tr>\n",
              "    <tr>\n",
              "      <th>5</th>\n",
              "      <td>2003</td>\n",
              "      <td>Janeiro</td>\n",
              "      <td>Acre</td>\n",
              "      <td>10 Fires</td>\n",
              "      <td>01-01-2003</td>\n",
              "    </tr>\n",
              "    <tr>\n",
              "      <th>6</th>\n",
              "      <td>2004</td>\n",
              "      <td>Janeiro</td>\n",
              "      <td>Acre</td>\n",
              "      <td>0 Fires</td>\n",
              "      <td>01-01-2004</td>\n",
              "    </tr>\n",
              "    <tr>\n",
              "      <th>7</th>\n",
              "      <td>2005</td>\n",
              "      <td>Janeiro</td>\n",
              "      <td>Acre</td>\n",
              "      <td>12 Fires</td>\n",
              "      <td>01-01-2005</td>\n",
              "    </tr>\n",
              "    <tr>\n",
              "      <th>8</th>\n",
              "      <td>2006</td>\n",
              "      <td>Janeiro</td>\n",
              "      <td>Acre</td>\n",
              "      <td>4 Fires</td>\n",
              "      <td>01-01-2006</td>\n",
              "    </tr>\n",
              "    <tr>\n",
              "      <th>9</th>\n",
              "      <td>2007</td>\n",
              "      <td>Janeiro</td>\n",
              "      <td>Acre</td>\n",
              "      <td>0 Fires</td>\n",
              "      <td>01-01-2007</td>\n",
              "    </tr>\n",
              "  </tbody>\n",
              "</table>\n",
              "</div>"
            ],
            "text/plain": [
              "    ano      mes estado    numero    encontro\n",
              "0  1998  Janeiro   Acre   0 Fires  01-01-1998\n",
              "1  1999  Janeiro   Acre   0 Fires  01-01-1999\n",
              "2  2000  Janeiro   Acre   0 Fires  01-01-2000\n",
              "3  2001  Janeiro   Acre   0 Fires  01-01-2001\n",
              "4  2002  Janeiro   Acre   0 Fires  01-01-2002\n",
              "5  2003  Janeiro   Acre  10 Fires  01-01-2003\n",
              "6  2004  Janeiro   Acre   0 Fires  01-01-2004\n",
              "7  2005  Janeiro   Acre  12 Fires  01-01-2005\n",
              "8  2006  Janeiro   Acre   4 Fires  01-01-2006\n",
              "9  2007  Janeiro   Acre   0 Fires  01-01-2007"
            ]
          },
          "metadata": {
            "tags": []
          },
          "execution_count": 2
        }
      ]
    },
    {
      "cell_type": "code",
      "metadata": {
        "colab": {
          "base_uri": "https://localhost:8080/",
          "height": 204
        },
        "id": "e51BaR8u2RyA",
        "outputId": "df86c8a3-f1c1-4dc1-81f9-c1a51dd86178"
      },
      "source": [
        "df.tail()"
      ],
      "execution_count": null,
      "outputs": [
        {
          "output_type": "execute_result",
          "data": {
            "text/html": [
              "<div>\n",
              "<style scoped>\n",
              "    .dataframe tbody tr th:only-of-type {\n",
              "        vertical-align: middle;\n",
              "    }\n",
              "\n",
              "    .dataframe tbody tr th {\n",
              "        vertical-align: top;\n",
              "    }\n",
              "\n",
              "    .dataframe thead th {\n",
              "        text-align: right;\n",
              "    }\n",
              "</style>\n",
              "<table border=\"1\" class=\"dataframe\">\n",
              "  <thead>\n",
              "    <tr style=\"text-align: right;\">\n",
              "      <th></th>\n",
              "      <th>ano</th>\n",
              "      <th>mes</th>\n",
              "      <th>estado</th>\n",
              "      <th>numero</th>\n",
              "      <th>encontro</th>\n",
              "    </tr>\n",
              "  </thead>\n",
              "  <tbody>\n",
              "    <tr>\n",
              "      <th>510</th>\n",
              "      <td>2009</td>\n",
              "      <td>Fevereiro</td>\n",
              "      <td>Amapa</td>\n",
              "      <td>0</td>\n",
              "      <td>01-01-2009</td>\n",
              "    </tr>\n",
              "    <tr>\n",
              "      <th>511</th>\n",
              "      <td>2010</td>\n",
              "      <td>Fevereiro</td>\n",
              "      <td>Amapa</td>\n",
              "      <td>0</td>\n",
              "      <td>01-01-2010</td>\n",
              "    </tr>\n",
              "    <tr>\n",
              "      <th>512</th>\n",
              "      <td>2011</td>\n",
              "      <td>Fevereiro</td>\n",
              "      <td>Amapa</td>\n",
              "      <td>3</td>\n",
              "      <td>01-01-2011</td>\n",
              "    </tr>\n",
              "    <tr>\n",
              "      <th>513</th>\n",
              "      <td>2012</td>\n",
              "      <td>Fevereiro</td>\n",
              "      <td>Amapa</td>\n",
              "      <td>5</td>\n",
              "      <td>01-01-2012</td>\n",
              "    </tr>\n",
              "    <tr>\n",
              "      <th>514</th>\n",
              "      <td>2013</td>\n",
              "      <td>Fevereiro</td>\n",
              "      <td>Amapa</td>\n",
              "      <td>0</td>\n",
              "      <td>01-01-2013</td>\n",
              "    </tr>\n",
              "  </tbody>\n",
              "</table>\n",
              "</div>"
            ],
            "text/plain": [
              "      ano        mes estado numero    encontro\n",
              "510  2009  Fevereiro  Amapa      0  01-01-2009\n",
              "511  2010  Fevereiro  Amapa      0  01-01-2010\n",
              "512  2011  Fevereiro  Amapa      3  01-01-2011\n",
              "513  2012  Fevereiro  Amapa      5  01-01-2012\n",
              "514  2013  Fevereiro  Amapa      0  01-01-2013"
            ]
          },
          "metadata": {
            "tags": []
          },
          "execution_count": 3
        }
      ]
    },
    {
      "cell_type": "code",
      "metadata": {
        "colab": {
          "base_uri": "https://localhost:8080/",
          "height": 359
        },
        "id": "HBQNcpdxAnQ8",
        "outputId": "31e5c80e-3612-49fb-f92c-9b58c3129b6e"
      },
      "source": [
        "df.tail(10)"
      ],
      "execution_count": null,
      "outputs": [
        {
          "output_type": "execute_result",
          "data": {
            "text/html": [
              "<div>\n",
              "<style scoped>\n",
              "    .dataframe tbody tr th:only-of-type {\n",
              "        vertical-align: middle;\n",
              "    }\n",
              "\n",
              "    .dataframe tbody tr th {\n",
              "        vertical-align: top;\n",
              "    }\n",
              "\n",
              "    .dataframe thead th {\n",
              "        text-align: right;\n",
              "    }\n",
              "</style>\n",
              "<table border=\"1\" class=\"dataframe\">\n",
              "  <thead>\n",
              "    <tr style=\"text-align: right;\">\n",
              "      <th></th>\n",
              "      <th>year</th>\n",
              "      <th>month</th>\n",
              "      <th>state</th>\n",
              "      <th>number_of_fires</th>\n",
              "      <th>date</th>\n",
              "    </tr>\n",
              "  </thead>\n",
              "  <tbody>\n",
              "    <tr>\n",
              "      <th>505</th>\n",
              "      <td>2004</td>\n",
              "      <td>Fevereiro</td>\n",
              "      <td>Amapa</td>\n",
              "      <td>2</td>\n",
              "      <td>01-01-2004</td>\n",
              "    </tr>\n",
              "    <tr>\n",
              "      <th>506</th>\n",
              "      <td>2005</td>\n",
              "      <td>Fevereiro</td>\n",
              "      <td>Amapa</td>\n",
              "      <td>1</td>\n",
              "      <td>01-01-2005</td>\n",
              "    </tr>\n",
              "    <tr>\n",
              "      <th>507</th>\n",
              "      <td>2006</td>\n",
              "      <td>Fevereiro</td>\n",
              "      <td>Amapa</td>\n",
              "      <td>2</td>\n",
              "      <td>01-01-2006</td>\n",
              "    </tr>\n",
              "    <tr>\n",
              "      <th>508</th>\n",
              "      <td>2007</td>\n",
              "      <td>Fevereiro</td>\n",
              "      <td>Amapa</td>\n",
              "      <td>0</td>\n",
              "      <td>01-01-2007</td>\n",
              "    </tr>\n",
              "    <tr>\n",
              "      <th>509</th>\n",
              "      <td>2008</td>\n",
              "      <td>Fevereiro</td>\n",
              "      <td>Amapa</td>\n",
              "      <td>0</td>\n",
              "      <td>01-01-2008</td>\n",
              "    </tr>\n",
              "    <tr>\n",
              "      <th>510</th>\n",
              "      <td>2009</td>\n",
              "      <td>Fevereiro</td>\n",
              "      <td>Amapa</td>\n",
              "      <td>0</td>\n",
              "      <td>01-01-2009</td>\n",
              "    </tr>\n",
              "    <tr>\n",
              "      <th>511</th>\n",
              "      <td>2010</td>\n",
              "      <td>Fevereiro</td>\n",
              "      <td>Amapa</td>\n",
              "      <td>0</td>\n",
              "      <td>01-01-2010</td>\n",
              "    </tr>\n",
              "    <tr>\n",
              "      <th>512</th>\n",
              "      <td>2011</td>\n",
              "      <td>Fevereiro</td>\n",
              "      <td>Amapa</td>\n",
              "      <td>3</td>\n",
              "      <td>01-01-2011</td>\n",
              "    </tr>\n",
              "    <tr>\n",
              "      <th>513</th>\n",
              "      <td>2012</td>\n",
              "      <td>Fevereiro</td>\n",
              "      <td>Amapa</td>\n",
              "      <td>5</td>\n",
              "      <td>01-01-2012</td>\n",
              "    </tr>\n",
              "    <tr>\n",
              "      <th>514</th>\n",
              "      <td>2013</td>\n",
              "      <td>Fevereiro</td>\n",
              "      <td>Amapa</td>\n",
              "      <td>0</td>\n",
              "      <td>01-01-2013</td>\n",
              "    </tr>\n",
              "  </tbody>\n",
              "</table>\n",
              "</div>"
            ],
            "text/plain": [
              "     year      month  state number_of_fires        date\n",
              "505  2004  Fevereiro  Amapa               2  01-01-2004\n",
              "506  2005  Fevereiro  Amapa               1  01-01-2005\n",
              "507  2006  Fevereiro  Amapa               2  01-01-2006\n",
              "508  2007  Fevereiro  Amapa               0  01-01-2007\n",
              "509  2008  Fevereiro  Amapa               0  01-01-2008\n",
              "510  2009  Fevereiro  Amapa               0  01-01-2009\n",
              "511  2010  Fevereiro  Amapa               0  01-01-2010\n",
              "512  2011  Fevereiro  Amapa               3  01-01-2011\n",
              "513  2012  Fevereiro  Amapa               5  01-01-2012\n",
              "514  2013  Fevereiro  Amapa               0  01-01-2013"
            ]
          },
          "metadata": {
            "tags": []
          },
          "execution_count": 10
        }
      ]
    },
    {
      "cell_type": "code",
      "metadata": {
        "colab": {
          "base_uri": "https://localhost:8080/"
        },
        "id": "hRz6U3RX2ngZ",
        "outputId": "1c5a328f-f7ba-4467-bb82-a77e41ad3004"
      },
      "source": [
        "df['estado'].unique()"
      ],
      "execution_count": null,
      "outputs": [
        {
          "output_type": "execute_result",
          "data": {
            "text/plain": [
              "array(['Acre', 'alagoas', 'Amapa'], dtype=object)"
            ]
          },
          "metadata": {
            "tags": []
          },
          "execution_count": 5
        }
      ]
    },
    {
      "cell_type": "markdown",
      "metadata": {
        "id": "G_Gd0ln63HUM"
      },
      "source": [
        "**Rename Columns**"
      ]
    },
    {
      "cell_type": "code",
      "metadata": {
        "id": "irpSt1m42v32"
      },
      "source": [
        "new_column = {'ano': 'year',\n",
        "              'estado': 'state',\n",
        "              'mes': 'month',\n",
        "              'numero': 'number_of_fires',\n",
        "              'encontro': 'date'}\n",
        "df.rename(columns=new_column, inplace=True)"
      ],
      "execution_count": null,
      "outputs": []
    },
    {
      "cell_type": "code",
      "metadata": {
        "colab": {
          "base_uri": "https://localhost:8080/",
          "height": 204
        },
        "id": "RVemY4zY6cjK",
        "outputId": "41ebc143-6e1a-4be1-b0c6-c0b6c9c98256"
      },
      "source": [
        "df.head()"
      ],
      "execution_count": null,
      "outputs": [
        {
          "output_type": "execute_result",
          "data": {
            "text/html": [
              "<div>\n",
              "<style scoped>\n",
              "    .dataframe tbody tr th:only-of-type {\n",
              "        vertical-align: middle;\n",
              "    }\n",
              "\n",
              "    .dataframe tbody tr th {\n",
              "        vertical-align: top;\n",
              "    }\n",
              "\n",
              "    .dataframe thead th {\n",
              "        text-align: right;\n",
              "    }\n",
              "</style>\n",
              "<table border=\"1\" class=\"dataframe\">\n",
              "  <thead>\n",
              "    <tr style=\"text-align: right;\">\n",
              "      <th></th>\n",
              "      <th>year</th>\n",
              "      <th>month</th>\n",
              "      <th>state</th>\n",
              "      <th>number_of_fires</th>\n",
              "      <th>date</th>\n",
              "    </tr>\n",
              "  </thead>\n",
              "  <tbody>\n",
              "    <tr>\n",
              "      <th>0</th>\n",
              "      <td>1998</td>\n",
              "      <td>Janeiro</td>\n",
              "      <td>Acre</td>\n",
              "      <td>0 Fires</td>\n",
              "      <td>01-01-1998</td>\n",
              "    </tr>\n",
              "    <tr>\n",
              "      <th>1</th>\n",
              "      <td>1999</td>\n",
              "      <td>Janeiro</td>\n",
              "      <td>Acre</td>\n",
              "      <td>0 Fires</td>\n",
              "      <td>01-01-1999</td>\n",
              "    </tr>\n",
              "    <tr>\n",
              "      <th>2</th>\n",
              "      <td>2000</td>\n",
              "      <td>Janeiro</td>\n",
              "      <td>Acre</td>\n",
              "      <td>0 Fires</td>\n",
              "      <td>01-01-2000</td>\n",
              "    </tr>\n",
              "    <tr>\n",
              "      <th>3</th>\n",
              "      <td>2001</td>\n",
              "      <td>Janeiro</td>\n",
              "      <td>Acre</td>\n",
              "      <td>0 Fires</td>\n",
              "      <td>01-01-2001</td>\n",
              "    </tr>\n",
              "    <tr>\n",
              "      <th>4</th>\n",
              "      <td>2002</td>\n",
              "      <td>Janeiro</td>\n",
              "      <td>Acre</td>\n",
              "      <td>0 Fires</td>\n",
              "      <td>01-01-2002</td>\n",
              "    </tr>\n",
              "  </tbody>\n",
              "</table>\n",
              "</div>"
            ],
            "text/plain": [
              "   year    month state number_of_fires        date\n",
              "0  1998  Janeiro  Acre         0 Fires  01-01-1998\n",
              "1  1999  Janeiro  Acre         0 Fires  01-01-1999\n",
              "2  2000  Janeiro  Acre         0 Fires  01-01-2000\n",
              "3  2001  Janeiro  Acre         0 Fires  01-01-2001\n",
              "4  2002  Janeiro  Acre         0 Fires  01-01-2002"
            ]
          },
          "metadata": {
            "tags": []
          },
          "execution_count": 7
        }
      ]
    },
    {
      "cell_type": "code",
      "metadata": {
        "colab": {
          "base_uri": "https://localhost:8080/"
        },
        "id": "7qXj0bsM60Eq",
        "outputId": "9de5d2a9-0015-4cb1-c8df-dcf4cb9cf461"
      },
      "source": [
        "df['year'].unique()"
      ],
      "execution_count": null,
      "outputs": [
        {
          "output_type": "execute_result",
          "data": {
            "text/plain": [
              "array([1998, 1999, 2000, 2001, 2002, 2003, 2004, 2005, 2006, 2007, 2008,\n",
              "       2009, 2010, 2011, 2012, 2013, 2014, 2015, 2016, 2017])"
            ]
          },
          "metadata": {
            "tags": []
          },
          "execution_count": 8
        }
      ]
    },
    {
      "cell_type": "code",
      "metadata": {
        "colab": {
          "base_uri": "https://localhost:8080/"
        },
        "id": "KqH_JwfM7Nrp",
        "outputId": "4bc019bb-e18e-49e9-af49-8bb220636672"
      },
      "source": [
        "df.info()"
      ],
      "execution_count": null,
      "outputs": [
        {
          "output_type": "stream",
          "text": [
            "<class 'pandas.core.frame.DataFrame'>\n",
            "RangeIndex: 515 entries, 0 to 514\n",
            "Data columns (total 5 columns):\n",
            " #   Column           Non-Null Count  Dtype \n",
            "---  ------           --------------  ----- \n",
            " 0   year             515 non-null    int64 \n",
            " 1   month            515 non-null    object\n",
            " 2   state            515 non-null    object\n",
            " 3   number_of_fires  510 non-null    object\n",
            " 4   date             515 non-null    object\n",
            "dtypes: int64(1), object(4)\n",
            "memory usage: 20.2+ KB\n"
          ],
          "name": "stdout"
        }
      ]
    },
    {
      "cell_type": "code",
      "metadata": {
        "id": "29ffs9UF7Rjh",
        "colab": {
          "base_uri": "https://localhost:8080/",
          "height": 204
        },
        "outputId": "c7e11b3a-045f-4c71-e9f6-4444edc42005"
      },
      "source": [
        "df.head()"
      ],
      "execution_count": null,
      "outputs": [
        {
          "output_type": "execute_result",
          "data": {
            "text/html": [
              "<div>\n",
              "<style scoped>\n",
              "    .dataframe tbody tr th:only-of-type {\n",
              "        vertical-align: middle;\n",
              "    }\n",
              "\n",
              "    .dataframe tbody tr th {\n",
              "        vertical-align: top;\n",
              "    }\n",
              "\n",
              "    .dataframe thead th {\n",
              "        text-align: right;\n",
              "    }\n",
              "</style>\n",
              "<table border=\"1\" class=\"dataframe\">\n",
              "  <thead>\n",
              "    <tr style=\"text-align: right;\">\n",
              "      <th></th>\n",
              "      <th>year</th>\n",
              "      <th>month</th>\n",
              "      <th>state</th>\n",
              "      <th>number_of_fires</th>\n",
              "      <th>date</th>\n",
              "    </tr>\n",
              "  </thead>\n",
              "  <tbody>\n",
              "    <tr>\n",
              "      <th>0</th>\n",
              "      <td>1998</td>\n",
              "      <td>Janeiro</td>\n",
              "      <td>Acre</td>\n",
              "      <td>0 Fires</td>\n",
              "      <td>01-01-1998</td>\n",
              "    </tr>\n",
              "    <tr>\n",
              "      <th>1</th>\n",
              "      <td>1999</td>\n",
              "      <td>Janeiro</td>\n",
              "      <td>Acre</td>\n",
              "      <td>0 Fires</td>\n",
              "      <td>01-01-1999</td>\n",
              "    </tr>\n",
              "    <tr>\n",
              "      <th>2</th>\n",
              "      <td>2000</td>\n",
              "      <td>Janeiro</td>\n",
              "      <td>Acre</td>\n",
              "      <td>0 Fires</td>\n",
              "      <td>01-01-2000</td>\n",
              "    </tr>\n",
              "    <tr>\n",
              "      <th>3</th>\n",
              "      <td>2001</td>\n",
              "      <td>Janeiro</td>\n",
              "      <td>Acre</td>\n",
              "      <td>0 Fires</td>\n",
              "      <td>01-01-2001</td>\n",
              "    </tr>\n",
              "    <tr>\n",
              "      <th>4</th>\n",
              "      <td>2002</td>\n",
              "      <td>Janeiro</td>\n",
              "      <td>Acre</td>\n",
              "      <td>0 Fires</td>\n",
              "      <td>01-01-2002</td>\n",
              "    </tr>\n",
              "  </tbody>\n",
              "</table>\n",
              "</div>"
            ],
            "text/plain": [
              "   year    month state number_of_fires        date\n",
              "0  1998  Janeiro  Acre         0 Fires  01-01-1998\n",
              "1  1999  Janeiro  Acre         0 Fires  01-01-1999\n",
              "2  2000  Janeiro  Acre         0 Fires  01-01-2000\n",
              "3  2001  Janeiro  Acre         0 Fires  01-01-2001\n",
              "4  2002  Janeiro  Acre         0 Fires  01-01-2002"
            ]
          },
          "metadata": {
            "tags": []
          },
          "execution_count": 11
        }
      ]
    },
    {
      "cell_type": "code",
      "metadata": {
        "colab": {
          "base_uri": "https://localhost:8080/"
        },
        "id": "VyfRdQFiBaSF",
        "outputId": "8ea600a4-109e-4a55-e6d8-19b7d9856806"
      },
      "source": [
        "new_order =[4,1,0,2,3]\n",
        "df = df[df.columns[new_order]]\n",
        "df.head"
      ],
      "execution_count": null,
      "outputs": [
        {
          "output_type": "execute_result",
          "data": {
            "text/plain": [
              "<bound method NDFrame.head of            date      month  year  state number_of_fires\n",
              "0    01-01-1998    Janeiro  1998   Acre         0 Fires\n",
              "1    01-01-1999    Janeiro  1999   Acre         0 Fires\n",
              "2    01-01-2000    Janeiro  2000   Acre         0 Fires\n",
              "3    01-01-2001    Janeiro  2001   Acre         0 Fires\n",
              "4    01-01-2002    Janeiro  2002   Acre         0 Fires\n",
              "..          ...        ...   ...    ...             ...\n",
              "510  01-01-2009  Fevereiro  2009  Amapa               0\n",
              "511  01-01-2010  Fevereiro  2010  Amapa               0\n",
              "512  01-01-2011  Fevereiro  2011  Amapa               3\n",
              "513  01-01-2012  Fevereiro  2012  Amapa               5\n",
              "514  01-01-2013  Fevereiro  2013  Amapa               0\n",
              "\n",
              "[515 rows x 5 columns]>"
            ]
          },
          "metadata": {
            "tags": []
          },
          "execution_count": 13
        }
      ]
    },
    {
      "cell_type": "code",
      "metadata": {
        "colab": {
          "base_uri": "https://localhost:8080/",
          "height": 359
        },
        "id": "n8VBPv3ZCD3p",
        "outputId": "d636391e-4fb0-4b31-f7ca-5a0ed37e8b11"
      },
      "source": [
        "df.head(10)"
      ],
      "execution_count": null,
      "outputs": [
        {
          "output_type": "execute_result",
          "data": {
            "text/html": [
              "<div>\n",
              "<style scoped>\n",
              "    .dataframe tbody tr th:only-of-type {\n",
              "        vertical-align: middle;\n",
              "    }\n",
              "\n",
              "    .dataframe tbody tr th {\n",
              "        vertical-align: top;\n",
              "    }\n",
              "\n",
              "    .dataframe thead th {\n",
              "        text-align: right;\n",
              "    }\n",
              "</style>\n",
              "<table border=\"1\" class=\"dataframe\">\n",
              "  <thead>\n",
              "    <tr style=\"text-align: right;\">\n",
              "      <th></th>\n",
              "      <th>date</th>\n",
              "      <th>month</th>\n",
              "      <th>year</th>\n",
              "      <th>state</th>\n",
              "      <th>number_of_fires</th>\n",
              "    </tr>\n",
              "  </thead>\n",
              "  <tbody>\n",
              "    <tr>\n",
              "      <th>0</th>\n",
              "      <td>01-01-1998</td>\n",
              "      <td>Janeiro</td>\n",
              "      <td>1998</td>\n",
              "      <td>Acre</td>\n",
              "      <td>0 Fires</td>\n",
              "    </tr>\n",
              "    <tr>\n",
              "      <th>1</th>\n",
              "      <td>01-01-1999</td>\n",
              "      <td>Janeiro</td>\n",
              "      <td>1999</td>\n",
              "      <td>Acre</td>\n",
              "      <td>0 Fires</td>\n",
              "    </tr>\n",
              "    <tr>\n",
              "      <th>2</th>\n",
              "      <td>01-01-2000</td>\n",
              "      <td>Janeiro</td>\n",
              "      <td>2000</td>\n",
              "      <td>Acre</td>\n",
              "      <td>0 Fires</td>\n",
              "    </tr>\n",
              "    <tr>\n",
              "      <th>3</th>\n",
              "      <td>01-01-2001</td>\n",
              "      <td>Janeiro</td>\n",
              "      <td>2001</td>\n",
              "      <td>Acre</td>\n",
              "      <td>0 Fires</td>\n",
              "    </tr>\n",
              "    <tr>\n",
              "      <th>4</th>\n",
              "      <td>01-01-2002</td>\n",
              "      <td>Janeiro</td>\n",
              "      <td>2002</td>\n",
              "      <td>Acre</td>\n",
              "      <td>0 Fires</td>\n",
              "    </tr>\n",
              "    <tr>\n",
              "      <th>5</th>\n",
              "      <td>01-01-2003</td>\n",
              "      <td>Janeiro</td>\n",
              "      <td>2003</td>\n",
              "      <td>Acre</td>\n",
              "      <td>10 Fires</td>\n",
              "    </tr>\n",
              "    <tr>\n",
              "      <th>6</th>\n",
              "      <td>01-01-2004</td>\n",
              "      <td>Janeiro</td>\n",
              "      <td>2004</td>\n",
              "      <td>Acre</td>\n",
              "      <td>0 Fires</td>\n",
              "    </tr>\n",
              "    <tr>\n",
              "      <th>7</th>\n",
              "      <td>01-01-2005</td>\n",
              "      <td>Janeiro</td>\n",
              "      <td>2005</td>\n",
              "      <td>Acre</td>\n",
              "      <td>12 Fires</td>\n",
              "    </tr>\n",
              "    <tr>\n",
              "      <th>8</th>\n",
              "      <td>01-01-2006</td>\n",
              "      <td>Janeiro</td>\n",
              "      <td>2006</td>\n",
              "      <td>Acre</td>\n",
              "      <td>4 Fires</td>\n",
              "    </tr>\n",
              "    <tr>\n",
              "      <th>9</th>\n",
              "      <td>01-01-2007</td>\n",
              "      <td>Janeiro</td>\n",
              "      <td>2007</td>\n",
              "      <td>Acre</td>\n",
              "      <td>0 Fires</td>\n",
              "    </tr>\n",
              "  </tbody>\n",
              "</table>\n",
              "</div>"
            ],
            "text/plain": [
              "         date    month  year state number_of_fires\n",
              "0  01-01-1998  Janeiro  1998  Acre         0 Fires\n",
              "1  01-01-1999  Janeiro  1999  Acre         0 Fires\n",
              "2  01-01-2000  Janeiro  2000  Acre         0 Fires\n",
              "3  01-01-2001  Janeiro  2001  Acre         0 Fires\n",
              "4  01-01-2002  Janeiro  2002  Acre         0 Fires\n",
              "5  01-01-2003  Janeiro  2003  Acre        10 Fires\n",
              "6  01-01-2004  Janeiro  2004  Acre         0 Fires\n",
              "7  01-01-2005  Janeiro  2005  Acre        12 Fires\n",
              "8  01-01-2006  Janeiro  2006  Acre         4 Fires\n",
              "9  01-01-2007  Janeiro  2007  Acre         0 Fires"
            ]
          },
          "metadata": {
            "tags": []
          },
          "execution_count": 14
        }
      ]
    },
    {
      "cell_type": "code",
      "metadata": {
        "colab": {
          "base_uri": "https://localhost:8080/",
          "height": 824
        },
        "id": "UaVHsAlnCH6J",
        "outputId": "1002ff01-2d94-48c9-ac28-274eed9bb11c"
      },
      "source": [
        "df.head(25)"
      ],
      "execution_count": null,
      "outputs": [
        {
          "output_type": "execute_result",
          "data": {
            "text/html": [
              "<div>\n",
              "<style scoped>\n",
              "    .dataframe tbody tr th:only-of-type {\n",
              "        vertical-align: middle;\n",
              "    }\n",
              "\n",
              "    .dataframe tbody tr th {\n",
              "        vertical-align: top;\n",
              "    }\n",
              "\n",
              "    .dataframe thead th {\n",
              "        text-align: right;\n",
              "    }\n",
              "</style>\n",
              "<table border=\"1\" class=\"dataframe\">\n",
              "  <thead>\n",
              "    <tr style=\"text-align: right;\">\n",
              "      <th></th>\n",
              "      <th>date</th>\n",
              "      <th>month</th>\n",
              "      <th>year</th>\n",
              "      <th>state</th>\n",
              "      <th>number_of_fires</th>\n",
              "    </tr>\n",
              "  </thead>\n",
              "  <tbody>\n",
              "    <tr>\n",
              "      <th>0</th>\n",
              "      <td>01-01-1998</td>\n",
              "      <td>Janeiro</td>\n",
              "      <td>1998</td>\n",
              "      <td>Acre</td>\n",
              "      <td>0 Fires</td>\n",
              "    </tr>\n",
              "    <tr>\n",
              "      <th>1</th>\n",
              "      <td>01-01-1999</td>\n",
              "      <td>Janeiro</td>\n",
              "      <td>1999</td>\n",
              "      <td>Acre</td>\n",
              "      <td>0 Fires</td>\n",
              "    </tr>\n",
              "    <tr>\n",
              "      <th>2</th>\n",
              "      <td>01-01-2000</td>\n",
              "      <td>Janeiro</td>\n",
              "      <td>2000</td>\n",
              "      <td>Acre</td>\n",
              "      <td>0 Fires</td>\n",
              "    </tr>\n",
              "    <tr>\n",
              "      <th>3</th>\n",
              "      <td>01-01-2001</td>\n",
              "      <td>Janeiro</td>\n",
              "      <td>2001</td>\n",
              "      <td>Acre</td>\n",
              "      <td>0 Fires</td>\n",
              "    </tr>\n",
              "    <tr>\n",
              "      <th>4</th>\n",
              "      <td>01-01-2002</td>\n",
              "      <td>Janeiro</td>\n",
              "      <td>2002</td>\n",
              "      <td>Acre</td>\n",
              "      <td>0 Fires</td>\n",
              "    </tr>\n",
              "    <tr>\n",
              "      <th>5</th>\n",
              "      <td>01-01-2003</td>\n",
              "      <td>Janeiro</td>\n",
              "      <td>2003</td>\n",
              "      <td>Acre</td>\n",
              "      <td>10 Fires</td>\n",
              "    </tr>\n",
              "    <tr>\n",
              "      <th>6</th>\n",
              "      <td>01-01-2004</td>\n",
              "      <td>Janeiro</td>\n",
              "      <td>2004</td>\n",
              "      <td>Acre</td>\n",
              "      <td>0 Fires</td>\n",
              "    </tr>\n",
              "    <tr>\n",
              "      <th>7</th>\n",
              "      <td>01-01-2005</td>\n",
              "      <td>Janeiro</td>\n",
              "      <td>2005</td>\n",
              "      <td>Acre</td>\n",
              "      <td>12 Fires</td>\n",
              "    </tr>\n",
              "    <tr>\n",
              "      <th>8</th>\n",
              "      <td>01-01-2006</td>\n",
              "      <td>Janeiro</td>\n",
              "      <td>2006</td>\n",
              "      <td>Acre</td>\n",
              "      <td>4 Fires</td>\n",
              "    </tr>\n",
              "    <tr>\n",
              "      <th>9</th>\n",
              "      <td>01-01-2007</td>\n",
              "      <td>Janeiro</td>\n",
              "      <td>2007</td>\n",
              "      <td>Acre</td>\n",
              "      <td>0 Fires</td>\n",
              "    </tr>\n",
              "    <tr>\n",
              "      <th>10</th>\n",
              "      <td>01-01-2008</td>\n",
              "      <td>Janeiro</td>\n",
              "      <td>2008</td>\n",
              "      <td>Acre</td>\n",
              "      <td>0 Fires</td>\n",
              "    </tr>\n",
              "    <tr>\n",
              "      <th>11</th>\n",
              "      <td>01-01-2009</td>\n",
              "      <td>Janeiro</td>\n",
              "      <td>2009</td>\n",
              "      <td>Acre</td>\n",
              "      <td>0 Fires</td>\n",
              "    </tr>\n",
              "    <tr>\n",
              "      <th>12</th>\n",
              "      <td>01-01-2010</td>\n",
              "      <td>Janeiro</td>\n",
              "      <td>2010</td>\n",
              "      <td>Acre</td>\n",
              "      <td>1 Fires</td>\n",
              "    </tr>\n",
              "    <tr>\n",
              "      <th>13</th>\n",
              "      <td>01-01-2011</td>\n",
              "      <td>Janeiro</td>\n",
              "      <td>2011</td>\n",
              "      <td>Acre</td>\n",
              "      <td>0 Fires</td>\n",
              "    </tr>\n",
              "    <tr>\n",
              "      <th>14</th>\n",
              "      <td>01-01-2012</td>\n",
              "      <td>Janeiro</td>\n",
              "      <td>2012</td>\n",
              "      <td>Acre</td>\n",
              "      <td>0 Fires</td>\n",
              "    </tr>\n",
              "    <tr>\n",
              "      <th>15</th>\n",
              "      <td>01-01-2013</td>\n",
              "      <td>Janeiro</td>\n",
              "      <td>2013</td>\n",
              "      <td>Acre</td>\n",
              "      <td>0 Fires</td>\n",
              "    </tr>\n",
              "    <tr>\n",
              "      <th>16</th>\n",
              "      <td>01-01-2014</td>\n",
              "      <td>Janeiro</td>\n",
              "      <td>2014</td>\n",
              "      <td>Acre</td>\n",
              "      <td>0 Fires</td>\n",
              "    </tr>\n",
              "    <tr>\n",
              "      <th>17</th>\n",
              "      <td>01-01-2015</td>\n",
              "      <td>Janeiro</td>\n",
              "      <td>2015</td>\n",
              "      <td>Acre</td>\n",
              "      <td>1 Fires</td>\n",
              "    </tr>\n",
              "    <tr>\n",
              "      <th>18</th>\n",
              "      <td>01-01-2016</td>\n",
              "      <td>Janeiro</td>\n",
              "      <td>2016</td>\n",
              "      <td>Acre</td>\n",
              "      <td>12 Fires</td>\n",
              "    </tr>\n",
              "    <tr>\n",
              "      <th>19</th>\n",
              "      <td>01-01-2017</td>\n",
              "      <td>Janeiro</td>\n",
              "      <td>2017</td>\n",
              "      <td>Acre</td>\n",
              "      <td>0 Fires</td>\n",
              "    </tr>\n",
              "    <tr>\n",
              "      <th>20</th>\n",
              "      <td>01-01-1998</td>\n",
              "      <td>Fevereiro</td>\n",
              "      <td>1998</td>\n",
              "      <td>Acre</td>\n",
              "      <td>0 Fires</td>\n",
              "    </tr>\n",
              "    <tr>\n",
              "      <th>21</th>\n",
              "      <td>01-01-1999</td>\n",
              "      <td>Fevereiro</td>\n",
              "      <td>1999</td>\n",
              "      <td>Acre</td>\n",
              "      <td>0 Fires</td>\n",
              "    </tr>\n",
              "    <tr>\n",
              "      <th>22</th>\n",
              "      <td>01-01-2000</td>\n",
              "      <td>Fevereiro</td>\n",
              "      <td>2000</td>\n",
              "      <td>Acre</td>\n",
              "      <td>0 Fires</td>\n",
              "    </tr>\n",
              "    <tr>\n",
              "      <th>23</th>\n",
              "      <td>01-01-2001</td>\n",
              "      <td>Fevereiro</td>\n",
              "      <td>2001</td>\n",
              "      <td>Acre</td>\n",
              "      <td>0 Fires</td>\n",
              "    </tr>\n",
              "    <tr>\n",
              "      <th>24</th>\n",
              "      <td>01-01-2002</td>\n",
              "      <td>Fevereiro</td>\n",
              "      <td>2002</td>\n",
              "      <td>Acre</td>\n",
              "      <td>1 Fires</td>\n",
              "    </tr>\n",
              "  </tbody>\n",
              "</table>\n",
              "</div>"
            ],
            "text/plain": [
              "          date      month  year state number_of_fires\n",
              "0   01-01-1998    Janeiro  1998  Acre         0 Fires\n",
              "1   01-01-1999    Janeiro  1999  Acre         0 Fires\n",
              "2   01-01-2000    Janeiro  2000  Acre         0 Fires\n",
              "3   01-01-2001    Janeiro  2001  Acre         0 Fires\n",
              "4   01-01-2002    Janeiro  2002  Acre         0 Fires\n",
              "5   01-01-2003    Janeiro  2003  Acre        10 Fires\n",
              "6   01-01-2004    Janeiro  2004  Acre         0 Fires\n",
              "7   01-01-2005    Janeiro  2005  Acre        12 Fires\n",
              "8   01-01-2006    Janeiro  2006  Acre         4 Fires\n",
              "9   01-01-2007    Janeiro  2007  Acre         0 Fires\n",
              "10  01-01-2008    Janeiro  2008  Acre         0 Fires\n",
              "11  01-01-2009    Janeiro  2009  Acre         0 Fires\n",
              "12  01-01-2010    Janeiro  2010  Acre         1 Fires\n",
              "13  01-01-2011    Janeiro  2011  Acre         0 Fires\n",
              "14  01-01-2012    Janeiro  2012  Acre         0 Fires\n",
              "15  01-01-2013    Janeiro  2013  Acre         0 Fires\n",
              "16  01-01-2014    Janeiro  2014  Acre         0 Fires\n",
              "17  01-01-2015    Janeiro  2015  Acre         1 Fires\n",
              "18  01-01-2016    Janeiro  2016  Acre        12 Fires\n",
              "19  01-01-2017    Janeiro  2017  Acre         0 Fires\n",
              "20  01-01-1998  Fevereiro  1998  Acre         0 Fires\n",
              "21  01-01-1999  Fevereiro  1999  Acre         0 Fires\n",
              "22  01-01-2000  Fevereiro  2000  Acre         0 Fires\n",
              "23  01-01-2001  Fevereiro  2001  Acre         0 Fires\n",
              "24  01-01-2002  Fevereiro  2002  Acre         1 Fires"
            ]
          },
          "metadata": {
            "tags": []
          },
          "execution_count": 15
        }
      ]
    },
    {
      "cell_type": "code",
      "metadata": {
        "colab": {
          "base_uri": "https://localhost:8080/",
          "height": 204
        },
        "id": "IQPxpGv_CLpK",
        "outputId": "8fc5c230-ca8c-4b2e-e500-bb59613d566d"
      },
      "source": [
        "df.tail()"
      ],
      "execution_count": null,
      "outputs": [
        {
          "output_type": "execute_result",
          "data": {
            "text/html": [
              "<div>\n",
              "<style scoped>\n",
              "    .dataframe tbody tr th:only-of-type {\n",
              "        vertical-align: middle;\n",
              "    }\n",
              "\n",
              "    .dataframe tbody tr th {\n",
              "        vertical-align: top;\n",
              "    }\n",
              "\n",
              "    .dataframe thead th {\n",
              "        text-align: right;\n",
              "    }\n",
              "</style>\n",
              "<table border=\"1\" class=\"dataframe\">\n",
              "  <thead>\n",
              "    <tr style=\"text-align: right;\">\n",
              "      <th></th>\n",
              "      <th>date</th>\n",
              "      <th>month</th>\n",
              "      <th>year</th>\n",
              "      <th>state</th>\n",
              "      <th>number_of_fires</th>\n",
              "    </tr>\n",
              "  </thead>\n",
              "  <tbody>\n",
              "    <tr>\n",
              "      <th>510</th>\n",
              "      <td>01-01-2009</td>\n",
              "      <td>Fevereiro</td>\n",
              "      <td>2009</td>\n",
              "      <td>Amapa</td>\n",
              "      <td>0</td>\n",
              "    </tr>\n",
              "    <tr>\n",
              "      <th>511</th>\n",
              "      <td>01-01-2010</td>\n",
              "      <td>Fevereiro</td>\n",
              "      <td>2010</td>\n",
              "      <td>Amapa</td>\n",
              "      <td>0</td>\n",
              "    </tr>\n",
              "    <tr>\n",
              "      <th>512</th>\n",
              "      <td>01-01-2011</td>\n",
              "      <td>Fevereiro</td>\n",
              "      <td>2011</td>\n",
              "      <td>Amapa</td>\n",
              "      <td>3</td>\n",
              "    </tr>\n",
              "    <tr>\n",
              "      <th>513</th>\n",
              "      <td>01-01-2012</td>\n",
              "      <td>Fevereiro</td>\n",
              "      <td>2012</td>\n",
              "      <td>Amapa</td>\n",
              "      <td>5</td>\n",
              "    </tr>\n",
              "    <tr>\n",
              "      <th>514</th>\n",
              "      <td>01-01-2013</td>\n",
              "      <td>Fevereiro</td>\n",
              "      <td>2013</td>\n",
              "      <td>Amapa</td>\n",
              "      <td>0</td>\n",
              "    </tr>\n",
              "  </tbody>\n",
              "</table>\n",
              "</div>"
            ],
            "text/plain": [
              "           date      month  year  state number_of_fires\n",
              "510  01-01-2009  Fevereiro  2009  Amapa               0\n",
              "511  01-01-2010  Fevereiro  2010  Amapa               0\n",
              "512  01-01-2011  Fevereiro  2011  Amapa               3\n",
              "513  01-01-2012  Fevereiro  2012  Amapa               5\n",
              "514  01-01-2013  Fevereiro  2013  Amapa               0"
            ]
          },
          "metadata": {
            "tags": []
          },
          "execution_count": 16
        }
      ]
    },
    {
      "cell_type": "code",
      "metadata": {
        "colab": {
          "base_uri": "https://localhost:8080/",
          "height": 359
        },
        "id": "cFzBtlVvCUgg",
        "outputId": "861d4c69-94ac-4b54-9769-8adaf4b5722a"
      },
      "source": [
        "df.tail(10)"
      ],
      "execution_count": null,
      "outputs": [
        {
          "output_type": "execute_result",
          "data": {
            "text/html": [
              "<div>\n",
              "<style scoped>\n",
              "    .dataframe tbody tr th:only-of-type {\n",
              "        vertical-align: middle;\n",
              "    }\n",
              "\n",
              "    .dataframe tbody tr th {\n",
              "        vertical-align: top;\n",
              "    }\n",
              "\n",
              "    .dataframe thead th {\n",
              "        text-align: right;\n",
              "    }\n",
              "</style>\n",
              "<table border=\"1\" class=\"dataframe\">\n",
              "  <thead>\n",
              "    <tr style=\"text-align: right;\">\n",
              "      <th></th>\n",
              "      <th>date</th>\n",
              "      <th>month</th>\n",
              "      <th>year</th>\n",
              "      <th>state</th>\n",
              "      <th>number_of_fires</th>\n",
              "    </tr>\n",
              "  </thead>\n",
              "  <tbody>\n",
              "    <tr>\n",
              "      <th>505</th>\n",
              "      <td>01-01-2004</td>\n",
              "      <td>Fevereiro</td>\n",
              "      <td>2004</td>\n",
              "      <td>Amapa</td>\n",
              "      <td>2</td>\n",
              "    </tr>\n",
              "    <tr>\n",
              "      <th>506</th>\n",
              "      <td>01-01-2005</td>\n",
              "      <td>Fevereiro</td>\n",
              "      <td>2005</td>\n",
              "      <td>Amapa</td>\n",
              "      <td>1</td>\n",
              "    </tr>\n",
              "    <tr>\n",
              "      <th>507</th>\n",
              "      <td>01-01-2006</td>\n",
              "      <td>Fevereiro</td>\n",
              "      <td>2006</td>\n",
              "      <td>Amapa</td>\n",
              "      <td>2</td>\n",
              "    </tr>\n",
              "    <tr>\n",
              "      <th>508</th>\n",
              "      <td>01-01-2007</td>\n",
              "      <td>Fevereiro</td>\n",
              "      <td>2007</td>\n",
              "      <td>Amapa</td>\n",
              "      <td>0</td>\n",
              "    </tr>\n",
              "    <tr>\n",
              "      <th>509</th>\n",
              "      <td>01-01-2008</td>\n",
              "      <td>Fevereiro</td>\n",
              "      <td>2008</td>\n",
              "      <td>Amapa</td>\n",
              "      <td>0</td>\n",
              "    </tr>\n",
              "    <tr>\n",
              "      <th>510</th>\n",
              "      <td>01-01-2009</td>\n",
              "      <td>Fevereiro</td>\n",
              "      <td>2009</td>\n",
              "      <td>Amapa</td>\n",
              "      <td>0</td>\n",
              "    </tr>\n",
              "    <tr>\n",
              "      <th>511</th>\n",
              "      <td>01-01-2010</td>\n",
              "      <td>Fevereiro</td>\n",
              "      <td>2010</td>\n",
              "      <td>Amapa</td>\n",
              "      <td>0</td>\n",
              "    </tr>\n",
              "    <tr>\n",
              "      <th>512</th>\n",
              "      <td>01-01-2011</td>\n",
              "      <td>Fevereiro</td>\n",
              "      <td>2011</td>\n",
              "      <td>Amapa</td>\n",
              "      <td>3</td>\n",
              "    </tr>\n",
              "    <tr>\n",
              "      <th>513</th>\n",
              "      <td>01-01-2012</td>\n",
              "      <td>Fevereiro</td>\n",
              "      <td>2012</td>\n",
              "      <td>Amapa</td>\n",
              "      <td>5</td>\n",
              "    </tr>\n",
              "    <tr>\n",
              "      <th>514</th>\n",
              "      <td>01-01-2013</td>\n",
              "      <td>Fevereiro</td>\n",
              "      <td>2013</td>\n",
              "      <td>Amapa</td>\n",
              "      <td>0</td>\n",
              "    </tr>\n",
              "  </tbody>\n",
              "</table>\n",
              "</div>"
            ],
            "text/plain": [
              "           date      month  year  state number_of_fires\n",
              "505  01-01-2004  Fevereiro  2004  Amapa               2\n",
              "506  01-01-2005  Fevereiro  2005  Amapa               1\n",
              "507  01-01-2006  Fevereiro  2006  Amapa               2\n",
              "508  01-01-2007  Fevereiro  2007  Amapa               0\n",
              "509  01-01-2008  Fevereiro  2008  Amapa               0\n",
              "510  01-01-2009  Fevereiro  2009  Amapa               0\n",
              "511  01-01-2010  Fevereiro  2010  Amapa               0\n",
              "512  01-01-2011  Fevereiro  2011  Amapa               3\n",
              "513  01-01-2012  Fevereiro  2012  Amapa               5\n",
              "514  01-01-2013  Fevereiro  2013  Amapa               0"
            ]
          },
          "metadata": {
            "tags": []
          },
          "execution_count": 17
        }
      ]
    },
    {
      "cell_type": "code",
      "metadata": {
        "colab": {
          "base_uri": "https://localhost:8080/",
          "height": 824
        },
        "id": "cgaaKvtCCWxA",
        "outputId": "58b19180-58d4-4bea-e78b-47272b76108c"
      },
      "source": [
        "df.tail(25)"
      ],
      "execution_count": null,
      "outputs": [
        {
          "output_type": "execute_result",
          "data": {
            "text/html": [
              "<div>\n",
              "<style scoped>\n",
              "    .dataframe tbody tr th:only-of-type {\n",
              "        vertical-align: middle;\n",
              "    }\n",
              "\n",
              "    .dataframe tbody tr th {\n",
              "        vertical-align: top;\n",
              "    }\n",
              "\n",
              "    .dataframe thead th {\n",
              "        text-align: right;\n",
              "    }\n",
              "</style>\n",
              "<table border=\"1\" class=\"dataframe\">\n",
              "  <thead>\n",
              "    <tr style=\"text-align: right;\">\n",
              "      <th></th>\n",
              "      <th>date</th>\n",
              "      <th>month</th>\n",
              "      <th>year</th>\n",
              "      <th>state</th>\n",
              "      <th>number_of_fires</th>\n",
              "    </tr>\n",
              "  </thead>\n",
              "  <tbody>\n",
              "    <tr>\n",
              "      <th>490</th>\n",
              "      <td>01-01-2009</td>\n",
              "      <td>Janeiro</td>\n",
              "      <td>2009</td>\n",
              "      <td>Amapa</td>\n",
              "      <td>4</td>\n",
              "    </tr>\n",
              "    <tr>\n",
              "      <th>491</th>\n",
              "      <td>01-01-2010</td>\n",
              "      <td>Janeiro</td>\n",
              "      <td>2010</td>\n",
              "      <td>Amapa</td>\n",
              "      <td>2</td>\n",
              "    </tr>\n",
              "    <tr>\n",
              "      <th>492</th>\n",
              "      <td>01-01-2011</td>\n",
              "      <td>Janeiro</td>\n",
              "      <td>2011</td>\n",
              "      <td>Amapa</td>\n",
              "      <td>0</td>\n",
              "    </tr>\n",
              "    <tr>\n",
              "      <th>493</th>\n",
              "      <td>01-01-2012</td>\n",
              "      <td>Janeiro</td>\n",
              "      <td>2012</td>\n",
              "      <td>Amapa</td>\n",
              "      <td>30</td>\n",
              "    </tr>\n",
              "    <tr>\n",
              "      <th>494</th>\n",
              "      <td>01-01-2013</td>\n",
              "      <td>Janeiro</td>\n",
              "      <td>2013</td>\n",
              "      <td>Amapa</td>\n",
              "      <td>3</td>\n",
              "    </tr>\n",
              "    <tr>\n",
              "      <th>495</th>\n",
              "      <td>01-01-2014</td>\n",
              "      <td>Janeiro</td>\n",
              "      <td>2014</td>\n",
              "      <td>Amapa</td>\n",
              "      <td>10</td>\n",
              "    </tr>\n",
              "    <tr>\n",
              "      <th>496</th>\n",
              "      <td>01-01-2015</td>\n",
              "      <td>Janeiro</td>\n",
              "      <td>2015</td>\n",
              "      <td>Amapa</td>\n",
              "      <td>14</td>\n",
              "    </tr>\n",
              "    <tr>\n",
              "      <th>497</th>\n",
              "      <td>01-01-2016</td>\n",
              "      <td>Janeiro</td>\n",
              "      <td>2016</td>\n",
              "      <td>Amapa</td>\n",
              "      <td>19</td>\n",
              "    </tr>\n",
              "    <tr>\n",
              "      <th>498</th>\n",
              "      <td>01-01-2017</td>\n",
              "      <td>Janeiro</td>\n",
              "      <td>2017</td>\n",
              "      <td>Amapa</td>\n",
              "      <td>2</td>\n",
              "    </tr>\n",
              "    <tr>\n",
              "      <th>499</th>\n",
              "      <td>01-01-1998</td>\n",
              "      <td>Fevereiro</td>\n",
              "      <td>1998</td>\n",
              "      <td>Amapa</td>\n",
              "      <td>0</td>\n",
              "    </tr>\n",
              "    <tr>\n",
              "      <th>500</th>\n",
              "      <td>01-01-1999</td>\n",
              "      <td>Fevereiro</td>\n",
              "      <td>1999</td>\n",
              "      <td>Amapa</td>\n",
              "      <td>1</td>\n",
              "    </tr>\n",
              "    <tr>\n",
              "      <th>501</th>\n",
              "      <td>01-01-2000</td>\n",
              "      <td>Fevereiro</td>\n",
              "      <td>2000</td>\n",
              "      <td>Amapa</td>\n",
              "      <td>0</td>\n",
              "    </tr>\n",
              "    <tr>\n",
              "      <th>502</th>\n",
              "      <td>01-01-2001</td>\n",
              "      <td>Fevereiro</td>\n",
              "      <td>2001</td>\n",
              "      <td>Amapa</td>\n",
              "      <td>0</td>\n",
              "    </tr>\n",
              "    <tr>\n",
              "      <th>503</th>\n",
              "      <td>01-01-2002</td>\n",
              "      <td>Fevereiro</td>\n",
              "      <td>2002</td>\n",
              "      <td>Amapa</td>\n",
              "      <td>2</td>\n",
              "    </tr>\n",
              "    <tr>\n",
              "      <th>504</th>\n",
              "      <td>01-01-2003</td>\n",
              "      <td>Fevereiro</td>\n",
              "      <td>2003</td>\n",
              "      <td>Amapa</td>\n",
              "      <td>0</td>\n",
              "    </tr>\n",
              "    <tr>\n",
              "      <th>505</th>\n",
              "      <td>01-01-2004</td>\n",
              "      <td>Fevereiro</td>\n",
              "      <td>2004</td>\n",
              "      <td>Amapa</td>\n",
              "      <td>2</td>\n",
              "    </tr>\n",
              "    <tr>\n",
              "      <th>506</th>\n",
              "      <td>01-01-2005</td>\n",
              "      <td>Fevereiro</td>\n",
              "      <td>2005</td>\n",
              "      <td>Amapa</td>\n",
              "      <td>1</td>\n",
              "    </tr>\n",
              "    <tr>\n",
              "      <th>507</th>\n",
              "      <td>01-01-2006</td>\n",
              "      <td>Fevereiro</td>\n",
              "      <td>2006</td>\n",
              "      <td>Amapa</td>\n",
              "      <td>2</td>\n",
              "    </tr>\n",
              "    <tr>\n",
              "      <th>508</th>\n",
              "      <td>01-01-2007</td>\n",
              "      <td>Fevereiro</td>\n",
              "      <td>2007</td>\n",
              "      <td>Amapa</td>\n",
              "      <td>0</td>\n",
              "    </tr>\n",
              "    <tr>\n",
              "      <th>509</th>\n",
              "      <td>01-01-2008</td>\n",
              "      <td>Fevereiro</td>\n",
              "      <td>2008</td>\n",
              "      <td>Amapa</td>\n",
              "      <td>0</td>\n",
              "    </tr>\n",
              "    <tr>\n",
              "      <th>510</th>\n",
              "      <td>01-01-2009</td>\n",
              "      <td>Fevereiro</td>\n",
              "      <td>2009</td>\n",
              "      <td>Amapa</td>\n",
              "      <td>0</td>\n",
              "    </tr>\n",
              "    <tr>\n",
              "      <th>511</th>\n",
              "      <td>01-01-2010</td>\n",
              "      <td>Fevereiro</td>\n",
              "      <td>2010</td>\n",
              "      <td>Amapa</td>\n",
              "      <td>0</td>\n",
              "    </tr>\n",
              "    <tr>\n",
              "      <th>512</th>\n",
              "      <td>01-01-2011</td>\n",
              "      <td>Fevereiro</td>\n",
              "      <td>2011</td>\n",
              "      <td>Amapa</td>\n",
              "      <td>3</td>\n",
              "    </tr>\n",
              "    <tr>\n",
              "      <th>513</th>\n",
              "      <td>01-01-2012</td>\n",
              "      <td>Fevereiro</td>\n",
              "      <td>2012</td>\n",
              "      <td>Amapa</td>\n",
              "      <td>5</td>\n",
              "    </tr>\n",
              "    <tr>\n",
              "      <th>514</th>\n",
              "      <td>01-01-2013</td>\n",
              "      <td>Fevereiro</td>\n",
              "      <td>2013</td>\n",
              "      <td>Amapa</td>\n",
              "      <td>0</td>\n",
              "    </tr>\n",
              "  </tbody>\n",
              "</table>\n",
              "</div>"
            ],
            "text/plain": [
              "           date      month  year  state number_of_fires\n",
              "490  01-01-2009    Janeiro  2009  Amapa               4\n",
              "491  01-01-2010    Janeiro  2010  Amapa               2\n",
              "492  01-01-2011    Janeiro  2011  Amapa               0\n",
              "493  01-01-2012    Janeiro  2012  Amapa              30\n",
              "494  01-01-2013    Janeiro  2013  Amapa               3\n",
              "495  01-01-2014    Janeiro  2014  Amapa              10\n",
              "496  01-01-2015    Janeiro  2015  Amapa              14\n",
              "497  01-01-2016    Janeiro  2016  Amapa              19\n",
              "498  01-01-2017    Janeiro  2017  Amapa               2\n",
              "499  01-01-1998  Fevereiro  1998  Amapa               0\n",
              "500  01-01-1999  Fevereiro  1999  Amapa               1\n",
              "501  01-01-2000  Fevereiro  2000  Amapa               0\n",
              "502  01-01-2001  Fevereiro  2001  Amapa               0\n",
              "503  01-01-2002  Fevereiro  2002  Amapa               2\n",
              "504  01-01-2003  Fevereiro  2003  Amapa               0\n",
              "505  01-01-2004  Fevereiro  2004  Amapa               2\n",
              "506  01-01-2005  Fevereiro  2005  Amapa               1\n",
              "507  01-01-2006  Fevereiro  2006  Amapa               2\n",
              "508  01-01-2007  Fevereiro  2007  Amapa               0\n",
              "509  01-01-2008  Fevereiro  2008  Amapa               0\n",
              "510  01-01-2009  Fevereiro  2009  Amapa               0\n",
              "511  01-01-2010  Fevereiro  2010  Amapa               0\n",
              "512  01-01-2011  Fevereiro  2011  Amapa               3\n",
              "513  01-01-2012  Fevereiro  2012  Amapa               5\n",
              "514  01-01-2013  Fevereiro  2013  Amapa               0"
            ]
          },
          "metadata": {
            "tags": []
          },
          "execution_count": 18
        }
      ]
    },
    {
      "cell_type": "markdown",
      "metadata": {
        "id": "Etdiw6UYCbVL"
      },
      "source": [
        "**Determine if the columns contain the numerical data**"
      ]
    },
    {
      "cell_type": "code",
      "metadata": {
        "colab": {
          "base_uri": "https://localhost:8080/"
        },
        "id": "5bzA8wXaCkyT",
        "outputId": "c42f9e8c-4e13-4900-b529-73435c65c6ca"
      },
      "source": [
        "df['number_of_fires'].str.isnumeric()"
      ],
      "execution_count": null,
      "outputs": [
        {
          "output_type": "execute_result",
          "data": {
            "text/plain": [
              "0      False\n",
              "1      False\n",
              "2      False\n",
              "3      False\n",
              "4      False\n",
              "       ...  \n",
              "510     True\n",
              "511     True\n",
              "512     True\n",
              "513     True\n",
              "514     True\n",
              "Name: number_of_fires, Length: 515, dtype: object"
            ]
          },
          "metadata": {
            "tags": []
          },
          "execution_count": 19
        }
      ]
    },
    {
      "cell_type": "code",
      "metadata": {
        "colab": {
          "base_uri": "https://localhost:8080/"
        },
        "id": "b_-CIJzqC8PS",
        "outputId": "ebcf6747-5e08-448a-d791-5f5c3de058f2"
      },
      "source": [
        "df['number_of_fires'].astype(str).str.isdigit()"
      ],
      "execution_count": null,
      "outputs": [
        {
          "output_type": "execute_result",
          "data": {
            "text/plain": [
              "0      False\n",
              "1      False\n",
              "2      False\n",
              "3      False\n",
              "4      False\n",
              "       ...  \n",
              "510     True\n",
              "511     True\n",
              "512     True\n",
              "513     True\n",
              "514     True\n",
              "Name: number_of_fires, Length: 515, dtype: bool"
            ]
          },
          "metadata": {
            "tags": []
          },
          "execution_count": 21
        }
      ]
    },
    {
      "cell_type": "code",
      "metadata": {
        "colab": {
          "base_uri": "https://localhost:8080/"
        },
        "id": "aqidYls4ENG4",
        "outputId": "62ddd704-870d-46b5-b0aa-7afa87a1d373"
      },
      "source": [
        "df['number_of_fires'].str.strip(\"Fires\")"
      ],
      "execution_count": null,
      "outputs": [
        {
          "output_type": "execute_result",
          "data": {
            "text/plain": [
              "0      0 \n",
              "1      0 \n",
              "2      0 \n",
              "3      0 \n",
              "4      0 \n",
              "       ..\n",
              "510     0\n",
              "511     0\n",
              "512     3\n",
              "513     5\n",
              "514     0\n",
              "Name: number_of_fires, Length: 515, dtype: object"
            ]
          },
          "metadata": {
            "tags": []
          },
          "execution_count": 22
        }
      ]
    },
    {
      "cell_type": "code",
      "metadata": {
        "colab": {
          "base_uri": "https://localhost:8080/"
        },
        "id": "0dw1BvxyEm7Z",
        "outputId": "910f14c4-145f-44e7-9898-2bc4fd646391"
      },
      "source": [
        "df.info()"
      ],
      "execution_count": null,
      "outputs": [
        {
          "output_type": "stream",
          "text": [
            "<class 'pandas.core.frame.DataFrame'>\n",
            "RangeIndex: 515 entries, 0 to 514\n",
            "Data columns (total 5 columns):\n",
            " #   Column           Non-Null Count  Dtype \n",
            "---  ------           --------------  ----- \n",
            " 0   date             515 non-null    object\n",
            " 1   month            515 non-null    object\n",
            " 2   year             515 non-null    int64 \n",
            " 3   state            515 non-null    object\n",
            " 4   number_of_fires  510 non-null    object\n",
            "dtypes: int64(1), object(4)\n",
            "memory usage: 20.2+ KB\n"
          ],
          "name": "stdout"
        }
      ]
    },
    {
      "cell_type": "code",
      "metadata": {
        "colab": {
          "base_uri": "https://localhost:8080/"
        },
        "id": "ZSGCsUK1FHmY",
        "outputId": "faab9c32-a56d-425b-8961-c702cf6be9a2"
      },
      "source": [
        "file_name = \"/content/amazon_fires (3).csv\"\n",
        "df = pd.read_csv(file_name,encoding = \"ISO-8859-1\")\n",
        "new_column = {'ano': 'year',\n",
        "              'estado': 'state',\n",
        "              'mes': 'month',\n",
        "              'numero': 'number_of_fires',\n",
        "              'encontro': 'date'}\n",
        "df.rename(columns=new_column, inplace=True)\n",
        "df['number_of_fires']=df['number_of_fires'].str.strip(\"Fires\")\n",
        "df_copy=df.copy()\n",
        "df.head"
      ],
      "execution_count": null,
      "outputs": [
        {
          "output_type": "execute_result",
          "data": {
            "text/plain": [
              "<bound method NDFrame.head of      year      month  state number_of_fires        date\n",
              "0    1998    Janeiro   Acre              0   01-01-1998\n",
              "1    1999    Janeiro   Acre              0   01-01-1999\n",
              "2    2000    Janeiro   Acre              0   01-01-2000\n",
              "3    2001    Janeiro   Acre              0   01-01-2001\n",
              "4    2002    Janeiro   Acre              0   01-01-2002\n",
              "..    ...        ...    ...             ...         ...\n",
              "510  2009  Fevereiro  Amapa               0  01-01-2009\n",
              "511  2010  Fevereiro  Amapa               0  01-01-2010\n",
              "512  2011  Fevereiro  Amapa               3  01-01-2011\n",
              "513  2012  Fevereiro  Amapa               5  01-01-2012\n",
              "514  2013  Fevereiro  Amapa               0  01-01-2013\n",
              "\n",
              "[515 rows x 5 columns]>"
            ]
          },
          "metadata": {
            "tags": []
          },
          "execution_count": 37
        }
      ]
    },
    {
      "cell_type": "code",
      "metadata": {
        "colab": {
          "base_uri": "https://localhost:8080/",
          "height": 419
        },
        "id": "yKUDKH7aHUXk",
        "outputId": "4cb5a88a-bc28-495f-a042-bcf0473af085"
      },
      "source": [
        "df.isnull()"
      ],
      "execution_count": null,
      "outputs": [
        {
          "output_type": "execute_result",
          "data": {
            "text/html": [
              "<div>\n",
              "<style scoped>\n",
              "    .dataframe tbody tr th:only-of-type {\n",
              "        vertical-align: middle;\n",
              "    }\n",
              "\n",
              "    .dataframe tbody tr th {\n",
              "        vertical-align: top;\n",
              "    }\n",
              "\n",
              "    .dataframe thead th {\n",
              "        text-align: right;\n",
              "    }\n",
              "</style>\n",
              "<table border=\"1\" class=\"dataframe\">\n",
              "  <thead>\n",
              "    <tr style=\"text-align: right;\">\n",
              "      <th></th>\n",
              "      <th>year</th>\n",
              "      <th>month</th>\n",
              "      <th>state</th>\n",
              "      <th>number_of_fires</th>\n",
              "      <th>date</th>\n",
              "    </tr>\n",
              "  </thead>\n",
              "  <tbody>\n",
              "    <tr>\n",
              "      <th>0</th>\n",
              "      <td>False</td>\n",
              "      <td>False</td>\n",
              "      <td>False</td>\n",
              "      <td>False</td>\n",
              "      <td>False</td>\n",
              "    </tr>\n",
              "    <tr>\n",
              "      <th>1</th>\n",
              "      <td>False</td>\n",
              "      <td>False</td>\n",
              "      <td>False</td>\n",
              "      <td>False</td>\n",
              "      <td>False</td>\n",
              "    </tr>\n",
              "    <tr>\n",
              "      <th>2</th>\n",
              "      <td>False</td>\n",
              "      <td>False</td>\n",
              "      <td>False</td>\n",
              "      <td>False</td>\n",
              "      <td>False</td>\n",
              "    </tr>\n",
              "    <tr>\n",
              "      <th>3</th>\n",
              "      <td>False</td>\n",
              "      <td>False</td>\n",
              "      <td>False</td>\n",
              "      <td>False</td>\n",
              "      <td>False</td>\n",
              "    </tr>\n",
              "    <tr>\n",
              "      <th>4</th>\n",
              "      <td>False</td>\n",
              "      <td>False</td>\n",
              "      <td>False</td>\n",
              "      <td>False</td>\n",
              "      <td>False</td>\n",
              "    </tr>\n",
              "    <tr>\n",
              "      <th>...</th>\n",
              "      <td>...</td>\n",
              "      <td>...</td>\n",
              "      <td>...</td>\n",
              "      <td>...</td>\n",
              "      <td>...</td>\n",
              "    </tr>\n",
              "    <tr>\n",
              "      <th>510</th>\n",
              "      <td>False</td>\n",
              "      <td>False</td>\n",
              "      <td>False</td>\n",
              "      <td>False</td>\n",
              "      <td>False</td>\n",
              "    </tr>\n",
              "    <tr>\n",
              "      <th>511</th>\n",
              "      <td>False</td>\n",
              "      <td>False</td>\n",
              "      <td>False</td>\n",
              "      <td>False</td>\n",
              "      <td>False</td>\n",
              "    </tr>\n",
              "    <tr>\n",
              "      <th>512</th>\n",
              "      <td>False</td>\n",
              "      <td>False</td>\n",
              "      <td>False</td>\n",
              "      <td>False</td>\n",
              "      <td>False</td>\n",
              "    </tr>\n",
              "    <tr>\n",
              "      <th>513</th>\n",
              "      <td>False</td>\n",
              "      <td>False</td>\n",
              "      <td>False</td>\n",
              "      <td>False</td>\n",
              "      <td>False</td>\n",
              "    </tr>\n",
              "    <tr>\n",
              "      <th>514</th>\n",
              "      <td>False</td>\n",
              "      <td>False</td>\n",
              "      <td>False</td>\n",
              "      <td>False</td>\n",
              "      <td>False</td>\n",
              "    </tr>\n",
              "  </tbody>\n",
              "</table>\n",
              "<p>515 rows × 5 columns</p>\n",
              "</div>"
            ],
            "text/plain": [
              "      year  month  state  number_of_fires   date\n",
              "0    False  False  False            False  False\n",
              "1    False  False  False            False  False\n",
              "2    False  False  False            False  False\n",
              "3    False  False  False            False  False\n",
              "4    False  False  False            False  False\n",
              "..     ...    ...    ...              ...    ...\n",
              "510  False  False  False            False  False\n",
              "511  False  False  False            False  False\n",
              "512  False  False  False            False  False\n",
              "513  False  False  False            False  False\n",
              "514  False  False  False            False  False\n",
              "\n",
              "[515 rows x 5 columns]"
            ]
          },
          "metadata": {
            "tags": []
          },
          "execution_count": 29
        }
      ]
    },
    {
      "cell_type": "code",
      "metadata": {
        "colab": {
          "base_uri": "https://localhost:8080/"
        },
        "id": "edhFhm-5Hb5j",
        "outputId": "2d770b13-27d6-44db-a41d-fc42caa8c267"
      },
      "source": [
        "df.isnull().sum()"
      ],
      "execution_count": null,
      "outputs": [
        {
          "output_type": "execute_result",
          "data": {
            "text/plain": [
              "year               0\n",
              "month              0\n",
              "state              0\n",
              "number_of_fires    5\n",
              "date               0\n",
              "dtype: int64"
            ]
          },
          "metadata": {
            "tags": []
          },
          "execution_count": 30
        }
      ]
    },
    {
      "cell_type": "code",
      "metadata": {
        "colab": {
          "base_uri": "https://localhost:8080/",
          "height": 204
        },
        "id": "9NXtgzE0Hry5",
        "outputId": "91399290-64ad-4e5f-c386-3ad18223c385"
      },
      "source": [
        "df = df.dropna()\n",
        "df = df.reset_index()\n",
        "df.head()"
      ],
      "execution_count": null,
      "outputs": [
        {
          "output_type": "execute_result",
          "data": {
            "text/html": [
              "<div>\n",
              "<style scoped>\n",
              "    .dataframe tbody tr th:only-of-type {\n",
              "        vertical-align: middle;\n",
              "    }\n",
              "\n",
              "    .dataframe tbody tr th {\n",
              "        vertical-align: top;\n",
              "    }\n",
              "\n",
              "    .dataframe thead th {\n",
              "        text-align: right;\n",
              "    }\n",
              "</style>\n",
              "<table border=\"1\" class=\"dataframe\">\n",
              "  <thead>\n",
              "    <tr style=\"text-align: right;\">\n",
              "      <th></th>\n",
              "      <th>index</th>\n",
              "      <th>year</th>\n",
              "      <th>month</th>\n",
              "      <th>state</th>\n",
              "      <th>number_of_fires</th>\n",
              "      <th>date</th>\n",
              "    </tr>\n",
              "  </thead>\n",
              "  <tbody>\n",
              "    <tr>\n",
              "      <th>0</th>\n",
              "      <td>0</td>\n",
              "      <td>1998</td>\n",
              "      <td>Janeiro</td>\n",
              "      <td>Acre</td>\n",
              "      <td>0</td>\n",
              "      <td>01-01-1998</td>\n",
              "    </tr>\n",
              "    <tr>\n",
              "      <th>1</th>\n",
              "      <td>1</td>\n",
              "      <td>1999</td>\n",
              "      <td>Janeiro</td>\n",
              "      <td>Acre</td>\n",
              "      <td>0</td>\n",
              "      <td>01-01-1999</td>\n",
              "    </tr>\n",
              "    <tr>\n",
              "      <th>2</th>\n",
              "      <td>2</td>\n",
              "      <td>2000</td>\n",
              "      <td>Janeiro</td>\n",
              "      <td>Acre</td>\n",
              "      <td>0</td>\n",
              "      <td>01-01-2000</td>\n",
              "    </tr>\n",
              "    <tr>\n",
              "      <th>3</th>\n",
              "      <td>3</td>\n",
              "      <td>2001</td>\n",
              "      <td>Janeiro</td>\n",
              "      <td>Acre</td>\n",
              "      <td>0</td>\n",
              "      <td>01-01-2001</td>\n",
              "    </tr>\n",
              "    <tr>\n",
              "      <th>4</th>\n",
              "      <td>4</td>\n",
              "      <td>2002</td>\n",
              "      <td>Janeiro</td>\n",
              "      <td>Acre</td>\n",
              "      <td>0</td>\n",
              "      <td>01-01-2002</td>\n",
              "    </tr>\n",
              "  </tbody>\n",
              "</table>\n",
              "</div>"
            ],
            "text/plain": [
              "   index  year    month state number_of_fires        date\n",
              "0      0  1998  Janeiro  Acre              0   01-01-1998\n",
              "1      1  1999  Janeiro  Acre              0   01-01-1999\n",
              "2      2  2000  Janeiro  Acre              0   01-01-2000\n",
              "3      3  2001  Janeiro  Acre              0   01-01-2001\n",
              "4      4  2002  Janeiro  Acre              0   01-01-2002"
            ]
          },
          "metadata": {
            "tags": []
          },
          "execution_count": 31
        }
      ]
    },
    {
      "cell_type": "code",
      "metadata": {
        "colab": {
          "base_uri": "https://localhost:8080/"
        },
        "id": "UoInLUosH4lt",
        "outputId": "c98fed69-4956-4775-e9f3-b422e9e43dfe"
      },
      "source": [
        "df.isnull().sum()"
      ],
      "execution_count": null,
      "outputs": [
        {
          "output_type": "execute_result",
          "data": {
            "text/plain": [
              "index              0\n",
              "year               0\n",
              "month              0\n",
              "state              0\n",
              "number_of_fires    0\n",
              "date               0\n",
              "dtype: int64"
            ]
          },
          "metadata": {
            "tags": []
          },
          "execution_count": 32
        }
      ]
    },
    {
      "cell_type": "code",
      "metadata": {
        "colab": {
          "base_uri": "https://localhost:8080/",
          "height": 204
        },
        "id": "7gCeOFtRH8Hg",
        "outputId": "388e36d7-dd6e-4dfe-f97d-f63fd70b77e2"
      },
      "source": [
        "df.tail()"
      ],
      "execution_count": null,
      "outputs": [
        {
          "output_type": "execute_result",
          "data": {
            "text/html": [
              "<div>\n",
              "<style scoped>\n",
              "    .dataframe tbody tr th:only-of-type {\n",
              "        vertical-align: middle;\n",
              "    }\n",
              "\n",
              "    .dataframe tbody tr th {\n",
              "        vertical-align: top;\n",
              "    }\n",
              "\n",
              "    .dataframe thead th {\n",
              "        text-align: right;\n",
              "    }\n",
              "</style>\n",
              "<table border=\"1\" class=\"dataframe\">\n",
              "  <thead>\n",
              "    <tr style=\"text-align: right;\">\n",
              "      <th></th>\n",
              "      <th>index</th>\n",
              "      <th>year</th>\n",
              "      <th>month</th>\n",
              "      <th>state</th>\n",
              "      <th>number_of_fires</th>\n",
              "      <th>date</th>\n",
              "    </tr>\n",
              "  </thead>\n",
              "  <tbody>\n",
              "    <tr>\n",
              "      <th>505</th>\n",
              "      <td>510</td>\n",
              "      <td>2009</td>\n",
              "      <td>Fevereiro</td>\n",
              "      <td>Amapa</td>\n",
              "      <td>0</td>\n",
              "      <td>01-01-2009</td>\n",
              "    </tr>\n",
              "    <tr>\n",
              "      <th>506</th>\n",
              "      <td>511</td>\n",
              "      <td>2010</td>\n",
              "      <td>Fevereiro</td>\n",
              "      <td>Amapa</td>\n",
              "      <td>0</td>\n",
              "      <td>01-01-2010</td>\n",
              "    </tr>\n",
              "    <tr>\n",
              "      <th>507</th>\n",
              "      <td>512</td>\n",
              "      <td>2011</td>\n",
              "      <td>Fevereiro</td>\n",
              "      <td>Amapa</td>\n",
              "      <td>3</td>\n",
              "      <td>01-01-2011</td>\n",
              "    </tr>\n",
              "    <tr>\n",
              "      <th>508</th>\n",
              "      <td>513</td>\n",
              "      <td>2012</td>\n",
              "      <td>Fevereiro</td>\n",
              "      <td>Amapa</td>\n",
              "      <td>5</td>\n",
              "      <td>01-01-2012</td>\n",
              "    </tr>\n",
              "    <tr>\n",
              "      <th>509</th>\n",
              "      <td>514</td>\n",
              "      <td>2013</td>\n",
              "      <td>Fevereiro</td>\n",
              "      <td>Amapa</td>\n",
              "      <td>0</td>\n",
              "      <td>01-01-2013</td>\n",
              "    </tr>\n",
              "  </tbody>\n",
              "</table>\n",
              "</div>"
            ],
            "text/plain": [
              "     index  year      month  state number_of_fires        date\n",
              "505    510  2009  Fevereiro  Amapa               0  01-01-2009\n",
              "506    511  2010  Fevereiro  Amapa               0  01-01-2010\n",
              "507    512  2011  Fevereiro  Amapa               3  01-01-2011\n",
              "508    513  2012  Fevereiro  Amapa               5  01-01-2012\n",
              "509    514  2013  Fevereiro  Amapa               0  01-01-2013"
            ]
          },
          "metadata": {
            "tags": []
          },
          "execution_count": 33
        }
      ]
    },
    {
      "cell_type": "code",
      "metadata": {
        "colab": {
          "base_uri": "https://localhost:8080/"
        },
        "id": "f4l74w0iJecy",
        "outputId": "2f7702c2-2e10-43d9-b3f2-e80297513f6d"
      },
      "source": [
        "df.info()"
      ],
      "execution_count": null,
      "outputs": [
        {
          "output_type": "stream",
          "text": [
            "<class 'pandas.core.frame.DataFrame'>\n",
            "RangeIndex: 510 entries, 0 to 509\n",
            "Data columns (total 6 columns):\n",
            " #   Column           Non-Null Count  Dtype \n",
            "---  ------           --------------  ----- \n",
            " 0   index            510 non-null    int64 \n",
            " 1   year             510 non-null    int64 \n",
            " 2   month            510 non-null    object\n",
            " 3   state            510 non-null    object\n",
            " 4   number_of_fires  510 non-null    object\n",
            " 5   date             510 non-null    object\n",
            "dtypes: int64(2), object(4)\n",
            "memory usage: 24.0+ KB\n"
          ],
          "name": "stdout"
        }
      ]
    },
    {
      "cell_type": "code",
      "metadata": {
        "colab": {
          "base_uri": "https://localhost:8080/"
        },
        "id": "Jcabf8IcKVL6",
        "outputId": "379e5ce5-f527-4ac0-a804-d85e9ce8db13"
      },
      "source": [
        "file_name = \"/content/amazon_fires (3).csv\"\n",
        "df = pd.read_csv(file_name,encoding = \"ISO-8859-1\")\n",
        "new_column = {'ano': 'year',\n",
        "              'estado': 'state',\n",
        "              'mes': 'month',\n",
        "              'numero': 'number_of_fires',\n",
        "              'encontro': 'date'}\n",
        "df.rename(columns=new_column, inplace=True)\n",
        "df['number_of_fires']=df['number_of_fires'].str.strip(\"Fires\")\n",
        "df_copy=df.copy()\n",
        "df.head"
      ],
      "execution_count": null,
      "outputs": [
        {
          "output_type": "execute_result",
          "data": {
            "text/plain": [
              "<bound method NDFrame.head of      year      month  state number_of_fires        date\n",
              "0    1998    Janeiro   Acre              0   01-01-1998\n",
              "1    1999    Janeiro   Acre              0   01-01-1999\n",
              "2    2000    Janeiro   Acre              0   01-01-2000\n",
              "3    2001    Janeiro   Acre              0   01-01-2001\n",
              "4    2002    Janeiro   Acre              0   01-01-2002\n",
              "..    ...        ...    ...             ...         ...\n",
              "510  2009  Fevereiro  Amapa               0  01-01-2009\n",
              "511  2010  Fevereiro  Amapa               0  01-01-2010\n",
              "512  2011  Fevereiro  Amapa               3  01-01-2011\n",
              "513  2012  Fevereiro  Amapa               5  01-01-2012\n",
              "514  2013  Fevereiro  Amapa               0  01-01-2013\n",
              "\n",
              "[515 rows x 5 columns]>"
            ]
          },
          "metadata": {
            "tags": []
          },
          "execution_count": 53
        }
      ]
    },
    {
      "cell_type": "code",
      "metadata": {
        "colab": {
          "base_uri": "https://localhost:8080/",
          "height": 204
        },
        "id": "q_jG7d-mJlrS",
        "outputId": "ee4ecea6-cffe-4d28-bb01-bc4ee3c11ebe"
      },
      "source": [
        "df = df.drop(['year', 'date'],axis=1)\n",
        "df.head()"
      ],
      "execution_count": null,
      "outputs": [
        {
          "output_type": "execute_result",
          "data": {
            "text/html": [
              "<div>\n",
              "<style scoped>\n",
              "    .dataframe tbody tr th:only-of-type {\n",
              "        vertical-align: middle;\n",
              "    }\n",
              "\n",
              "    .dataframe tbody tr th {\n",
              "        vertical-align: top;\n",
              "    }\n",
              "\n",
              "    .dataframe thead th {\n",
              "        text-align: right;\n",
              "    }\n",
              "</style>\n",
              "<table border=\"1\" class=\"dataframe\">\n",
              "  <thead>\n",
              "    <tr style=\"text-align: right;\">\n",
              "      <th></th>\n",
              "      <th>index</th>\n",
              "      <th>month</th>\n",
              "      <th>state</th>\n",
              "      <th>number_of_fires</th>\n",
              "    </tr>\n",
              "  </thead>\n",
              "  <tbody>\n",
              "    <tr>\n",
              "      <th>0</th>\n",
              "      <td>0</td>\n",
              "      <td>Janeiro</td>\n",
              "      <td>Acre</td>\n",
              "      <td>0</td>\n",
              "    </tr>\n",
              "    <tr>\n",
              "      <th>1</th>\n",
              "      <td>1</td>\n",
              "      <td>Janeiro</td>\n",
              "      <td>Acre</td>\n",
              "      <td>0</td>\n",
              "    </tr>\n",
              "    <tr>\n",
              "      <th>2</th>\n",
              "      <td>2</td>\n",
              "      <td>Janeiro</td>\n",
              "      <td>Acre</td>\n",
              "      <td>0</td>\n",
              "    </tr>\n",
              "    <tr>\n",
              "      <th>3</th>\n",
              "      <td>3</td>\n",
              "      <td>Janeiro</td>\n",
              "      <td>Acre</td>\n",
              "      <td>0</td>\n",
              "    </tr>\n",
              "    <tr>\n",
              "      <th>4</th>\n",
              "      <td>4</td>\n",
              "      <td>Janeiro</td>\n",
              "      <td>Acre</td>\n",
              "      <td>0</td>\n",
              "    </tr>\n",
              "  </tbody>\n",
              "</table>\n",
              "</div>"
            ],
            "text/plain": [
              "   index    month state number_of_fires\n",
              "0      0  Janeiro  Acre              0 \n",
              "1      1  Janeiro  Acre              0 \n",
              "2      2  Janeiro  Acre              0 \n",
              "3      3  Janeiro  Acre              0 \n",
              "4      4  Janeiro  Acre              0 "
            ]
          },
          "metadata": {
            "tags": []
          },
          "execution_count": 35
        }
      ]
    },
    {
      "cell_type": "code",
      "metadata": {
        "colab": {
          "base_uri": "https://localhost:8080/",
          "height": 204
        },
        "id": "wJOby5BbKIBn",
        "outputId": "22d3765b-3547-4700-ed0c-1432f63b33bc"
      },
      "source": [
        "df = df.drop(['month', 'date'],axis=1)\n",
        "df.head()"
      ],
      "execution_count": null,
      "outputs": [
        {
          "output_type": "execute_result",
          "data": {
            "text/html": [
              "<div>\n",
              "<style scoped>\n",
              "    .dataframe tbody tr th:only-of-type {\n",
              "        vertical-align: middle;\n",
              "    }\n",
              "\n",
              "    .dataframe tbody tr th {\n",
              "        vertical-align: top;\n",
              "    }\n",
              "\n",
              "    .dataframe thead th {\n",
              "        text-align: right;\n",
              "    }\n",
              "</style>\n",
              "<table border=\"1\" class=\"dataframe\">\n",
              "  <thead>\n",
              "    <tr style=\"text-align: right;\">\n",
              "      <th></th>\n",
              "      <th>year</th>\n",
              "      <th>state</th>\n",
              "      <th>number_of_fires</th>\n",
              "    </tr>\n",
              "  </thead>\n",
              "  <tbody>\n",
              "    <tr>\n",
              "      <th>0</th>\n",
              "      <td>1998</td>\n",
              "      <td>Acre</td>\n",
              "      <td>0</td>\n",
              "    </tr>\n",
              "    <tr>\n",
              "      <th>1</th>\n",
              "      <td>1999</td>\n",
              "      <td>Acre</td>\n",
              "      <td>0</td>\n",
              "    </tr>\n",
              "    <tr>\n",
              "      <th>2</th>\n",
              "      <td>2000</td>\n",
              "      <td>Acre</td>\n",
              "      <td>0</td>\n",
              "    </tr>\n",
              "    <tr>\n",
              "      <th>3</th>\n",
              "      <td>2001</td>\n",
              "      <td>Acre</td>\n",
              "      <td>0</td>\n",
              "    </tr>\n",
              "    <tr>\n",
              "      <th>4</th>\n",
              "      <td>2002</td>\n",
              "      <td>Acre</td>\n",
              "      <td>0</td>\n",
              "    </tr>\n",
              "  </tbody>\n",
              "</table>\n",
              "</div>"
            ],
            "text/plain": [
              "   year state number_of_fires\n",
              "0  1998  Acre              0 \n",
              "1  1999  Acre              0 \n",
              "2  2000  Acre              0 \n",
              "3  2001  Acre              0 \n",
              "4  2002  Acre              0 "
            ]
          },
          "metadata": {
            "tags": []
          },
          "execution_count": 42
        }
      ]
    },
    {
      "cell_type": "code",
      "metadata": {
        "colab": {
          "base_uri": "https://localhost:8080/",
          "height": 204
        },
        "id": "PAJnrK6jK0o5",
        "outputId": "7861d846-ebdd-4098-c2ee-3508d59e334a"
      },
      "source": [
        "df = df.drop(df.index[0])\n",
        "df = df.reset_index()\n",
        "df.head()"
      ],
      "execution_count": null,
      "outputs": [
        {
          "output_type": "execute_result",
          "data": {
            "text/html": [
              "<div>\n",
              "<style scoped>\n",
              "    .dataframe tbody tr th:only-of-type {\n",
              "        vertical-align: middle;\n",
              "    }\n",
              "\n",
              "    .dataframe tbody tr th {\n",
              "        vertical-align: top;\n",
              "    }\n",
              "\n",
              "    .dataframe thead th {\n",
              "        text-align: right;\n",
              "    }\n",
              "</style>\n",
              "<table border=\"1\" class=\"dataframe\">\n",
              "  <thead>\n",
              "    <tr style=\"text-align: right;\">\n",
              "      <th></th>\n",
              "      <th>index</th>\n",
              "      <th>year</th>\n",
              "      <th>state</th>\n",
              "      <th>number_of_fires</th>\n",
              "    </tr>\n",
              "  </thead>\n",
              "  <tbody>\n",
              "    <tr>\n",
              "      <th>0</th>\n",
              "      <td>1</td>\n",
              "      <td>1999</td>\n",
              "      <td>Acre</td>\n",
              "      <td>0</td>\n",
              "    </tr>\n",
              "    <tr>\n",
              "      <th>1</th>\n",
              "      <td>2</td>\n",
              "      <td>2000</td>\n",
              "      <td>Acre</td>\n",
              "      <td>0</td>\n",
              "    </tr>\n",
              "    <tr>\n",
              "      <th>2</th>\n",
              "      <td>3</td>\n",
              "      <td>2001</td>\n",
              "      <td>Acre</td>\n",
              "      <td>0</td>\n",
              "    </tr>\n",
              "    <tr>\n",
              "      <th>3</th>\n",
              "      <td>4</td>\n",
              "      <td>2002</td>\n",
              "      <td>Acre</td>\n",
              "      <td>0</td>\n",
              "    </tr>\n",
              "    <tr>\n",
              "      <th>4</th>\n",
              "      <td>5</td>\n",
              "      <td>2003</td>\n",
              "      <td>Acre</td>\n",
              "      <td>10</td>\n",
              "    </tr>\n",
              "  </tbody>\n",
              "</table>\n",
              "</div>"
            ],
            "text/plain": [
              "   index  year state number_of_fires\n",
              "0      1  1999  Acre              0 \n",
              "1      2  2000  Acre              0 \n",
              "2      3  2001  Acre              0 \n",
              "3      4  2002  Acre              0 \n",
              "4      5  2003  Acre             10 "
            ]
          },
          "metadata": {
            "tags": []
          },
          "execution_count": 43
        }
      ]
    },
    {
      "cell_type": "code",
      "metadata": {
        "colab": {
          "base_uri": "https://localhost:8080/",
          "height": 204
        },
        "id": "pA8Ro7zRLULp",
        "outputId": "df6bdade-3643-44e4-e277-1b92ea2f18af"
      },
      "source": [
        "df = df.drop(df.index[[2,3]])\n",
        "df = df.reset_index()\n",
        "df.head()\n"
      ],
      "execution_count": null,
      "outputs": [
        {
          "output_type": "execute_result",
          "data": {
            "text/html": [
              "<div>\n",
              "<style scoped>\n",
              "    .dataframe tbody tr th:only-of-type {\n",
              "        vertical-align: middle;\n",
              "    }\n",
              "\n",
              "    .dataframe tbody tr th {\n",
              "        vertical-align: top;\n",
              "    }\n",
              "\n",
              "    .dataframe thead th {\n",
              "        text-align: right;\n",
              "    }\n",
              "</style>\n",
              "<table border=\"1\" class=\"dataframe\">\n",
              "  <thead>\n",
              "    <tr style=\"text-align: right;\">\n",
              "      <th></th>\n",
              "      <th>index</th>\n",
              "      <th>year</th>\n",
              "      <th>month</th>\n",
              "      <th>state</th>\n",
              "      <th>number_of_fires</th>\n",
              "      <th>date</th>\n",
              "    </tr>\n",
              "  </thead>\n",
              "  <tbody>\n",
              "    <tr>\n",
              "      <th>0</th>\n",
              "      <td>0</td>\n",
              "      <td>1998</td>\n",
              "      <td>Janeiro</td>\n",
              "      <td>Acre</td>\n",
              "      <td>0</td>\n",
              "      <td>01-01-1998</td>\n",
              "    </tr>\n",
              "    <tr>\n",
              "      <th>1</th>\n",
              "      <td>1</td>\n",
              "      <td>1999</td>\n",
              "      <td>Janeiro</td>\n",
              "      <td>Acre</td>\n",
              "      <td>0</td>\n",
              "      <td>01-01-1999</td>\n",
              "    </tr>\n",
              "    <tr>\n",
              "      <th>2</th>\n",
              "      <td>4</td>\n",
              "      <td>2002</td>\n",
              "      <td>Janeiro</td>\n",
              "      <td>Acre</td>\n",
              "      <td>0</td>\n",
              "      <td>01-01-2002</td>\n",
              "    </tr>\n",
              "    <tr>\n",
              "      <th>3</th>\n",
              "      <td>5</td>\n",
              "      <td>2003</td>\n",
              "      <td>Janeiro</td>\n",
              "      <td>Acre</td>\n",
              "      <td>10</td>\n",
              "      <td>01-01-2003</td>\n",
              "    </tr>\n",
              "    <tr>\n",
              "      <th>4</th>\n",
              "      <td>6</td>\n",
              "      <td>2004</td>\n",
              "      <td>Janeiro</td>\n",
              "      <td>Acre</td>\n",
              "      <td>0</td>\n",
              "      <td>01-01-2004</td>\n",
              "    </tr>\n",
              "  </tbody>\n",
              "</table>\n",
              "</div>"
            ],
            "text/plain": [
              "   index  year    month state number_of_fires        date\n",
              "0      0  1998  Janeiro  Acre              0   01-01-1998\n",
              "1      1  1999  Janeiro  Acre              0   01-01-1999\n",
              "2      4  2002  Janeiro  Acre              0   01-01-2002\n",
              "3      5  2003  Janeiro  Acre             10   01-01-2003\n",
              "4      6  2004  Janeiro  Acre              0   01-01-2004"
            ]
          },
          "metadata": {
            "tags": []
          },
          "execution_count": 45
        }
      ]
    },
    {
      "cell_type": "code",
      "metadata": {
        "colab": {
          "base_uri": "https://localhost:8080/",
          "height": 204
        },
        "id": "1j4QPmmbLi6S",
        "outputId": "8e95fc8a-3d21-41e2-afa9-2a28cf9ba11b"
      },
      "source": [
        "df = df.drop(df.index[[1,4]])\n",
        "df = df.reset_index()\n",
        "df.head()\n"
      ],
      "execution_count": null,
      "outputs": [
        {
          "output_type": "execute_result",
          "data": {
            "text/html": [
              "<div>\n",
              "<style scoped>\n",
              "    .dataframe tbody tr th:only-of-type {\n",
              "        vertical-align: middle;\n",
              "    }\n",
              "\n",
              "    .dataframe tbody tr th {\n",
              "        vertical-align: top;\n",
              "    }\n",
              "\n",
              "    .dataframe thead th {\n",
              "        text-align: right;\n",
              "    }\n",
              "</style>\n",
              "<table border=\"1\" class=\"dataframe\">\n",
              "  <thead>\n",
              "    <tr style=\"text-align: right;\">\n",
              "      <th></th>\n",
              "      <th>index</th>\n",
              "      <th>year</th>\n",
              "      <th>month</th>\n",
              "      <th>state</th>\n",
              "      <th>number_of_fires</th>\n",
              "      <th>date</th>\n",
              "    </tr>\n",
              "  </thead>\n",
              "  <tbody>\n",
              "    <tr>\n",
              "      <th>0</th>\n",
              "      <td>0</td>\n",
              "      <td>1998</td>\n",
              "      <td>Janeiro</td>\n",
              "      <td>Acre</td>\n",
              "      <td>0</td>\n",
              "      <td>01-01-1998</td>\n",
              "    </tr>\n",
              "    <tr>\n",
              "      <th>1</th>\n",
              "      <td>2</td>\n",
              "      <td>2000</td>\n",
              "      <td>Janeiro</td>\n",
              "      <td>Acre</td>\n",
              "      <td>0</td>\n",
              "      <td>01-01-2000</td>\n",
              "    </tr>\n",
              "    <tr>\n",
              "      <th>2</th>\n",
              "      <td>3</td>\n",
              "      <td>2001</td>\n",
              "      <td>Janeiro</td>\n",
              "      <td>Acre</td>\n",
              "      <td>0</td>\n",
              "      <td>01-01-2001</td>\n",
              "    </tr>\n",
              "    <tr>\n",
              "      <th>3</th>\n",
              "      <td>5</td>\n",
              "      <td>2003</td>\n",
              "      <td>Janeiro</td>\n",
              "      <td>Acre</td>\n",
              "      <td>10</td>\n",
              "      <td>01-01-2003</td>\n",
              "    </tr>\n",
              "    <tr>\n",
              "      <th>4</th>\n",
              "      <td>6</td>\n",
              "      <td>2004</td>\n",
              "      <td>Janeiro</td>\n",
              "      <td>Acre</td>\n",
              "      <td>0</td>\n",
              "      <td>01-01-2004</td>\n",
              "    </tr>\n",
              "  </tbody>\n",
              "</table>\n",
              "</div>"
            ],
            "text/plain": [
              "   index  year    month state number_of_fires        date\n",
              "0      0  1998  Janeiro  Acre              0   01-01-1998\n",
              "1      2  2000  Janeiro  Acre              0   01-01-2000\n",
              "2      3  2001  Janeiro  Acre              0   01-01-2001\n",
              "3      5  2003  Janeiro  Acre             10   01-01-2003\n",
              "4      6  2004  Janeiro  Acre              0   01-01-2004"
            ]
          },
          "metadata": {
            "tags": []
          },
          "execution_count": 54
        }
      ]
    }
  ]
}